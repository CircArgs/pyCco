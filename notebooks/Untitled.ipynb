{
 "cells": [
  {
   "cell_type": "code",
   "execution_count": 1,
   "id": "2d134e5d-774a-469a-8ac4-b23feae5a96c",
   "metadata": {},
   "outputs": [],
   "source": [
    "from pycco.parsers import *"
   ]
  },
  {
   "cell_type": "code",
   "execution_count": 2,
   "id": "df1422b8-00d8-4e01-b1b9-bbcafd11339c",
   "metadata": {},
   "outputs": [
    {
     "data": {
      "text/plain": [
       "ParserResult(position=Position(index=0), result=[], description=(type + optional '*' + identifier sep_by Token(kind=<TokenKind.SYMBOL: 4>, value=',', start=-1, end=-1)), error=None)"
      ]
     },
     "execution_count": 2,
     "metadata": {},
     "output_type": "execute_result"
    }
   ],
   "source": [
    "params_list([tokenize('int sum(void) { return a; }')[3]])"
   ]
  },
  {
   "cell_type": "code",
   "execution_count": 3,
   "id": "504af5ed-a431-4244-9c01-46048aa3e293",
   "metadata": {},
   "outputs": [
    {
     "data": {
      "text/plain": [
       "Parser(Token(kind=<TokenKind.TYPE: 3>, value='void', start=-1, end=-1))"
      ]
     },
     "execution_count": 3,
     "metadata": {},
     "output_type": "execute_result"
    }
   ],
   "source": [
    "function_args(tokenize('''\n",
    "(void) { return a; }\n",
    "''')).result"
   ]
  },
  {
   "cell_type": "code",
   "execution_count": 3,
   "id": "72c2a5d4-028c-4119-827f-7dbd891d1bbf",
   "metadata": {},
   "outputs": [
    {
     "name": "stdout",
     "output_type": "stream",
     "text": [
      "Automatic pdb calling has been turned ON\n"
     ]
    }
   ],
   "source": [
    "%pdb"
   ]
  },
  {
   "cell_type": "code",
   "execution_count": 4,
   "id": "8348ee3f-4d7e-4abc-91f1-a96e50168320",
   "metadata": {},
   "outputs": [
    {
     "name": "stdout",
     "output_type": "stream",
     "text": [
      "\n",
      "int sum(void)\n",
      "{\n",
      "\n",
      "\treturn a;\n",
      "}\n",
      "\n",
      "\n"
     ]
    }
   ],
   "source": [
    "print(parse_c_code('''\n",
    "//yolo\n",
    "int sum() { return a; }\n",
    "'''))"
   ]
  },
  {
   "cell_type": "code",
   "execution_count": 9,
   "id": "ccf7b750-87da-49bd-9c80-a28ae899506f",
   "metadata": {},
   "outputs": [],
   "source": [
    "    source = \"int main() { return 0; }\"\n",
    "    ast = parse_c_code(source)\n",
    "\n",
    "    assert isinstance(ast, Code)\n",
    "    assert len(ast.statements) == 1\n",
    "    func = ast.statements[0]\n",
    "    assert isinstance(func, Function)\n",
    "\n",
    "    # Check function's \"var\" (return type + function name)\n",
    "    assert isinstance(func.var, VariableDecl)\n",
    "    assert func.var.type.name == \"int\"\n",
    "    assert isinstance(func.var.name, Ident)\n",
    "    assert func.var.name.name == \"main\"\n",
    "\n",
    "    # Check args\n",
    "    assert len(func.args) == 0\n",
    "\n",
    "    # Check body\n",
    "    assert len(func.body) == 0  # Contains the return statement\n",
    "    assert isinstance(func.ret, Return)\n",
    "    assert isinstance(func.ret.value, Number)\n",
    "    assert func.ret.value.value == \"0\""
   ]
  },
  {
   "cell_type": "code",
   "execution_count": null,
   "id": "f06f476a-0319-47e9-839e-d6d1f80c434c",
   "metadata": {},
   "outputs": [],
   "source": []
  },
  {
   "cell_type": "code",
   "execution_count": 6,
   "id": "06756093-93f5-4b2e-9b2d-bbf865d37771",
   "metadata": {},
   "outputs": [
    {
     "data": {
      "text/plain": [
       "[]"
      ]
     },
     "execution_count": 6,
     "metadata": {},
     "output_type": "execute_result"
    }
   ],
   "source": [
    "func.body"
   ]
  },
  {
   "cell_type": "code",
   "execution_count": 3,
   "id": "a553d7ef-b731-407f-9e4e-d4a730da8bca",
   "metadata": {},
   "outputs": [
    {
     "ename": "ValueError",
     "evalue": "too many values to unpack (expected 2)",
     "output_type": "error",
     "traceback": [
      "\u001b[0;31m---------------------------------------------------------------------------\u001b[0m",
      "\u001b[0;31mValueError\u001b[0m                                Traceback (most recent call last)",
      "Cell \u001b[0;32mIn[3], line 1\u001b[0m\n\u001b[0;32m----> 1\u001b[0m \u001b[43mparse_c_code\u001b[49m\u001b[43m(\u001b[49m\u001b[38;5;124;43m'\u001b[39;49m\u001b[38;5;124;43m(int x)\u001b[39;49m\u001b[38;5;124;43m'\u001b[39;49m\u001b[43m)\u001b[49m\n",
      "File \u001b[0;32m~/Projects/pyCco/pycco/parsers.py:316\u001b[0m, in \u001b[0;36mparse_c_code\u001b[0;34m(source)\u001b[0m\n\u001b[1;32m    313\u001b[0m     msg \u001b[38;5;241m=\u001b[39m create_error_context(source, offset)\n\u001b[1;32m    314\u001b[0m     \u001b[38;5;28;01mraise\u001b[39;00m ParseError(msg)\n\u001b[0;32m--> 316\u001b[0m consumed_index, node_list \u001b[38;5;241m=\u001b[39m result\n\u001b[1;32m    317\u001b[0m \u001b[38;5;28;01mif\u001b[39;00m consumed_index \u001b[38;5;241m<\u001b[39m \u001b[38;5;28mlen\u001b[39m(tokens):\n\u001b[1;32m    318\u001b[0m     \u001b[38;5;66;03m# leftover tokens\u001b[39;00m\n\u001b[1;32m    319\u001b[0m     leftover \u001b[38;5;241m=\u001b[39m tokens[consumed_index]\n",
      "\u001b[0;31mValueError\u001b[0m: too many values to unpack (expected 2)"
     ]
    }
   ],
   "source": [
    "parse_c_code('(int x)')"
   ]
  },
  {
   "cell_type": "code",
   "execution_count": null,
   "id": "d8ce8da1-8b78-4dbd-b946-43eb55fe6982",
   "metadata": {},
   "outputs": [],
   "source": []
  },
  {
   "cell_type": "code",
   "execution_count": 5,
   "id": "b91e0591-5f9f-4107-83fd-f2c511360482",
   "metadata": {},
   "outputs": [
    {
     "data": {
      "text/plain": [
       "[Token(kind=<TokenKind.TYPE: 3>, value='int', start=34, end=36),\n",
       " Token(kind=<TokenKind.IDENTIFIER: 1>, value='x', start=38, end=38),\n",
       " Token(kind=<TokenKind.SYMBOL: 4>, value=';', start=39, end=39),\n",
       " Token(kind=<TokenKind.EOF: 10>, value=None, start=41, end=41)]"
      ]
     },
     "execution_count": 5,
     "metadata": {},
     "output_type": "execute_result"
    }
   ],
   "source": [
    "tokens"
   ]
  },
  {
   "cell_type": "code",
   "execution_count": 5,
   "id": "0bd816bc-7719-43d1-9a23-2d282a7ceac5",
   "metadata": {},
   "outputs": [
    {
     "data": {
      "text/plain": [
       "ParserResult(position=Position(index=0), result=None, description=None, error=ParseError at index 0: expected EOF, found 't')"
      ]
     },
     "execution_count": 5,
     "metadata": {},
     "output_type": "execute_result"
    }
   ],
   "source": [
    "eof_parser('')"
   ]
  },
  {
   "cell_type": "code",
   "execution_count": 11,
   "id": "4be60d2a-6909-45ff-8393-66519b58045b",
   "metadata": {},
   "outputs": [
    {
     "data": {
      "text/plain": [
       "['j', 'k', 'l']"
      ]
     },
     "execution_count": 11,
     "metadata": {},
     "output_type": "execute_result"
    }
   ],
   "source": [
    "[*'jkl']"
   ]
  },
  {
   "cell_type": "code",
   "execution_count": 10,
   "id": "d8fed70f-0298-43c3-86ad-3dad7df6d033",
   "metadata": {},
   "outputs": [
    {
     "data": {
      "text/plain": [
       "[Token(kind=<TokenKind.OPERATOR: 5>, value='*', start=0, end=0),\n",
       " Token(kind=<TokenKind.OPERATOR: 5>, value='*', start=1, end=1),\n",
       " Token(kind=<TokenKind.OPERATOR: 5>, value='*', start=2, end=2),\n",
       " Token(kind=<TokenKind.EOF: 10>, value=None, start=4, end=4)]"
      ]
     },
     "execution_count": 10,
     "metadata": {},
     "output_type": "execute_result"
    }
   ],
   "source": [
    "tokenize('*** ')"
   ]
  },
  {
   "cell_type": "code",
   "execution_count": 7,
   "id": "a6a0c22d-8e92-490e-a6bf-1cac0a786412",
   "metadata": {},
   "outputs": [
    {
     "data": {
      "text/plain": [
       "[Token(kind=<TokenKind.TYPE: 3>, value='float', start=0, end=4),\n",
       " Token(kind=<TokenKind.IDENTIFIER: 1>, value='pi', start=6, end=7),\n",
       " Token(kind=<TokenKind.OPERATOR: 5>, value='=', start=9, end=9),\n",
       " Token(kind=<TokenKind.NUMBER: 7>, value='3.14', start=11, end=14),\n",
       " Token(kind=<TokenKind.SYMBOL: 4>, value=';', start=15, end=15),\n",
       " Token(kind=<TokenKind.OPERATOR: 5>, value='/', start=17, end=17),\n",
       " Token(kind=<TokenKind.OPERATOR: 5>, value='/', start=18, end=18),\n",
       " Token(kind=<TokenKind.IDENTIFIER: 1>, value='Initialize', start=20, end=29),\n",
       " Token(kind=<TokenKind.IDENTIFIER: 1>, value='pi', start=31, end=32),\n",
       " Token(kind=<TokenKind.EOF: 10>, value=None, start=34, end=34)]"
      ]
     },
     "execution_count": 7,
     "metadata": {},
     "output_type": "execute_result"
    }
   ],
   "source": [
    "tokens"
   ]
  },
  {
   "cell_type": "code",
   "execution_count": 6,
   "id": "866fd654-c3eb-4bee-a45c-4c4d7b36ecd9",
   "metadata": {},
   "outputs": [
    {
     "name": "stderr",
     "output_type": "stream",
     "text": [
      "[DEBUG] Calling parser '('a' | 'b')' at Position(index=0)\n",
      "[DEBUG] Parser '('a' | 'b')' failed at Position(index=0) with error: ParseError at index 0: expected 'b', found 'c'\n"
     ]
    }
   ],
   "source": [
    "    parser = match(\"a\") | match(\"b\")\n",
    "    stream = \"c\"\n",
    "    position = Position(0)\n",
    "    result = parser(stream, position)"
   ]
  },
  {
   "cell_type": "code",
   "execution_count": 5,
   "id": "9420b09d-757a-4582-8cee-12b9bbe3a31b",
   "metadata": {},
   "outputs": [
    {
     "data": {
      "text/plain": [
       "\"('a' | 'b')\""
      ]
     },
     "execution_count": 5,
     "metadata": {},
     "output_type": "execute_result"
    }
   ],
   "source": [
    "parser.description"
   ]
  },
  {
   "cell_type": "code",
   "execution_count": 74,
   "id": "2e5ff5b2-dfd0-48dc-962d-c23f462e518d",
   "metadata": {},
   "outputs": [
    {
     "data": {
      "text/plain": [
       "ParserResult(index=1, result=[['5']], description=((\"5\" + \" \"?) sep_by \",\"))"
      ]
     },
     "execution_count": 74,
     "metadata": {},
     "output_type": "execute_result"
    }
   ],
   "source": [
    "(match('5')+match(' ').optional()).sep_by(',')('5, 5')"
   ]
  },
  {
   "cell_type": "code",
   "execution_count": 77,
   "id": "27fa2556-caa6-479b-8d8e-73481f1304e6",
   "metadata": {},
   "outputs": [],
   "source": [
    "args(tokenize('(int x  int y)')).result"
   ]
  },
  {
   "cell_type": "code",
   "execution_count": 70,
   "id": "29ea21d8-1203-4943-893a-fd0366113933",
   "metadata": {},
   "outputs": [
    {
     "data": {
      "text/plain": [
       "ParserResult(index=-1, result=None, description=((\"(\" >> ((((\"TYPE\" + \"*\"?) + \"IDENTIFIER\") sep_by \",\") | fn`<lambda>`)) << \")\"))"
      ]
     },
     "execution_count": 70,
     "metadata": {},
     "output_type": "execute_result"
    }
   ],
   "source": [
    "args(tokenize('(void)'))\n",
    "# ParserResult(index=7, result=[VariableDecl(type=Type(name='void', pointer=False), name=Ident(name='x'), semicolon=False), VariableDecl(type=Type(name='int', pointer=False), name=Ident(name='y'), semicolon=False)], description=((\"(\" >> ((((\"TYPE\" + \"*\"?) + \"IDENTIFIER\") sep_by \",\") | \"void\")) << \")\"))"
   ]
  },
  {
   "cell_type": "code",
   "execution_count": null,
   "id": "4374cafc-010a-426c-97b2-50ba664a8e92",
   "metadata": {},
   "outputs": [],
   "source": []
  },
  {
   "cell_type": "code",
   "execution_count": null,
   "id": "740cc989-4ab5-4697-965d-1ae76778e734",
   "metadata": {},
   "outputs": [],
   "source": []
  },
  {
   "cell_type": "code",
   "execution_count": 44,
   "id": "143bfc3e-0d88-4e42-962e-8dfcb35b4d1b",
   "metadata": {},
   "outputs": [
    {
     "data": {
      "text/plain": [
       "ParserResult(index=1, result=void, description=(\"void\" | (((\"TYPE\" + \"*\"?) + \"IDENTIFIER\") sep_by \",\")))"
      ]
     },
     "execution_count": 44,
     "metadata": {},
     "output_type": "execute_result"
    }
   ],
   "source": [
    "(match(void) | variable.sep_by(Token(TokenKind.SYMBOL, \",\")))(tokenize())"
   ]
  },
  {
   "cell_type": "code",
   "execution_count": 49,
   "id": "f783bc03-836e-4a77-bfad-eece1cec17ae",
   "metadata": {},
   "outputs": [
    {
     "data": {
      "text/plain": [
       "[VariableDecl(type=Type(name='void', pointer=False), name=Ident(name='x'), semicolon=False),\n",
       " Token(kind=<TokenKind.SYMBOL: 4>, value=',', start=7, end=7)]"
      ]
     },
     "execution_count": 49,
     "metadata": {},
     "output_type": "execute_result"
    }
   ],
   "source": [
    "(variable<<Token(TokenKind.SYMBOL, \",\")).until(variable)(tokenize('void x, int y')).result"
   ]
  },
  {
   "cell_type": "code",
   "execution_count": 36,
   "id": "b85ed78b-ff1f-46ea-a3db-47ac11929fe7",
   "metadata": {},
   "outputs": [
    {
     "data": {
      "text/plain": [
       "Token(kind=<TokenKind.TYPE: 3>, value='void', start=4, end=7)"
      ]
     },
     "execution_count": 36,
     "metadata": {},
     "output_type": "execute_result"
    }
   ],
   "source": [
    "match(void)(tokenize('void'))"
   ]
  },
  {
   "cell_type": "code",
   "execution_count": 24,
   "id": "4e19e841-bd3e-4cee-92e5-ccd731408799",
   "metadata": {},
   "outputs": [],
   "source": [
    "code='''\n",
    "int main(void) {\n",
    "    // test case w/ multi-digit constant\n",
    "    return 100;\n",
    "}\n",
    "'''"
   ]
  },
  {
   "cell_type": "code",
   "execution_count": 25,
   "id": "eb59fd8e-8fde-465c-82f7-d60f737861e1",
   "metadata": {},
   "outputs": [
    {
     "data": {
      "text/plain": [
       "[Token(kind=<TokenKind.TYPE: 3>, value='int', start=4, end=6),\n",
       " Token(kind=<TokenKind.IDENTIFIER: 1>, value='main', start=9, end=12),\n",
       " Token(kind=<TokenKind.SYMBOL: 4>, value='(', start=10, end=10),\n",
       " Token(kind=<TokenKind.TYPE: 3>, value='void', start=14, end=17),\n",
       " Token(kind=<TokenKind.SYMBOL: 4>, value=')', start=15, end=15),\n",
       " Token(kind=<TokenKind.SYMBOL: 4>, value='{', start=17, end=17),\n",
       " Token(kind=<TokenKind.KEYWORD: 2>, value='return', start=69, end=74),\n",
       " Token(kind=<TokenKind.NUMBER: 7>, value='100', start=73, end=75),\n",
       " Token(kind=<TokenKind.SYMBOL: 4>, value=';', start=74, end=74),\n",
       " Token(kind=<TokenKind.SYMBOL: 4>, value='}', start=76, end=76),\n",
       " Token(kind=<TokenKind.EOF: 10>, value=None, start=77, end=77)]"
      ]
     },
     "execution_count": 25,
     "metadata": {},
     "output_type": "execute_result"
    }
   ],
   "source": [
    "tokenize(code)"
   ]
  },
  {
   "cell_type": "code",
   "execution_count": 26,
   "id": "176ebbee-730f-4d54-89ab-0e4bc5cb2ac5",
   "metadata": {},
   "outputs": [
    {
     "data": {
      "text/plain": [
       "ParserResult(index=-1, result=None, description=((((\"TYPE\" + \"*\"?) + \"IDENTIFIER\") + ((\"(\" >> ((((\"TYPE\" + \"*\"?) + \"IDENTIFIER\") sep_by \",\") | \"void\")) << \")\")) + ((\"{\" >> (expression* + ((\"return\" >> expression) << \";\")?)) << \"}\")))"
      ]
     },
     "execution_count": 26,
     "metadata": {},
     "output_type": "execute_result"
    }
   ],
   "source": [
    "function(tokenize(code))"
   ]
  },
  {
   "cell_type": "code",
   "execution_count": null,
   "id": "6572f042-172c-47dc-903f-ef9f39b9ef33",
   "metadata": {},
   "outputs": [],
   "source": []
  },
  {
   "cell_type": "code",
   "execution_count": null,
   "id": "ed76f403-311b-4952-b294-185eabdbe07b",
   "metadata": {},
   "outputs": [],
   "source": []
  },
  {
   "cell_type": "code",
   "execution_count": null,
   "id": "36aa6c8a-8e4a-41e5-b9b9-a35e9ed29103",
   "metadata": {},
   "outputs": [],
   "source": []
  },
  {
   "cell_type": "code",
   "execution_count": 10,
   "id": "b34bcb71-dc33-41f3-a5ea-37db9eb7b519",
   "metadata": {},
   "outputs": [],
   "source": [
    "ast = parse_c_code('''\n",
    "int main(void){\n",
    "    int x;\n",
    "    int y;\n",
    "    y = 5;\n",
    "    x=(1+ y);\n",
    "    return 1;\n",
    "}''')"
   ]
  },
  {
   "cell_type": "code",
   "execution_count": 11,
   "id": "aea66af2-2a5d-41d0-bf13-25423d537e76",
   "metadata": {},
   "outputs": [],
   "source": [
    "from pprint import pprint"
   ]
  },
  {
   "cell_type": "code",
   "execution_count": 12,
   "id": "e28221bb-ceec-4fa0-99eb-02ce9db9a7f4",
   "metadata": {},
   "outputs": [
    {
     "name": "stdout",
     "output_type": "stream",
     "text": [
      "Code(statements=[Function(var=VariableDecl(type=Type(name='int', pointer=False),\n",
      "                                           name=Ident(name='main'),\n",
      "                                           semicolon=False),\n",
      "                          args=[],\n",
      "                          body=[VariableDecl(type=Type(name='int',\n",
      "                                                       pointer=False),\n",
      "                                             name=Ident(name='x'),\n",
      "                                             semicolon=True),\n",
      "                                VariableDecl(type=Type(name='int',\n",
      "                                                       pointer=False),\n",
      "                                             name=Ident(name='y'),\n",
      "                                             semicolon=True),\n",
      "                                Assign(var=Ident(name='y'),\n",
      "                                       to=Number(value='5',\n",
      "                                                 type=Type(name='int',\n",
      "                                                           pointer=False))),\n",
      "                                Assign(var=Ident(name='x'),\n",
      "                                       to=Parens(inner=BinaryOp(left=Number(value='1',\n",
      "                                                                            type=Type(name='int',\n",
      "                                                                                      pointer=False)),\n",
      "                                                                operator='+',\n",
      "                                                                right=Ident(name='y'))))],\n",
      "                          ret=Return(value=Number(value='1',\n",
      "                                                  type=Type(name='int',\n",
      "                                                            pointer=False))))],\n",
      "     main=None)\n"
     ]
    }
   ],
   "source": [
    "pprint(ast)"
   ]
  },
  {
   "cell_type": "code",
   "execution_count": 13,
   "id": "d37381f8-fe01-4f0f-98fe-2b5fd0b41326",
   "metadata": {},
   "outputs": [
    {
     "name": "stdout",
     "output_type": "stream",
     "text": [
      ".section .text\n",
      ".global main\n",
      "main:\n",
      "    PUSH {LR}    @ Save link register\n",
      "    @ var decl: x\n",
      "    @ var decl: y\n",
      "@ Assignment\n",
      "    MOV R0, #5    @ load immediate 5\n",
      "    STR R0, [R1]    @ store into y\n",
      "@ Assignment\n",
      "    MOV R0, #1    @ load immediate 1\n",
      "    PUSH {R0}\n",
      "    LDR R0, =y    @ Ident y\n",
      "    POP {R1}\n",
      "    ADD R0, R1, R0    @ R0 = R1 + R0\n",
      "    STR R0, [R1]    @ store into x\n",
      "    MOV R0, #1    @ load immediate 1\n",
      "    MOV PC, LR    @ Return from function\n"
     ]
    }
   ],
   "source": [
    "print(ast.compile('arm'))"
   ]
  },
  {
   "cell_type": "code",
   "execution_count": 37,
   "id": "059d2785-1810-495b-80ae-32f264e0b896",
   "metadata": {},
   "outputs": [
    {
     "data": {
      "text/plain": [
       "[Token(kind=<TokenKind.NUMBER: 7>, value='1', start=1, end=1),\n",
       " Token(kind=<TokenKind.OPERATOR: 5>, value='-', start=2, end=2),\n",
       " Token(kind=<TokenKind.IDENTIFIER: 1>, value='x', start=3, end=3)]"
      ]
     },
     "execution_count": 37,
     "metadata": {},
     "output_type": "execute_result"
    }
   ],
   "source": [
    "(expression).until(TokenKind.EOF)(tokenize('1-x')).result"
   ]
  },
  {
   "cell_type": "code",
   "execution_count": 47,
   "id": "14c1f714-e276-40f1-9963-657872b30add",
   "metadata": {},
   "outputs": [
    {
     "data": {
      "text/plain": [
       "[Ident(name='x'),\n",
       " UnaryOp(operator='+', operand=Number(value='1', type=Type(name='int', pointer=False)))]"
      ]
     },
     "execution_count": 47,
     "metadata": {},
     "output_type": "execute_result"
    }
   ],
   "source": [
    "parse_tokens(tokenize('x+1 ')).result"
   ]
  },
  {
   "cell_type": "code",
   "execution_count": 6,
   "id": "ba755dc3-f542-4d1b-9f61-a692c99f4330",
   "metadata": {},
   "outputs": [],
   "source": [
    "# group parens tokens\n",
    "# recurse\n",
    "# no parens -> precedence of binops\n",
    "    # split on highest precendence binop that occurs first\n",
    "    # continue while some binop token exists\n",
    "    # if no binop token exists -> parse with all expressions not including binop (or temp define binop to be something else)"
   ]
  },
  {
   "cell_type": "code",
   "execution_count": 7,
   "id": "cf61349f-9554-418b-a26f-6e07e49c25d3",
   "metadata": {},
   "outputs": [
    {
     "name": "stdout",
     "output_type": "stream",
     "text": [
      "Automatic pdb calling has been turned OFF\n"
     ]
    }
   ],
   "source": [
    "%pdb"
   ]
  },
  {
   "cell_type": "code",
   "execution_count": 23,
   "id": "e483ef6a-1f52-4e48-8ce2-6b948957d4e1",
   "metadata": {},
   "outputs": [],
   "source": []
  },
  {
   "cell_type": "code",
   "execution_count": 24,
   "id": "fedf8641-cbfd-4971-b162-da4baf2523da",
   "metadata": {},
   "outputs": [
    {
     "data": {
      "text/plain": [
       "Parser(parenthesis)"
      ]
     },
     "execution_count": 24,
     "metadata": {},
     "output_type": "execute_result"
    }
   ],
   "source": [
    "parenthesized.describe('parenthesis')"
   ]
  },
  {
   "cell_type": "code",
   "execution_count": 25,
   "id": "beb014de-8b1c-4177-a5a2-c382279e49e7",
   "metadata": {},
   "outputs": [
    {
     "name": "stdout",
     "output_type": "stream",
     "text": [
      "Automatic pdb calling has been turned OFF\n"
     ]
    }
   ],
   "source": [
    "%pdb"
   ]
  },
  {
   "cell_type": "code",
   "execution_count": 28,
   "id": "799d4f4c-046b-4277-a291-961c53de76fb",
   "metadata": {},
   "outputs": [
    {
     "data": {
      "text/plain": [
       "ParserResult(index=5, result=[Ident(name='x')], description=parenthesis)"
      ]
     },
     "execution_count": 28,
     "metadata": {},
     "output_type": "execute_result"
    }
   ],
   "source": [
    "parenthesized(tokenize('(x+1)'))"
   ]
  },
  {
   "cell_type": "code",
   "execution_count": null,
   "id": "2512757d-4a3d-4eb7-bd7c-775a22876aca",
   "metadata": {},
   "outputs": [],
   "source": []
  },
  {
   "cell_type": "code",
   "execution_count": null,
   "id": "d15747ef-cf47-423d-8b76-3ce16ba124be",
   "metadata": {},
   "outputs": [],
   "source": [
    "@parser\n",
    "def binop(stream, index: int):\n",
    "    left"
   ]
  },
  {
   "cell_type": "code",
   "execution_count": 3,
   "id": "cda7a858-13fa-4f27-89be-371994d65e52",
   "metadata": {},
   "outputs": [],
   "source": [
    "non_binop_expression = number | string | ident | paren_expr"
   ]
  },
  {
   "cell_type": "code",
   "execution_count": 2,
   "id": "5404485b-a1d8-4a07-968a-4bdb1df9e41e",
   "metadata": {},
   "outputs": [
    {
     "data": {
      "text/plain": [
       "Parser((((one of UnaryOperator members + None) @ map_unary_op) | ((base_expr + (one of BinaryOperator members + base_expr)*) @ map_binops)))"
      ]
     },
     "execution_count": 2,
     "metadata": {},
     "output_type": "execute_result"
    }
   ],
   "source": [
    "# 1) Our base expression (numbers, strings, ident)\n",
    "\n",
    "base_expr = (number | string | ident | paren_expr).describe(\"base_expr\")\n",
    "\n",
    "\n",
    "# 2) The binop chain\n",
    "def map_binops(parsed_list: List) -> ast.Expression:\n",
    "    \"\"\"\n",
    "    parsed_list = [left_expr, [ (op, right_expr), (op, right_expr), ... ]]\n",
    "    \"\"\"\n",
    "    left = parsed_list[0]\n",
    "    pairs = parsed_list[1]\n",
    "    for (op, right_expr) in pairs:\n",
    "        left = ast.BinaryOp(left, op.value, right_expr)\n",
    "    return left\n",
    "\n",
    "binop = (\n",
    "    base_expr + \n",
    "    ( any_of_enum(BinaryOperator) + base_expr ).many()\n",
    ") @ map_binops\n",
    "\n",
    "# 3) The unary_op (already defined)\n",
    "def map_unary_op(elements: List[Token | ast.Expression]) -> ast.UnaryOp:\n",
    "    op, operand = elements\n",
    "    return ast.UnaryOp(operator=op.value, operand=operand)\n",
    "\n",
    "unary_op = (\n",
    "    any_of_enum(UnaryOperator) + expression\n",
    ") @ map_unary_op\n",
    "\n",
    "# 4) Final expression definition\n",
    "expression.define(\n",
    "    unary_op | binop\n",
    ")\n",
    "\n",
    "# Now 'expression' references a parser that\n",
    "# - tries unary_op first, or\n",
    "# - tries binop (chain of base_expr with binary operators).\n"
   ]
  },
  {
   "cell_type": "code",
   "execution_count": null,
   "id": "d0cd0fa9-5d2b-41a6-8a67-98c7b883fb51",
   "metadata": {},
   "outputs": [],
   "source": []
  },
  {
   "cell_type": "code",
   "execution_count": 8,
   "id": "d7dc2de9-3222-4809-9ac4-2496c75c4065",
   "metadata": {},
   "outputs": [
    {
     "ename": "RecursionError",
     "evalue": "maximum recursion depth exceeded",
     "output_type": "error",
     "traceback": [
      "\u001b[0;31m---------------------------------------------------------------------------\u001b[0m",
      "\u001b[0;31mRecursionError\u001b[0m                            Traceback (most recent call last)",
      "Cell \u001b[0;32mIn[8], line 1\u001b[0m\n\u001b[0;32m----> 1\u001b[0m \u001b[43mbinop\u001b[49m\u001b[43m(\u001b[49m\u001b[43mtokenize\u001b[49m\u001b[43m(\u001b[49m\u001b[38;5;124;43m'\u001b[39;49m\u001b[38;5;124;43mx>0 \u001b[39;49m\u001b[38;5;124;43m'\u001b[39;49m\u001b[43m)\u001b[49m\u001b[43m)\u001b[49m\u001b[38;5;241m.\u001b[39mresult\n",
      "File \u001b[0;32m~/Projects/pyCco/pycco/parser.py:122\u001b[0m, in \u001b[0;36mParser.__call__\u001b[0;34m(self, stream, index)\u001b[0m\n\u001b[1;32m    106\u001b[0m \u001b[38;5;250m\u001b[39m\u001b[38;5;124;03m\"\"\"\u001b[39;00m\n\u001b[1;32m    107\u001b[0m \u001b[38;5;124;03mInvoke the parser on the given stream starting at the given index.\u001b[39;00m\n\u001b[1;32m    108\u001b[0m \n\u001b[0;32m   (...)\u001b[0m\n\u001b[1;32m    114\u001b[0m \u001b[38;5;124;03m    ParserResult[T]: A tuple of the next index and the parsed result (or None on failure).\u001b[39;00m\n\u001b[1;32m    115\u001b[0m \u001b[38;5;124;03m\"\"\"\u001b[39;00m\n\u001b[1;32m    116\u001b[0m description \u001b[38;5;241m=\u001b[39m (\n\u001b[1;32m    117\u001b[0m     \u001b[38;5;28mself\u001b[39m\u001b[38;5;241m.\u001b[39mdescription\n\u001b[1;32m    118\u001b[0m     \u001b[38;5;28;01mif\u001b[39;00m \u001b[38;5;129;01mnot\u001b[39;00m \u001b[38;5;28misinstance\u001b[39m(\u001b[38;5;28mself\u001b[39m\u001b[38;5;241m.\u001b[39mparse_fn, Parser)\n\u001b[1;32m    119\u001b[0m     \u001b[38;5;28;01melse\u001b[39;00m \u001b[38;5;28mself\u001b[39m\u001b[38;5;241m.\u001b[39mparse_fn\u001b[38;5;241m.\u001b[39mdescription\n\u001b[1;32m    120\u001b[0m )\n\u001b[1;32m    121\u001b[0m index, result \u001b[38;5;241m=\u001b[39m (\n\u001b[0;32m--> 122\u001b[0m     \u001b[38;5;28;43mself\u001b[39;49m\u001b[38;5;241;43m.\u001b[39;49m\u001b[43mparse_fn\u001b[49m\u001b[43m(\u001b[49m\u001b[43mstream\u001b[49m\u001b[43m,\u001b[49m\u001b[43m \u001b[49m\u001b[43mindex\u001b[49m\u001b[43m)\u001b[49m\n\u001b[1;32m    123\u001b[0m     \u001b[38;5;28;01mif\u001b[39;00m \u001b[38;5;129;01mnot\u001b[39;00m \u001b[38;5;28misinstance\u001b[39m(\u001b[38;5;28mself\u001b[39m\u001b[38;5;241m.\u001b[39mparse_fn, Parser)\n\u001b[1;32m    124\u001b[0m     \u001b[38;5;28;01melse\u001b[39;00m \u001b[38;5;28mself\u001b[39m\u001b[38;5;241m.\u001b[39mparse_fn\u001b[38;5;241m.\u001b[39mparse_fn\n\u001b[1;32m    125\u001b[0m )\n\u001b[1;32m    126\u001b[0m \u001b[38;5;28;01mreturn\u001b[39;00m ParserResult(index, result, description)\n",
      "File \u001b[0;32m~/Projects/pyCco/pycco/parser.py:168\u001b[0m, in \u001b[0;36mParser.map.<locals>.parse\u001b[0;34m(stream, index)\u001b[0m\n\u001b[1;32m    167\u001b[0m \u001b[38;5;28;01mdef\u001b[39;00m\u001b[38;5;250m \u001b[39m\u001b[38;5;21mparse\u001b[39m(stream: Stream[S], index: \u001b[38;5;28mint\u001b[39m) \u001b[38;5;241m-\u001b[39m\u001b[38;5;241m>\u001b[39m ParserResult[U]:\n\u001b[0;32m--> 168\u001b[0m     i, res \u001b[38;5;241m=\u001b[39m \u001b[38;5;28;43mself\u001b[39;49m\u001b[43m(\u001b[49m\u001b[43mstream\u001b[49m\u001b[43m,\u001b[49m\u001b[43m \u001b[49m\u001b[43mindex\u001b[49m\u001b[43m)\u001b[49m\n\u001b[1;32m    169\u001b[0m     \u001b[38;5;28;01mif\u001b[39;00m i \u001b[38;5;241m==\u001b[39m \u001b[38;5;241m-\u001b[39m\u001b[38;5;241m1\u001b[39m \u001b[38;5;129;01mor\u001b[39;00m res \u001b[38;5;129;01mis\u001b[39;00m \u001b[38;5;28;01mNone\u001b[39;00m:\n\u001b[1;32m    170\u001b[0m         \u001b[38;5;28;01mreturn\u001b[39;00m ParserResult()\n",
      "File \u001b[0;32m~/Projects/pyCco/pycco/parser.py:122\u001b[0m, in \u001b[0;36mParser.__call__\u001b[0;34m(self, stream, index)\u001b[0m\n\u001b[1;32m    106\u001b[0m \u001b[38;5;250m\u001b[39m\u001b[38;5;124;03m\"\"\"\u001b[39;00m\n\u001b[1;32m    107\u001b[0m \u001b[38;5;124;03mInvoke the parser on the given stream starting at the given index.\u001b[39;00m\n\u001b[1;32m    108\u001b[0m \n\u001b[0;32m   (...)\u001b[0m\n\u001b[1;32m    114\u001b[0m \u001b[38;5;124;03m    ParserResult[T]: A tuple of the next index and the parsed result (or None on failure).\u001b[39;00m\n\u001b[1;32m    115\u001b[0m \u001b[38;5;124;03m\"\"\"\u001b[39;00m\n\u001b[1;32m    116\u001b[0m description \u001b[38;5;241m=\u001b[39m (\n\u001b[1;32m    117\u001b[0m     \u001b[38;5;28mself\u001b[39m\u001b[38;5;241m.\u001b[39mdescription\n\u001b[1;32m    118\u001b[0m     \u001b[38;5;28;01mif\u001b[39;00m \u001b[38;5;129;01mnot\u001b[39;00m \u001b[38;5;28misinstance\u001b[39m(\u001b[38;5;28mself\u001b[39m\u001b[38;5;241m.\u001b[39mparse_fn, Parser)\n\u001b[1;32m    119\u001b[0m     \u001b[38;5;28;01melse\u001b[39;00m \u001b[38;5;28mself\u001b[39m\u001b[38;5;241m.\u001b[39mparse_fn\u001b[38;5;241m.\u001b[39mdescription\n\u001b[1;32m    120\u001b[0m )\n\u001b[1;32m    121\u001b[0m index, result \u001b[38;5;241m=\u001b[39m (\n\u001b[0;32m--> 122\u001b[0m     \u001b[38;5;28;43mself\u001b[39;49m\u001b[38;5;241;43m.\u001b[39;49m\u001b[43mparse_fn\u001b[49m\u001b[43m(\u001b[49m\u001b[43mstream\u001b[49m\u001b[43m,\u001b[49m\u001b[43m \u001b[49m\u001b[43mindex\u001b[49m\u001b[43m)\u001b[49m\n\u001b[1;32m    123\u001b[0m     \u001b[38;5;28;01mif\u001b[39;00m \u001b[38;5;129;01mnot\u001b[39;00m \u001b[38;5;28misinstance\u001b[39m(\u001b[38;5;28mself\u001b[39m\u001b[38;5;241m.\u001b[39mparse_fn, Parser)\n\u001b[1;32m    124\u001b[0m     \u001b[38;5;28;01melse\u001b[39;00m \u001b[38;5;28mself\u001b[39m\u001b[38;5;241m.\u001b[39mparse_fn\u001b[38;5;241m.\u001b[39mparse_fn\n\u001b[1;32m    125\u001b[0m )\n\u001b[1;32m    126\u001b[0m \u001b[38;5;28;01mreturn\u001b[39;00m ParserResult(index, result, description)\n",
      "File \u001b[0;32m~/Projects/pyCco/pycco/parser.py:204\u001b[0m, in \u001b[0;36mParser.__add__.<locals>.parse\u001b[0;34m(stream, index)\u001b[0m\n\u001b[1;32m    203\u001b[0m \u001b[38;5;28;01mdef\u001b[39;00m\u001b[38;5;250m \u001b[39m\u001b[38;5;21mparse\u001b[39m(stream: Stream[S], index: \u001b[38;5;28mint\u001b[39m) \u001b[38;5;241m-\u001b[39m\u001b[38;5;241m>\u001b[39m ParserResult[List[Union[T, U]]]:\n\u001b[0;32m--> 204\u001b[0m     i, res1 \u001b[38;5;241m=\u001b[39m \u001b[38;5;28;43mself\u001b[39;49m\u001b[43m(\u001b[49m\u001b[43mstream\u001b[49m\u001b[43m,\u001b[49m\u001b[43m \u001b[49m\u001b[43mindex\u001b[49m\u001b[43m)\u001b[49m\n\u001b[1;32m    205\u001b[0m     \u001b[38;5;28;01mif\u001b[39;00m i \u001b[38;5;241m==\u001b[39m \u001b[38;5;241m-\u001b[39m\u001b[38;5;241m1\u001b[39m:\n\u001b[1;32m    206\u001b[0m         \u001b[38;5;28;01mreturn\u001b[39;00m ParserResult()  \u001b[38;5;66;03m# First parser failed\u001b[39;00m\n",
      "    \u001b[0;31m[... skipping similar frames: Parser.__call__ at line 122 (1 times)]\u001b[0m\n",
      "File \u001b[0;32m~/Projects/pyCco/pycco/parser.py:204\u001b[0m, in \u001b[0;36mParser.__add__.<locals>.parse\u001b[0;34m(stream, index)\u001b[0m\n\u001b[1;32m    203\u001b[0m \u001b[38;5;28;01mdef\u001b[39;00m\u001b[38;5;250m \u001b[39m\u001b[38;5;21mparse\u001b[39m(stream: Stream[S], index: \u001b[38;5;28mint\u001b[39m) \u001b[38;5;241m-\u001b[39m\u001b[38;5;241m>\u001b[39m ParserResult[List[Union[T, U]]]:\n\u001b[0;32m--> 204\u001b[0m     i, res1 \u001b[38;5;241m=\u001b[39m \u001b[38;5;28;43mself\u001b[39;49m\u001b[43m(\u001b[49m\u001b[43mstream\u001b[49m\u001b[43m,\u001b[49m\u001b[43m \u001b[49m\u001b[43mindex\u001b[49m\u001b[43m)\u001b[49m\n\u001b[1;32m    205\u001b[0m     \u001b[38;5;28;01mif\u001b[39;00m i \u001b[38;5;241m==\u001b[39m \u001b[38;5;241m-\u001b[39m\u001b[38;5;241m1\u001b[39m:\n\u001b[1;32m    206\u001b[0m         \u001b[38;5;28;01mreturn\u001b[39;00m ParserResult()  \u001b[38;5;66;03m# First parser failed\u001b[39;00m\n",
      "    \u001b[0;31m[... skipping similar frames: Parser.__call__ at line 122 (1 times)]\u001b[0m\n",
      "File \u001b[0;32m~/Projects/pyCco/pycco/parser.py:144\u001b[0m, in \u001b[0;36mParser.__or__.<locals>.parse\u001b[0;34m(stream, index)\u001b[0m\n\u001b[1;32m    143\u001b[0m \u001b[38;5;28;01mdef\u001b[39;00m\u001b[38;5;250m \u001b[39m\u001b[38;5;21mparse\u001b[39m(stream: Stream[S], index: \u001b[38;5;28mint\u001b[39m) \u001b[38;5;241m-\u001b[39m\u001b[38;5;241m>\u001b[39m ParserResult[T]:\n\u001b[0;32m--> 144\u001b[0m     result \u001b[38;5;241m=\u001b[39m \u001b[38;5;28;43mself\u001b[39;49m\u001b[43m(\u001b[49m\u001b[43mstream\u001b[49m\u001b[43m,\u001b[49m\u001b[43m \u001b[49m\u001b[43mindex\u001b[49m\u001b[43m)\u001b[49m\n\u001b[1;32m    145\u001b[0m     \u001b[38;5;28;01mif\u001b[39;00m result[\u001b[38;5;241m0\u001b[39m] \u001b[38;5;241m!=\u001b[39m \u001b[38;5;241m-\u001b[39m\u001b[38;5;241m1\u001b[39m:\n\u001b[1;32m    146\u001b[0m         \u001b[38;5;28;01mreturn\u001b[39;00m result\n",
      "    \u001b[0;31m[... skipping similar frames: Parser.__call__ at line 122 (1 times)]\u001b[0m\n",
      "File \u001b[0;32m~/Projects/pyCco/pycco/parser.py:144\u001b[0m, in \u001b[0;36mParser.__or__.<locals>.parse\u001b[0;34m(stream, index)\u001b[0m\n\u001b[1;32m    143\u001b[0m \u001b[38;5;28;01mdef\u001b[39;00m\u001b[38;5;250m \u001b[39m\u001b[38;5;21mparse\u001b[39m(stream: Stream[S], index: \u001b[38;5;28mint\u001b[39m) \u001b[38;5;241m-\u001b[39m\u001b[38;5;241m>\u001b[39m ParserResult[T]:\n\u001b[0;32m--> 144\u001b[0m     result \u001b[38;5;241m=\u001b[39m \u001b[38;5;28;43mself\u001b[39;49m\u001b[43m(\u001b[49m\u001b[43mstream\u001b[49m\u001b[43m,\u001b[49m\u001b[43m \u001b[49m\u001b[43mindex\u001b[49m\u001b[43m)\u001b[49m\n\u001b[1;32m    145\u001b[0m     \u001b[38;5;28;01mif\u001b[39;00m result[\u001b[38;5;241m0\u001b[39m] \u001b[38;5;241m!=\u001b[39m \u001b[38;5;241m-\u001b[39m\u001b[38;5;241m1\u001b[39m:\n\u001b[1;32m    146\u001b[0m         \u001b[38;5;28;01mreturn\u001b[39;00m result\n",
      "    \u001b[0;31m[... skipping similar frames: Parser.__call__ at line 122 (3 times), Parser.__or__.<locals>.parse at line 144 (2 times)]\u001b[0m\n",
      "File \u001b[0;32m~/Projects/pyCco/pycco/parser.py:168\u001b[0m, in \u001b[0;36mParser.map.<locals>.parse\u001b[0;34m(stream, index)\u001b[0m\n\u001b[1;32m    167\u001b[0m \u001b[38;5;28;01mdef\u001b[39;00m\u001b[38;5;250m \u001b[39m\u001b[38;5;21mparse\u001b[39m(stream: Stream[S], index: \u001b[38;5;28mint\u001b[39m) \u001b[38;5;241m-\u001b[39m\u001b[38;5;241m>\u001b[39m ParserResult[U]:\n\u001b[0;32m--> 168\u001b[0m     i, res \u001b[38;5;241m=\u001b[39m \u001b[38;5;28;43mself\u001b[39;49m\u001b[43m(\u001b[49m\u001b[43mstream\u001b[49m\u001b[43m,\u001b[49m\u001b[43m \u001b[49m\u001b[43mindex\u001b[49m\u001b[43m)\u001b[49m\n\u001b[1;32m    169\u001b[0m     \u001b[38;5;28;01mif\u001b[39;00m i \u001b[38;5;241m==\u001b[39m \u001b[38;5;241m-\u001b[39m\u001b[38;5;241m1\u001b[39m \u001b[38;5;129;01mor\u001b[39;00m res \u001b[38;5;129;01mis\u001b[39;00m \u001b[38;5;28;01mNone\u001b[39;00m:\n\u001b[1;32m    170\u001b[0m         \u001b[38;5;28;01mreturn\u001b[39;00m ParserResult()\n",
      "    \u001b[0;31m[... skipping similar frames: Parser.__call__ at line 122 (1477 times), Parser.__or__.<locals>.parse at line 144 (844 times), Parser.__add__.<locals>.parse at line 204 (422 times), Parser.map.<locals>.parse at line 168 (210 times)]\u001b[0m\n",
      "File \u001b[0;32m~/Projects/pyCco/pycco/parser.py:168\u001b[0m, in \u001b[0;36mParser.map.<locals>.parse\u001b[0;34m(stream, index)\u001b[0m\n\u001b[1;32m    167\u001b[0m \u001b[38;5;28;01mdef\u001b[39;00m\u001b[38;5;250m \u001b[39m\u001b[38;5;21mparse\u001b[39m(stream: Stream[S], index: \u001b[38;5;28mint\u001b[39m) \u001b[38;5;241m-\u001b[39m\u001b[38;5;241m>\u001b[39m ParserResult[U]:\n\u001b[0;32m--> 168\u001b[0m     i, res \u001b[38;5;241m=\u001b[39m \u001b[38;5;28;43mself\u001b[39;49m\u001b[43m(\u001b[49m\u001b[43mstream\u001b[49m\u001b[43m,\u001b[49m\u001b[43m \u001b[49m\u001b[43mindex\u001b[49m\u001b[43m)\u001b[49m\n\u001b[1;32m    169\u001b[0m     \u001b[38;5;28;01mif\u001b[39;00m i \u001b[38;5;241m==\u001b[39m \u001b[38;5;241m-\u001b[39m\u001b[38;5;241m1\u001b[39m \u001b[38;5;129;01mor\u001b[39;00m res \u001b[38;5;129;01mis\u001b[39;00m \u001b[38;5;28;01mNone\u001b[39;00m:\n\u001b[1;32m    170\u001b[0m         \u001b[38;5;28;01mreturn\u001b[39;00m ParserResult()\n",
      "    \u001b[0;31m[... skipping similar frames: Parser.__call__ at line 122 (2 times), Parser.__add__.<locals>.parse at line 204 (1 times)]\u001b[0m\n",
      "File \u001b[0;32m~/Projects/pyCco/pycco/parser.py:204\u001b[0m, in \u001b[0;36mParser.__add__.<locals>.parse\u001b[0;34m(stream, index)\u001b[0m\n\u001b[1;32m    203\u001b[0m \u001b[38;5;28;01mdef\u001b[39;00m\u001b[38;5;250m \u001b[39m\u001b[38;5;21mparse\u001b[39m(stream: Stream[S], index: \u001b[38;5;28mint\u001b[39m) \u001b[38;5;241m-\u001b[39m\u001b[38;5;241m>\u001b[39m ParserResult[List[Union[T, U]]]:\n\u001b[0;32m--> 204\u001b[0m     i, res1 \u001b[38;5;241m=\u001b[39m \u001b[38;5;28;43mself\u001b[39;49m\u001b[43m(\u001b[49m\u001b[43mstream\u001b[49m\u001b[43m,\u001b[49m\u001b[43m \u001b[49m\u001b[43mindex\u001b[49m\u001b[43m)\u001b[49m\n\u001b[1;32m    205\u001b[0m     \u001b[38;5;28;01mif\u001b[39;00m i \u001b[38;5;241m==\u001b[39m \u001b[38;5;241m-\u001b[39m\u001b[38;5;241m1\u001b[39m:\n\u001b[1;32m    206\u001b[0m         \u001b[38;5;28;01mreturn\u001b[39;00m ParserResult()  \u001b[38;5;66;03m# First parser failed\u001b[39;00m\n",
      "    \u001b[0;31m[... skipping similar frames: Parser.__call__ at line 122 (1 times)]\u001b[0m\n",
      "File \u001b[0;32m~/Projects/pyCco/pycco/parser.py:144\u001b[0m, in \u001b[0;36mParser.__or__.<locals>.parse\u001b[0;34m(stream, index)\u001b[0m\n\u001b[1;32m    143\u001b[0m \u001b[38;5;28;01mdef\u001b[39;00m\u001b[38;5;250m \u001b[39m\u001b[38;5;21mparse\u001b[39m(stream: Stream[S], index: \u001b[38;5;28mint\u001b[39m) \u001b[38;5;241m-\u001b[39m\u001b[38;5;241m>\u001b[39m ParserResult[T]:\n\u001b[0;32m--> 144\u001b[0m     result \u001b[38;5;241m=\u001b[39m \u001b[38;5;28;43mself\u001b[39;49m\u001b[43m(\u001b[49m\u001b[43mstream\u001b[49m\u001b[43m,\u001b[49m\u001b[43m \u001b[49m\u001b[43mindex\u001b[49m\u001b[43m)\u001b[49m\n\u001b[1;32m    145\u001b[0m     \u001b[38;5;28;01mif\u001b[39;00m result[\u001b[38;5;241m0\u001b[39m] \u001b[38;5;241m!=\u001b[39m \u001b[38;5;241m-\u001b[39m\u001b[38;5;241m1\u001b[39m:\n\u001b[1;32m    146\u001b[0m         \u001b[38;5;28;01mreturn\u001b[39;00m result\n",
      "File \u001b[0;32m~/Projects/pyCco/pycco/parser.py:122\u001b[0m, in \u001b[0;36mParser.__call__\u001b[0;34m(self, stream, index)\u001b[0m\n\u001b[1;32m    106\u001b[0m \u001b[38;5;250m\u001b[39m\u001b[38;5;124;03m\"\"\"\u001b[39;00m\n\u001b[1;32m    107\u001b[0m \u001b[38;5;124;03mInvoke the parser on the given stream starting at the given index.\u001b[39;00m\n\u001b[1;32m    108\u001b[0m \n\u001b[0;32m   (...)\u001b[0m\n\u001b[1;32m    114\u001b[0m \u001b[38;5;124;03m    ParserResult[T]: A tuple of the next index and the parsed result (or None on failure).\u001b[39;00m\n\u001b[1;32m    115\u001b[0m \u001b[38;5;124;03m\"\"\"\u001b[39;00m\n\u001b[1;32m    116\u001b[0m description \u001b[38;5;241m=\u001b[39m (\n\u001b[1;32m    117\u001b[0m     \u001b[38;5;28mself\u001b[39m\u001b[38;5;241m.\u001b[39mdescription\n\u001b[1;32m    118\u001b[0m     \u001b[38;5;28;01mif\u001b[39;00m \u001b[38;5;129;01mnot\u001b[39;00m \u001b[38;5;28misinstance\u001b[39m(\u001b[38;5;28mself\u001b[39m\u001b[38;5;241m.\u001b[39mparse_fn, Parser)\n\u001b[1;32m    119\u001b[0m     \u001b[38;5;28;01melse\u001b[39;00m \u001b[38;5;28mself\u001b[39m\u001b[38;5;241m.\u001b[39mparse_fn\u001b[38;5;241m.\u001b[39mdescription\n\u001b[1;32m    120\u001b[0m )\n\u001b[1;32m    121\u001b[0m index, result \u001b[38;5;241m=\u001b[39m (\n\u001b[0;32m--> 122\u001b[0m     \u001b[38;5;28;43mself\u001b[39;49m\u001b[38;5;241;43m.\u001b[39;49m\u001b[43mparse_fn\u001b[49m\u001b[43m(\u001b[49m\u001b[43mstream\u001b[49m\u001b[43m,\u001b[49m\u001b[43m \u001b[49m\u001b[43mindex\u001b[49m\u001b[43m)\u001b[49m\n\u001b[1;32m    123\u001b[0m     \u001b[38;5;28;01mif\u001b[39;00m \u001b[38;5;129;01mnot\u001b[39;00m \u001b[38;5;28misinstance\u001b[39m(\u001b[38;5;28mself\u001b[39m\u001b[38;5;241m.\u001b[39mparse_fn, Parser)\n\u001b[1;32m    124\u001b[0m     \u001b[38;5;28;01melse\u001b[39;00m \u001b[38;5;28mself\u001b[39m\u001b[38;5;241m.\u001b[39mparse_fn\u001b[38;5;241m.\u001b[39mparse_fn\n\u001b[1;32m    125\u001b[0m )\n\u001b[1;32m    126\u001b[0m \u001b[38;5;28;01mreturn\u001b[39;00m ParserResult(index, result, description)\n",
      "\u001b[0;31mRecursionError\u001b[0m: maximum recursion depth exceeded"
     ]
    }
   ],
   "source": [
    ".result"
   ]
  },
  {
   "cell_type": "code",
   "execution_count": null,
   "id": "e2f3241f-83d0-42cd-a7e9-2095160e0b62",
   "metadata": {},
   "outputs": [],
   "source": []
  },
  {
   "cell_type": "code",
   "execution_count": 13,
   "id": "02d1cc6c-72a6-4a28-8ba8-cbf410fe1c46",
   "metadata": {},
   "outputs": [],
   "source": [
    "# Primary Expressions: Numbers, Strings, Identifiers, and Grouped Expressions\n",
    "@parser\n",
    "def primary_expression(stream: List[Token], index: int) -> ParserResult[ast.Expression]:\n",
    "    return (\n",
    "        number\n",
    "        | string\n",
    "        | ident\n",
    "        | (open_paren >> expression << close_paren)  # Grouped expressions: (x + y)\n",
    "    ).parse_fn(stream, index)\n",
    "\n",
    "# Unary Operations\n",
    "unary_op = (any_of_enum(UnaryOperator) + primary_expression) @ map_unary_op\n",
    "\n",
    "# Binary Operations (Left-Associative with Precedence)\n",
    "def map_binop(elements: List[ast.Node | Token]) -> ast.BinaryOp:\n",
    "    left, op, right = elements\n",
    "    return ast.BinaryOp(left=left, operator=op.value, right=right)\n",
    "\n",
    "binary_operator = any_of_enum(BinaryOperator)\n",
    "\n",
    "@parser\n",
    "def binop(stream: List[Token], index: int) -> ParserResult[ast.Expression]:\n",
    "    # Start by parsing the left operand (unary or primary expression)\n",
    "    import pdb; pdb.set_trace()\n",
    "    left_result = unary_op.parse_fn(stream, index)\n",
    "    current_index = left_result.index  # Correct attribute\n",
    "    left = left_result.result\n",
    "\n",
    "    while True:\n",
    "        try:\n",
    "            # Parse the operator\n",
    "            op_result = binary_operator.parse_fn(stream, current_index)\n",
    "            operator = op_result.result\n",
    "            current_index = op_result.index  # Correct attribute\n",
    "\n",
    "            # Parse the right-hand operand\n",
    "            right_result = unary_op.parse_fn(stream, current_index)\n",
    "            right = right_result.result\n",
    "            current_index = right_result.index  # Correct attribute\n",
    "\n",
    "            # Combine into a BinaryOp\n",
    "            left = ast.BinaryOp(left=left, operator=operator.value, right=right)\n",
    "\n",
    "        except Exception:\n",
    "            # If parsing fails, break the loop\n",
    "            break\n",
    "\n",
    "    return ParserResult(index=current_index, result=left)\n",
    "\n",
    "\n",
    "# Function Calls\n",
    "def map_function_call(elements: List[ast.Node | Token]) -> ast.FunctionCall:\n",
    "    name, args = elements\n",
    "    return ast.FunctionCall(name=name, args=args)\n",
    "\n",
    "function_call = (\n",
    "    ident\n",
    "    + open_paren\n",
    "    >> expression.sep_by(comma)\n",
    "    << close_paren\n",
    ") @ map_function_call\n",
    "\n",
    "# Array Indexing\n",
    "def map_array_index(elements: List[ast.Node]) -> ast.ArrayIndex:\n",
    "    array, index = elements\n",
    "    return ast.ArrayIndex(array=array, index=index)\n",
    "\n",
    "array_index = ident + open_bracket >> expression << close_bracket @ map_array_index\n",
    "\n",
    "# Struct Access\n",
    "def map_struct_access(elements: List[ast.Node | Token]) -> ast.StructAccess:\n",
    "    obj, op, field = elements\n",
    "    return ast.StructAccess(obj=obj, operator=op.value, field=field)\n",
    "\n",
    "struct_access = (\n",
    "    ident\n",
    "    + any_of(Symbol.DOT, Symbol.ARROW)\n",
    "    + ident\n",
    ") @ map_struct_access\n",
    "\n",
    "# Comprehensive Expression Parser\n",
    "@parser\n",
    "def expression(stream: List[Token], index: int) -> ParserResult[ast.Expression]:\n",
    "    return (\n",
    "        struct_access\n",
    "        | array_index\n",
    "        | function_call\n",
    "        | binop\n",
    "        | unary_op\n",
    "        | primary_expression\n",
    "    ).parse_fn(stream, index)\n"
   ]
  },
  {
   "cell_type": "code",
   "execution_count": 14,
   "id": "e9c53326-b9e9-49b8-85f7-ac8dfa7b63ff",
   "metadata": {},
   "outputs": [],
   "source": [
    "# If-Else Parser\n",
    "def map_if_else(elements: List[Token | ast.Node]) -> ast.IfStatement:\n",
    "    condition, then_body, else_body = elements\n",
    "    return ast.IfStatement(condition, then_body, else_body)\n",
    "\n",
    "if_else = (\n",
    "    match(Token(TokenKind.KEYWORD, \"if\"))\n",
    "    >> open_paren\n",
    "    >> expression\n",
    "    << close_paren\n",
    "    + open_bracket\n",
    "    >> statement.many()\n",
    "    << close_bracket\n",
    "    + (match(Token(TokenKind.KEYWORD, \"else\")) >> open_bracket >> statement.many() << close_bracket).optional()\n",
    ") @ map_if_else"
   ]
  },
  {
   "cell_type": "code",
   "execution_count": 37,
   "id": "8b1b6770-2ea2-48e6-b6ea-f03c88b79d2b",
   "metadata": {},
   "outputs": [
    {
     "name": "stdout",
     "output_type": "stream",
     "text": [
      "> \u001b[0;32m/var/folders/vl/0mv20zzj0ld26z8h0ngg3wn00000gn/T/ipykernel_38709/2568700022.py\u001b[0m(19)\u001b[0;36mmap_binop\u001b[0;34m()\u001b[0m\n",
      "\u001b[0;32m     17 \u001b[0;31m\u001b[0;34m\u001b[0m\u001b[0m\n",
      "\u001b[0m\u001b[0;32m     18 \u001b[0;31m\u001b[0;32mdef\u001b[0m \u001b[0mmap_binop\u001b[0m\u001b[0;34m(\u001b[0m\u001b[0melems\u001b[0m\u001b[0;34m)\u001b[0m\u001b[0;34m:\u001b[0m\u001b[0;34m\u001b[0m\u001b[0;34m\u001b[0m\u001b[0m\n",
      "\u001b[0m\u001b[0;32m---> 19 \u001b[0;31m    \u001b[0;32mimport\u001b[0m \u001b[0mpdb\u001b[0m\u001b[0;34m;\u001b[0m \u001b[0mpdb\u001b[0m\u001b[0;34m.\u001b[0m\u001b[0mset_trace\u001b[0m\u001b[0;34m(\u001b[0m\u001b[0;34m)\u001b[0m\u001b[0;34m\u001b[0m\u001b[0;34m\u001b[0m\u001b[0m\n",
      "\u001b[0m\u001b[0;32m     20 \u001b[0;31m    \u001b[0mleft\u001b[0m\u001b[0;34m,\u001b[0m \u001b[0mop\u001b[0m\u001b[0;34m,\u001b[0m \u001b[0mright\u001b[0m \u001b[0;34m=\u001b[0m \u001b[0melems\u001b[0m\u001b[0;34m\u001b[0m\u001b[0;34m\u001b[0m\u001b[0m\n",
      "\u001b[0m\u001b[0;32m     21 \u001b[0;31m    \u001b[0;32mreturn\u001b[0m \u001b[0mast\u001b[0m\u001b[0;34m.\u001b[0m\u001b[0mBinaryOp\u001b[0m\u001b[0;34m(\u001b[0m\u001b[0mleft\u001b[0m\u001b[0;34m=\u001b[0m\u001b[0mleft\u001b[0m\u001b[0;34m,\u001b[0m \u001b[0moperator\u001b[0m\u001b[0;34m=\u001b[0m\u001b[0mop\u001b[0m\u001b[0;34m.\u001b[0m\u001b[0mvalue\u001b[0m\u001b[0;34m,\u001b[0m \u001b[0mright\u001b[0m\u001b[0;34m=\u001b[0m\u001b[0mright\u001b[0m\u001b[0;34m)\u001b[0m\u001b[0;34m\u001b[0m\u001b[0;34m\u001b[0m\u001b[0m\n",
      "\u001b[0m\n"
     ]
    },
    {
     "name": "stdin",
     "output_type": "stream",
     "text": [
      "ipdb>  elems\n"
     ]
    },
    {
     "name": "stdout",
     "output_type": "stream",
     "text": [
      "[Ident(name='x')]\n"
     ]
    },
    {
     "name": "stdin",
     "output_type": "stream",
     "text": [
      "ipdb>  q\n"
     ]
    }
   ],
   "source": [
    "expression(tokenize('x>0 ')).result"
   ]
  },
  {
   "cell_type": "code",
   "execution_count": 19,
   "id": "3e74c1ad-5dbe-41ea-977a-2abf874933dc",
   "metadata": {},
   "outputs": [
    {
     "ename": "RecursionError",
     "evalue": "maximum recursion depth exceeded",
     "output_type": "error",
     "traceback": [
      "\u001b[0;31m---------------------------------------------------------------------------\u001b[0m",
      "\u001b[0;31mRecursionError\u001b[0m                            Traceback (most recent call last)",
      "Cell \u001b[0;32mIn[19], line 1\u001b[0m\n\u001b[0;32m----> 1\u001b[0m \u001b[43m(\u001b[49m\u001b[43mmatch\u001b[49m\u001b[43m(\u001b[49m\u001b[43mToken\u001b[49m\u001b[43m(\u001b[49m\u001b[43mTokenKind\u001b[49m\u001b[38;5;241;43m.\u001b[39;49m\u001b[43mKEYWORD\u001b[49m\u001b[43m,\u001b[49m\u001b[43m \u001b[49m\u001b[38;5;124;43m\"\u001b[39;49m\u001b[38;5;124;43mif\u001b[39;49m\u001b[38;5;124;43m\"\u001b[39;49m\u001b[43m)\u001b[49m\u001b[43m)\u001b[49m\n\u001b[1;32m      2\u001b[0m \u001b[43m    \u001b[49m\u001b[38;5;241;43m>>\u001b[39;49m\u001b[43m \u001b[49m\u001b[43mopen_paren\u001b[49m\n\u001b[1;32m      3\u001b[0m \u001b[38;5;241;43m>>\u001b[39;49m\u001b[43m \u001b[49m\u001b[43mexpression\u001b[49m\u001b[43m)\u001b[49m\u001b[43m(\u001b[49m\u001b[43mtokenize\u001b[49m\u001b[43m(\u001b[49m\u001b[38;5;124;43m'''\u001b[39;49m\n\u001b[1;32m      4\u001b[0m \u001b[38;5;124;43mif (x > 0) \u001b[39;49m\u001b[38;5;124;43m{\u001b[39;49m\n\u001b[1;32m      5\u001b[0m \u001b[38;5;124;43m    y = 1;\u001b[39;49m\n\u001b[1;32m      6\u001b[0m \u001b[38;5;124;43m} else \u001b[39;49m\u001b[38;5;124;43m{\u001b[39;49m\n\u001b[1;32m      7\u001b[0m \u001b[38;5;124;43m    y = -1;\u001b[39;49m\n\u001b[1;32m      8\u001b[0m \u001b[38;5;124;43m}\u001b[39;49m\n\u001b[1;32m      9\u001b[0m \u001b[38;5;124;43m'''\u001b[39;49m\u001b[43m)\u001b[49m\u001b[43m)\u001b[49m\n",
      "File \u001b[0;32m~/Projects/pyCco/pycco/parser.py:122\u001b[0m, in \u001b[0;36mParser.__call__\u001b[0;34m(self, stream, index)\u001b[0m\n\u001b[1;32m    106\u001b[0m \u001b[38;5;250m\u001b[39m\u001b[38;5;124;03m\"\"\"\u001b[39;00m\n\u001b[1;32m    107\u001b[0m \u001b[38;5;124;03mInvoke the parser on the given stream starting at the given index.\u001b[39;00m\n\u001b[1;32m    108\u001b[0m \n\u001b[0;32m   (...)\u001b[0m\n\u001b[1;32m    114\u001b[0m \u001b[38;5;124;03m    ParserResult[T]: A tuple of the next index and the parsed result (or None on failure).\u001b[39;00m\n\u001b[1;32m    115\u001b[0m \u001b[38;5;124;03m\"\"\"\u001b[39;00m\n\u001b[1;32m    116\u001b[0m description \u001b[38;5;241m=\u001b[39m (\n\u001b[1;32m    117\u001b[0m     \u001b[38;5;28mself\u001b[39m\u001b[38;5;241m.\u001b[39mdescription\n\u001b[1;32m    118\u001b[0m     \u001b[38;5;28;01mif\u001b[39;00m \u001b[38;5;129;01mnot\u001b[39;00m \u001b[38;5;28misinstance\u001b[39m(\u001b[38;5;28mself\u001b[39m\u001b[38;5;241m.\u001b[39mparse_fn, Parser)\n\u001b[1;32m    119\u001b[0m     \u001b[38;5;28;01melse\u001b[39;00m \u001b[38;5;28mself\u001b[39m\u001b[38;5;241m.\u001b[39mparse_fn\u001b[38;5;241m.\u001b[39mdescription\n\u001b[1;32m    120\u001b[0m )\n\u001b[1;32m    121\u001b[0m index, result \u001b[38;5;241m=\u001b[39m (\n\u001b[0;32m--> 122\u001b[0m     \u001b[38;5;28;43mself\u001b[39;49m\u001b[38;5;241;43m.\u001b[39;49m\u001b[43mparse_fn\u001b[49m\u001b[43m(\u001b[49m\u001b[43mstream\u001b[49m\u001b[43m,\u001b[49m\u001b[43m \u001b[49m\u001b[43mindex\u001b[49m\u001b[43m)\u001b[49m\n\u001b[1;32m    123\u001b[0m     \u001b[38;5;28;01mif\u001b[39;00m \u001b[38;5;129;01mnot\u001b[39;00m \u001b[38;5;28misinstance\u001b[39m(\u001b[38;5;28mself\u001b[39m\u001b[38;5;241m.\u001b[39mparse_fn, Parser)\n\u001b[1;32m    124\u001b[0m     \u001b[38;5;28;01melse\u001b[39;00m \u001b[38;5;28mself\u001b[39m\u001b[38;5;241m.\u001b[39mparse_fn\u001b[38;5;241m.\u001b[39mparse_fn\n\u001b[1;32m    125\u001b[0m )\n\u001b[1;32m    126\u001b[0m \u001b[38;5;28;01mreturn\u001b[39;00m ParserResult(index, result, description)\n",
      "File \u001b[0;32m~/Projects/pyCco/pycco/parser.py:385\u001b[0m, in \u001b[0;36mParser.__rshift__.<locals>.parse\u001b[0;34m(stream, index)\u001b[0m\n\u001b[1;32m    383\u001b[0m \u001b[38;5;28;01mif\u001b[39;00m i \u001b[38;5;241m==\u001b[39m \u001b[38;5;241m-\u001b[39m\u001b[38;5;241m1\u001b[39m:\n\u001b[1;32m    384\u001b[0m     \u001b[38;5;28;01mreturn\u001b[39;00m ParserResult()\n\u001b[0;32m--> 385\u001b[0m j, res2 \u001b[38;5;241m=\u001b[39m \u001b[43mother\u001b[49m\u001b[43m(\u001b[49m\u001b[43mstream\u001b[49m\u001b[43m,\u001b[49m\u001b[43m \u001b[49m\u001b[43mi\u001b[49m\u001b[43m)\u001b[49m\n\u001b[1;32m    386\u001b[0m \u001b[38;5;28;01mif\u001b[39;00m j \u001b[38;5;241m==\u001b[39m \u001b[38;5;241m-\u001b[39m\u001b[38;5;241m1\u001b[39m:\n\u001b[1;32m    387\u001b[0m     \u001b[38;5;28;01mreturn\u001b[39;00m ParserResult()\n",
      "File \u001b[0;32m~/Projects/pyCco/pycco/parser.py:122\u001b[0m, in \u001b[0;36mParser.__call__\u001b[0;34m(self, stream, index)\u001b[0m\n\u001b[1;32m    106\u001b[0m \u001b[38;5;250m\u001b[39m\u001b[38;5;124;03m\"\"\"\u001b[39;00m\n\u001b[1;32m    107\u001b[0m \u001b[38;5;124;03mInvoke the parser on the given stream starting at the given index.\u001b[39;00m\n\u001b[1;32m    108\u001b[0m \n\u001b[0;32m   (...)\u001b[0m\n\u001b[1;32m    114\u001b[0m \u001b[38;5;124;03m    ParserResult[T]: A tuple of the next index and the parsed result (or None on failure).\u001b[39;00m\n\u001b[1;32m    115\u001b[0m \u001b[38;5;124;03m\"\"\"\u001b[39;00m\n\u001b[1;32m    116\u001b[0m description \u001b[38;5;241m=\u001b[39m (\n\u001b[1;32m    117\u001b[0m     \u001b[38;5;28mself\u001b[39m\u001b[38;5;241m.\u001b[39mdescription\n\u001b[1;32m    118\u001b[0m     \u001b[38;5;28;01mif\u001b[39;00m \u001b[38;5;129;01mnot\u001b[39;00m \u001b[38;5;28misinstance\u001b[39m(\u001b[38;5;28mself\u001b[39m\u001b[38;5;241m.\u001b[39mparse_fn, Parser)\n\u001b[1;32m    119\u001b[0m     \u001b[38;5;28;01melse\u001b[39;00m \u001b[38;5;28mself\u001b[39m\u001b[38;5;241m.\u001b[39mparse_fn\u001b[38;5;241m.\u001b[39mdescription\n\u001b[1;32m    120\u001b[0m )\n\u001b[1;32m    121\u001b[0m index, result \u001b[38;5;241m=\u001b[39m (\n\u001b[0;32m--> 122\u001b[0m     \u001b[38;5;28;43mself\u001b[39;49m\u001b[38;5;241;43m.\u001b[39;49m\u001b[43mparse_fn\u001b[49m\u001b[43m(\u001b[49m\u001b[43mstream\u001b[49m\u001b[43m,\u001b[49m\u001b[43m \u001b[49m\u001b[43mindex\u001b[49m\u001b[43m)\u001b[49m\n\u001b[1;32m    123\u001b[0m     \u001b[38;5;28;01mif\u001b[39;00m \u001b[38;5;129;01mnot\u001b[39;00m \u001b[38;5;28misinstance\u001b[39m(\u001b[38;5;28mself\u001b[39m\u001b[38;5;241m.\u001b[39mparse_fn, Parser)\n\u001b[1;32m    124\u001b[0m     \u001b[38;5;28;01melse\u001b[39;00m \u001b[38;5;28mself\u001b[39m\u001b[38;5;241m.\u001b[39mparse_fn\u001b[38;5;241m.\u001b[39mparse_fn\n\u001b[1;32m    125\u001b[0m )\n\u001b[1;32m    126\u001b[0m \u001b[38;5;28;01mreturn\u001b[39;00m ParserResult(index, result, description)\n",
      "Cell \u001b[0;32mIn[17], line 73\u001b[0m, in \u001b[0;36mexpression\u001b[0;34m(stream, index)\u001b[0m\n\u001b[1;32m     71\u001b[0m \u001b[38;5;129m@parser\u001b[39m\n\u001b[1;32m     72\u001b[0m \u001b[38;5;28;01mdef\u001b[39;00m\u001b[38;5;250m \u001b[39m\u001b[38;5;21mexpression\u001b[39m(stream: List[Token], index: \u001b[38;5;28mint\u001b[39m)\u001b[38;5;241m-\u001b[39m\u001b[38;5;241m>\u001b[39m ParserResult[ast\u001b[38;5;241m.\u001b[39mExpression]:\n\u001b[0;32m---> 73\u001b[0m     \u001b[38;5;28;01mreturn\u001b[39;00m \u001b[43m(\u001b[49m\u001b[43mbinop\u001b[49m\u001b[43m \u001b[49m\u001b[38;5;241;43m|\u001b[39;49m\u001b[43m \u001b[49m\u001b[43mnumber\u001b[49m\u001b[43m \u001b[49m\u001b[38;5;241;43m|\u001b[39;49m\u001b[43m \u001b[49m\u001b[43mstring\u001b[49m\u001b[43m \u001b[49m\u001b[38;5;241;43m|\u001b[39;49m\u001b[43m \u001b[49m\u001b[43mident\u001b[49m\u001b[43m)\u001b[49m\u001b[38;5;241;43m.\u001b[39;49m\u001b[43mparse_fn\u001b[49m\u001b[43m(\u001b[49m\u001b[43mstream\u001b[49m\u001b[43m,\u001b[49m\u001b[43m \u001b[49m\u001b[43mindex\u001b[49m\u001b[43m)\u001b[49m\n",
      "File \u001b[0;32m~/Projects/pyCco/pycco/parser.py:144\u001b[0m, in \u001b[0;36mParser.__or__.<locals>.parse\u001b[0;34m(stream, index)\u001b[0m\n\u001b[1;32m    143\u001b[0m \u001b[38;5;28;01mdef\u001b[39;00m\u001b[38;5;250m \u001b[39m\u001b[38;5;21mparse\u001b[39m(stream: Stream[S], index: \u001b[38;5;28mint\u001b[39m) \u001b[38;5;241m-\u001b[39m\u001b[38;5;241m>\u001b[39m ParserResult[T]:\n\u001b[0;32m--> 144\u001b[0m     result \u001b[38;5;241m=\u001b[39m \u001b[38;5;28;43mself\u001b[39;49m\u001b[43m(\u001b[49m\u001b[43mstream\u001b[49m\u001b[43m,\u001b[49m\u001b[43m \u001b[49m\u001b[43mindex\u001b[49m\u001b[43m)\u001b[49m\n\u001b[1;32m    145\u001b[0m     \u001b[38;5;28;01mif\u001b[39;00m result[\u001b[38;5;241m0\u001b[39m] \u001b[38;5;241m!=\u001b[39m \u001b[38;5;241m-\u001b[39m\u001b[38;5;241m1\u001b[39m:\n\u001b[1;32m    146\u001b[0m         \u001b[38;5;28;01mreturn\u001b[39;00m result\n",
      "File \u001b[0;32m~/Projects/pyCco/pycco/parser.py:122\u001b[0m, in \u001b[0;36mParser.__call__\u001b[0;34m(self, stream, index)\u001b[0m\n\u001b[1;32m    106\u001b[0m \u001b[38;5;250m\u001b[39m\u001b[38;5;124;03m\"\"\"\u001b[39;00m\n\u001b[1;32m    107\u001b[0m \u001b[38;5;124;03mInvoke the parser on the given stream starting at the given index.\u001b[39;00m\n\u001b[1;32m    108\u001b[0m \n\u001b[0;32m   (...)\u001b[0m\n\u001b[1;32m    114\u001b[0m \u001b[38;5;124;03m    ParserResult[T]: A tuple of the next index and the parsed result (or None on failure).\u001b[39;00m\n\u001b[1;32m    115\u001b[0m \u001b[38;5;124;03m\"\"\"\u001b[39;00m\n\u001b[1;32m    116\u001b[0m description \u001b[38;5;241m=\u001b[39m (\n\u001b[1;32m    117\u001b[0m     \u001b[38;5;28mself\u001b[39m\u001b[38;5;241m.\u001b[39mdescription\n\u001b[1;32m    118\u001b[0m     \u001b[38;5;28;01mif\u001b[39;00m \u001b[38;5;129;01mnot\u001b[39;00m \u001b[38;5;28misinstance\u001b[39m(\u001b[38;5;28mself\u001b[39m\u001b[38;5;241m.\u001b[39mparse_fn, Parser)\n\u001b[1;32m    119\u001b[0m     \u001b[38;5;28;01melse\u001b[39;00m \u001b[38;5;28mself\u001b[39m\u001b[38;5;241m.\u001b[39mparse_fn\u001b[38;5;241m.\u001b[39mdescription\n\u001b[1;32m    120\u001b[0m )\n\u001b[1;32m    121\u001b[0m index, result \u001b[38;5;241m=\u001b[39m (\n\u001b[0;32m--> 122\u001b[0m     \u001b[38;5;28;43mself\u001b[39;49m\u001b[38;5;241;43m.\u001b[39;49m\u001b[43mparse_fn\u001b[49m\u001b[43m(\u001b[49m\u001b[43mstream\u001b[49m\u001b[43m,\u001b[49m\u001b[43m \u001b[49m\u001b[43mindex\u001b[49m\u001b[43m)\u001b[49m\n\u001b[1;32m    123\u001b[0m     \u001b[38;5;28;01mif\u001b[39;00m \u001b[38;5;129;01mnot\u001b[39;00m \u001b[38;5;28misinstance\u001b[39m(\u001b[38;5;28mself\u001b[39m\u001b[38;5;241m.\u001b[39mparse_fn, Parser)\n\u001b[1;32m    124\u001b[0m     \u001b[38;5;28;01melse\u001b[39;00m \u001b[38;5;28mself\u001b[39m\u001b[38;5;241m.\u001b[39mparse_fn\u001b[38;5;241m.\u001b[39mparse_fn\n\u001b[1;32m    125\u001b[0m )\n\u001b[1;32m    126\u001b[0m \u001b[38;5;28;01mreturn\u001b[39;00m ParserResult(index, result, description)\n",
      "File \u001b[0;32m~/Projects/pyCco/pycco/parser.py:144\u001b[0m, in \u001b[0;36mParser.__or__.<locals>.parse\u001b[0;34m(stream, index)\u001b[0m\n\u001b[1;32m    143\u001b[0m \u001b[38;5;28;01mdef\u001b[39;00m\u001b[38;5;250m \u001b[39m\u001b[38;5;21mparse\u001b[39m(stream: Stream[S], index: \u001b[38;5;28mint\u001b[39m) \u001b[38;5;241m-\u001b[39m\u001b[38;5;241m>\u001b[39m ParserResult[T]:\n\u001b[0;32m--> 144\u001b[0m     result \u001b[38;5;241m=\u001b[39m \u001b[38;5;28;43mself\u001b[39;49m\u001b[43m(\u001b[49m\u001b[43mstream\u001b[49m\u001b[43m,\u001b[49m\u001b[43m \u001b[49m\u001b[43mindex\u001b[49m\u001b[43m)\u001b[49m\n\u001b[1;32m    145\u001b[0m     \u001b[38;5;28;01mif\u001b[39;00m result[\u001b[38;5;241m0\u001b[39m] \u001b[38;5;241m!=\u001b[39m \u001b[38;5;241m-\u001b[39m\u001b[38;5;241m1\u001b[39m:\n\u001b[1;32m    146\u001b[0m         \u001b[38;5;28;01mreturn\u001b[39;00m result\n",
      "    \u001b[0;31m[... skipping similar frames: Parser.__call__ at line 122 (2 times), Parser.__or__.<locals>.parse at line 144 (1 times)]\u001b[0m\n",
      "File \u001b[0;32m~/Projects/pyCco/pycco/parser.py:168\u001b[0m, in \u001b[0;36mParser.map.<locals>.parse\u001b[0;34m(stream, index)\u001b[0m\n\u001b[1;32m    167\u001b[0m \u001b[38;5;28;01mdef\u001b[39;00m\u001b[38;5;250m \u001b[39m\u001b[38;5;21mparse\u001b[39m(stream: Stream[S], index: \u001b[38;5;28mint\u001b[39m) \u001b[38;5;241m-\u001b[39m\u001b[38;5;241m>\u001b[39m ParserResult[U]:\n\u001b[0;32m--> 168\u001b[0m     i, res \u001b[38;5;241m=\u001b[39m \u001b[38;5;28;43mself\u001b[39;49m\u001b[43m(\u001b[49m\u001b[43mstream\u001b[49m\u001b[43m,\u001b[49m\u001b[43m \u001b[49m\u001b[43mindex\u001b[49m\u001b[43m)\u001b[49m\n\u001b[1;32m    169\u001b[0m     \u001b[38;5;28;01mif\u001b[39;00m i \u001b[38;5;241m==\u001b[39m \u001b[38;5;241m-\u001b[39m\u001b[38;5;241m1\u001b[39m \u001b[38;5;129;01mor\u001b[39;00m res \u001b[38;5;129;01mis\u001b[39;00m \u001b[38;5;28;01mNone\u001b[39;00m:\n\u001b[1;32m    170\u001b[0m         \u001b[38;5;28;01mreturn\u001b[39;00m ParserResult()\n",
      "    \u001b[0;31m[... skipping similar frames: Parser.__call__ at line 122 (1 times)]\u001b[0m\n",
      "File \u001b[0;32m~/Projects/pyCco/pycco/parser.py:204\u001b[0m, in \u001b[0;36mParser.__add__.<locals>.parse\u001b[0;34m(stream, index)\u001b[0m\n\u001b[1;32m    203\u001b[0m \u001b[38;5;28;01mdef\u001b[39;00m\u001b[38;5;250m \u001b[39m\u001b[38;5;21mparse\u001b[39m(stream: Stream[S], index: \u001b[38;5;28mint\u001b[39m) \u001b[38;5;241m-\u001b[39m\u001b[38;5;241m>\u001b[39m ParserResult[List[Union[T, U]]]:\n\u001b[0;32m--> 204\u001b[0m     i, res1 \u001b[38;5;241m=\u001b[39m \u001b[38;5;28;43mself\u001b[39;49m\u001b[43m(\u001b[49m\u001b[43mstream\u001b[49m\u001b[43m,\u001b[49m\u001b[43m \u001b[49m\u001b[43mindex\u001b[49m\u001b[43m)\u001b[49m\n\u001b[1;32m    205\u001b[0m     \u001b[38;5;28;01mif\u001b[39;00m i \u001b[38;5;241m==\u001b[39m \u001b[38;5;241m-\u001b[39m\u001b[38;5;241m1\u001b[39m:\n\u001b[1;32m    206\u001b[0m         \u001b[38;5;28;01mreturn\u001b[39;00m ParserResult()  \u001b[38;5;66;03m# First parser failed\u001b[39;00m\n",
      "    \u001b[0;31m[... skipping similar frames: Parser.__call__ at line 122 (1 times)]\u001b[0m\n",
      "File \u001b[0;32m~/Projects/pyCco/pycco/parser.py:204\u001b[0m, in \u001b[0;36mParser.__add__.<locals>.parse\u001b[0;34m(stream, index)\u001b[0m\n\u001b[1;32m    203\u001b[0m \u001b[38;5;28;01mdef\u001b[39;00m\u001b[38;5;250m \u001b[39m\u001b[38;5;21mparse\u001b[39m(stream: Stream[S], index: \u001b[38;5;28mint\u001b[39m) \u001b[38;5;241m-\u001b[39m\u001b[38;5;241m>\u001b[39m ParserResult[List[Union[T, U]]]:\n\u001b[0;32m--> 204\u001b[0m     i, res1 \u001b[38;5;241m=\u001b[39m \u001b[38;5;28;43mself\u001b[39;49m\u001b[43m(\u001b[49m\u001b[43mstream\u001b[49m\u001b[43m,\u001b[49m\u001b[43m \u001b[49m\u001b[43mindex\u001b[49m\u001b[43m)\u001b[49m\n\u001b[1;32m    205\u001b[0m     \u001b[38;5;28;01mif\u001b[39;00m i \u001b[38;5;241m==\u001b[39m \u001b[38;5;241m-\u001b[39m\u001b[38;5;241m1\u001b[39m:\n\u001b[1;32m    206\u001b[0m         \u001b[38;5;28;01mreturn\u001b[39;00m ParserResult()  \u001b[38;5;66;03m# First parser failed\u001b[39;00m\n",
      "    \u001b[0;31m[... skipping similar frames: Parser.__call__ at line 122 (1 times)]\u001b[0m\n",
      "Cell \u001b[0;32mIn[17], line 73\u001b[0m, in \u001b[0;36mexpression\u001b[0;34m(stream, index)\u001b[0m\n\u001b[1;32m     71\u001b[0m \u001b[38;5;129m@parser\u001b[39m\n\u001b[1;32m     72\u001b[0m \u001b[38;5;28;01mdef\u001b[39;00m\u001b[38;5;250m \u001b[39m\u001b[38;5;21mexpression\u001b[39m(stream: List[Token], index: \u001b[38;5;28mint\u001b[39m)\u001b[38;5;241m-\u001b[39m\u001b[38;5;241m>\u001b[39m ParserResult[ast\u001b[38;5;241m.\u001b[39mExpression]:\n\u001b[0;32m---> 73\u001b[0m     \u001b[38;5;28;01mreturn\u001b[39;00m \u001b[43m(\u001b[49m\u001b[43mbinop\u001b[49m\u001b[43m \u001b[49m\u001b[38;5;241;43m|\u001b[39;49m\u001b[43m \u001b[49m\u001b[43mnumber\u001b[49m\u001b[43m \u001b[49m\u001b[38;5;241;43m|\u001b[39;49m\u001b[43m \u001b[49m\u001b[43mstring\u001b[49m\u001b[43m \u001b[49m\u001b[38;5;241;43m|\u001b[39;49m\u001b[43m \u001b[49m\u001b[43mident\u001b[49m\u001b[43m)\u001b[49m\u001b[38;5;241;43m.\u001b[39;49m\u001b[43mparse_fn\u001b[49m\u001b[43m(\u001b[49m\u001b[43mstream\u001b[49m\u001b[43m,\u001b[49m\u001b[43m \u001b[49m\u001b[43mindex\u001b[49m\u001b[43m)\u001b[49m\n",
      "    \u001b[0;31m[... skipping similar frames: Parser.__call__ at line 122 (3 times), Parser.__or__.<locals>.parse at line 144 (3 times)]\u001b[0m\n",
      "File \u001b[0;32m~/Projects/pyCco/pycco/parser.py:168\u001b[0m, in \u001b[0;36mParser.map.<locals>.parse\u001b[0;34m(stream, index)\u001b[0m\n\u001b[1;32m    167\u001b[0m \u001b[38;5;28;01mdef\u001b[39;00m\u001b[38;5;250m \u001b[39m\u001b[38;5;21mparse\u001b[39m(stream: Stream[S], index: \u001b[38;5;28mint\u001b[39m) \u001b[38;5;241m-\u001b[39m\u001b[38;5;241m>\u001b[39m ParserResult[U]:\n\u001b[0;32m--> 168\u001b[0m     i, res \u001b[38;5;241m=\u001b[39m \u001b[38;5;28;43mself\u001b[39;49m\u001b[43m(\u001b[49m\u001b[43mstream\u001b[49m\u001b[43m,\u001b[49m\u001b[43m \u001b[49m\u001b[43mindex\u001b[49m\u001b[43m)\u001b[49m\n\u001b[1;32m    169\u001b[0m     \u001b[38;5;28;01mif\u001b[39;00m i \u001b[38;5;241m==\u001b[39m \u001b[38;5;241m-\u001b[39m\u001b[38;5;241m1\u001b[39m \u001b[38;5;129;01mor\u001b[39;00m res \u001b[38;5;129;01mis\u001b[39;00m \u001b[38;5;28;01mNone\u001b[39;00m:\n\u001b[1;32m    170\u001b[0m         \u001b[38;5;28;01mreturn\u001b[39;00m ParserResult()\n",
      "    \u001b[0;31m[... skipping similar frames: Parser.__call__ at line 122 (1359 times), Parser.__or__.<locals>.parse at line 144 (678 times), Parser.__add__.<locals>.parse at line 204 (454 times), expression at line 73 (226 times), Parser.map.<locals>.parse at line 168 (226 times)]\u001b[0m\n",
      "Cell \u001b[0;32mIn[17], line 73\u001b[0m, in \u001b[0;36mexpression\u001b[0;34m(stream, index)\u001b[0m\n\u001b[1;32m     71\u001b[0m \u001b[38;5;129m@parser\u001b[39m\n\u001b[1;32m     72\u001b[0m \u001b[38;5;28;01mdef\u001b[39;00m\u001b[38;5;250m \u001b[39m\u001b[38;5;21mexpression\u001b[39m(stream: List[Token], index: \u001b[38;5;28mint\u001b[39m)\u001b[38;5;241m-\u001b[39m\u001b[38;5;241m>\u001b[39m ParserResult[ast\u001b[38;5;241m.\u001b[39mExpression]:\n\u001b[0;32m---> 73\u001b[0m     \u001b[38;5;28;01mreturn\u001b[39;00m \u001b[43m(\u001b[49m\u001b[43mbinop\u001b[49m\u001b[43m \u001b[49m\u001b[38;5;241;43m|\u001b[39;49m\u001b[43m \u001b[49m\u001b[43mnumber\u001b[49m\u001b[43m \u001b[49m\u001b[38;5;241;43m|\u001b[39;49m\u001b[43m \u001b[49m\u001b[43mstring\u001b[49m\u001b[43m \u001b[49m\u001b[38;5;241;43m|\u001b[39;49m\u001b[43m \u001b[49m\u001b[43mident\u001b[49m\u001b[43m)\u001b[49m\u001b[38;5;241;43m.\u001b[39;49m\u001b[43mparse_fn\u001b[49m\u001b[43m(\u001b[49m\u001b[43mstream\u001b[49m\u001b[43m,\u001b[49m\u001b[43m \u001b[49m\u001b[43mindex\u001b[49m\u001b[43m)\u001b[49m\n",
      "    \u001b[0;31m[... skipping similar frames: Parser.__call__ at line 122 (2 times), Parser.__or__.<locals>.parse at line 144 (2 times)]\u001b[0m\n",
      "File \u001b[0;32m~/Projects/pyCco/pycco/parser.py:144\u001b[0m, in \u001b[0;36mParser.__or__.<locals>.parse\u001b[0;34m(stream, index)\u001b[0m\n\u001b[1;32m    143\u001b[0m \u001b[38;5;28;01mdef\u001b[39;00m\u001b[38;5;250m \u001b[39m\u001b[38;5;21mparse\u001b[39m(stream: Stream[S], index: \u001b[38;5;28mint\u001b[39m) \u001b[38;5;241m-\u001b[39m\u001b[38;5;241m>\u001b[39m ParserResult[T]:\n\u001b[0;32m--> 144\u001b[0m     result \u001b[38;5;241m=\u001b[39m \u001b[38;5;28;43mself\u001b[39;49m\u001b[43m(\u001b[49m\u001b[43mstream\u001b[49m\u001b[43m,\u001b[49m\u001b[43m \u001b[49m\u001b[43mindex\u001b[49m\u001b[43m)\u001b[49m\n\u001b[1;32m    145\u001b[0m     \u001b[38;5;28;01mif\u001b[39;00m result[\u001b[38;5;241m0\u001b[39m] \u001b[38;5;241m!=\u001b[39m \u001b[38;5;241m-\u001b[39m\u001b[38;5;241m1\u001b[39m:\n\u001b[1;32m    146\u001b[0m         \u001b[38;5;28;01mreturn\u001b[39;00m result\n",
      "    \u001b[0;31m[... skipping similar frames: Parser.__call__ at line 122 (1 times)]\u001b[0m\n",
      "File \u001b[0;32m~/Projects/pyCco/pycco/parser.py:168\u001b[0m, in \u001b[0;36mParser.map.<locals>.parse\u001b[0;34m(stream, index)\u001b[0m\n\u001b[1;32m    167\u001b[0m \u001b[38;5;28;01mdef\u001b[39;00m\u001b[38;5;250m \u001b[39m\u001b[38;5;21mparse\u001b[39m(stream: Stream[S], index: \u001b[38;5;28mint\u001b[39m) \u001b[38;5;241m-\u001b[39m\u001b[38;5;241m>\u001b[39m ParserResult[U]:\n\u001b[0;32m--> 168\u001b[0m     i, res \u001b[38;5;241m=\u001b[39m \u001b[38;5;28;43mself\u001b[39;49m\u001b[43m(\u001b[49m\u001b[43mstream\u001b[49m\u001b[43m,\u001b[49m\u001b[43m \u001b[49m\u001b[43mindex\u001b[49m\u001b[43m)\u001b[49m\n\u001b[1;32m    169\u001b[0m     \u001b[38;5;28;01mif\u001b[39;00m i \u001b[38;5;241m==\u001b[39m \u001b[38;5;241m-\u001b[39m\u001b[38;5;241m1\u001b[39m \u001b[38;5;129;01mor\u001b[39;00m res \u001b[38;5;129;01mis\u001b[39;00m \u001b[38;5;28;01mNone\u001b[39;00m:\n\u001b[1;32m    170\u001b[0m         \u001b[38;5;28;01mreturn\u001b[39;00m ParserResult()\n",
      "File \u001b[0;32m~/Projects/pyCco/pycco/parser.py:122\u001b[0m, in \u001b[0;36mParser.__call__\u001b[0;34m(self, stream, index)\u001b[0m\n\u001b[1;32m    106\u001b[0m \u001b[38;5;250m\u001b[39m\u001b[38;5;124;03m\"\"\"\u001b[39;00m\n\u001b[1;32m    107\u001b[0m \u001b[38;5;124;03mInvoke the parser on the given stream starting at the given index.\u001b[39;00m\n\u001b[1;32m    108\u001b[0m \n\u001b[0;32m   (...)\u001b[0m\n\u001b[1;32m    114\u001b[0m \u001b[38;5;124;03m    ParserResult[T]: A tuple of the next index and the parsed result (or None on failure).\u001b[39;00m\n\u001b[1;32m    115\u001b[0m \u001b[38;5;124;03m\"\"\"\u001b[39;00m\n\u001b[1;32m    116\u001b[0m description \u001b[38;5;241m=\u001b[39m (\n\u001b[1;32m    117\u001b[0m     \u001b[38;5;28mself\u001b[39m\u001b[38;5;241m.\u001b[39mdescription\n\u001b[1;32m    118\u001b[0m     \u001b[38;5;28;01mif\u001b[39;00m \u001b[38;5;129;01mnot\u001b[39;00m \u001b[38;5;28misinstance\u001b[39m(\u001b[38;5;28mself\u001b[39m\u001b[38;5;241m.\u001b[39mparse_fn, Parser)\n\u001b[1;32m    119\u001b[0m     \u001b[38;5;28;01melse\u001b[39;00m \u001b[38;5;28mself\u001b[39m\u001b[38;5;241m.\u001b[39mparse_fn\u001b[38;5;241m.\u001b[39mdescription\n\u001b[1;32m    120\u001b[0m )\n\u001b[1;32m    121\u001b[0m index, result \u001b[38;5;241m=\u001b[39m (\n\u001b[0;32m--> 122\u001b[0m     \u001b[38;5;28;43mself\u001b[39;49m\u001b[38;5;241;43m.\u001b[39;49m\u001b[43mparse_fn\u001b[49m\u001b[43m(\u001b[49m\u001b[43mstream\u001b[49m\u001b[43m,\u001b[49m\u001b[43m \u001b[49m\u001b[43mindex\u001b[49m\u001b[43m)\u001b[49m\n\u001b[1;32m    123\u001b[0m     \u001b[38;5;28;01mif\u001b[39;00m \u001b[38;5;129;01mnot\u001b[39;00m \u001b[38;5;28misinstance\u001b[39m(\u001b[38;5;28mself\u001b[39m\u001b[38;5;241m.\u001b[39mparse_fn, Parser)\n\u001b[1;32m    124\u001b[0m     \u001b[38;5;28;01melse\u001b[39;00m \u001b[38;5;28mself\u001b[39m\u001b[38;5;241m.\u001b[39mparse_fn\u001b[38;5;241m.\u001b[39mparse_fn\n\u001b[1;32m    125\u001b[0m )\n\u001b[1;32m    126\u001b[0m \u001b[38;5;28;01mreturn\u001b[39;00m ParserResult(index, result, description)\n",
      "File \u001b[0;32m~/Projects/pyCco/pycco/parser.py:204\u001b[0m, in \u001b[0;36mParser.__add__.<locals>.parse\u001b[0;34m(stream, index)\u001b[0m\n\u001b[1;32m    203\u001b[0m \u001b[38;5;28;01mdef\u001b[39;00m\u001b[38;5;250m \u001b[39m\u001b[38;5;21mparse\u001b[39m(stream: Stream[S], index: \u001b[38;5;28mint\u001b[39m) \u001b[38;5;241m-\u001b[39m\u001b[38;5;241m>\u001b[39m ParserResult[List[Union[T, U]]]:\n\u001b[0;32m--> 204\u001b[0m     i, res1 \u001b[38;5;241m=\u001b[39m \u001b[38;5;28;43mself\u001b[39;49m\u001b[43m(\u001b[49m\u001b[43mstream\u001b[49m\u001b[43m,\u001b[49m\u001b[43m \u001b[49m\u001b[43mindex\u001b[49m\u001b[43m)\u001b[49m\n\u001b[1;32m    205\u001b[0m     \u001b[38;5;28;01mif\u001b[39;00m i \u001b[38;5;241m==\u001b[39m \u001b[38;5;241m-\u001b[39m\u001b[38;5;241m1\u001b[39m:\n\u001b[1;32m    206\u001b[0m         \u001b[38;5;28;01mreturn\u001b[39;00m ParserResult()  \u001b[38;5;66;03m# First parser failed\u001b[39;00m\n",
      "\u001b[0;31mRecursionError\u001b[0m: maximum recursion depth exceeded"
     ]
    }
   ],
   "source": [
    "(match(Token(TokenKind.KEYWORD, \"if\"))\n",
    "    >> open_paren\n",
    ">> expression)(tokenize('''\n",
    "if (x > 0) {\n",
    "    y = 1;\n",
    "} else {\n",
    "    y = -1;\n",
    "}\n",
    "'''))"
   ]
  },
  {
   "cell_type": "code",
   "execution_count": null,
   "id": "b44b110b-cef9-415f-b793-578169356b38",
   "metadata": {},
   "outputs": [
    {
     "ename": "AttributeError",
     "evalue": "module 'pycco.ast' has no attribute 'For'",
     "output_type": "error",
     "traceback": [
      "\u001b[0;31m---------------------------------------------------------------------------\u001b[0m",
      "\u001b[0;31mAttributeError\u001b[0m                            Traceback (most recent call last)",
      "Cell \u001b[0;32mIn[65], line 33\u001b[0m\n\u001b[1;32m     22\u001b[0m while_loop \u001b[38;5;241m=\u001b[39m (\n\u001b[1;32m     23\u001b[0m     \u001b[38;5;28;01mmatch\u001b[39;00m(Token(TokenKind\u001b[38;5;241m.\u001b[39mKEYWORD, \u001b[38;5;124m\"\u001b[39m\u001b[38;5;124mwhile\u001b[39m\u001b[38;5;124m\"\u001b[39m))\n\u001b[1;32m     24\u001b[0m     \u001b[38;5;241m>>\u001b[39m open_paren\n\u001b[0;32m   (...)\u001b[0m\n\u001b[1;32m     29\u001b[0m     \u001b[38;5;241m<<\u001b[39m close_bracket\n\u001b[1;32m     30\u001b[0m ) \u001b[38;5;241m@\u001b[39m map_while\n\u001b[1;32m     32\u001b[0m \u001b[38;5;66;03m# For Loop Parser\u001b[39;00m\n\u001b[0;32m---> 33\u001b[0m \u001b[38;5;28;01mdef\u001b[39;00m\u001b[38;5;250m \u001b[39m\u001b[38;5;21mmap_for\u001b[39m(elements: List[Token \u001b[38;5;241m|\u001b[39m ast\u001b[38;5;241m.\u001b[39mNode]) \u001b[38;5;241m-\u001b[39m\u001b[38;5;241m>\u001b[39m \u001b[43mast\u001b[49m\u001b[38;5;241;43m.\u001b[39;49m\u001b[43mFor\u001b[49m:\n\u001b[1;32m     34\u001b[0m     init, condition, increment, body \u001b[38;5;241m=\u001b[39m elements\n\u001b[1;32m     35\u001b[0m     \u001b[38;5;28;01mreturn\u001b[39;00m ast\u001b[38;5;241m.\u001b[39mFor(init, condition, increment, body)\n",
      "\u001b[0;31mAttributeError\u001b[0m: module 'pycco.ast' has no attribute 'For'"
     ]
    }
   ],
   "source": [
    "# While Loop Parser\n",
    "def map_while(elements: List[Token | ast.Node]) -> ast.WhileLoop:\n",
    "    condition, body = elements\n",
    "    return ast.WhileLoop(condition, body)\n",
    "\n",
    "while_loop = (\n",
    "    match(Token(TokenKind.KEYWORD, \"while\"))\n",
    "    >> open_paren\n",
    "    >> expression\n",
    "    << close_paren\n",
    "    + open_bracket\n",
    "    >> statement.many()\n",
    "    << close_bracket\n",
    ") @ map_while\n",
    "\n",
    "# For Loop Parser\n",
    "def map_for(elements: List[Token | ast.Node]) -> ast.For:\n",
    "    init, condition, increment, body = elements\n",
    "    return ast.For(init, condition, increment, body)\n",
    "\n",
    "for_loop = (\n",
    "    match(Token(TokenKind.KEYWORD, \"for\"))\n",
    "    >> open_paren\n",
    "    >> variable_assign\n",
    "    << semicolon\n",
    "    + expression\n",
    "    << semicolon\n",
    "    + variable_assign\n",
    "    << close_paren\n",
    "    + open_bracket\n",
    "    >> statement.many()\n",
    "    << close_bracket\n",
    ") @ map_for\n",
    "\n",
    "# Function Call Parser\n",
    "def map_function_call(elements: List[Token | ast.Node]) -> ast.FunctionCall:\n",
    "    name, args = elements\n",
    "    return ast.FunctionCall(name, args)\n",
    "\n",
    "function_call = (\n",
    "    ident\n",
    "    + open_paren\n",
    "    >> expression.sep_by(comma)\n",
    "    << close_paren\n",
    ") @ map_function_call\n",
    "\n",
    "# Array Index Parser\n",
    "def map_array_index(elements: List[Token | ast.Node]) -> ast.ArrayIndex:\n",
    "    array, index = elements\n",
    "    return ast.ArrayIndex(array=array, index=index)\n",
    "\n",
    "array_index = ident + open_bracket >> expression << close_bracket @ map_array_index\n",
    "\n",
    "# Struct Access Parser\n",
    "def map_struct_access(elements: List[Token | ast.Node]) -> ast.StructAccess:\n",
    "    obj, operator, field = elements\n",
    "    return ast.StructAccess(obj=obj, operator=operator.value, field=field)\n",
    "\n",
    "struct_access = (\n",
    "    ident\n",
    "    + any_of_enum(OtherOperator)\n",
    "    .filter(lambda op: op in {OtherOperator.DOT, OtherOperator.ARROW})\n",
    "    + ident\n",
    ") @ map_struct_access\n",
    "\n",
    "# Update Statement Parser\n",
    "@parser\n",
    "def statement(stream: List[Token], index: int) -> ParserResult[ast.Statement]:\n",
    "    return (\n",
    "        if_else | while_loop | for_loop | variable_decl | variable_assign | return_\n",
    "    ).parse_fn(stream, index)\n",
    "\n",
    "# Update Expression Parser\n",
    "@parser\n",
    "def expression(stream: List[Token], index: int) -> ParserResult[ast.Expression]:\n",
    "    return (\n",
    "        struct_access | array_index | function_call | unary_op | binop | ident | number | string\n",
    "    ).parse_fn(stream, index)"
   ]
  },
  {
   "cell_type": "code",
   "execution_count": 48,
   "id": "03d20d4a-5fb0-4e9f-ae08-c54612bbaf23",
   "metadata": {},
   "outputs": [
    {
     "data": {
      "text/plain": [
       "BinaryOp(left=Number(value='2', type=Type(name='int', pointer=False)), operator='+', right=StringLiteral(value='2'))"
      ]
     },
     "execution_count": 48,
     "metadata": {},
     "output_type": "execute_result"
    }
   ],
   "source": [
    "binop(tokenize('2+\"2\" ')).result"
   ]
  },
  {
   "cell_type": "code",
   "execution_count": 30,
   "id": "82438451-c9b1-4c9c-8f66-b9a5d67ed4a6",
   "metadata": {},
   "outputs": [
    {
     "data": {
      "text/plain": [
       "Parser(\"}\")"
      ]
     },
     "execution_count": 30,
     "metadata": {},
     "output_type": "execute_result"
    }
   ],
   "source": [
    "close_bracket"
   ]
  },
  {
   "cell_type": "code",
   "execution_count": 31,
   "id": "993e988e-157a-4f0c-8b15-8b4891c3fe69",
   "metadata": {},
   "outputs": [],
   "source": [
    "statement.many(1)(tokenize('return 2;')).result"
   ]
  },
  {
   "cell_type": "code",
   "execution_count": 32,
   "id": "dc0ec07a-c0a5-4adf-a986-7f8c2cd757fe",
   "metadata": {},
   "outputs": [
    {
     "data": {
      "text/plain": [
       "Return(value=[Token(kind=<TokenKind.KEYWORD: 2>, value='return', start=6, end=11), Token(kind=<TokenKind.NUMBER: 7>, value='2', start=8, end=8), Token(kind=<TokenKind.SYMBOL: 4>, value=';', start=9, end=9)])"
      ]
     },
     "execution_count": 32,
     "metadata": {},
     "output_type": "execute_result"
    }
   ],
   "source": [
    "(statement.until(close_bracket)@map_return)(tokenize('return 2;}')).result"
   ]
  },
  {
   "cell_type": "code",
   "execution_count": 33,
   "id": "70f1e431-93bd-4ad9-9e18-8bebd02df5f5",
   "metadata": {},
   "outputs": [
    {
     "data": {
      "text/plain": [
       "ParserResult(index=-1, result=None, description=None)"
      ]
     },
     "execution_count": 33,
     "metadata": {},
     "output_type": "execute_result"
    }
   ],
   "source": [
    "statement(tokenize('return 2;'))"
   ]
  },
  {
   "cell_type": "code",
   "execution_count": 34,
   "id": "da3bc27a-cd2c-4fe2-9f8f-700127ce6391",
   "metadata": {},
   "outputs": [],
   "source": [
    "r=function(tokenize('''\n",
    "int main(char* x){\n",
    "int *x=\n",
    "3;\n",
    "    return 2;\n",
    "}''')).result"
   ]
  },
  {
   "cell_type": "code",
   "execution_count": 35,
   "id": "84482df2-0bb7-4ba0-b5d0-8679df452434",
   "metadata": {},
   "outputs": [
    {
     "data": {
      "text/plain": [
       "Return(value=Number(value='2', type=Type(name='int', pointer=False)))"
      ]
     },
     "execution_count": 35,
     "metadata": {},
     "output_type": "execute_result"
    }
   ],
   "source": [
    "r.ret"
   ]
  },
  {
   "cell_type": "code",
   "execution_count": 36,
   "id": "14c4302d-da20-445f-b311-b2d4dbdb20d1",
   "metadata": {},
   "outputs": [
    {
     "name": "stdout",
     "output_type": "stream",
     "text": [
      "\n",
      "int main(char* x)\n",
      "{\n",
      "\tint* x = 3;\n",
      "\treturn 2;\n",
      "}\n",
      "\n",
      "\n"
     ]
    }
   ],
   "source": [
    "print(r)"
   ]
  },
  {
   "cell_type": "code",
   "execution_count": 19,
   "id": "5149a6d7-d238-4ff1-a4cd-77fa71877842",
   "metadata": {},
   "outputs": [],
   "source": [
    "r=(((name@map_ident | variable_@map_variable_decl) << Token(TokenKind.OPERATOR, '='))+expression<<semicolon)(tokenize('int x=3;')).result"
   ]
  },
  {
   "cell_type": "code",
   "execution_count": 20,
   "id": "08e7d771-1688-4d41-9a16-9dced3a0f29e",
   "metadata": {},
   "outputs": [
    {
     "data": {
      "text/plain": [
       "Assign(var=VariableDecl(type=Type(name='int', pointer=False), name=Ident(name='x'), semicolon=False), to=Number(value='3', type=Type(name='int', pointer=False)))"
      ]
     },
     "execution_count": 20,
     "metadata": {},
     "output_type": "execute_result"
    }
   ],
   "source": [
    "map_variable_assign(r)"
   ]
  },
  {
   "cell_type": "code",
   "execution_count": null,
   "id": "2c66e903-6e00-423c-ace0-2ac6881a1cc0",
   "metadata": {},
   "outputs": [],
   "source": [
    "# Binary Expression\n",
    "def map_binary_expression(tokens: List[Token]) -> ast.BinaryExpression:\n",
    "    \"\"\"\n",
    "    Map tokens to a BinaryExpression.\n",
    "    Assumes tokens are in the order: left operator right\n",
    "    \"\"\"\n",
    "    left = tokens[0]\n",
    "    operator = tokens[1].value\n",
    "    right = tokens[2]\n",
    "    return ast.BinaryExpression(\n",
    "        left=ast.Ident(left.value) if left.kind == TokenKind.IDENTIFIER else left,\n",
    "        operator=operator,\n",
    "        right=ast.Ident(right.value) if right.kind == TokenKind.IDENTIFIER else right,\n",
    "    )\n",
    "\n",
    "expression = Parser()  # Forward declaration for expressions\n",
    "binary_expression = (expression + TokenKind.OPERATOR + expression) @ map_binary_expression\n",
    "\n",
    "# If Statement\n",
    "def map_if_statement(tokens: List[Token]) -> ast.IfStatement:\n",
    "    \"\"\"\n",
    "    Map tokens to an IfStatement.\n",
    "    Assumes tokens are in the order: if (condition) { then_branch } [else { else_branch }]\n",
    "    \"\"\"\n",
    "    condition = tokens[0]  # First token after `if` and `(`\n",
    "    then_branch = tokens[1]  # Tokens within the `{}` following the condition\n",
    "    else_branch = tokens[2] if len(tokens) > 2 else None  # Optional `else` branch\n",
    "    return ast.IfStatement(condition=condition, then_branch=then_branch, else_branch=else_branch)\n",
    "\n",
    "if_statement = (\n",
    "    match(Token(TokenKind.KEYWORD, \"if\"))\n",
    "    >> open_paren\n",
    "    >> expression\n",
    "    << close_paren\n",
    "    + open_bracket\n",
    "    >> variable_decl.until(close_bracket)\n",
    "    << close_bracket\n",
    "    + (\n",
    "        match(Token(TokenKind.KEYWORD, \"else\"))\n",
    "        >> open_bracket\n",
    "        >> variable_decl.until(close_bracket)\n",
    "        << close_bracket\n",
    "    ).optional()\n",
    ") @ map_if_statement\n",
    "\n",
    "# While Loop\n",
    "def map_while_loop(tokens: List[Token]) -> ast.WhileLoop:\n",
    "    \"\"\"\n",
    "    Map tokens to a WhileLoop.\n",
    "    Assumes tokens are in the order: while (condition) { body }\n",
    "    \"\"\"\n",
    "    condition = tokens[0]  # First token after `while` and `(`\n",
    "    body = tokens[1]  # Tokens within the `{}` following the condition\n",
    "    return ast.WhileLoop(condition=condition, body=body)\n",
    "\n",
    "while_loop = (\n",
    "    match(Token(TokenKind.KEYWORD, \"while\"))\n",
    "    >> open_paren\n",
    "    >> expression\n",
    "    << close_paren\n",
    "    + open_bracket\n",
    "    >> variable_decl.until(close_bracket)\n",
    "    << close_bracket\n",
    ") @ map_while_loop\n",
    "\n",
    "# Function\n",
    "def map_function(tokens: List[Token]) -> ast.Function:\n",
    "    \"\"\"\n",
    "    Map tokens to a Function.\n",
    "    Assumes tokens are in the order: return_type name(args) { body }\n",
    "    \"\"\"\n",
    "    return_type = ast.Type(tokens[0].value)\n",
    "    name = ast.Ident(tokens[1].value)\n",
    "    args = [map_variable_decl(arg) for arg in tokens[2]]  # Tokens within `()`\n",
    "    body = tokens[3]  # Tokens within `{}`\n",
    "    return ast.Function(\n",
    "        var=ast.VariableDecl(type=return_type, name=name),\n",
    "        args=args,\n",
    "        body=body,\n",
    "    )\n",
    "\n",
    "# Forward declaration for statement\n",
    "statement = Parser()\n",
    "\n",
    "# Function parser\n",
    "def map_function(tokens: List[Token]) -> ast.Function:\n",
    "    \"\"\"\n",
    "    Map tokens to a Function.\n",
    "    Assumes tokens are in the order: return_type name(args) { body }\n",
    "    \"\"\"\n",
    "    return_type = ast.Type(tokens[0].value)\n",
    "    name = ast.Ident(tokens[1].value)\n",
    "    args = [map_variable_decl(arg) for arg in tokens[2]]  # Tokens within `()`\n",
    "    body = tokens[3]  # Tokens within `{}`\n",
    "    return ast.Function(\n",
    "        var=ast.VariableDecl(type=return_type, name=name),\n",
    "        args=args,\n",
    "        body=body,\n",
    "    )\n",
    "\n",
    "function = (\n",
    "    type\n",
    "    + name\n",
    "    + (open_paren >> variable.until(comma.optional() + close_paren))\n",
    "    << close_paren\n",
    "    + open_bracket\n",
    "    >> statement.until(close_bracket)\n",
    "    << close_bracket\n",
    ") @ map_function\n",
    "\n",
    "# Define the statement parser\n",
    "statement.define(variable_decl | if_statement | while_loop | binary_expression)\n",
    "\n",
    "\n",
    "# Update the `_expression` placeholder to include binary_expression\n",
    "expression.define(binary_expression | variable)\n",
    "\n",
    "\n",
    "# Entry Point for Parsing a Program\n",
    "program = function.until(TokenKind.EOF)"
   ]
  },
  {
   "cell_type": "code",
   "execution_count": 59,
   "id": "2b90ee94-47bb-42a8-ade4-a40568bff719",
   "metadata": {},
   "outputs": [],
   "source": [
    "source_code = \"\"\"\n",
    "int* main(args) {\n",
    "    int* x = 42;\n",
    "\n",
    "    return 0;\n",
    "}\n",
    "\"\"\""
   ]
  },
  {
   "cell_type": "code",
   "execution_count": 60,
   "id": "2a4b6bdd-7baf-4489-9d91-fd3c896b2f2e",
   "metadata": {},
   "outputs": [],
   "source": [
    "tokens = tokenize(source_code)"
   ]
  },
  {
   "cell_type": "code",
   "execution_count": 61,
   "id": "2f82848f-161b-4dc5-adb8-405e0ae89622",
   "metadata": {},
   "outputs": [
    {
     "data": {
      "text/plain": [
       "ParserResult(index=-1, result=None, description=((((((\"TYPE\" + \"*\"?) + \"IDENTIFIER\") @ map_variable_decl) + (((\"(\" >> ((((\"TYPE\" + \"*\"?) + \"IDENTIFIER\") @ map_variable_decl) sep_by \",\")) << \")\") @ <lambda>)) + ((\"{\" >> (None* + (((\"return\" >> None) << \";\") @ map_return)?)) << \"}\")) @ map_function))"
      ]
     },
     "execution_count": 61,
     "metadata": {},
     "output_type": "execute_result"
    }
   ],
   "source": [
    "function(tokens)"
   ]
  },
  {
   "cell_type": "code",
   "execution_count": 12,
   "id": "61404ddc-4c62-4b86-8762-620064e38a1f",
   "metadata": {},
   "outputs": [],
   "source": [
    "variable = type + star.optional() + name\n",
    "variable_decl = (variable + semicolon.optional()) @ map_variable_decl"
   ]
  },
  {
   "cell_type": "code",
   "execution_count": 13,
   "id": "17e57e29-49c7-4a63-b526-75eaa073c14f",
   "metadata": {},
   "outputs": [
    {
     "ename": "AttributeError",
     "evalue": "'str' object has no attribute 'value'",
     "output_type": "error",
     "traceback": [
      "\u001b[0;31m---------------------------------------------------------------------------\u001b[0m",
      "\u001b[0;31mAttributeError\u001b[0m                            Traceback (most recent call last)",
      "Cell \u001b[0;32mIn[13], line 1\u001b[0m\n\u001b[0;32m----> 1\u001b[0m \u001b[43mvariable_decl\u001b[49m\u001b[43m(\u001b[49m\u001b[43mtokenize\u001b[49m\u001b[43m(\u001b[49m\u001b[38;5;124;43m'\u001b[39;49m\u001b[38;5;124;43mint main\u001b[39;49m\u001b[38;5;124;43m'\u001b[39;49m\u001b[43m)\u001b[49m\u001b[43m)\u001b[49m\n",
      "File \u001b[0;32m~/Projects/pyCco/pycco/parser.py:111\u001b[0m, in \u001b[0;36mParser.__call__\u001b[0;34m(self, stream, index)\u001b[0m\n\u001b[1;32m     95\u001b[0m \u001b[38;5;250m\u001b[39m\u001b[38;5;124;03m\"\"\"\u001b[39;00m\n\u001b[1;32m     96\u001b[0m \u001b[38;5;124;03mInvoke the parser on the given stream starting at the given index.\u001b[39;00m\n\u001b[1;32m     97\u001b[0m \n\u001b[0;32m   (...)\u001b[0m\n\u001b[1;32m    103\u001b[0m \u001b[38;5;124;03m    ParserResult[T]: A tuple of the next index and the parsed result (or None on failure).\u001b[39;00m\n\u001b[1;32m    104\u001b[0m \u001b[38;5;124;03m\"\"\"\u001b[39;00m\n\u001b[1;32m    105\u001b[0m description \u001b[38;5;241m=\u001b[39m (\n\u001b[1;32m    106\u001b[0m     \u001b[38;5;28mself\u001b[39m\u001b[38;5;241m.\u001b[39mdescription\n\u001b[1;32m    107\u001b[0m     \u001b[38;5;28;01mif\u001b[39;00m \u001b[38;5;129;01mnot\u001b[39;00m \u001b[38;5;28misinstance\u001b[39m(\u001b[38;5;28mself\u001b[39m\u001b[38;5;241m.\u001b[39mparse_fn, Parser)\n\u001b[1;32m    108\u001b[0m     \u001b[38;5;28;01melse\u001b[39;00m \u001b[38;5;28mself\u001b[39m\u001b[38;5;241m.\u001b[39mparse_fn\u001b[38;5;241m.\u001b[39mdescription\n\u001b[1;32m    109\u001b[0m )\n\u001b[1;32m    110\u001b[0m index, result \u001b[38;5;241m=\u001b[39m (\n\u001b[0;32m--> 111\u001b[0m     \u001b[38;5;28;43mself\u001b[39;49m\u001b[38;5;241;43m.\u001b[39;49m\u001b[43mparse_fn\u001b[49m\u001b[43m(\u001b[49m\u001b[43mstream\u001b[49m\u001b[43m,\u001b[49m\u001b[43m \u001b[49m\u001b[43mindex\u001b[49m\u001b[43m)\u001b[49m\n\u001b[1;32m    112\u001b[0m     \u001b[38;5;28;01mif\u001b[39;00m \u001b[38;5;129;01mnot\u001b[39;00m \u001b[38;5;28misinstance\u001b[39m(\u001b[38;5;28mself\u001b[39m\u001b[38;5;241m.\u001b[39mparse_fn, Parser)\n\u001b[1;32m    113\u001b[0m     \u001b[38;5;28;01melse\u001b[39;00m \u001b[38;5;28mself\u001b[39m\u001b[38;5;241m.\u001b[39mparse_fn\u001b[38;5;241m.\u001b[39mparse_fn\n\u001b[1;32m    114\u001b[0m )\n\u001b[1;32m    115\u001b[0m \u001b[38;5;28;01mreturn\u001b[39;00m ParserResult(index, result, description)\n",
      "File \u001b[0;32m~/Projects/pyCco/pycco/parser.py:162\u001b[0m, in \u001b[0;36mParser.map.<locals>.parse\u001b[0;34m(stream, index)\u001b[0m\n\u001b[1;32m    159\u001b[0m     \u001b[38;5;28;01mreturn\u001b[39;00m ParserResult()\n\u001b[1;32m    161\u001b[0m \u001b[38;5;28;01mif\u001b[39;00m \u001b[38;5;28mlen\u001b[39m(signature(mapper)\u001b[38;5;241m.\u001b[39mparameters)\u001b[38;5;241m==\u001b[39m\u001b[38;5;241m1\u001b[39m:\n\u001b[0;32m--> 162\u001b[0m     mapped \u001b[38;5;241m=\u001b[39m \u001b[43mmapper\u001b[49m\u001b[43m(\u001b[49m\u001b[43mres\u001b[49m\u001b[43m)\u001b[49m\n\u001b[1;32m    163\u001b[0m \u001b[38;5;28;01melse\u001b[39;00m:\n\u001b[1;32m    164\u001b[0m     mapped \u001b[38;5;241m=\u001b[39m mapper(res, i)\n",
      "File \u001b[0;32m~/Projects/pyCco/pycco/parsers.py:31\u001b[0m, in \u001b[0;36mmap_variable_decl\u001b[0;34m(tokens)\u001b[0m\n\u001b[1;32m     29\u001b[0m     pointer \u001b[38;5;241m=\u001b[39m tokens[\u001b[38;5;241m1\u001b[39m]\u001b[38;5;241m.\u001b[39mvalue \u001b[38;5;241m==\u001b[39m \u001b[38;5;124m\"\u001b[39m\u001b[38;5;124m*\u001b[39m\u001b[38;5;124m\"\u001b[39m\n\u001b[1;32m     30\u001b[0m     semicolon \u001b[38;5;241m=\u001b[39m tokens[\u001b[38;5;241m-\u001b[39m\u001b[38;5;241m1\u001b[39m]\u001b[38;5;241m.\u001b[39mvalue \u001b[38;5;241m==\u001b[39m \u001b[38;5;124m'\u001b[39m\u001b[38;5;124m;\u001b[39m\u001b[38;5;124m'\u001b[39m\n\u001b[0;32m---> 31\u001b[0m name \u001b[38;5;241m=\u001b[39m \u001b[43m[\u001b[49m\u001b[43mtoken\u001b[49m\u001b[38;5;241;43m.\u001b[39;49m\u001b[43mvalue\u001b[49m\u001b[43m \u001b[49m\u001b[38;5;28;43;01mfor\u001b[39;49;00m\u001b[43m \u001b[49m\u001b[43mtoken\u001b[49m\u001b[43m \u001b[49m\u001b[38;5;129;43;01min\u001b[39;49;00m\u001b[43m \u001b[49m\u001b[43mtokens\u001b[49m\u001b[43m[\u001b[49m\u001b[38;5;241;43m1\u001b[39;49m\u001b[43m:\u001b[49m\u001b[43m]\u001b[49m\u001b[43m \u001b[49m\u001b[38;5;28;43;01mif\u001b[39;49;00m\u001b[43m \u001b[49m\u001b[43mtoken\u001b[49m\u001b[38;5;241;43m.\u001b[39;49m\u001b[43mkind\u001b[49m\u001b[43m \u001b[49m\u001b[38;5;241;43m==\u001b[39;49m\u001b[43m \u001b[49m\u001b[43mTokenKind\u001b[49m\u001b[38;5;241;43m.\u001b[39;49m\u001b[43mIDENTIFIER\u001b[49m\u001b[43m]\u001b[49m\u001b[43m[\u001b[49m\u001b[38;5;241;43m0\u001b[39;49m\u001b[43m]\u001b[49m\u001b[38;5;241;43m.\u001b[39;49m\u001b[43mvalue\u001b[49m\n\u001b[1;32m     32\u001b[0m name \u001b[38;5;241m=\u001b[39m ast\u001b[38;5;241m.\u001b[39mIdent(name)\n\u001b[1;32m     33\u001b[0m \u001b[38;5;28mtype\u001b[39m\u001b[38;5;241m.\u001b[39mpointer \u001b[38;5;241m=\u001b[39m pointer\n",
      "\u001b[0;31mAttributeError\u001b[0m: 'str' object has no attribute 'value'"
     ]
    }
   ],
   "source": [
    "variable_decl(tokenize('int main'))"
   ]
  },
  {
   "cell_type": "code",
   "execution_count": 7,
   "id": "3eae1f7e-ce70-459c-a605-41a66a117c82",
   "metadata": {},
   "outputs": [
    {
     "data": {
      "text/plain": [
       "ParserResult(index=2, result=[Token(kind=<TokenKind.TYPE: 3>, value='int', start=3, end=5), Token(kind=<TokenKind.IDENTIFIER: 1>, value='main', start=8, end=11)], description=(((\"TYPE\" + \"*\"?) + \"IDENTIFIER\") + \";\"?))"
      ]
     },
     "execution_count": 7,
     "metadata": {},
     "output_type": "execute_result"
    }
   ],
   "source": [
    "variable_decl(tokenize('int main'))"
   ]
  },
  {
   "cell_type": "code",
   "execution_count": 9,
   "id": "4dcc8707-b2da-4299-a451-1c777680f093",
   "metadata": {},
   "outputs": [
    {
     "ename": "ParseError",
     "evalue": "Parsing failed due to an unexpected error.\nAt token index 0:\nint main ( args )\n^\nToken causing issue: int (kind: TYPE)",
     "output_type": "error",
     "traceback": [
      "\u001b[0;31m---------------------------------------------------------------------------\u001b[0m",
      "\u001b[0;31mAttributeError\u001b[0m                            Traceback (most recent call last)",
      "File \u001b[0;32m~/Projects/pyCco/pycco/parsers.py:216\u001b[0m, in \u001b[0;36mparse\u001b[0;34m(tokens)\u001b[0m\n\u001b[1;32m    215\u001b[0m \u001b[38;5;66;03m# Check if parsing consumed all tokens\u001b[39;00m\n\u001b[0;32m--> 216\u001b[0m \u001b[38;5;28;01mif\u001b[39;00m \u001b[43mparser_result\u001b[49m\u001b[38;5;241;43m.\u001b[39;49m\u001b[43mnext_index\u001b[49m \u001b[38;5;241m!=\u001b[39m \u001b[38;5;28mlen\u001b[39m(tokens):\n\u001b[1;32m    217\u001b[0m     \u001b[38;5;28;01mraise\u001b[39;00m ParseError(\n\u001b[1;32m    218\u001b[0m         \u001b[38;5;124m\"\u001b[39m\u001b[38;5;124mParsing did not consume all tokens. Remaining tokens detected.\u001b[39m\u001b[38;5;124m\"\u001b[39m,\n\u001b[1;32m    219\u001b[0m         tokens,\n\u001b[1;32m    220\u001b[0m         parser_result\u001b[38;5;241m.\u001b[39mnext_index,\n\u001b[1;32m    221\u001b[0m     )\n",
      "\u001b[0;31mAttributeError\u001b[0m: 'ParserResult' object has no attribute 'next_index'",
      "\nThe above exception was the direct cause of the following exception:\n",
      "\u001b[0;31mParseError\u001b[0m                                Traceback (most recent call last)",
      "Cell \u001b[0;32mIn[9], line 1\u001b[0m\n\u001b[0;32m----> 1\u001b[0m \u001b[43mparse\u001b[49m\u001b[43m(\u001b[49m\u001b[43mtokens\u001b[49m\u001b[43m)\u001b[49m\n",
      "File \u001b[0;32m~/Projects/pyCco/pycco/parsers.py:230\u001b[0m, in \u001b[0;36mparse\u001b[0;34m(tokens)\u001b[0m\n\u001b[1;32m    228\u001b[0m     \u001b[38;5;28;01mraise\u001b[39;00m e  \u001b[38;5;66;03m# Re-raise existing ParseError\u001b[39;00m\n\u001b[1;32m    229\u001b[0m index \u001b[38;5;241m=\u001b[39m \u001b[38;5;28mgetattr\u001b[39m(e, \u001b[38;5;124m\"\u001b[39m\u001b[38;5;124mindex\u001b[39m\u001b[38;5;124m\"\u001b[39m, \u001b[38;5;241m0\u001b[39m)  \u001b[38;5;66;03m# Extract index if available\u001b[39;00m\n\u001b[0;32m--> 230\u001b[0m \u001b[38;5;28;01mraise\u001b[39;00m ParseError(\n\u001b[1;32m    231\u001b[0m     \u001b[38;5;124m\"\u001b[39m\u001b[38;5;124mParsing failed due to an unexpected error.\u001b[39m\u001b[38;5;124m\"\u001b[39m,\n\u001b[1;32m    232\u001b[0m     tokens,\n\u001b[1;32m    233\u001b[0m     index \u001b[38;5;129;01mor\u001b[39;00m \u001b[38;5;241m0\u001b[39m,\n\u001b[1;32m    234\u001b[0m ) \u001b[38;5;28;01mfrom\u001b[39;00m\u001b[38;5;250m \u001b[39m\u001b[38;5;21;01me\u001b[39;00m\n",
      "\u001b[0;31mParseError\u001b[0m: Parsing failed due to an unexpected error.\nAt token index 0:\nint main ( args )\n^\nToken causing issue: int (kind: TYPE)"
     ]
    }
   ],
   "source": [
    "parse(tokens)"
   ]
  },
  {
   "cell_type": "code",
   "execution_count": 3,
   "id": "21ede8cd-0cc6-4847-bbe7-26ed4551b98b",
   "metadata": {},
   "outputs": [
    {
     "ename": "NameError",
     "evalue": "name 'variable_map' is not defined",
     "output_type": "error",
     "traceback": [
      "\u001b[0;31m---------------------------------------------------------------------------\u001b[0m",
      "\u001b[0;31mNameError\u001b[0m                                 Traceback (most recent call last)",
      "Cell \u001b[0;32mIn[3], line 1\u001b[0m\n\u001b[0;32m----> 1\u001b[0m r\u001b[38;5;241m=\u001b[39m(variable\u001b[38;5;129m@variable_map\u001b[39m)(tokenize(\u001b[38;5;124m'\u001b[39m\u001b[38;5;124mint *main\u001b[39m\u001b[38;5;124m'\u001b[39m))\n",
      "\u001b[0;31mNameError\u001b[0m: name 'variable_map' is not defined"
     ]
    }
   ],
   "source": [
    "r=(variable@variable_map)(tokenize('int *main'))"
   ]
  },
  {
   "cell_type": "code",
   "execution_count": 6,
   "id": "40e9e46b-77d5-45ff-8edf-b0a61ec4f973",
   "metadata": {},
   "outputs": [
    {
     "data": {
      "text/plain": [
       "[Token(kind=<TokenKind.TYPE: 3>, value='int', start=3, end=5),\n",
       " Token(kind=<TokenKind.OPERATOR: 5>, value='*', start=5, end=5),\n",
       " Token(kind=<TokenKind.IDENTIFIER: 1>, value='main', start=9, end=12)]"
      ]
     },
     "execution_count": 6,
     "metadata": {},
     "output_type": "execute_result"
    }
   ],
   "source": [
    "r.result.tokens"
   ]
  },
  {
   "cell_type": "code",
   "execution_count": 4,
   "id": "4a0bf5f2-5cd9-47a6-a1bc-ebce376d0f69",
   "metadata": {},
   "outputs": [
    {
     "data": {
      "text/plain": [
       "ParserResult(index=-1, result=None, description=(\"TYPE\" + \"IDENTIFIER\"))"
      ]
     },
     "execution_count": 4,
     "metadata": {},
     "output_type": "execute_result"
    }
   ],
   "source": [
    "(type + name)(tokenizer(('int main')))"
   ]
  },
  {
   "cell_type": "code",
   "execution_count": 6,
   "id": "88668f5a-6940-410c-acc6-0062b20ca566",
   "metadata": {},
   "outputs": [
    {
     "data": {
      "text/plain": [
       "ParserResult(index=-1, result=None, description=((\"TYPE\" + \"IDENTIFIER\") + (\"(\" >> (((\"TYPE\" + \"*\"?) + \"IDENTIFIER\") until (\",\"? + \")\")))))"
      ]
     },
     "execution_count": 6,
     "metadata": {},
     "output_type": "execute_result"
    }
   ],
   "source": [
    "(type + name + (open_paren >> variable.until(comma.optional() + close_paren)))(source_code)"
   ]
  },
  {
   "cell_type": "code",
   "execution_count": 3,
   "id": "8921f400-b83c-4528-a9e7-0991e184a679",
   "metadata": {},
   "outputs": [
    {
     "data": {
      "text/plain": [
       "ParserResult(index=1, result=int, description=\"TYPE\")"
      ]
     },
     "execution_count": 3,
     "metadata": {},
     "output_type": "execute_result"
    }
   ],
   "source": [
    "type(tokenize('int'))"
   ]
  },
  {
   "cell_type": "code",
   "execution_count": 4,
   "id": "d13c4cd9-2c39-4c81-abc4-3f71bdf30028",
   "metadata": {},
   "outputs": [
    {
     "data": {
      "text/plain": [
       "ParserResult(index=4, result=[Token(kind=<TokenKind.TYPE: 3>, value='int', start=3, end=5), Token(kind=<TokenKind.OPERATOR: 5>, value='*', start=4, end=4), Token(kind=<TokenKind.IDENTIFIER: 1>, value='x', start=6, end=6), Token(kind=<TokenKind.SYMBOL: 4>, value=';', start=7, end=7)], description=(((\"TYPE\" + \"*\"?) + \"IDENTIFIER\") + \";\"))"
      ]
     },
     "execution_count": 4,
     "metadata": {},
     "output_type": "execute_result"
    }
   ],
   "source": [
    "variable_decl(tokenize('int* x;'))"
   ]
  },
  {
   "cell_type": "code",
   "execution_count": 9,
   "id": "f4a03581-2d7a-4833-802b-ca0b0a675252",
   "metadata": {},
   "outputs": [
    {
     "data": {
      "text/plain": [
       "ParserResult(index=21, result=[Token(kind=<TokenKind.TYPE: 3>, value='int', start=25, end=27), Token(kind=<TokenKind.OPERATOR: 5>, value='*', start=26, end=26), Token(kind=<TokenKind.IDENTIFIER: 1>, value='x', start=28, end=28), Token(kind=<TokenKind.OPERATOR: 5>, value='=', start=30, end=30), Token(kind=<TokenKind.NUMBER: 7>, value='42', start=33, end=34), Token(kind=<TokenKind.SYMBOL: 4>, value=';', start=34, end=34), Token(kind=<TokenKind.IDENTIFIER: 1>, value='printf', start=85, end=90), Token(kind=<TokenKind.SYMBOL: 4>, value='(', start=86, end=86), Token(kind=<TokenKind.STRING_LITERAL: 6>, value='Hello, World!', start=101, end=113), Token(kind=<TokenKind.SYMBOL: 4>, value=')', start=102, end=102), Token(kind=<TokenKind.SYMBOL: 4>, value=';', start=103, end=103), Token(kind=<TokenKind.KEYWORD: 2>, value='return', start=114, end=119), Token(kind=<TokenKind.NUMBER: 7>, value='0', start=116, end=116), Token(kind=<TokenKind.SYMBOL: 4>, value=';', start=117, end=117)], description=(((((\"TYPE\" + \"IDENTIFIER\") + (\"(\" >> (((\"TYPE\" + \"*\"?) + \"IDENTIFIER\") until (\",\"? + \")\")))) << (\")\" + \"{\")) >> (. until \"}\")) << \"}\"))"
      ]
     },
     "execution_count": 9,
     "metadata": {},
     "output_type": "execute_result"
    }
   ],
   "source": [
    "function(tokenize(source_code))"
   ]
  },
  {
   "cell_type": "code",
   "execution_count": 10,
   "id": "e44275a4-4f75-41b5-9691-8c627d7ef872",
   "metadata": {},
   "outputs": [
    {
     "data": {
      "text/plain": [
       "[Token(kind=<TokenKind.TYPE: 3>, value='int', start=4, end=6),\n",
       " Token(kind=<TokenKind.IDENTIFIER: 1>, value='main', start=9, end=12),\n",
       " Token(kind=<TokenKind.SYMBOL: 4>, value='(', start=10, end=10),\n",
       " Token(kind=<TokenKind.IDENTIFIER: 1>, value='args', start=14, end=17),\n",
       " Token(kind=<TokenKind.SYMBOL: 4>, value=')', start=15, end=15),\n",
       " Token(kind=<TokenKind.SYMBOL: 4>, value='{', start=17, end=17),\n",
       " Token(kind=<TokenKind.TYPE: 3>, value='int', start=25, end=27),\n",
       " Token(kind=<TokenKind.OPERATOR: 5>, value='*', start=26, end=26),\n",
       " Token(kind=<TokenKind.IDENTIFIER: 1>, value='x', start=28, end=28),\n",
       " Token(kind=<TokenKind.OPERATOR: 5>, value='=', start=30, end=30),\n",
       " Token(kind=<TokenKind.NUMBER: 7>, value='42', start=33, end=34),\n",
       " Token(kind=<TokenKind.SYMBOL: 4>, value=';', start=34, end=34),\n",
       " Token(kind=<TokenKind.IDENTIFIER: 1>, value='printf', start=85, end=90),\n",
       " Token(kind=<TokenKind.SYMBOL: 4>, value='(', start=86, end=86),\n",
       " Token(kind=<TokenKind.STRING_LITERAL: 6>, value='Hello, World!', start=101, end=113),\n",
       " Token(kind=<TokenKind.SYMBOL: 4>, value=')', start=102, end=102),\n",
       " Token(kind=<TokenKind.SYMBOL: 4>, value=';', start=103, end=103),\n",
       " Token(kind=<TokenKind.KEYWORD: 2>, value='return', start=114, end=119),\n",
       " Token(kind=<TokenKind.NUMBER: 7>, value='0', start=116, end=116),\n",
       " Token(kind=<TokenKind.SYMBOL: 4>, value=';', start=117, end=117),\n",
       " Token(kind=<TokenKind.SYMBOL: 4>, value='}', start=119, end=119)]"
      ]
     },
     "execution_count": 10,
     "metadata": {},
     "output_type": "execute_result"
    }
   ],
   "source": [
    "tokenize(source_code)"
   ]
  },
  {
   "cell_type": "code",
   "execution_count": 11,
   "id": "1d063a87-ae19-43b2-8554-c95a06cac812",
   "metadata": {},
   "outputs": [],
   "source": [
    "bad_code = \"\"\"\n",
    "int main() {\n",
    "    int x = 42;\n",
    "    /*\n",
    "    multiline comment\n",
    "    */\n",
    "    printf(Hello, World!\");\n",
    "    return 0;\n",
    "}\n",
    "\"\"\""
   ]
  },
  {
   "cell_type": "code",
   "execution_count": 12,
   "id": "9289690d-cc80-4cba-b456-1423b8091781",
   "metadata": {},
   "outputs": [
    {
     "ename": "ValueError",
     "evalue": "Tokenization Error:\nUnexpected token at line 7, column 25:\n\n    multiline comment\n    */\n    printf(Hello, World!\");\n                        ^\n    return 0;\n}\nExpected one of whitespace, comment, keywords, keywords, (one of {, }, (, ), ;, ,, [, ], ., -> @ create_token), (one of +, -, *, /, %, =, ==, !=, <, >, <=, >=, &&, ||, !, &, |, ^, <<, >> @ create_token), number, string literal, identifier.\n",
     "output_type": "error",
     "traceback": [
      "\u001b[0;31m---------------------------------------------------------------------------\u001b[0m",
      "\u001b[0;31mValueError\u001b[0m                                Traceback (most recent call last)",
      "Cell \u001b[0;32mIn[12], line 1\u001b[0m\n\u001b[0;32m----> 1\u001b[0m \u001b[43mtokenize\u001b[49m\u001b[43m(\u001b[49m\u001b[43mbad_code\u001b[49m\u001b[43m)\u001b[49m\n",
      "File \u001b[0;32m~/Projects/pyCco/pycco/tokenizers.py:167\u001b[0m, in \u001b[0;36mtokenize\u001b[0;34m(source)\u001b[0m\n\u001b[1;32m    166\u001b[0m \u001b[38;5;28;01mdef\u001b[39;00m\u001b[38;5;250m \u001b[39m\u001b[38;5;21mtokenize\u001b[39m(source: \u001b[38;5;28mstr\u001b[39m) \u001b[38;5;241m-\u001b[39m\u001b[38;5;241m>\u001b[39m List[Token]:\n\u001b[0;32m--> 167\u001b[0m     \u001b[38;5;28;01mreturn\u001b[39;00m \u001b[38;5;28;43mlist\u001b[39;49m\u001b[43m(\u001b[49m\u001b[43miter_tokenize\u001b[49m\u001b[43m(\u001b[49m\u001b[43msource\u001b[49m\u001b[43m)\u001b[49m\u001b[43m)\u001b[49m\n",
      "File \u001b[0;32m~/Projects/pyCco/pycco/tokenizers.py:150\u001b[0m, in \u001b[0;36miter_tokenize\u001b[0;34m(source)\u001b[0m\n\u001b[1;32m    147\u001b[0m     pointer \u001b[38;5;241m=\u001b[39m \u001b[38;5;124m\"\u001b[39m\u001b[38;5;124m \u001b[39m\u001b[38;5;124m\"\u001b[39m \u001b[38;5;241m*\u001b[39m column_number \u001b[38;5;241m+\u001b[39m \u001b[38;5;124m\"\u001b[39m\u001b[38;5;124m^\u001b[39m\u001b[38;5;124m\"\u001b[39m\n\u001b[1;32m    149\u001b[0m     \u001b[38;5;66;03m# Raise detailed error\u001b[39;00m\n\u001b[0;32m--> 150\u001b[0m     \u001b[38;5;28;01mraise\u001b[39;00m \u001b[38;5;167;01mValueError\u001b[39;00m(\n\u001b[1;32m    151\u001b[0m         \u001b[38;5;124mf\u001b[39m\u001b[38;5;124m\"\u001b[39m\u001b[38;5;124mTokenization Error:\u001b[39m\u001b[38;5;130;01m\\n\u001b[39;00m\u001b[38;5;124m\"\u001b[39m\n\u001b[1;32m    152\u001b[0m         \u001b[38;5;124mf\u001b[39m\u001b[38;5;124m\"\u001b[39m\u001b[38;5;124mUnexpected token at line \u001b[39m\u001b[38;5;132;01m{\u001b[39;00mline_number\u001b[38;5;250m \u001b[39m\u001b[38;5;241m+\u001b[39m\u001b[38;5;250m \u001b[39m\u001b[38;5;241m1\u001b[39m\u001b[38;5;132;01m}\u001b[39;00m\u001b[38;5;124m, column \u001b[39m\u001b[38;5;132;01m{\u001b[39;00mcolumn_number\u001b[38;5;250m \u001b[39m\u001b[38;5;241m+\u001b[39m\u001b[38;5;250m \u001b[39m\u001b[38;5;241m1\u001b[39m\u001b[38;5;132;01m}\u001b[39;00m\u001b[38;5;124m:\u001b[39m\u001b[38;5;130;01m\\n\u001b[39;00m\u001b[38;5;130;01m\\n\u001b[39;00m\u001b[38;5;124m\"\u001b[39m\n\u001b[1;32m    153\u001b[0m         \u001b[38;5;124mf\u001b[39m\u001b[38;5;124m\"\u001b[39m\u001b[38;5;132;01m{\u001b[39;00mbefore_error\u001b[38;5;132;01m}\u001b[39;00m\u001b[38;5;130;01m\\n\u001b[39;00m\u001b[38;5;124m\"\u001b[39m\n\u001b[1;32m    154\u001b[0m         \u001b[38;5;124mf\u001b[39m\u001b[38;5;124m\"\u001b[39m\u001b[38;5;132;01m{\u001b[39;00merror_line\u001b[38;5;132;01m}\u001b[39;00m\u001b[38;5;130;01m\\n\u001b[39;00m\u001b[38;5;124m\"\u001b[39m\n\u001b[1;32m    155\u001b[0m         \u001b[38;5;124mf\u001b[39m\u001b[38;5;124m\"\u001b[39m\u001b[38;5;132;01m{\u001b[39;00mpointer\u001b[38;5;132;01m}\u001b[39;00m\u001b[38;5;130;01m\\n\u001b[39;00m\u001b[38;5;124m\"\u001b[39m\n\u001b[1;32m    156\u001b[0m         \u001b[38;5;124mf\u001b[39m\u001b[38;5;124m\"\u001b[39m\u001b[38;5;132;01m{\u001b[39;00mafter_error\u001b[38;5;132;01m}\u001b[39;00m\u001b[38;5;130;01m\\n\u001b[39;00m\u001b[38;5;124m\"\u001b[39m\n\u001b[1;32m    157\u001b[0m         \u001b[38;5;124mf\u001b[39m\u001b[38;5;124m\"\u001b[39m\u001b[38;5;124mExpected \u001b[39m\u001b[38;5;132;01m{\u001b[39;00mdescription\u001b[38;5;132;01m}\u001b[39;00m\u001b[38;5;124m.\u001b[39m\u001b[38;5;130;01m\\n\u001b[39;00m\u001b[38;5;124m\"\u001b[39m\n\u001b[1;32m    158\u001b[0m     )\n\u001b[1;32m    160\u001b[0m \u001b[38;5;28;01mif\u001b[39;00m token\u001b[38;5;241m.\u001b[39mkind \u001b[38;5;129;01mnot\u001b[39;00m \u001b[38;5;129;01min\u001b[39;00m (TokenKind\u001b[38;5;241m.\u001b[39mWHITESPACE, TokenKind\u001b[38;5;241m.\u001b[39mCOMMENT):\n\u001b[1;32m    161\u001b[0m     \u001b[38;5;28;01myield\u001b[39;00m token\n",
      "\u001b[0;31mValueError\u001b[0m: Tokenization Error:\nUnexpected token at line 7, column 25:\n\n    multiline comment\n    */\n    printf(Hello, World!\");\n                        ^\n    return 0;\n}\nExpected one of whitespace, comment, keywords, keywords, (one of {, }, (, ), ;, ,, [, ], ., -> @ create_token), (one of +, -, *, /, %, =, ==, !=, <, >, <=, >=, &&, ||, !, &, |, ^, <<, >> @ create_token), number, string literal, identifier.\n"
     ]
    }
   ],
   "source": [
    "tokenize(bad_code)"
   ]
  },
  {
   "cell_type": "code",
   "execution_count": 13,
   "id": "20db9086-5644-45b2-aa20-b5dbac88216d",
   "metadata": {},
   "outputs": [
    {
     "data": {
      "text/plain": [
       "Parser(one of whitespace, comment, keywords, keywords, (one of {, }, (, ), ;, ,, [, ], ., -> @ create_token), (one of +, -, *, /, %, =, ==, !=, <, >, <=, >=, &&, ||, !, &, |, ^, <<, >> @ create_token), number, string literal, identifier)"
      ]
     },
     "execution_count": 13,
     "metadata": {},
     "output_type": "execute_result"
    }
   ],
   "source": [
    "tokenizer"
   ]
  },
  {
   "cell_type": "code",
   "execution_count": 11,
   "id": "7330a2e2-8f1c-4491-8239-2fd7a2445851",
   "metadata": {},
   "outputs": [],
   "source": [
    "movies = \"\"\"\n",
    "12 Monkeys (1995) [1080p] [BluRay] [5.1] [YTS.MX]\n",
    "1408 (2007) [1080p]\n",
    "2 Fast 2 Furious (2003) [1080p]\n",
    "2 Guns (2013) [1080p]\n",
    "2000.Mules.(2022).1080p.WEB-DL.2CH.H264 - PGPirate.mp4\n",
    "21 Jump Street (2012) [1080p]\n",
    "22 Jump Street (2014) [1080p]\n",
    "28 Days Later (2002)\n",
    "28 Weeks Later (2007)\n",
    "30 Minutes or Less (2011)\n",
    "300 Rise of an Empire (2014) [1080p]\n",
    "47 Ronin (2013) [1080p]\n",
    "50 First Dates (2004)\n",
    "65 (2023) [1080p] [WEBRip] [5.1] [YTS.MX]\n",
    "A Bad Idea Gone Wrong (2017) [720p] [WEBRip] [YTS.MX]\n",
    "A Beautiful Mind (2001) [1080p]\n",
    "A Christmas Story (1983)\n",
    "A Christmas Story (1983) [1080p] [BluRay] [YTS.MX]\n",
    "A Christmas Story Christmas (2022) [1080p] [WEBRip] [5.1] [YTS.MX]\n",
    "A Day To Die (2022) [1080p] [BluRay] [5.1] [YTS.MX]\n",
    "A Good Person (2023) [720p] [WEBRip] [YTS.MX]\n",
    "A Haunting In Venice (2023) [1080p] [WEBRip] [5.1] [YTS.MX]\n",
    "A Man Called Otto (2022) [1080p] [WEBRip] [5.1] [YTS.MX]\n",
    "A Quiet Place Part II (2020) (1080p WEB-DL x265 HEVC 10bit EAC3 Atmos 5.1 Bandi)\n",
    "A Very Harold and Kumar Christmas (2011)\n",
    "A.Quiet.Place.Day.One.2024.1080p.WEBRip.1400MB.DD5.1.x264-GalaxyRG[TGx]\n",
    "About My Father (2023) [720p] [WEBRip] [YTS.MX]\n",
    "Accident Man (2018) [1080p] [YTS.AG]\n",
    "Accident Man Hitmans Holiday (2022) [1080p] [WEBRip] [5.1] [YTS.MX]\n",
    "Adele.One.Night.Only.2021.1080p.WEBRip.x264-RARBG\n",
    "Air (2023) [1080p] [WEBRip] [5.1] [YTS.MX]\n",
    "Alien Romulus (2024) [1080p] [WEBRip] [5.1] [YTS.MX]\n",
    "All That Jazz (1979) [BluRay] [720p] [YTS.AM]\n",
    "All The Devil's Men (2018) [BluRay] [1080p] [YTS.AM]\n",
    "All The Little Animals (1998) [1080p] [WEBRip] [YTS.MX]\n",
    "Am I Racist (2024) [720p] [WEBRip] [YTS.MX]\n",
    "Ambulance (2022) [1080p] [WEBRip] [5.1] [YTS.MX]\n",
    "American Hustle (2013) [1080p]\n",
    "American Psyco (2000) 1080p\n",
    "American Traitor The Trial Of Axis Sally (2021) [1080p] [WEBRip] [5.1] [YTS.MX]\n",
    "Amsterdam (2022) [1080p] [BluRay] [5.1] [YTS.MX]\n",
    "Anger Managment (2003)\n",
    "Apex.2021.1080p.WEBRip.DD5.1.X.264-EVO\n",
    "Aquaman And The Lost Kingdom (2023) [1080p] [WEBRip] [x265] [10bit] [5.1] [YTS.MX]\n",
    "Arcadian.2024.720p.AMZN.WEBRip.800MB.x264-GalaxyRG[TGx]\n",
    "Armor (2024) [1080p] [WEBRip] [x265] [10bit] [5.1] [YTS.MX]\n",
    "Arthur.the.King.2024.720p.AMZN.WEBRip.800MB.x264-GalaxyRG[TGx]\n",
    "Artificial Intelligence (2001) [1080p]\n",
    "Ash Dust (2022) [1080p] [WEBRip] [YTS.MX]\n",
    "Assassin Club (2023) [1080p] [WEBRip] [5.1] [YTS.MX]\n",
    "Athlete A (2020) [1080p] [WEBRip] [5.1] [YTS.MX]\n",
    "Athlete A (2020) [720p] [WEBRip] [YTS.MX]\n",
    "Australia (2008)\n",
    "Ava (2020) [1080p] [BluRay] [5.1] [YTS.MX]\n",
    "Avatar The Way Of Water (2022) [1080p] [WEBRip] [5.1] [YTS.MX]\n",
    "Azrael (2024) [720p] [WEBRip] [YTS.MX]\n",
    "Baby Ruby (2022) [720p] [WEBRip] [YTS.MX]\n",
    "Babylon (2022) [1080p] [WEBRip] [5.1] [YTS.MX]\n",
    "Bad Times At The El Royale (2018) [BluRay] [1080p] [YTS.AM]\n",
    "Baghead (2023) [1080p] [WEBRip] [x265] [10bit] [5.1] [YTS.MX]\n",
    "Bandit (2022) [1080p] [WEBRip] [5.1] [YTS.MX]\n",
    "Barbarian (2022) [720p] [WEBRip] [YTS.MX]\n",
    "Bedtime Stories (2008)\n",
    "Beetlejuice Beetlejuice (2024) [1080p] [WEBRip] [x265] [10bit] [5.1] [YTS.MX]\n",
    "Being The Ricardos (2021) [720p] [WEBRip] [YTS.MX]\n",
    "Belfast (2021) [1080p] [WEBRip] [5.1] [YTS.MX]\n",
    "Beneath Us All (2023) [1080p] [WEBRip] [5.1] [YTS.MX]\n",
    "Big Daddy (1999)\n",
    "Birds Of Prey And The Fantabulous Emancipation Of One Harley Quinn (2020) [1080p] [WEBRip] [5.1] [YTS.MX]\n",
    "Black Adam (2022) [REPACK] [1080p] [BluRay] [5.1] [YTS.MX]\n",
    "Black Lake (2020) [720p] [WEBRip] [YTS.MX]\n",
    "Black Mass (2015) [1080p] [YTS.AG]\n",
    "Black Widow (2021) [1080p] [WEBRip] [5.1] [YTS.MX]\n",
    "Blackbird (2022) [720p] [WEBRip] [YTS.MX]\n",
    "Blade Runner (1982) [BluRay] [1080p] [YTS.AM]\n",
    "Blood (2022) [720p] [WEBRip] [YTS.MX]\n",
    "Bloodshot (2020) [1080p] [WEBRip] [5.1] [YTS.MX]\n",
    "Blowback (2022) [1080p] [WEBRip] [5.1] [YTS.MX]\n",
    "Blue Beetle (2023) [1080p] [WEBRip] [x265] [10bit] [5.1] [YTS.MX]\n",
    "Body of Lies (2008) [1080p]\n",
    "Borat.2.Subsequent.Moviefilm.2020.HDRip.XviD.AC3-EVO[TGx]\n",
    "Borderlands (2024) [1080p] [WEBRip] [x265] [10bit] [5.1] [YTS.MX]\n",
    "Boss.Level.2020.1080p.WEBRip.x264-RARBG\n",
    "Boston Strangler (2023) [720p] [WEBRip] [YTS.MX]\n",
    "Boy.Kills.World.2023.1080p.WEBRip.1400MB.DD5.1.x264-GalaxyRG[TGx]\n",
    "Breakfast At Tiffany's (1961) [BluRay] [720p] [YTS.AM]\n",
    "Breathe.2024.1080p.AMZN.WEBRip.DDP5.1.x265.10bit-GalaxyRG265[TGx]\n",
    "Bridge Of The Doomed (2022) [1080p] [WEBRip] [5.1] [YTS.MX]\n",
    "Brothers (2024) [1080p] [WEBRip] [x265] [10bit] [5.1] [YTS.MX]\n",
    "Bull (2021) [720p] [BluRay] [YTS.MX]\n",
    "Bullet Train (2022) [1080p] [WEBRip] [5.1] [YTS.MX]\n",
    "Cabaret (1972) [YTS.AG]\n",
    "Caddo Lake (2024) [1080p] [WEBRip] [x265] [10bit] [5.1] [YTS.MX]\n",
    "Capone (2020) [1080p] [WEBRip] [5.1] [YTS.MX]\n",
    "Captive State (2019) [BluRay] [1080p] [YTS.AM]\n",
    "Carnifex (2022) [720p] [WEBRip] [YTS.MX]\n",
    "Castle.Falls.2021.1080p.WEBRip.x264-RARBG\n",
    "Cellphone (2023) [720p] [WEBRip] [YTS.MX]\n",
    "Central Intelligence (2016) [YTS.AG]\n",
    "Changing Lanes (2002) [720p] [BluRay] [YTS.MX]\n",
    "Chaos.Walking.2021.720p.WEBRip.800MB.x264-GalaxyRG[TGx]\n",
    "Charade (1963) [BluRay] [720p] [YTS.AM]\n",
    "Chef (2014)\n",
    "Chicago (2002)\n",
    "Christmas Bloody Christmas (2022) [720p] [WEBRip] [YTS.MX]\n",
    "Christmas Vacation (1989)\n",
    "Chupa (2023) [1080p] [WEBRip] [5.1] [YTS.MX]\n",
    "Cinderella.2021.720p.AMZN.WEBRip.800MB.x264-GalaxyRG[TGx]\n",
    "Clash of the Titans (2010) [1080p]\n",
    "Clean (2020) [1080p] [WEBRip] [5.1] [YTS.MX]\n",
    "Cocaine Bear (2023) [1080p] [WEBRip] [5.1] [YTS.MX]\n",
    "Code 8 (2019) [WEBRip] [1080p] [YTS.LT]\n",
    "Code 8 Part II (2024) [1080p] [WEBRip] [x265] [10bit] [5.1] [YTS.MX]\n",
    "Cold Moutians (2003)\n",
    "Colonials (2023) [1080p] [WEBRip] [5.1] [YTS.MX]\n",
    "Conclave (2024) [1080p] [WEBRip] [x265] [10bit] [5.1] [YTS.MX]\n",
    "Conjuring The Beyond (2022) [720p] [WEBRip] [YTS.MX]\n",
    "Contraband (2012) [1080p]\n",
    "Cosmic Sin (2021) [1080p] [WEBRip] [5.1] [YTS.MX]\n",
    "Cowboys and Aliens (2011) EXTENDED 1080p BluRay x264 Dual Audio Hindi English AC3 5.1 - MeGUiL\n",
    "Crimes.of.the.Future.2022.1080p.WEBRip.x265-RARBG\n",
    "Cruella.2021.1080p.DSNP.WEB-DL.DDP5.1.Atmos.H.264-CMRG[TGx]\n",
    "Dancer In The Dark (2000) [BluRay] [720p] [YTS.AM]\n",
    "Dark Harvest (2023) [720p] [WEBRip] [YTS.MX]\n",
    "Dark Waters (2019) [1080p] [WEBRip] [5.1] [YTS.MX]\n",
    "Dark.Cloud.2022.1080p.BluRay.x265-RBG.mp4\n",
    "Day Shift (2022) [1080p] [WEBRip] [5.1] [YTS.MX]\n",
    "Dead For A Dollar (2022) [1080p] [WEBRip] [5.1] [YTS.MX]\n",
    "Deadpool (2016) [1080p] [YTS.AG]\n",
    "Deadpool 2 (2018) [WEBRip] [1080p] [YTS.AM]\n",
    "Deadstream (2022) [720p] [WEBRip] [YTS.MX]\n",
    "Dear.Evan.Hansen.2021.720p.WEBRip.x264.AAC-[YTS.MX].mp4\n",
    "Death On The Nile (2022) [1080p] [BluRay] [5.1] [YTS.MX]\n",
    "Death.in.Texas.2021.1080p.WEB-DL.DD5.1.H.264-EVO[TGx]\n",
    "Deck The Halls (2006) [BluRay] [720p] [YTS.AM]\n",
    "Delirium (2018) [BluRay] [1080p] [YTS.AM]\n",
    "Delirium.2018.HDRip.XviD.AC3-EVO\n",
    "Demonic Christmas Tree (2022) [1080p] [BluRay] [5.1] [YTS.MX]\n",
    "Despicable.Me.4.2024.1080p.WEBRip.1400MB.DD5.1.x264-GalaxyRG[TGx]\n",
    "Disenchanted (2022) [1080p] [WEBRip] [5.1] [YTS.MX]\n",
    "Divergent (2014) [1080p]\n",
    "Doctor Sleep (2019) [720p] [WEBRip] [YTS.LT]\n",
    "Doctor Strange In The Multiverse Of Madness (2022) [1080p] [WEBRip] [5.1] [YTS.MX]\n",
    "Dog (2022) [1080p] [WEBRip] [5.1] [YTS.MX]\n",
    "Dont Suck (2023) [1080p] [WEBRip] [YTS.MX]\n",
    "Dont.Breathe.2.2021.720p.WEBRip.800MB.x264-GalaxyRG[TGx]\n",
    "Downfall (2004) [BluRay] [1080p] [YTS.AM]\n",
    "Downton Abbey (2019) [WEBRip] [1080p] [YTS.LT]\n",
    "Downton Abbey A New Era (2022) [1080p] [WEBRip] [5.1] [YTS.MX]\n",
    "Dragon Ball Super Super Hero (2022) [720p] [BluRay] [YTS.MX]\n",
    "Dream Scenario (2023) [1080p] [WEBRip] [x265] [10bit] [5.1] [YTS.MX]\n",
    "Drive (2011) [1080p] [BluRay] [5.1] [YTS.MX]\n",
    "Drive Angry (2011) [BluRay] [1080p] [YTS.AM]\n",
    "Dune (1984) [1080p]\n",
    "Dune.2021.1080p.HDRip.X264-EVO[TGx]\n",
    "Dune.Part.Two.2024.1080p.WEBRip.DDP2.0.x265.10bit-GalaxyRG265[TGx]\n",
    "Dungeons Dragons Honor Among Thieves (2023) [1080p] [WEBRip] [5.1] [YTS.MX]\n",
    "E.T. The Extra-Terrestrial (1982) [1080p] [YTS.AG]\n",
    "East Of The Mountains (2021) [720p] [BluRay] [YTS.MX]\n",
    "Edge of Darkness (2010) [1080p]\n",
    "Edge of Tomorrow (2014) [1080p]\n",
    "Elvis (2022) [720p] [WEBRip] [YTS.MX]\n",
    "Emily The Criminal (2022) [720p] [WEBRip] [YTS.MX]\n",
    "Enchanted (2007) [BluRay] [1080p] [YTS.AM]\n",
    "Ender's Game (2013) [1080p]\n",
    "Enemy (2013) [1080p]\n",
    "Enola Holmes 2 (2022) [1080p] [WEBRip] [5.1] [YTS.MX]\n",
    "Equilibrium (2002) [1080p] [BluRay] [5.1] [YTS.MX]\n",
    "Eraser Reborn (2022) [1080p] [WEBRip] [YTS.MX]\n",
    "Escape Room (2019) [BluRay] [1080p] [YTS.AM]\n",
    "Escape.Room.Tournament.of.Champions.2021.EXTENDED.1080p.WEBRip.6CH.x265.HEVC-PSA\n",
    "Eternals (2021) [1080p] [WEBRip] [5.1] [YTS.MX]\n",
    "Everything Everywhere All At Once (2022) [1080p] [WEBRip] [5.1] [YTS.MX]\n",
    "Evil Dead Rise (2023) [1080p] [WEBRip] [5.1] [YTS.MX]\n",
    "Expend4bles (2023) [1080p] [WEBRip] [x265] [10bit] [5.1] [YTS.MX]\n",
    "Expired.2022.1080p.WEBRip.x265-RARBG\n",
    "Extraction (2020) [1080p] [WEBRip] [5.1] [YTS.MX]\n",
    "Extraction 2 (2023) [1080p] [WEBRip] [x265] [10bit] [5.1] [YTS.MX]\n",
    "F9 (2021) [1080p] [WEBRip] [5.1] [YTS.MX]\n",
    "Fall (2022) [720p] [WEBRip] [YTS.MX]\n",
    "Fantastic Beasts The Secrets Of Dumbledore (2022) [1080p] [WEBRip] [5.1] [YTS.MX]\n",
    "Fast Five (2011) [1080p]\n",
    "Fast X (2023) [1080p] [WEBRip] [x265] [10bit] [5.1] [YTS.MX]\n",
    "Fast and Furious (2009) [1080p]\n",
    "Father Stu (2022) [1080p] [WEBRip] [5.1] [YTS.MX]\n",
    "Fatman.2020.1080p.WEBRip.x264-RARBG\n",
    "Fiddler On The Roof (1971) [YTS.AG]\n",
    "Fight Club (1999) [REPACK] [1080p] [BluRay] [5.1] [YTS.MX]\n",
    "Finch (2021) [1080p] [WEBRip] [5.1] [YTS.MX]\n",
    "Find Her (2022) [1080p] [WEBRip] [YTS.MX]\n",
    "Five Nights At Freddys (2023) [1080p] [WEBRip] [x265] [10bit] [5.1] [YTS.MX]\n",
    "Ford V Ferrari (2019) [1080p] [WEBRip] [5.1] [YTS.LT]\n",
    "Forrest.Gump.1994.1080p.BluRay.10bit.HEVC.6CH.MkvCage.ws.mkv\n",
    "Funny Face (1957) [BluRay] [720p] [YTS.LT]\n",
    "Furiosa A Mad Max Saga (2024) [1080p] [WEBRip] [5.1] [YTS.MX]\n",
    "Furious 6 (2013) [1080p]\n",
    "Furious Seven (2015) [1080p]\n",
    "Gaia (2021) [REPACK] [720p] [WEBRip] [YTS.MX]\n",
    "Gangster Squad (2013) [1080p]\n",
    "Get The Gringo (2012) [1080p]\n",
    "Ghostbusters (1984) [1080p]\n",
    "Ghostbusters Afterlife (2021) [1080p] [WEBRip] [5.1] [YTS.MX]\n",
    "Ghostbusters.Frozen.Empire.2024.1080p.AMZN.WEBRip.1400MB.DD5.1.x264-GalaxyRG[TGx]\n",
    "Gladiator (2000)\n",
    "Gladiator II (2024) [1080p] [WEBRip] [x265] [10bit] [5.1] [YTS.MX]\n",
    "Gods Country (2022) [720p] [WEBRip] [YTS.MX]\n",
    "Godzilla.vs.Kong.2021.1080p.WEBRip.x264-RARBG\n",
    "Godzilla.x.Kong.The.New.Empire.2024.REPACK2.1080p.WEBRip.1400MB.DD5.1.x264-GalaxyRG[TGx]\n",
    "Goodfellas (1990)\n",
    "Gosford Park (2001) [1080p] [YTS.AG]\n",
    "Green Lantern (2011) [BluRay] [1080p] [YTS.AM]\n",
    "Green Zone (2010) [1080p]\n",
    "Greenland (2020) [1080p] [WEBRip] [5.1] [YTS.MX]\n",
    "Gremlins (1984) [1080p]\n",
    "Gretel & Hansel (2020) [1080p] [BluRay] [5.1] [YTS.MX]\n",
    "Groundhog Day (1993)\n",
    "Groundhog Day (1993) [1080p] [BluRay] [5.1] [YTS.MX]\n",
    "Grown Ups (2010)\n",
    "Grown Ups 2 (2013)\n",
    "Guardians Of The Galaxy Vol. 3 (2023) [1080p] [WEBRip] [x265] [10bit] [5.1] [YTS.MX]\n",
    "Guillermo Del Toros Pinocchio (2022) [1080p] [WEBRip] [5.1] [YTS.MX]\n",
    "Hairspray (2007) [1080p]\n",
    "Halloween Kills (2021) [720p] [WEBRip] [YTS.MX]\n",
    "Halo Nightfall (2014) [NORDIC] [1080p] [BluRay] [5.1] [YTS.MX]\n",
    "Hannibal Rising (2007)\n",
    "Happy Gilmore (1996)\n",
    "Harry Potter 20th Anniversary Return To Hogwarts (2022) [1080p] [WEBRip] [5.1] [YTS.MX]\n",
    "Haunted Mansion (2023) [1080p] [WEBRip] [x265] [10bit] [5.1] [YTS.MX]\n",
    "Held (2020) [720p] [WEBRip] [YTS.MX]\n",
    "Hellboy (2004) [1080p]\n",
    "Hellboy The Crooked Man (2024) [1080p] [WEBRip] [x265] [10bit] [5.1] [YTS.MX]\n",
    "Hellboy The Golden Army (2008) [1080p]\n",
    "Hellraiser (2022) [1080p] [WEBRip] [5.1] [YTS.MX]\n",
    "Hercules (1997) [1080p] [YTS.AG]\n",
    "Heretic (2024) [1080p] [WEBRip] [x265] [10bit] [5.1] [YTS.MX]\n",
    "High Heat (2022) [1080p] [WEBRip] [5.1] [YTS.MX]\n",
    "Hit.Man.2023.1080p.WEBRip.1400MB.DD5.1.x264-GalaxyRG[TGx]\n",
    "Hitmain (2007) [1080p]\n",
    "Hitman.Agent.47.2015.720p.BRRip.x264.AAC-ETRG\n",
    "Home Sweet Home Alone (2021) [1080p] [WEBRip] [5.1] [YTS.MX]\n",
    "Hot Fuzz (2007) [1080p]\n",
    "House Of Gucci (2021) [1080p] [WEBRip] [5.1] [YTS.MX]\n",
    "I Am Legend AlTERNATE ENDING (2007) [1080p]\n",
    "IF (2024) [1080p] [WEBRip] [x265] [10bit] [5.1] [YTS.MX]\n",
    "In The Land Of Saints And Sinners (2023) [1080p] [WEBRip] [5.1] [YTS.MX]\n",
    "Inception (2010) [1080p]\n",
    "Indiana Jones And The Dial Of Destiny (2023) [1080p] [WEBRip] [x265] [10bit] [5.1] [YTS.MX]\n",
    "Indiana Jones and the Kingdom of the Crystal Skull (2008) [1080p]\n",
    "Insomnia (2002) [1080p]\n",
    "Interview with the Vampire (1994) [1080p]\n",
    "Into the Woods (2014)\n",
    "Invitation To A Murder (2023) [1080p] [WEBRip] [5.1] [YTS.MX]\n",
    "It (2017) [YTS.AG]\n",
    "It Aint Over (2022) [1080p] [WEBRip] [5.1] [YTS.MX]\n",
    "It Aint Over (2022) [720p] [WEBRip] [YTS.MX]\n",
    "It Chapter Two (2019) [WEBRip] [720p] [YTS.LT]\n",
    "Jack Ryan Shadow Recruit (2014) [1080p]\n",
    "James Bond The World Is Not Enough (1999) [1080p]\n",
    "Jarhead (2005) [1080p]\n",
    "Jingle All the Way EXTENDED (1996)\n",
    "John And The Hole (2021) [1080p] [WEBRip] [5.1] [YTS.MX]\n",
    "John Wick (2014) [1080p] [YTS.AG]\n",
    "John Wick Chapter 2 (2017) [1080p] [YTS.AG]\n",
    "John Wick Chapter 3 - Parabellum (2019) [BluRay] [1080p] [YTS.LT]\n",
    "John Wick Chapter 3 - Parabellum (2019) [WEBRip] [1080p] [YTS.LT]\n",
    "John.Wick.Chapter.4.2023.2160p.WEBRip.3999MB.DDP5.1.x264-GalaxyRG[TGx]\n",
    "Jojo Rabbit (2019) [1080p] [WEBRip] [5.1] [YTS.MX]\n",
    "Joker Folie a Deux (2024) [1080p] [WEBRip] [x265] [10bit] [5.1] [YTS.MX]\n",
    "Jujutsu Kaisen 0 The Movie (2021) [JAPANESE] [720p] [BluRay] [YTS.MX]\n",
    "Jumper (2008) [1080p]\n",
    "Jungle Cruise (2021) [1080p] [WEBRip] [5.1] [YTS.MX]\n",
    "Jupiter Ascending (2015) [1080p]\n",
    "Jurassic World Dominion (2022) [1080p] [WEBRip] [5.1] [YTS.MX]\n",
    "Kandahar (2023) [1080p] [WEBRip] [x265] [10bit] [5.1] [YTS.MX]\n",
    "Killers Of The Flower Moon (2023) [1080p] [WEBRip] [5.1] [YTS.MX]\n",
    "Kinds Of Kindness (2024) [1080p] [WEBRip] [x265] [10bit] [5.1] [YTS.MX]\n",
    "Kiss.Kiss.Bang.Bang.2005.720p.BluRay.999MB.HQ.x265.10bit-GalaxyRG[TGx]\n",
    "Knives Out (2019) [1080p] [WEBRip] [5.1] [YTS.MX]\n",
    "Knock At The Cabin (2023) [1080p] [WEBRip] [5.1] [YTS.MX]\n",
    "Knowing 2009  (1080p x265 q22 S94 Joy).mkv\n",
    "Kong Skull Island (2017) [1080p] [YTS.AG]\n",
    "Kraven The Hunter (2024) [1080p] [WEBRip] [x265] [10bit] [5.1] [YTS.MX]\n",
    "Kronks New Groove (2005) [1080p] [BluRay] [5.1] [YTS.MX]\n",
    "La La Land (2016) [YTS.AG]\n",
    "Labyrinth (1986) [1080p] [BluRay] [5.1] [YTS.MX]\n",
    "Lake George (2024) [720p] [WEBRip] [YTS.MX]\n",
    "Lamborghini The Man Behind The Legend (2022) [1080p] [BluRay] [5.1] [YTS.MX]\n",
    "Land Of Bad (2024) [1080p] [WEBRip] [x265] [10bit] [5.1] [YTS.MX]\n",
    "Last Flag Flying (2017) [1080p] [YTS.AG]\n",
    "Last Night In Soho (2021) [1080p] [WEBRip] [5.1] [YTS.MX]\n",
    "Last.Looks.2021.720p.WEBRip.800MB.x264-GalaxyRG.mkv\n",
    "Law.Abiding.Citizen.2009.1080p.BluRay.x264.YIFY.mp4\n",
    "Legion (2010)\n",
    "Leo (2023) [720p] [WEBRip] [YTS.MX]\n",
    "Les Misérables (2012)\n",
    "Lightyear (2022) [720p] [WEBRip] [YTS.MX]\n",
    "Little Dixie (2023) [1080p] [WEBRip] [5.1] [YTS.MX]\n",
    "Little Fockers (2010)\n",
    "Logan (2017) [1080p] [YTS.AG]\n",
    "Longlegs (2024) [1080p] [WEBRip] [x265] [10bit] [5.1] [YTS.MX]\n",
    "Lord of War (2005) [1080p]\n",
    "Lou (2022) [720p] [WEBRip] [YTS.MX]\n",
    "Love Courage And The Battle Of Bushy Run (2024) [720p] [WEBRip] [YTS.MX]\n",
    "Love.Lies.Bleeding.2024.720p.WEBRip.800MB.x264-GalaxyRG[TGx]\n",
    "Luca 2021 FullHD 1080p.H264 Ita Eng AC3 5.1 Multisub realDMDJ.mkv\n",
    "M3GAN (2022) [720p] [WEBRip] [YTS.MX]\n",
    "Mad God (2021) [1080p] [WEBRip] [YTS.MX]\n",
    "Mad Max 2 The Road Warrior (1981)\n",
    "Mad Max Beyond Thunderdome (1985) [YTS.AG]\n",
    "Maggie Moore s (2023) [720p] [WEBRip] [YTS.MX]\n",
    "Malignant (2013) [720p] [WEBRip] [YTS.MX]\n",
    "Malignant (2021) [720p] [BluRay] [YTS.MX]\n",
    "Mamma Mia (2008)\n",
    "Mamma Mia! Here We Go Again (2018) [WEBRip] [720p] [YTS.AM]\n",
    "Manchester By The Sea (2016) [YTS.AG]\n",
    "Manifest West (2022) [1080p] [WEBRip] [5.1] [YTS.MX]\n",
    "Margin.Call.2011.720p.BluRay.x264.YIFY.mp4\n",
    "Margin.Call.2011.720p.BluRay.x264.YIFY.srt\n",
    "Marley and Me (2008) [1080p]\n",
    "Mary Poppins (1964) [YTS.AG]\n",
    "Mary Poppins Returns (2018) [BluRay] [720p] [YTS.AM]\n",
    "May December (2023) [720p] [WEBRip] [YTS.MX]\n",
    "Mechanic Resurrection (2016) [1080p] [YTS.AG]\n",
    "Medieval (2022) [1080p] [WEBRip] [5.1] [YTS.MX]\n",
    "Meet The Fockers (2004)\n",
    "Meet The Parents (2000)\n",
    "Megalopolis (2024) [720p] [WEBRip] [YTS.MX]\n",
    "Memento (2000) [1080p]\n",
    "Memory (2022) [1080p] [WEBRip] [5.1] [YTS.MX]\n",
    "Mile 22 (2018) [WEBRip] [1080p] [YTS.AM]\n",
    "Million Dollar Baby (2004)\n",
    "Minions More 1 (2022) [1080p] [WEBRip] [5.1] [YTS.MX]\n",
    "Minions The Rise Of Gru (2022) [1080p] [WEBRip] [5.1] [YTS.MX]\n",
    "Minority Report (2002) [1080p]\n",
    "Mission Impossible (1996) [1080p] [YTS.AG]\n",
    "Mission Impossible - Dead Reckoning Part One (2023) [1080p] [WEBRip] [x265] [10bit] [5.1] [YTS.MX]\n",
    "Mission Impossible - Fallout (2018) [BluRay] [1080p] [YTS.AM]\n",
    "Mission Impossible Ghost Protocol (2011) [1080p]\n",
    "Mission Impossible II (2000) [1080p] [YTS.AG]\n",
    "Mission Impossible III (2006) [1080p] [YTS.AG]\n",
    "Mission Impossible Rogue Nation (2015) [1080p]\n",
    "Mona Lisa And The Blood Moon (2021) [1080p] [BluRay] [5.1] [YTS.MX]\n",
    "Money Monster (2016) [YTS.AG]\n",
    "Moneyball (2011)\n",
    "Monkey.Man.2024.720p.AMZN.WEBRip.800MB.x264-GalaxyRG[TGx]\n",
    "Monolith (2022) [720p] [WEBRip] [YTS.MX]\n",
    "Monster.Hunter.2020.1080p.AMZN.WEBRip.DDP5.1.x264-NTG\n",
    "Monsters Of Man (2020) [1080p] [BluRay] [5.1] [YTS.MX]\n",
    "Monstrous (2022) [1080p] [WEBRip] [5.1] [YTS.MX]\n",
    "Moonfall (2022) [1080p] [WEBRip] [5.1] [YTS.MX]\n",
    "Morbius (2022) [1080p] [WEBRip] [YTS.MX]\n",
    "Mortal Kombat (2021) [1080p] [WEBRip] [5.1] [YTS.MX]\n",
    "Mortdecai (2015) [1080p]\n",
    "Moulin Rouge! (2001)\n",
    "Mr Nobody (2009)\n",
    "Mr. Harrigans Phone (2022) [720p] [WEBRip] [YTS.MX]\n",
    "Mufasa The Lion King (2024) [1080p] [WEBRip] [x265] [10bit] [YTS.MX]\n",
    "Mulan.2020.720p.DSNP.WEBRip.DDP5.1.x264-NOGRP\n",
    "Murder At Yellowstone City (2022) [1080p] [WEBRip] [5.1] [YTS.MX]\n",
    "Murder Mystery (2019) [WEBRip] [720p] [YTS.LT]\n",
    "Murder Mystery 2 (2023) [720p] [BluRay] [YTS.MX]\n",
    "My Big Fat Greek Wedding 3 (2023) [1080p] [WEBRip] [x265] [10bit] [5.1] [YTS.MX]\n",
    "My Big Fat Greek Wedding 3 (2023) [720p] [WEBRip] [YTS.MX]\n",
    "My Fair Lady (1964) [BluRay] [720p] [YTS.AM]\n",
    "My.Son.Hunter.2022.720p.WEBRip.800MB.x264-GalaxyRG.mkv\n",
    "Mythica A Quest For Heroes (2014) [1080p] [BluRay] [5.1] [YTS.MX]\n",
    "Nashville (1975) [720p] [BluRay] [YTS.MX]\n",
    "National Treasure Book of Secrets (2007) [1080p]\n",
    "News.of.the.World.2020.1080p.WEBRip.x264-RARBG\n",
    "Nightfire (2020) [1080p] [WEBRip] [YTS.MX]\n",
    "Nightmare Alley (2021) [1080p] [WEBRip] [5.1] [YTS.MX]\n",
    "Nine Days (2020) [1080p] [BluRay] [5.1] [YTS.MX]\n",
    "No Man of God (2021) (1080p BluRay x265 HEVC 10bit AAC 5.1 Tigole)\n",
    "No One Lives (2012) [BluRay] [1080p] [YTS.LT]\n",
    "No.Time.To.Die.2021.1080p.WEBRip.x265-RARBG\n",
    "Nobody.2021.1080p.WEBRip.1400MB.DD5.1.x264-GalaxyRG[TGx]\n",
    "Nocebo (2022) [1080p] [WEBRip] [5.1] [YTS.MX]\n",
    "Nocturnal Animals (2016) [YTS.AG]\n",
    "North Country (2005) [WEBRip] [1080p] [YTS.LT]\n",
    "Nosferatu (2024) [1080p] [WEBRip] [x265] [10bit] [5.1] [YTS.MX]\n",
    "Now You See Me (2013) [1080p]\n",
    "Now.You.See.Me.2.2016.1080p.BluRay.6CH.ShAaNiG.mkv\n",
    "Nutcrackers (2024) [720p] [WEBRip] [YTS.MX]\n",
    "Obi-Wan Kenobi (2022) [1080p] [WEBRip] [YTS.MX]\n",
    "Oblivion (2013) [1080p]\n",
    "Oddity (2024) [1080p] [WEBRip] [x265] [10bit] [5.1] [YTS.MX]\n",
    "Old Henry (2021) [1080p] [WEBRip] [5.1] [YTS.MX]\n",
    "Old Man (2022) [720p] [WEBRip] [YTS.MX]\n",
    "One Day As A Lion (2023) [1080p] [WEBRip] [5.1] [YTS.MX]\n",
    "One Shot (2021) [1080p] [WEBRip] [5.1] [YTS.MX]\n",
    "Oppenheimer (2023) [1080p] [BluRay] [x265] [10bit] [5.1] [YTS.MX]\n",
    "Out of the Furnace (2013)\n",
    "Out of the Furnace 2013 1080p BluRay x264 AAC - Ozlem\n",
    "Overlord (2018) [WEBRip] [1080p] [YTS.AM]\n",
    "Paint (2023) [1080p] [WEBRip] [5.1] [YTS.MX]\n",
    "Palmer (2021) [720p] [WEBRip] [YTS.MX]\n",
    "Panic Room (2002) [BluRay] [1080p] [YTS.AM]\n",
    "Paradise Highway (2022) [1080p] [WEBRip] [5.1] [YTS.MX]\n",
    "Percy Vs Goliath (2020) [1080p] [WEBRip] [5.1] [YTS.MX]\n",
    "Pet Sematary Bloodlines (2023) [720p] [WEBRip] [YTS.MX]\n",
    "Pig.2021.1080p.WEBRip.x264-RARBG\n",
    "Pirates Of The Caribbean Dead Men Tell No Tales (2017) [1080p] [YTS.AG]\n",
    "Pirates of the Caribbean Dead Men Tell No Tales (2017) 720p BrRip x264 - VPPV\n",
    "Pitch Black (2000) [1080p]\n",
    "Pixels (2015) [1080p]\n",
    "Planet of the Apes (2001)\n",
    "Play Dead (2022) [720p] [WEBRip] [YTS.MX]\n",
    "Poltergeist (1982) [1080p]\n",
    "Poltergeist (2015) [1080p]\n",
    "Predestination (2014) [1080p]\n",
    "Pride and Prejudice (2005)\n",
    "Pride and Prejudice (2005) [1080p]\n",
    "Priscilla (2023) [720p] [WEBRip] [YTS.MX]\n",
    "Prison Break The Final Break (2009) [1080p] [BluRay] [5.1] [YTS.MX]\n",
    "Prisoners (2013) [1080p]\n",
    "Prisoners.of.the.Ghostland.2021.1080p.WEBRip.x264-RARBG\n",
    "Prizefighter The Life Of Jem Belcher (2022) [720p] [BluRay] [YTS.MX]\n",
    "Project.Gemini.2022.1080p.BluRay.H264.AAC-RARBG\n",
    "Public Enemies (2009) [1080p]\n",
    "Pulp.Fiction.1994.720p.BrRip.x264.YIFY.mp4\n",
    "Pulp.Fiction.1994.720p.BrRip.x264.YIFY.srt\n",
    "Puss In Boots (2011) [1080p] [BluRay] [5.1] [YTS.MX]\n",
    "Puss In Boots The Last Wish (2022) [1080p] [WEBRip] [5.1] [YTS.MX]\n",
    "R.I.P.D.2.Rise.of.the.Damned.2022.720p.BluRay.800MB.x264-GalaxyRG[TGx]\n",
    "Ravens Hollow (2022) [1080p] [WEBRip] [YTS.MX]\n",
    "Ray Donovan The Movie (2022) [1080p] [BluRay] [5.1] [YTS.MX]\n",
    "Raya.and.the.Last.Dragon.2021.1080p.DSNP.WEBRip.DDP5.1.x264-TOMMY\n",
    "Real Steel (2011) [1080p]\n",
    "Rebel Moon - Part One A Child Of Fire (2023) [1080p] [WEBRip] [x265] [10bit] [5.1] [YTS.MX]\n",
    "Rebel.Moon.Part.Two.The.Scargiver.2024.1080p.NF.WEBRip.1400MB.DD5.1.x264-GalaxyRG[TGx]\n",
    "Red Dawn (1984) [1080p]\n",
    "Red Dawn (2012)\n",
    "Red One (2024) [1080p] [WEBRip] [x265] [10bit] [5.1] [YTS.MX]\n",
    "Red.Stone.2021.1080p.WEBRip.x264-RARBG\n",
    "Redemption (2013) [BluRay] [720p] [YTS.AM]\n",
    "Rememory (2017) [1080p] [WEBRip] [YTS.MX]\n",
    "Reminiscence.2021.1080p.WEBRip.x264-RARBG\n",
    "Renfield (2023) [1080p] [WEBRip] [5.1] [YTS.MX]\n",
    "Reptile (2023) [1080p] [WEBRip] [x265] [10bit] [5.1] [YTS.MX]\n",
    "Rescue Dawn (2006) [1080p] [BluRay] [5.1] [YTS.MX]\n",
    "Rescued By Ruby (2022) [720p] [WEBRip] [YTS.MX]\n",
    "Reservoir Dogs (1992)\n",
    "Reservoir Dogs (1992) [1080p]\n",
    "Resident Evil (2002) [1080p]\n",
    "Resident Evil Afterlife (2010) [1080p]\n",
    "Resident Evil Apocalypse (2004) [1080p]\n",
    "Resident Evil Extinction (2007) [1080p]\n",
    "Resident Evil Retribution (2012) [1080p]\n",
    "Resident Evil The Final Chapter (2016) [1080p] [YTS.AG]\n",
    "Resident.Evil.Welcome.to.Raccoon.City.2021.1080p.WEBRip.x264-RARBG\n",
    "Road.House.2024.1080p.AMZN.WEBRip.1400MB.DD5.1.x264-GalaxyRG[TGx]\n",
    "Robert The Bruce (2019) [BluRay] [1080p] [YTS.LT]\n",
    "Rogue Agent (2022) [720p] [BluRay] [YTS.MX]\n",
    "Roman Holiday (1953) [720p] [WEBRip] [YTS.MX]\n",
    "Run.Hide.Fight.2020.1080p.WEBRip.x264-RARBG\n",
    "Runner Runner (2013)\n",
    "SAS Red Notice (2021) [1080p] [WEBRip] [5.1] [YTS.MX]\n",
    "SOUTH.PARK.JOINING.THE.PANDERVERSE.2023.720p.WEBRip.400MB.x264-GalaxyRG[TGx]\n",
    "Sabrina (1954) [720p] [BluRay] [YTS.MX]\n",
    "Salems Lot (2024) [1080p] [WEBRip] [x265] [10bit] [5.1] [YTS.MX]\n",
    "Samaritan (2022) [1080p] [WEBRip] [5.1] [YTS.MX]\n",
    "Scarface (1983)\n",
    "Scary Movie (2000) [1080p] [BluRay] [5.1] [YTS.MX]\n",
    "Scoop (2006) [YTS.AG]\n",
    "Secret Headquarters (2022) [1080p] [WEBRip] [5.1] [YTS.MX]\n",
    "Section 8 (2022) [720p] [WEBRip] [YTS.MX]\n",
    "Selfless (2015) [1080p]\n",
    "Senna (2010) [720p] [BluRay] [YTS.MX]\n",
    "Serenity (2005) [1080p] [BluRay] [5.1] [YTS.MX]\n",
    "Seriously Red (2022) [720p] [WEBRip] [YTS.MX]\n",
    "Settlers (2021) [1080p] [WEBRip] [5.1] [YTS.MX]\n",
    "Seventh Son (2014) [1080p]\n",
    "Shadow Dancer (2012) [REPACK] [1080p] [BluRay] [5.1] [YTS.MX]\n",
    "Shallow Hal (2001)\n",
    "Shang-Chi.And.The.Legend.Of.The.Ten.Rings.2021.1080p.BluRay.H264.AAC-RARBG\n",
    "Shazam Fury Of The Gods (2023) [1080p] [WEBRip] [5.1] [YTS.MX]\n",
    "Shut.In.2022.1080p.WEBRip.x264-RARBG\n",
    "Shutter Island (2010) [1080p]\n",
    "Silent Hill Revelation (2012) [1080p]\n",
    "Silent Hills (2006)\n",
    "Silent Night (2023) [1080p] [WEBRip] [x265] [10bit] [5.1] [YTS.MX]\n",
    "Singin' In The Rain (1952) [YTS.AG]\n",
    "Skull (2022) [1080p] [WEBRip] [5.1] [YTS.MX]\n",
    "Skyfall (2012) [1080p]\n",
    "Sleepless In Seattle (1993)\n",
    "Slingshot (2024) [1080p] [WEBRip] [x265] [10bit] [5.1] [YTS.MX]\n",
    "Small Things Like These (2024) [1080p] [WEBRip] [x265] [10bit] [5.1] [YTS.MX]\n",
    "Smile (2022) [720p] [WEBRip] [YTS.MX]\n",
    "Smile.2022.720p.HC.WEBRip.800MB.x264-GalaxyRG[TGx]\n",
    "Snake Eyes (2021) [1080p] [WEBRip] [5.1] [YTS.MX]\n",
    "Snowden.2016.HDRip.XviD.AC3-EVO.avi\n",
    "South Park (1997) Season 26 S26 (1080p HMAX WEB-DL x265 HEVC 10bit AC3 5.1 Silence)\n",
    "South Park Post COVID (2021) [1080p] [WEBRip] [5.1] [YTS.MX]\n",
    "South Park The Streaming Wars (2022) [720p] [WEBRip] [YTS.MX]\n",
    "South Park The Streaming Wars Part 2 (2022) [720p] [WEBRip] [YTS.MX]\n",
    "South.Park.Not.Suitable.For.Children.2023.1080p.WEBRip.AAC5.1.10bits.x265-Rapta.mkv\n",
    "South.Park.Post.Covid.The.Return.of.Covid.2021.1080p.AMZN.WEBRip.DD5.1.X.264-EVO\n",
    "South.Park.The.End.of.Obesity.2024.1080p.10bit.WEBRip.6CH.x265.HEVC-PSA.mkv\n",
    "Soylent Green (1973) [BluRay] [1080p] [YTS.AM]\n",
    "Spectre (2015) [1080p] [YTS.AG]\n",
    "Spider-Man Far From Home (2019) [BluRay] [1080p] [YTS.LT]\n",
    "Spider-Man No Way Home (2021) [1080p] [BluRay] [5.1] [YTS.MX]\n",
    "Spiderhead (2022) [1080p] [WEBRip] [5.1] [YTS.MX]\n",
    "Spirited (2022) [1080p] [WEBRip] [5.1] [YTS.MX]\n",
    "Spy Game (2001) [1080p]\n",
    "Star Trek (2009) [1080p]\n",
    "Star Trek Beyond (2016) [YTS.AG]\n",
    "Star.Wars.The.Book.Of.Boba.Fett.Hardcover.Edition.x265.1080p-NumeralJ.mkv\n",
    "Step Brothers (2008)\n",
    "Stowaway (2021) [1080p] [WEBRip] [YTS.MX]\n",
    "Subservience (2024) [1080p] [WEBRip] [x265] [10bit] [5.1] [YTS.MX]\n",
    "Sunray Fallen Soldier (2024) [1080p] [BluRay] [5.1] [YTS.MX]\n",
    "Super.8.2011.1080p.BluRay.x264.AAC5.1-[YTS.MX] 2.mp4\n",
    "Sweeney Todd (2007)\n",
    "Sympathy For The Devil (2023) [1080p] [WEBRip] [5.1] [YTS.MX]\n",
    "Tarot.2024.1080p.WEBRip.1400MB.DD5.1.x264-GalaxyRG[TGx]\n",
    "Taxi Driver (1976) [BluRay] [1080p] [YTS.AM]\n",
    "Terminator 2 (1991) [1080p] [YTS.AG]\n",
    "Terminator 3 Rise of The Machines (2003) [1080p]\n",
    "Terminator Genisys (2015) [1080p]\n",
    "Terminator Salvation DIRECTORS CUT (2009) [1080p]\n",
    "Terrifier 2 (2022) [720p] [BluRay] [YTS.MX]\n",
    "Terror On The Prairie (2022) [1080p] [WEBRip] [YTS.MX]\n",
    "The Accursed (2021) [1080p] [WEBRip] [5.1] [YTS.MX]\n",
    "The Adam Project (2022) [1080p] [WEBRip] [5.1] [YTS.MX]\n",
    "The Adjustment Bureau (2011)\n",
    "The Amityvill Horror (2005) [ 1080p]\n",
    "The Angry Birds Movie 2 (2019) [WEBRip] [1080p] [YTS.LT]\n",
    "The Art Of Racing In The Rain (2019) [BluRay] [1080p] [YTS.LT]\n",
    "The Art Of Self-Defense (2019) [BluRay] [1080p] [YTS.LT]\n",
    "The Art Of Self-Defense (2019) [BluRay] [720p] [YTS.LT]\n",
    "The Assassination Of Jesse James By The Coward Robert Ford (2007) [BluRay] [1080p] [YTS.AM]\n",
    "The Banshees Of Inisherin (2022) [720p] [BluRay] [YTS.MX]\n",
    "The Batman (2022) [1080p] [WEBRip] [5.1] [YTS.MX]\n",
    "The Beekeeper (2024) [1080p] [WEBRip] [x265] [10bit] [5.1] [YTS.MX]\n",
    "The Best Man (2023) [1080p] [WEBRip] [5.1] [YTS.MX]\n",
    "The Beta Test (2021) [1080p] [WEBRip] [5.1] [YTS.MX]\n",
    "The Big Short (2015) [YTS.AG]\n",
    "The Birdcage (1996) [BluRay] [720p] [YTS.AM]\n",
    "The Boogeyman (2023) [1080p] [WEBRip] [x265] [10bit] [5.1] [YTS.MX]\n",
    "The Boss Baby Family Business 2021 720p WEBRip x264 700MB - ShortRips.mkv\n",
    "The Call Of The Wild (2020) [1080p] [WEBRip] [5.1] [YTS.MX]\n",
    "The Cannonball Run (1981) [BluRay] [720p] [YTS.AM]\n",
    "The Card Counter (2021) [720p] [BluRay] [YTS.MX]\n",
    "The Channel (2023) [1080p] [WEBRip] [5.1] [YTS.MX]\n",
    "The Chronicles Of Riddick (2004) [BluRay] [1080p] [YTS.AM]\n",
    "The Commuter (2018) [BluRay] [1080p] [YTS.AM]\n",
    "The Conjuring The Devil Made Me Do It (2021) [1080p] [WEBRip] [5.1] [YTS.MX]\n",
    "The Contractor (2022) [1080p] [WEBRip] [5.1] [YTS.MX]\n",
    "The Covenant (2023) [1080p] [WEBRip] [5.1] [YTS.MX]\n",
    "The Crow (2024) [1080p] [WEBRip] [x265] [10bit] [5.1] [YTS.MX]\n",
    "The Death Of Stalin (2017) [BluRay] [1080p] [YTS.AM]\n",
    "The Departed (2006) [1080p]\n",
    "The Djinn (2021) [1080p] [WEBRip] [5.1] [YTS.MX]\n",
    "The Dunes (2021) [1080p] [WEBRip] [5.1] [YTS.MX]\n",
    "The Emperor's New Groove (2000) [1080p]\n",
    "The Empty Man (2020) [720p] [WEBRip] [YTS.MX]\n",
    "The Equalizer 2 (2018) [WEBRip] [1080p] [YTS.AM]\n",
    "The Equalizer 3 (2023) [1080p] [WEBRip] [x265] [10bit] [5.1] [YTS.MX]\n",
    "The Expendables (2010) [1080p]\n",
    "The Expendables 2 (2012) [1080p]\n",
    "The Expendables 3 (2014) [1080p]\n",
    "The Fast and the Furious (2001) [1080p]\n",
    "The Fast and the Furious Tokyo Drift (2006) [1080p]\n",
    "The Fate Of The Furious (2017) [1080p] [YTS.AG]\n",
    "The Fifth Element 1997 Remastered 1080p BluRay HEVC x265 5.1 BONE.mkv\n",
    "The Fighter (2010) [1080p]\n",
    "The Flash (2023) [1080p] [WEBRip] [x265] [10bit] [5.1] [YTS.MX]\n",
    "The Forever Purge (2021) [1080p] [WEBRip] [5.1] [YTS.MX]\n",
    "The Game (1997) [1080p]\n",
    "The Girl In The Spider's Web (2018) [WEBRip] [1080p] [YTS.AM]\n",
    "The Good Neighbor (2021) [1080p] [WEBRip] [5.1] [YTS.MX]\n",
    "The Greatest Showman (2017) [BluRay] [720p] [YTS.AM]\n",
    "The Guardians Of The Galaxy Holiday Special (2022) [1080p] [WEBRip] [5.1] [YTS.MX]\n",
    "The Hills Have Eyes (2006) [1080p] [YTS.AG]\n",
    "The Hitchhiker's Guide to the Galaxy (2005) [1080p]\n",
    "The Hitmans Wifes Bodyguard (2021) [1080p] [WEBRip] [5.1] [YTS.MX]\n",
    "The Hours (2002)\n",
    "The Hunger Games The Ballad Of Songbirds Snakes (2023) [1080p] [WEBRip] [x265] [10bit] [5.1] [YTS.MX]\n",
    "The Hunt (2020) [1080p] [BluRay] [5.1] [YTS.MX]\n",
    "The Hurt Locker (2008) [1080p] [BluRay] [5.1] [YTS.MX]\n",
    "The Illusionist (2006)\n",
    "The Impossible (2012) 720p_BRrip_scOrp_sujaidr\n",
    "The Incredible Hulk (2008) [1080p]\n",
    "The Instigators (2024) [720p] [WEBRip] [YTS.MX]\n",
    "The Invitation (2022) [720p] [WEBRip] [YTS.MX]\n",
    "The Killer (2023) [1080p] [WEBRip] [x265] [10bit] [5.1] [YTS.MX]\n",
    "The Killers Game (2024) [1080p] [WEBRip] [x265] [10bit] [5.1] [YTS.MX]\n",
    "The Kingdom (2007) [1080p]\n",
    "The Kitchen (2019) [BluRay] [1080p] [YTS.LT]\n",
    "The Last Detail (1973) [1080p] [YTS.AG]\n",
    "The Last Duel (2021) [1080p] [WEBRip] [5.1] [YTS.MX]\n",
    "The Last Heist (2022) [1080p] [WEBRip] [5.1] [YTS.MX]\n",
    "The Last Kingdom Seven Kings Must Die (2023) [1080p] [WEBRip] [5.1] [YTS.MX]\n",
    "The Last Manhunt (2022) [1080p] [BluRay] [5.1] [YTS.MX]\n",
    "The Last Possession (2022) [1080p] [WEBRip] [5.1] [YTS.MX]\n",
    "The Last Voyage Of The Demeter (2023) [1080p] [WEBRip] [x265] [10bit] [5.1] [YTS.MX]\n",
    "The Last Voyage Of The Demeter (2023) [AUDIO FIX] [REPACK] [1080p] [WEBRip] [5.1] [YTS.MX]\n",
    "The Last Witch Hunter (2015) [1080p] [YTS.AG]\n",
    "The Last Witness (2018) [WEBRip] [1080p] [YTS.AM]\n",
    "The Locksmith (2023) [1080p] [WEBRip] [5.1] [YTS.MX]\n",
    "The Lone Ranger (2013) [1080p]\n",
    "The Losers (2010) [1080p] [BluRay] [5.1] [YTS.MX]\n",
    "The Lost City (2022) [1080p] [WEBRip] [5.1] [YTS.MX]\n",
    "The Machine (2023) [1080p] [WEBRip] [5.1] [YTS.MX]\n",
    "The Man Who Invented Christmas (2017) [BluRay] [720p] [YTS.AM]\n",
    "The Marvels (2023) [1080p] [WEBRip] [x265] [10bit] [5.1] [YTS.MX]\n",
    "The Matrix (1999) [1080p]\n",
    "The Matrix Reloaded (2003) [1080p]\n",
    "The Matrix Revolutions (2003) [1080p]\n",
    "The Mechanic (2011) [1080p] [YTS.AG]\n",
    "The Menu (2022) [1080p] [WEBRip] [5.1] [YTS.MX]\n",
    "The Minute You Wake Up Dead (2022) [1080p] [WEBRip] [5.1] [YTS.MX]\n",
    "The Mist (2007)\n",
    "The Mist (2007) [1080p] [YTS.AG]\n",
    "The Mole Undercover In North Korea (2020) [720p] [WEBRip] [YTS.MX]\n",
    "The Money Pit (1986)\n",
    "The Mummy (2017) [1080p] [YTS.AG]\n",
    "The Mummy (2017) [YTS.AG]\n",
    "The Mummy Returns (2001) [1080p]\n",
    "The Mummy Tomb of the Dragon Emperor (2008) [1080p]\n",
    "The Nice Guys (2016) [YTS.AG]\n",
    "The Night House (2020) [1080p] [WEBRip] [5.1] [YTS.MX]\n",
    "The Northman (2022) [1080p] [BluRay] [5.1] [YTS.MX]\n",
    "The Notebook (2004) [1080p]\n",
    "The Nun (2018) [BluRay] [720p] [YTS.AM]\n",
    "The Nun II (2023) [1080p] [WEBRip] [x265] [10bit] [5.1] [YTS.MX]\n",
    "The Pale Blue Eye (2022) [1080p] [WEBRip] [5.1] [YTS.MX]\n",
    "The Phantom of the Opera (2004) [1080p]\n",
    "The Place Beyond the Pines (2012) [1080p]\n",
    "The Popes Exorcist (2023) [1080p] [WEBRip] [5.1] [YTS.MX]\n",
    "The Portable Door (2023) [1080p] [WEBRip] [5.1] [YTS.MX]\n",
    "The Power Of The Dog (2021) [1080p] [WEBRip] [YTS.MX]\n",
    "The Price We Pay (2022) [1080p] [WEBRip] [5.1] [YTS.MX]\n",
    "The Promise (2016) [1080p] [YTS.AG]\n",
    "The Promised Land (2023) [1080p] [BluRay] [5.1] [YTS.MX]\n",
    "The Ritual (2017) [YTS.AG]\n",
    "The Salvation (2014) [1080p]\n",
    "The Scorpion King (2002) [1080p] [BluRay] [5.1] [YTS.MX]\n",
    "The Scorpion King 2 Rise Of A Warrior (2008) [1080p] [BluRay] [5.1] [YTS.MX]\n",
    "The Scorpion King 3 Battle For Redemption (2012) [1080p] [BluRay] [5.1] [YTS.MX]\n",
    "The Scorpion King 4 Quest For Power (2015) [1080p] [YTS.AG]\n",
    "The Scorpion King Book Of Souls (2018) [WEBRip] [1080p] [YTS.AM]\n",
    "The Shift (2023) [1080p] [WEBRip] [x265] [10bit] [YTS.MX]\n",
    "The Shining (1980)\n",
    "The Silent Hour (2024) [1080p] [WEBRip] [5.1] [YTS.MX]\n",
    "The Sixth Secret (2022) [720p] [WEBRip] [YTS.MX]\n",
    "The Sixth Sense (1999) [1080p]\n",
    "The Sorcerer's Apprentice (2010)\n",
    "The Sound of Music (1965)\n",
    "The Stairs (2021) [720p] [WEBRip] [YTS.MX]\n",
    "The Suicide Squad (2021) [1080p] [WEBRip] [5.1] [YTS.MX]\n",
    "The Super Mario Bros. Movie (2023) [1080p] [WEBRip] [5.1] [YTS.MX]\n",
    "The Terminator (1984) [1080p]\n",
    "The Tomorrow War (2021) [1080p] [WEBRip] [5.1] [YTS.MX]\n",
    "The Tourist (2010) [BluRay] [1080p] [YTS.AM]\n",
    "The Towering Inferno (1974) [BluRay] [720p] [YTS.AM]\n",
    "The Town EXTENDED (2010) [1080p]\n",
    "The Tutor (2023) [1080p] [WEBRip] [5.1] [YTS.MX]\n",
    "The Valet (2022) [720p] [WEBRip] [YTS.MX]\n",
    "The Vault (2021) [1080p] [BluRay] [5.1] [YTS.MX]\n",
    "The Visit (2015) [1080p]\n",
    "The Void (2016) [1080p] [YTS.AG]\n",
    "The Wall (2017) [1080p] [YTS.AG]\n",
    "The Water Horse (2007) [720p] [BluRay] [YTS.MX]\n",
    "The Whale (2022) [720p] [WEBRip] [YTS.MX]\n",
    "The Witcher S03 PART1 4k to 1080p NF WEBrip x265 DD5.1 D0ct0rLew[SEV]\n",
    "The Woman In The Window (2021) [1080p] [WEBRip] [5.1] [YTS.MX]\n",
    "The World Made Straight (2015) [1080p]\n",
    "The World's End (2013) [1080p]\n",
    "The.Boy.and.the.Heron.2023.DUBBED.720p.AMZN.WEBRip.800MB.x264-GalaxyRG[TGx]\n",
    "The.Courier.2020.1080p.WEBRip.DD5.1.x264-CM\n",
    "The.Dark.Tower.2017.1080p.BluRay.x264-[YTS.AG].mp4\n",
    "The.Expendables.2010.1080p.BrRip.x264.YIFY.mp4\n",
    "The.Fall.Guy.2024.1080p.AMZN.WEBRip.1400MB.DD5.1.x264-GalaxyRG[TGx]\n",
    "The.Gilded.Age.S02E01.1080p.HEVC.x265-MeGusta[TGx]\n",
    "The.Gilded.Age.S02E05.iNTERNAL.1080p.HEVC.x265-MeGusta[eztv.li].mkv\n",
    "The.Green.Knight.2021.1080p.WEBRip.x265-RBG\n",
    "The.Hobbit.Battle.Of.The.Five.Armies.2014.1080p.WEBRip.x264-tomcat12[ETRG]\n",
    "The.Hyperions.2022.1080p.WEBRip.x265-RARBG\n",
    "The.King's.Man.2021.1080p.10bit.WEBRip.6CH.x265.HEVC-PSA\n",
    "The.Marksman.2021.1080p.WEBRip.x264-RARBG\n",
    "The.Matrix.Resurrections.2021.1080p.10bit.WEBRip.6CH.x265.HEVC-PSA\n",
    "The.Mechanic.2.Resurrection.2016.1080p.BluRay.x265.10bit-z97\n",
    "The.Ministry.of.Ungentlemanly.Warfare.2024.1080p.AMZN.WEBRip.1400MB.DD5.1.x264-GalaxyRG[TGx]\n",
    "The.Misfits.2021.1080p.AMZN.WEBRip.DDP5.1.x264-CM\n",
    "The.New.Mutants.2020.1080p.BluRay.H264.AAC-RARBG\n",
    "The.Protege.2021.1080p.AMZN.WEBRip.DDP2.0.x264-LUT\n",
    "The.Ring.2002.720p.BluRay.999MB.HQ.x265.10bit-GalaxyRG[TGx]\n",
    "The.Super.Mario.Bros.Movie.2023.1080p.WebRip.X264.Will1869.mp4\n",
    "The.Unholy.2021.720p.WEBRip.800MB.x264-GalaxyRG[TGx]\n",
    "The.War.with.Grandpa.2020.720p.WEBRip.800MB.x264-GalaxyRG[TGx]\n",
    "The.Wolfman.2010.720p\n",
    "They Live (1988)\n",
    "This Is Me... Now (2024) [720p] [WEBRip] [YTS.MX]\n",
    "Thor Love And Thunder (2022) [1080p] [WEBRip] [5.1] [YTS.MX]\n",
    "Those Who Wish Me Dead (2021) [1080p] [WEBRip] [5.1] [YTS.MX]\n",
    "Tickle Me (1965) [720p] [BluRay] [YTS.MX]\n",
    "Titanic (1997) [YTS.AG]\n",
    "To Catch A Killer (2023) [1080p] [WEBRip] [5.1] [YTS.MX]\n",
    "To End All War Oppenheimer The Atomic Bomb (2023) [720p] [WEBRip] [YTS.MX]\n",
    "To.Catch.A.Killer.2023.720p.AMZN.WEBRip.800MB.x264-GalaxyRG[TGx]\n",
    "Tommy (1975) [720p] [BluRay] [YTS.MX]\n",
    "Tommy Boy (1995) [BluRay] [720p] [YTS.AM]\n",
    "Top Gun (1986) [1080p]\n",
    "Top Gun Maverick (2022) [IMAX] [REPACK] [1080p] [WEBRip] [5.1] [YTS.MX]\n",
    "Transformers Age of Extinction (2014) [1080p]\n",
    "Transformers Rise Of The Beasts (2023) [1080p] [WEBRip] [x265] [10bit] [5.1] [YTS.MX]\n",
    "Transformers The Last Knight (2017) [1080p] [YTS.AG]\n",
    "Trap (2024) [1080p] [WEBRip] [x265] [10bit] [5.1] [YTS.MX]\n",
    "Trollhunters.Rise.of.the.Titans.2021.720p.NF.WEBRip.800MB.x264-GalaxyRG[TGx]\n",
    "Tucker.The.Man.And.His.Dream.1988.720p.BluRay.x264-[YTS.AM].mp4\n",
    "Turner & Hooch (1989) [1080p] [BluRay] [5.1] [YTS.MX]\n",
    "Turner & Hooch (1989) [720p] [BluRay] [YTS.MX]\n",
    "Turning Red (2022) [1080p] [WEBRip] [5.1] [YTS.MX]\n",
    "Twisters (2024) [1080p] [WEBRip] [5.1] [YTS.MX]\n",
    "Uncharted (2022) [1080p] [WEBRip] [5.1] [YTS.MX]\n",
    "Undefeated (2011) [1080p]\n",
    "Undergods (2020) [1080p] [WEBRip] [5.1] [YTS.MX]\n",
    "Underworld Awakening (2012) [1080p]\n",
    "Underworld Blood Wars (2016) [1080p] [YTS.AG]\n",
    "Underworld EXTENDED (2003) [1080p]\n",
    "Underworld Evolution (2006) [1080p]\n",
    "Underworld Rise of the Lycans (2009) [1080p]\n",
    "Unhinged (2020) [1080p] [BluRay] [5.1] [YTS.MX]\n",
    "V H S Beyond (2024) [1080p] [WEBRip] [x265] [10bit] [5.1] [YTS.MX]\n",
    "Venom The Last Dance (2024) [1080p] [WEBRip] [x265] [10bit] [5.1] [YTS.MX]\n",
    "Venom.Let.There.Be.Carnage.2021.2160p.HDR10Plus.WEBRip.6CH.x265.HEVC-PSA\n",
    "Vesper (2022) [1080p] [WEBRip] [5.1] [YTS.MX]\n",
    "Vicious Fun (2020) [1080p] [BluRay] [YTS.MX]\n",
    "Violent Night (2022) [1080p] [WEBRip] [5.1] [YTS.MX]\n",
    "War Dogs (2016) [1080p] [YTS.AG]\n",
    "War For The Planet Of The Apes (2017) [1080p] [YTS.AG]\n",
    "War Horse (2011)\n",
    "War of the Worlds (2005) [1080p]\n",
    "Warcraft (2016) [1080p] [YTS.AG]\n",
    "Watcher (2022) [720p] [WEBRip] [YTS.MX]\n",
    "Waterworld (1995) [1080p]\n",
    "Werewolf By Night (2022) [1080p] [WEBRip] [5.1] [YTS.MX]\n",
    "West Side Story (2021) [720p] [BluRay] [YTS.MX]\n",
    "What Happened To Monday (2017) [BluRay] [1080p] [YTS.AM]\n",
    "What.is.a.Woman.2022.720p.WEBRip.800MB.x264-GalaxyRG[TGx]\n",
    "Wicked (2024) [1080p] [WEBRip] [x265] [10bit] [5.1] [YTS.MX]\n",
    "Willy's.Wonderland.2021.1080p.10bit.BluRay.6CH.x265.HEVC-PSA\n",
    "Wind.River.2017.1080p.WEB-DL.DD5.1.H264-FGT\n",
    "Winnie The Pooh Blood And Honey (2023) [1080p] [WEBRip] [5.1] [YTS.MX]\n",
    "Witch Hunt (2021) [720p] [WEBRip] [YTS.MX]\n",
    "Wolf Hound (2022) [720p] [WEBRip] [YTS.MX]\n",
    "Wonder Woman (2017) [1080p] [YTS.AG]\n",
    "Wonder.Woman.1984.2020.IMAX.1080p.WEB.H264-NOGRP\n",
    "Wonka (2023) [1080p] [WEBRip] [5.1] [YTS.MX]\n",
    "World War Z (2013) [1080p]\n",
    "Wrath of the Titans (2012) [1080p]\n",
    "Wrath.of.Man.2021.1080p.WEBRip.1400MB.DD5.1.x264-GalaxyRG[TGx]\n",
    "Your Lucky Day (2023) [1080p] [WEBRip] [5.1] [YTS.MX]\n",
    "Zack.Snyders.Justice.League.2021.1080p.HDRip.AAC2.0.x264-PD[TGx]\n",
    "Zero Contact (2022) [1080p] [WEBRip] [5.1] [YTS.MX]\n",
    "Zero Dark Thirty (2012) [1080p]\n",
    "Zodiac (2007)\n",
    "\"\"\""
   ]
  },
  {
   "cell_type": "code",
   "execution_count": 29,
   "id": "2363acec-9b35-4d71-a387-95c278ba944d",
   "metadata": {},
   "outputs": [],
   "source": [
    "for year in range(1980, 2026):\n",
    "    movies = movies.replace(f'({year})', '')"
   ]
  },
  {
   "cell_type": "code",
   "execution_count": 46,
   "id": "e01adf87-1c37-4425-a237-ec88f56f8179",
   "metadata": {},
   "outputs": [],
   "source": [
    "movies = movies.replace('x265', '')"
   ]
  },
  {
   "cell_type": "code",
   "execution_count": 47,
   "id": "885a4656-1c56-46ab-a747-85e108dc3b51",
   "metadata": {},
   "outputs": [],
   "source": [
    "movies = movies.replace('[]', '')"
   ]
  },
  {
   "cell_type": "code",
   "execution_count": 49,
   "id": "ec759857-e697-46c2-a752-ccb2284acbc4",
   "metadata": {},
   "outputs": [],
   "source": [
    "movies = '\\n'.join(m.strip() for m in movies.split('\\n'))"
   ]
  },
  {
   "cell_type": "code",
   "execution_count": 50,
   "id": "ad09d54e-4fca-490d-a7d0-16f03a5080b0",
   "metadata": {},
   "outputs": [
    {
     "name": "stdout",
     "output_type": "stream",
     "text": [
      "\n",
      "12 Monkeys\n",
      "1408\n",
      "2 Fast 2 Furious\n",
      "2 Guns\n",
      "2000.Mules...WEB-DL.. -\n",
      "21 Jump Street\n",
      "22 Jump Street\n",
      "28 Days Later\n",
      "28 Weeks Later\n",
      "30 Minutes or Less\n",
      "300 Rise of an Empire\n",
      "47 Ronin\n",
      "50 First Dates\n",
      "65\n",
      "A Bad Idea Gone Wrong\n",
      "A Beautiful Mind\n",
      "A Christmas Story\n",
      "A Christmas Story\n",
      "A Christmas Story Christmas\n",
      "A Day To Die\n",
      "A Good Person\n",
      "A Haunting In Venice\n",
      "A Man Called Otto\n",
      "A Quiet Place Part II  ( WEB-DL  HEVC  EAC3 Atmos  Bandi)\n",
      "A Very Harold and Kumar Christmas\n",
      "A.Quiet.Place.Day.One.2024...1400MB.DD.\n",
      "About My Father\n",
      "Accident Man\n",
      "Accident Man Hitmans Holiday\n",
      "Adele.One.Night.Only.2021...-\n",
      "Air\n",
      "Alien Romulus\n",
      "All That Jazz (1979)\n",
      "All The Devil's Men\n",
      "All The Little Animals\n",
      "Am I Racist\n",
      "Ambulance\n",
      "American Hustle\n",
      "American Psyco\n",
      "American Traitor The Trial Of Axis Sally\n",
      "Amsterdam\n",
      "Anger Managment\n",
      "Apex.2021...DD.X.264-EVO\n",
      "Aquaman And The Lost Kingdom\n",
      "Arcadian.2024..AMZN..800MB.\n",
      "Armor\n",
      "Arthur.the.King.2024..AMZN..800MB.\n",
      "Artificial Intelligence\n",
      "Ash Dust\n",
      "Assassin Club\n",
      "Athlete A\n",
      "Athlete A\n",
      "Australia\n",
      "Ava\n",
      "Avatar The Way Of Water\n",
      "Azrael\n",
      "Baby Ruby\n",
      "Babylon\n",
      "Bad Times At The El Royale\n",
      "Baghead\n",
      "Bandit\n",
      "Barbarian\n",
      "Bedtime Stories\n",
      "Beetlejuice Beetlejuice\n",
      "Being The Ricardos\n",
      "Belfast\n",
      "Beneath Us All\n",
      "Big Daddy\n",
      "Birds Of Prey And The Fantabulous Emancipation Of One Harley Quinn\n",
      "Black Adam  [REPACK]\n",
      "Black Lake\n",
      "Black Mass\n",
      "Black Widow\n",
      "Blackbird\n",
      "Blade Runner\n",
      "Blood\n",
      "Bloodshot\n",
      "Blowback\n",
      "Blue Beetle\n",
      "Body of Lies\n",
      "Borat.2.Subsequent.Moviefilm.2020.HDRip.XviD.AC3-EVO[TGx]\n",
      "Borderlands\n",
      "Boss.Level.2020...-\n",
      "Boston Strangler\n",
      "Boy.Kills.World.2023...1400MB.DD.\n",
      "Breakfast At Tiffany's (1961)\n",
      "Breathe.2024..AMZN..DDP.x260bit-GalaxyRG265[TGx]\n",
      "Bridge Of The Doomed\n",
      "Brothers\n",
      "Bull\n",
      "Bullet Train\n",
      "Cabaret (1972)\n",
      "Caddo Lake\n",
      "Capone\n",
      "Captive State\n",
      "Carnifex\n",
      "Castle.Falls.2021...-\n",
      "Cellphone\n",
      "Central Intelligence\n",
      "Changing Lanes\n",
      "Chaos.Walking.2021...800MB.\n",
      "Charade (1963)\n",
      "Chef\n",
      "Chicago\n",
      "Christmas Bloody Christmas\n",
      "Christmas Vacation\n",
      "Chupa\n",
      "Cinderella.2021..AMZN..800MB.\n",
      "Clash of the Titans\n",
      "Clean\n",
      "Cocaine Bear\n",
      "Code 8    [YTS.LT]\n",
      "Code 8 Part II\n",
      "Cold Moutians\n",
      "Colonials\n",
      "Conclave\n",
      "Conjuring The Beyond\n",
      "Contraband\n",
      "Cosmic Sin\n",
      "Cowboys and Aliens  EXTENDED    Dual Audio Hindi English AC3  - MeGUiL\n",
      "Crimes.of.the.Future.2022...-\n",
      "Cruella.2021..DSNP.WEB-DL.DDP.Atmos.H.264-CMRG[TGx]\n",
      "Dancer In The Dark\n",
      "Dark Harvest\n",
      "Dark Waters\n",
      "Dark.Cloud.2022...-RBG.mp4\n",
      "Day Shift\n",
      "Dead For A Dollar\n",
      "Deadpool\n",
      "Deadpool 2\n",
      "Deadstream\n",
      "Dear.Evan.Hansen.2021....AAC-.mp4\n",
      "Death On The Nile\n",
      "Death.in.Texas.2021..WEB-DL.DD.H.264-EVO[TGx]\n",
      "Deck The Halls\n",
      "Delirium\n",
      "Delirium.2018.HDRip.XviD.AC3-EVO\n",
      "Demonic Christmas Tree\n",
      "Despicable.Me.4.2024...1400MB.DD.\n",
      "Disenchanted\n",
      "Divergent\n",
      "Doctor Sleep    [YTS.LT]\n",
      "Doctor Strange In The Multiverse Of Madness\n",
      "Dog\n",
      "Dont Suck\n",
      "Dont.Breathe.2.2021...800MB.\n",
      "Downfall\n",
      "Downton Abbey    [YTS.LT]\n",
      "Downton Abbey A New Era\n",
      "Dragon Ball Super Super Hero\n",
      "Dream Scenario\n",
      "Drive\n",
      "Drive Angry\n",
      "Dune\n",
      "Dune.2021..HDRip.X264-EVO[TGx]\n",
      "Dune.Part.Two.2024...DDP2.0.x260bit-GalaxyRG265[TGx]\n",
      "Dungeons Dragons Honor Among Thieves\n",
      "E.T. The Extra-Terrestrial\n",
      "East Of The Mountains\n",
      "Edge of Darkness\n",
      "Edge of Tomorrow\n",
      "Elvis\n",
      "Emily The Criminal\n",
      "Enchanted\n",
      "Ender's Game\n",
      "Enemy\n",
      "Enola Holmes 2\n",
      "Equilibrium\n",
      "Eraser Reborn\n",
      "Escape Room\n",
      "Escape.Room.Tournament.of.Champions.2021.EXTENDED...\n",
      "Eternals\n",
      "Everything Everywhere All At Once\n",
      "Evil Dead Rise\n",
      "Expend4bles\n",
      "Expired.2022...-\n",
      "Extraction\n",
      "Extraction 2\n",
      "F9\n",
      "Fall\n",
      "Fantastic Beasts The Secrets Of Dumbledore\n",
      "Fast Five\n",
      "Fast X\n",
      "Fast and Furious\n",
      "Father Stu\n",
      "Fatman.2020...-\n",
      "Fiddler On The Roof (1971)\n",
      "Fight Club  [REPACK]\n",
      "Finch\n",
      "Find Her\n",
      "Five Nights At Freddys\n",
      "Ford V Ferrari     [YTS.LT]\n",
      "Forrest.Gump.1994....HEVC.6CH.MkvCage.ws.mkv\n",
      "Funny Face (1957)   [YTS.LT]\n",
      "Furiosa A Mad Max Saga\n",
      "Furious 6\n",
      "Furious Seven\n",
      "Gaia  [REPACK]\n",
      "Gangster Squad\n",
      "Get The Gringo\n",
      "Ghostbusters\n",
      "Ghostbusters Afterlife\n",
      "Ghostbusters.Frozen.Empire.2024..AMZN..1400MB.DD.\n",
      "Gladiator\n",
      "Gladiator II\n",
      "Gods Country\n",
      "Godzilla.vs.Kong.2021...-\n",
      "Godzilla.x.Kong.The.New.Empire.2024.REPACK2...1400MB.DD.\n",
      "Goodfellas\n",
      "Gosford Park\n",
      "Green Lantern\n",
      "Green Zone\n",
      "Greenland\n",
      "Gremlins\n",
      "Gretel & Hansel\n",
      "Groundhog Day\n",
      "Groundhog Day\n",
      "Grown Ups\n",
      "Grown Ups 2\n",
      "Guardians Of The Galaxy Vol. 3\n",
      "Guillermo Del Toros Pinocchio\n",
      "Hairspray\n",
      "Halloween Kills\n",
      "Halo Nightfall  [NORDIC]\n",
      "Hannibal Rising\n",
      "Happy Gilmore\n",
      "Harry Potter 20th Anniversary Return To Hogwarts\n",
      "Haunted Mansion\n",
      "Held\n",
      "Hellboy\n",
      "Hellboy The Crooked Man\n",
      "Hellboy The Golden Army\n",
      "Hellraiser\n",
      "Hercules\n",
      "Heretic\n",
      "High Heat\n",
      "Hit.Man.2023...1400MB.DD.\n",
      "Hitmain\n",
      "Hitman.Agent.47.2015..BRRip..AAC-ETRG\n",
      "Home Sweet Home Alone\n",
      "Hot Fuzz\n",
      "House Of Gucci\n",
      "I Am Legend AlTERNATE ENDING\n",
      "IF\n",
      "In The Land Of Saints And Sinners\n",
      "Inception\n",
      "Indiana Jones And The Dial Of Destiny\n",
      "Indiana Jones and the Kingdom of the Crystal Skull\n",
      "Insomnia\n",
      "Interview with the Vampire\n",
      "Into the Woods\n",
      "Invitation To A Murder\n",
      "It\n",
      "It Aint Over\n",
      "It Aint Over\n",
      "It Chapter Two    [YTS.LT]\n",
      "Jack Ryan Shadow Recruit\n",
      "James Bond The World Is Not Enough\n",
      "Jarhead\n",
      "Jingle All the Way EXTENDED\n",
      "John And The Hole\n",
      "John Wick\n",
      "John Wick Chapter 2\n",
      "John Wick Chapter 3 - Parabellum    [YTS.LT]\n",
      "John Wick Chapter 3 - Parabellum    [YTS.LT]\n",
      "John.Wick.Chapter.4.2023.2160p..3999MB.DDP.\n",
      "Jojo Rabbit\n",
      "Joker Folie a Deux\n",
      "Jujutsu Kaisen 0 The Movie  [JAPANESE]\n",
      "Jumper\n",
      "Jungle Cruise\n",
      "Jupiter Ascending\n",
      "Jurassic World Dominion\n",
      "Kandahar\n",
      "Killers Of The Flower Moon\n",
      "Kinds Of Kindness\n",
      "Kiss.Kiss.Bang.Bang.2005...999MB.HQ.x260bit\n",
      "Knives Out\n",
      "Knock At The Cabin\n",
      "Knowing 2009  (  q22 S94 Joy).mkv\n",
      "Kong Skull Island\n",
      "Kraven The Hunter\n",
      "Kronks New Groove\n",
      "La La Land\n",
      "Labyrinth\n",
      "Lake George\n",
      "Lamborghini The Man Behind The Legend\n",
      "Land Of Bad\n",
      "Last Flag Flying\n",
      "Last Night In Soho\n",
      "Last.Looks.2021...800MB.-GalaxyRG.mkv\n",
      "Law.Abiding.Citizen.2009....YIFY.mp4\n",
      "Legion\n",
      "Leo\n",
      "Les Misérables\n",
      "Lightyear\n",
      "Little Dixie\n",
      "Little Fockers\n",
      "Logan\n",
      "Longlegs\n",
      "Lord of War\n",
      "Lou\n",
      "Love Courage And The Battle Of Bushy Run\n",
      "Love.Lies.Bleeding.2024...800MB.\n",
      "Luca 2021 FullHD . Ita Eng AC3  Multisub realDMDJ.mkv\n",
      "M3GAN\n",
      "Mad God\n",
      "Mad Max 2 The Road Warrior\n",
      "Mad Max Beyond Thunderdome\n",
      "Maggie Moore s\n",
      "Malignant\n",
      "Malignant\n",
      "Mamma Mia\n",
      "Mamma Mia! Here We Go Again\n",
      "Manchester By The Sea\n",
      "Manifest West\n",
      "Margin.Call.2011....YIFY.mp4\n",
      "Margin.Call.2011....YIFY.srt\n",
      "Marley and Me\n",
      "Mary Poppins (1964)\n",
      "Mary Poppins Returns\n",
      "May December\n",
      "Mechanic Resurrection\n",
      "Medieval\n",
      "Meet The Fockers\n",
      "Meet The Parents\n",
      "Megalopolis\n",
      "Memento\n",
      "Memory\n",
      "Mile 22\n",
      "Million Dollar Baby\n",
      "Minions More 1\n",
      "Minions The Rise Of Gru\n",
      "Minority Report\n",
      "Mission Impossible\n",
      "Mission Impossible - Dead Reckoning Part One\n",
      "Mission Impossible - Fallout\n",
      "Mission Impossible Ghost Protocol\n",
      "Mission Impossible II\n",
      "Mission Impossible III\n",
      "Mission Impossible Rogue Nation\n",
      "Mona Lisa And The Blood Moon\n",
      "Money Monster\n",
      "Moneyball\n",
      "Monkey.Man.2024..AMZN..800MB.\n",
      "Monolith\n",
      "Monster.Hunter.2020..AMZN..DDP.-NTG\n",
      "Monsters Of Man\n",
      "Monstrous\n",
      "Moonfall\n",
      "Morbius\n",
      "Mortal Kombat\n",
      "Mortdecai\n",
      "Moulin Rouge!\n",
      "Mr Nobody\n",
      "Mr. Harrigans Phone\n",
      "Mufasa The Lion King\n",
      "Mulan.2020..DSNP..DDP.-NOGRP\n",
      "Murder At Yellowstone City\n",
      "Murder Mystery    [YTS.LT]\n",
      "Murder Mystery 2\n",
      "My Big Fat Greek Wedding 3\n",
      "My Big Fat Greek Wedding 3\n",
      "My Fair Lady (1964)\n",
      "My.Son.Hunter.2022...800MB.-GalaxyRG.mkv\n",
      "Mythica A Quest For Heroes\n",
      "Nashville (1975)\n",
      "National Treasure Book of Secrets\n",
      "News.of.the.World.2020...-\n",
      "Nightfire\n",
      "Nightmare Alley\n",
      "Nine Days\n",
      "No Man of God  (   HEVC  AAC  Tigole)\n",
      "No One Lives    [YTS.LT]\n",
      "No.Time.To.Die.2021...-\n",
      "Nobody.2021...1400MB.DD.\n",
      "Nocebo\n",
      "Nocturnal Animals\n",
      "North Country    [YTS.LT]\n",
      "Nosferatu\n",
      "Now You See Me\n",
      "Now.You.See.Me.2.2016...6CH.ShAaNiG.mkv\n",
      "Nutcrackers\n",
      "Obi-Wan Kenobi\n",
      "Oblivion\n",
      "Oddity\n",
      "Old Henry\n",
      "Old Man\n",
      "One Day As A Lion\n",
      "One Shot\n",
      "Oppenheimer\n",
      "Out of the Furnace\n",
      "Out of the Furnace 2013    AAC - Ozlem\n",
      "Overlord\n",
      "Paint\n",
      "Palmer\n",
      "Panic Room\n",
      "Paradise Highway\n",
      "Percy Vs Goliath\n",
      "Pet Sematary Bloodlines\n",
      "Pig.2021...-\n",
      "Pirates Of The Caribbean Dead Men Tell No Tales\n",
      "Pirates of the Caribbean Dead Men Tell No Tales   BrRip  - VPPV\n",
      "Pitch Black\n",
      "Pixels\n",
      "Planet of the Apes\n",
      "Play Dead\n",
      "Poltergeist\n",
      "Poltergeist\n",
      "Predestination\n",
      "Pride and Prejudice\n",
      "Pride and Prejudice\n",
      "Priscilla\n",
      "Prison Break The Final Break\n",
      "Prisoners\n",
      "Prisoners.of.the.Ghostland.2021...-\n",
      "Prizefighter The Life Of Jem Belcher\n",
      "Project.Gemini.2022....AAC-\n",
      "Public Enemies\n",
      "Pulp.Fiction.1994..BrRip..YIFY.mp4\n",
      "Pulp.Fiction.1994..BrRip..YIFY.srt\n",
      "Puss In Boots\n",
      "Puss In Boots The Last Wish\n",
      "R.I.P.D.2.Rise.of.the.Damned.2022...800MB.\n",
      "Ravens Hollow\n",
      "Ray Donovan The Movie\n",
      "Raya.and.the.Last.Dragon.2021..DSNP..DDP.-TOMMY\n",
      "Real Steel\n",
      "Rebel Moon - Part One A Child Of Fire\n",
      "Rebel.Moon.Part.Two.The.Scargiver.2024..NF..1400MB.DD.\n",
      "Red Dawn\n",
      "Red Dawn\n",
      "Red One\n",
      "Red.Stone.2021...-\n",
      "Redemption\n",
      "Rememory\n",
      "Reminiscence.2021...-\n",
      "Renfield\n",
      "Reptile\n",
      "Rescue Dawn\n",
      "Rescued By Ruby\n",
      "Reservoir Dogs\n",
      "Reservoir Dogs\n",
      "Resident Evil\n",
      "Resident Evil Afterlife\n",
      "Resident Evil Apocalypse\n",
      "Resident Evil Extinction\n",
      "Resident Evil Retribution\n",
      "Resident Evil The Final Chapter\n",
      "Resident.Evil.Welcome.to.Raccoon.City.2021...-\n",
      "Road.House.2024..AMZN..1400MB.DD.\n",
      "Robert The Bruce    [YTS.LT]\n",
      "Rogue Agent\n",
      "Roman Holiday (1953)\n",
      "Run.Hide.Fight.2020...-\n",
      "Runner Runner\n",
      "SAS Red Notice\n",
      "SOUTH.PARK.JOINING.THE.PANDERVERSE.2023...400MB.\n",
      "Sabrina (1954)\n",
      "Salems Lot\n",
      "Samaritan\n",
      "Scarface\n",
      "Scary Movie\n",
      "Scoop\n",
      "Secret Headquarters\n",
      "Section 8\n",
      "Selfless\n",
      "Senna\n",
      "Serenity\n",
      "Seriously Red\n",
      "Settlers\n",
      "Seventh Son\n",
      "Shadow Dancer  [REPACK]\n",
      "Shallow Hal\n",
      "Shang-Chi.And.The.Legend.Of.The.Ten.Rings.2021....AAC-\n",
      "Shazam Fury Of The Gods\n",
      "Shut.In.2022...-\n",
      "Shutter Island\n",
      "Silent Hill Revelation\n",
      "Silent Hills\n",
      "Silent Night\n",
      "Singin' In The Rain (1952)\n",
      "Skull\n",
      "Skyfall\n",
      "Sleepless In Seattle\n",
      "Slingshot\n",
      "Small Things Like These\n",
      "Smile\n",
      "Smile.2022..HC..800MB.\n",
      "Snake Eyes\n",
      "Snowden.2016.HDRip.XviD.AC3-EVO.avi\n",
      "South Park  Season 26 S26 ( HMAX WEB-DL  HEVC  AC3  Silence)\n",
      "South Park Post COVID\n",
      "South Park The Streaming Wars\n",
      "South Park The Streaming Wars Part 2\n",
      "South.Park.Not.Suitable.For.Children.2023...AAC.s.-Rapta.mkv\n",
      "South.Park.Post.Covid.The.Return.of.Covid.2021..AMZN..DD.X.264-EVO\n",
      "South.Park.The.End.of.Obesity.2024.....mkv\n",
      "Soylent Green (1973)\n",
      "Spectre\n",
      "Spider-Man Far From Home    [YTS.LT]\n",
      "Spider-Man No Way Home\n",
      "Spiderhead\n",
      "Spirited\n",
      "Spy Game\n",
      "Star Trek\n",
      "Star Trek Beyond\n",
      "Star.Wars.The.Book.Of.Boba.Fett.Hardcover.Edition..-NumeralJ.mkv\n",
      "Step Brothers\n",
      "Stowaway\n",
      "Subservience\n",
      "Sunray Fallen Soldier\n",
      "Super.8.2011....AAC- 2.mp4\n",
      "Sweeney Todd\n",
      "Sympathy For The Devil\n",
      "Tarot.2024...1400MB.DD.\n",
      "Taxi Driver (1976)\n",
      "Terminator 2\n",
      "Terminator 3 Rise of The Machines\n",
      "Terminator Genisys\n",
      "Terminator Salvation DIRECTORS CUT\n",
      "Terrifier 2\n",
      "Terror On The Prairie\n",
      "The Accursed\n",
      "The Adam Project\n",
      "The Adjustment Bureau\n",
      "The Amityvill Horror  [ ]\n",
      "The Angry Birds Movie 2    [YTS.LT]\n",
      "The Art Of Racing In The Rain    [YTS.LT]\n",
      "The Art Of Self-Defense    [YTS.LT]\n",
      "The Art Of Self-Defense    [YTS.LT]\n",
      "The Assassination Of Jesse James By The Coward Robert Ford\n",
      "The Banshees Of Inisherin\n",
      "The Batman\n",
      "The Beekeeper\n",
      "The Best Man\n",
      "The Beta Test\n",
      "The Big Short\n",
      "The Birdcage\n",
      "The Boogeyman\n",
      "The Boss Baby Family Business 2021    700MB - ShortRips.mkv\n",
      "The Call Of The Wild\n",
      "The Cannonball Run\n",
      "The Card Counter\n",
      "The Channel\n",
      "The Chronicles Of Riddick\n",
      "The Commuter\n",
      "The Conjuring The Devil Made Me Do It\n",
      "The Contractor\n",
      "The Covenant\n",
      "The Crow\n",
      "The Death Of Stalin\n",
      "The Departed\n",
      "The Djinn\n",
      "The Dunes\n",
      "The Emperor's New Groove\n",
      "The Empty Man\n",
      "The Equalizer 2\n",
      "The Equalizer 3\n",
      "The Expendables\n",
      "The Expendables 2\n",
      "The Expendables 3\n",
      "The Fast and the Furious\n",
      "The Fast and the Furious Tokyo Drift\n",
      "The Fate Of The Furious\n",
      "The Fifth Element 1997 Remastered   HEVC   BONE.mkv\n",
      "The Fighter\n",
      "The Flash\n",
      "The Forever Purge\n",
      "The Game\n",
      "The Girl In The Spider's Web\n",
      "The Good Neighbor\n",
      "The Greatest Showman\n",
      "The Guardians Of The Galaxy Holiday Special\n",
      "The Hills Have Eyes\n",
      "The Hitchhiker's Guide to the Galaxy\n",
      "The Hitmans Wifes Bodyguard\n",
      "The Hours\n",
      "The Hunger Games The Ballad Of Songbirds Snakes\n",
      "The Hunt\n",
      "The Hurt Locker\n",
      "The Illusionist\n",
      "The Impossible  _BRrip_scOrp_sujaidr\n",
      "The Incredible Hulk\n",
      "The Instigators\n",
      "The Invitation\n",
      "The Killer\n",
      "The Killers Game\n",
      "The Kingdom\n",
      "The Kitchen    [YTS.LT]\n",
      "The Last Detail (1973)\n",
      "The Last Duel\n",
      "The Last Heist\n",
      "The Last Kingdom Seven Kings Must Die\n",
      "The Last Manhunt\n",
      "The Last Possession\n",
      "The Last Voyage Of The Demeter\n",
      "The Last Voyage Of The Demeter  [AUDIO FIX] [REPACK]\n",
      "The Last Witch Hunter\n",
      "The Last Witness\n",
      "The Locksmith\n",
      "The Lone Ranger\n",
      "The Losers\n",
      "The Lost City\n",
      "The Machine\n",
      "The Man Who Invented Christmas\n",
      "The Marvels\n",
      "The Matrix\n",
      "The Matrix Reloaded\n",
      "The Matrix Revolutions\n",
      "The Mechanic\n",
      "The Menu\n",
      "The Minute You Wake Up Dead\n",
      "The Mist\n",
      "The Mist\n",
      "The Mole Undercover In North Korea\n",
      "The Money Pit\n",
      "The Mummy\n",
      "The Mummy\n",
      "The Mummy Returns\n",
      "The Mummy Tomb of the Dragon Emperor\n",
      "The Nice Guys\n",
      "The Night House\n",
      "The Northman\n",
      "The Notebook\n",
      "The Nun\n",
      "The Nun II\n",
      "The Pale Blue Eye\n",
      "The Phantom of the Opera\n",
      "The Place Beyond the Pines\n",
      "The Popes Exorcist\n",
      "The Portable Door\n",
      "The Power Of The Dog\n",
      "The Price We Pay\n",
      "The Promise\n",
      "The Promised Land\n",
      "The Ritual\n",
      "The Salvation\n",
      "The Scorpion King\n",
      "The Scorpion King 2 Rise Of A Warrior\n",
      "The Scorpion King 3 Battle For Redemption\n",
      "The Scorpion King 4 Quest For Power\n",
      "The Scorpion King Book Of Souls\n",
      "The Shift\n",
      "The Shining\n",
      "The Silent Hour\n",
      "The Sixth Secret\n",
      "The Sixth Sense\n",
      "The Sorcerer's Apprentice\n",
      "The Sound of Music (1965)\n",
      "The Stairs\n",
      "The Suicide Squad\n",
      "The Super Mario Bros. Movie\n",
      "The Terminator\n",
      "The Tomorrow War\n",
      "The Tourist\n",
      "The Towering Inferno (1974)\n",
      "The Town EXTENDED\n",
      "The Tutor\n",
      "The Valet\n",
      "The Vault\n",
      "The Visit\n",
      "The Void\n",
      "The Wall\n",
      "The Water Horse\n",
      "The Whale\n",
      "The Witcher S03 PART1 4k to  NF WEBrip  DD D0ct0rLew[SEV]\n",
      "The Woman In The Window\n",
      "The World Made Straight\n",
      "The World's End\n",
      "The.Boy.and.the.Heron.2023.DUBBED..AMZN..800MB.\n",
      "The.Courier.2020...DD.-CM\n",
      "The.Dark.Tower.2017...-.mp4\n",
      "The.Expendables.2010..BrRip..YIFY.mp4\n",
      "The.Fall.Guy.2024..AMZN..1400MB.DD.\n",
      "The.Gilded.Age.S02E01..HEVC.-MeGusta[TGx]\n",
      "The.Gilded.Age.S02E05.iNTERNAL..HEVC.-MeGusta[eztv.li].mkv\n",
      "The.Green.Knight.2021...-RBG\n",
      "The.Hobbit.Battle.Of.The.Five.Armies.2014...-tomcat12[ETRG]\n",
      "The.Hyperions.2022...-\n",
      "The.King's.Man.2021....\n",
      "The.Marksman.2021...-\n",
      "The.Matrix.Resurrections.2021....\n",
      "The.Mechanic.2.Resurrection.2016...x260bit-z97\n",
      "The.Ministry.of.Ungentlemanly.Warfare.2024..AMZN..1400MB.DD.\n",
      "The.Misfits.2021..AMZN..DDP.-CM\n",
      "The.New.Mutants.2020....AAC-\n",
      "The.Protege.2021..AMZN..DDP2.0.-LUT\n",
      "The.Ring.2002...999MB.HQ.x260bit\n",
      "The.Super.Mario.Bros.Movie.2023..WebRip.X264.Will1869.mp4\n",
      "The.Unholy.2021...800MB.\n",
      "The.War.with.Grandpa.2020...800MB.\n",
      "The.Wolfman.2010.\n",
      "They Live\n",
      "This Is Me... Now\n",
      "Thor Love And Thunder\n",
      "Those Who Wish Me Dead\n",
      "Tickle Me (1965)\n",
      "Titanic\n",
      "To Catch A Killer\n",
      "To End All War Oppenheimer The Atomic Bomb\n",
      "To.Catch.A.Killer.2023..AMZN..800MB.\n",
      "Tommy (1975)\n",
      "Tommy Boy\n",
      "Top Gun\n",
      "Top Gun Maverick  [IMAX] [REPACK]\n",
      "Transformers Age of Extinction\n",
      "Transformers Rise Of The Beasts\n",
      "Transformers The Last Knight\n",
      "Trap\n",
      "Trollhunters.Rise.of.the.Titans.2021..NF..800MB.\n",
      "Tucker.The.Man.And.His.Dream.1988...-.mp4\n",
      "Turner & Hooch\n",
      "Turner & Hooch\n",
      "Turning Red\n",
      "Twisters\n",
      "Uncharted\n",
      "Undefeated\n",
      "Undergods\n",
      "Underworld Awakening\n",
      "Underworld Blood Wars\n",
      "Underworld EXTENDED\n",
      "Underworld Evolution\n",
      "Underworld Rise of the Lycans\n",
      "Unhinged\n",
      "V H S Beyond\n",
      "Venom The Last Dance\n",
      "Venom.Let.There.Be.Carnage.2021.2160p.HDR10Plus..\n",
      "Vesper\n",
      "Vicious Fun\n",
      "Violent Night\n",
      "War Dogs\n",
      "War For The Planet Of The Apes\n",
      "War Horse\n",
      "War of the Worlds\n",
      "Warcraft\n",
      "Watcher\n",
      "Waterworld\n",
      "Werewolf By Night\n",
      "West Side Story\n",
      "What Happened To Monday\n",
      "What.is.a.Woman.2022...800MB.\n",
      "Wicked\n",
      "Willy's.Wonderland.2021....\n",
      "Wind.River.2017..WEB-DL.DD.-FGT\n",
      "Winnie The Pooh Blood And Honey\n",
      "Witch Hunt\n",
      "Wolf Hound\n",
      "Wonder Woman\n",
      "Wonder.Woman.1984.2020.IMAX..WEB.-NOGRP\n",
      "Wonka\n",
      "World War Z\n",
      "Wrath of the Titans\n",
      "Wrath.of.Man.2021...1400MB.DD.\n",
      "Your Lucky Day\n",
      "Zack.Snyders.Justice.League.2021..\n",
      "Zero Contact\n",
      "Zero Dark Thirty\n",
      "Zodiac\n",
      "\n"
     ]
    }
   ],
   "source": [
    "print(movies)"
   ]
  },
  {
   "cell_type": "code",
   "execution_count": null,
   "id": "6f08b28c-9941-4dab-9299-0fd6e217c718",
   "metadata": {},
   "outputs": [],
   "source": []
  }
 ],
 "metadata": {
  "kernelspec": {
   "display_name": "Python 3 (ipykernel)",
   "language": "python",
   "name": "python3"
  },
  "language_info": {
   "codemirror_mode": {
    "name": "ipython",
    "version": 3
   },
   "file_extension": ".py",
   "mimetype": "text/x-python",
   "name": "python",
   "nbconvert_exporter": "python",
   "pygments_lexer": "ipython3",
   "version": "3.13.1"
  }
 },
 "nbformat": 4,
 "nbformat_minor": 5
}
