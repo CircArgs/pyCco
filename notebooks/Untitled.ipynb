{
 "cells": [
  {
   "cell_type": "code",
   "execution_count": 1,
   "id": "ad16637e-edde-483e-9317-afc384804472",
   "metadata": {},
   "outputs": [],
   "source": [
    "from pycco.tokenizers import *"
   ]
  },
  {
   "cell_type": "code",
   "execution_count": 11,
   "id": "2b90ee94-47bb-42a8-ade4-a40568bff719",
   "metadata": {},
   "outputs": [],
   "source": [
    "source_code = \"\"\"\n",
    "int main() {\n",
    "    int x = 42;\n",
    "    printf(\"Hello, World!\");\n",
    "    return 0;\n",
    "}\n",
    "\"\"\""
   ]
  },
  {
   "cell_type": "code",
   "execution_count": 13,
   "id": "c3ddc87b-f6bd-4cc1-affd-57aefc4d7aa0",
   "metadata": {},
   "outputs": [
    {
     "ename": "ValueError",
     "evalue": "Unexpected token at 3:11:\nint main() {\n    int x = 42;\n    printf(\"Hello, World!\");\n           ^\n}\n",
     "output_type": "error",
     "traceback": [
      "\u001b[0;31m---------------------------------------------------------------------------\u001b[0m",
      "\u001b[0;31mValueError\u001b[0m                                Traceback (most recent call last)",
      "Cell \u001b[0;32mIn[13], line 1\u001b[0m\n\u001b[0;32m----> 1\u001b[0m \u001b[38;5;28;01mfor\u001b[39;00m token \u001b[38;5;129;01min\u001b[39;00m \u001b[43mtokenize\u001b[49m\u001b[43m(\u001b[49m\u001b[43msource_code\u001b[49m\u001b[43m)\u001b[49m:\n\u001b[1;32m      2\u001b[0m     \u001b[38;5;28mprint\u001b[39m(token)\n",
      "Cell \u001b[0;32mIn[10], line 21\u001b[0m, in \u001b[0;36mtokenize\u001b[0;34m(source)\u001b[0m\n\u001b[1;32m     19\u001b[0m                 pointer \u001b[38;5;241m=\u001b[39m \u001b[38;5;124m\"\u001b[39m\u001b[38;5;124m \u001b[39m\u001b[38;5;124m\"\u001b[39m\u001b[38;5;241m*\u001b[39mindex\u001b[38;5;241m+\u001b[39m\u001b[38;5;124m\"\u001b[39m\u001b[38;5;124m^\u001b[39m\u001b[38;5;124m\"\u001b[39m\n\u001b[1;32m     20\u001b[0m                 after \u001b[38;5;241m=\u001b[39m \u001b[38;5;124m\"\u001b[39m\u001b[38;5;130;01m\\n\u001b[39;00m\u001b[38;5;124m\"\u001b[39m\u001b[38;5;241m.\u001b[39mjoin(lines[line_number\u001b[38;5;241m+\u001b[39m\u001b[38;5;241m2\u001b[39m:])\n\u001b[0;32m---> 21\u001b[0m                 \u001b[38;5;28;01mraise\u001b[39;00m \u001b[38;5;167;01mValueError\u001b[39;00m(\u001b[38;5;124mf\u001b[39m\u001b[38;5;124m\"\"\"\u001b[39m\u001b[38;5;124mUnexpected token at \u001b[39m\u001b[38;5;132;01m{\u001b[39;00mline_number\u001b[38;5;132;01m}\u001b[39;00m\u001b[38;5;124m:\u001b[39m\u001b[38;5;132;01m{\u001b[39;00mindex\u001b[38;5;132;01m}\u001b[39;00m\u001b[38;5;124m:\u001b[39m\n\u001b[1;32m     22\u001b[0m \u001b[38;5;132;01m{\u001b[39;00mbefore\u001b[38;5;132;01m}\u001b[39;00m\n\u001b[1;32m     23\u001b[0m \u001b[38;5;132;01m{\u001b[39;00mpointer\u001b[38;5;132;01m}\u001b[39;00m\n\u001b[1;32m     24\u001b[0m \u001b[38;5;132;01m{\u001b[39;00mafter\u001b[38;5;132;01m}\u001b[39;00m\n\u001b[1;32m     25\u001b[0m \u001b[38;5;124m\"\"\"\u001b[39m)\n\u001b[1;32m     26\u001b[0m             \u001b[38;5;28;01mif\u001b[39;00m token\u001b[38;5;241m.\u001b[39mkind \u001b[38;5;241m!=\u001b[39m TokenKind\u001b[38;5;241m.\u001b[39mWHITESPACE:  \u001b[38;5;66;03m# Optionally, skip whitespace tokens\u001b[39;00m\n\u001b[1;32m     27\u001b[0m                 ret\u001b[38;5;241m.\u001b[39mappend(token)\n",
      "\u001b[0;31mValueError\u001b[0m: Unexpected token at 3:11:\nint main() {\n    int x = 42;\n    printf(\"Hello, World!\");\n           ^\n}\n"
     ]
    }
   ],
   "source": [
    "for token in tokenize(source_code):\n",
    "    print(token)"
   ]
  },
  {
   "cell_type": "code",
   "execution_count": null,
   "id": "20db9086-5644-45b2-aa20-b5dbac88216d",
   "metadata": {},
   "outputs": [],
   "source": []
  }
 ],
 "metadata": {
  "kernelspec": {
   "display_name": "Python 3 (ipykernel)",
   "language": "python",
   "name": "python3"
  },
  "language_info": {
   "codemirror_mode": {
    "name": "ipython",
    "version": 3
   },
   "file_extension": ".py",
   "mimetype": "text/x-python",
   "name": "python",
   "nbconvert_exporter": "python",
   "pygments_lexer": "ipython3",
   "version": "3.13.1"
  }
 },
 "nbformat": 4,
 "nbformat_minor": 5
}
