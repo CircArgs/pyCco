{
 "cells": [
  {
   "cell_type": "code",
   "execution_count": 13,
   "id": "2b90ee94-47bb-42a8-ade4-a40568bff719",
   "metadata": {},
   "outputs": [],
   "source": [
    "source_code = \"\"\"\n",
    "int main(args) {\n",
    "    int x = 42;\n",
    "        /*\n",
    "    multiline comment\n",
    "    */\n",
    "    printf(\"Hello, World!\");\n",
    "    return 0;\n",
    "}\n",
    "\"\"\""
   ]
  },
  {
   "cell_type": "code",
   "execution_count": 14,
   "id": "e44275a4-4f75-41b5-9691-8c627d7ef872",
   "metadata": {},
   "outputs": [
    {
     "data": {
      "text/plain": [
       "[Token(kind=<TokenKind.KEYWORD: 2>, value=<CKeywords.INT: 'int'>, start=4, end=6),\n",
       " Token(kind=<TokenKind.IDENTIFIER: 1>, value='main', start=9, end=12),\n",
       " Token(kind=<TokenKind.SYMBOL: 3>, value='(', start=10, end=10),\n",
       " Token(kind=<TokenKind.IDENTIFIER: 1>, value='args', start=14, end=17),\n",
       " Token(kind=<TokenKind.SYMBOL: 3>, value=')', start=15, end=15),\n",
       " Token(kind=<TokenKind.SYMBOL: 3>, value='{', start=17, end=17),\n",
       " Token(kind=<TokenKind.KEYWORD: 2>, value=<CKeywords.INT: 'int'>, start=25, end=27),\n",
       " Token(kind=<TokenKind.IDENTIFIER: 1>, value='x', start=27, end=27),\n",
       " Token(kind=<TokenKind.OPERATOR: 4>, value='=', start=29, end=29),\n",
       " Token(kind=<TokenKind.NUMBER: 6>, value='42', start=32, end=33),\n",
       " Token(kind=<TokenKind.SYMBOL: 3>, value=';', start=33, end=33),\n",
       " Token(kind=<TokenKind.COMMENT: 7>, value='\\n    multiline comment\\n    ', start=73, end=99),\n",
       " Token(kind=<TokenKind.IDENTIFIER: 1>, value='printf', start=84, end=89),\n",
       " Token(kind=<TokenKind.SYMBOL: 3>, value='(', start=85, end=85),\n",
       " Token(kind=<TokenKind.STRING_LITERAL: 5>, value='Hello, World!', start=100, end=112),\n",
       " Token(kind=<TokenKind.SYMBOL: 3>, value=')', start=101, end=101),\n",
       " Token(kind=<TokenKind.SYMBOL: 3>, value=';', start=102, end=102),\n",
       " Token(kind=<TokenKind.KEYWORD: 2>, value=<CKeywords.RETURN: 'return'>, start=113, end=118),\n",
       " Token(kind=<TokenKind.NUMBER: 6>, value='0', start=115, end=115),\n",
       " Token(kind=<TokenKind.SYMBOL: 3>, value=';', start=116, end=116),\n",
       " Token(kind=<TokenKind.SYMBOL: 3>, value='}', start=118, end=118)]"
      ]
     },
     "execution_count": 14,
     "metadata": {},
     "output_type": "execute_result"
    }
   ],
   "source": [
    "tokenize(source_code)"
   ]
  },
  {
   "cell_type": "code",
   "execution_count": 14,
   "id": "1d063a87-ae19-43b2-8554-c95a06cac812",
   "metadata": {},
   "outputs": [],
   "source": [
    "bad_code = \"\"\"\n",
    "int main() {\n",
    "    int x = 42;\n",
    "    /*\n",
    "    multiline comment\n",
    "    */\n",
    "    printf(Hello, World!\");\n",
    "    return 0;\n",
    "}\n",
    "\"\"\""
   ]
  },
  {
   "cell_type": "code",
   "execution_count": 15,
   "id": "9289690d-cc80-4cba-b456-1423b8091781",
   "metadata": {},
   "outputs": [
    {
     "ename": "ValueError",
     "evalue": "Tokenization Error:\nUnexpected token at line 7, column 25:\n\n    multiline comment\n    */\n    printf(Hello, World!\");\n                        ^\n    return 0;\n}\nExpected one of whitespace, comment, keywords, (one of {, }, (, ), ;, ,, [, ], ., -> @ create_token), (one of +, -, *, /, %, =, ==, !=, <, >, <=, >=, &&, ||, !, &, |, ^, <<, >> @ create_token), number, string literal, identifier.\n",
     "output_type": "error",
     "traceback": [
      "\u001b[0;31m---------------------------------------------------------------------------\u001b[0m",
      "\u001b[0;31mValueError\u001b[0m                                Traceback (most recent call last)",
      "Cell \u001b[0;32mIn[15], line 1\u001b[0m\n\u001b[0;32m----> 1\u001b[0m \u001b[43mtokenize\u001b[49m\u001b[43m(\u001b[49m\u001b[43mbad_code\u001b[49m\u001b[43m)\u001b[49m\n",
      "Cell \u001b[0;32mIn[11], line 123\u001b[0m, in \u001b[0;36mtokenize\u001b[0;34m(source)\u001b[0m\n\u001b[1;32m    122\u001b[0m \u001b[38;5;28;01mdef\u001b[39;00m\u001b[38;5;250m \u001b[39m\u001b[38;5;21mtokenize\u001b[39m(source: \u001b[38;5;28mstr\u001b[39m)\u001b[38;5;241m-\u001b[39m\u001b[38;5;241m>\u001b[39mList[Token]:\n\u001b[0;32m--> 123\u001b[0m     \u001b[38;5;28;01mreturn\u001b[39;00m \u001b[38;5;28;43mlist\u001b[39;49m\u001b[43m(\u001b[49m\u001b[43miter_tokenize\u001b[49m\u001b[43m(\u001b[49m\u001b[43msource\u001b[49m\u001b[43m)\u001b[49m\u001b[43m)\u001b[49m\n",
      "Cell \u001b[0;32mIn[11], line 107\u001b[0m, in \u001b[0;36miter_tokenize\u001b[0;34m(source)\u001b[0m\n\u001b[1;32m    104\u001b[0m     pointer \u001b[38;5;241m=\u001b[39m \u001b[38;5;124m\"\u001b[39m\u001b[38;5;124m \u001b[39m\u001b[38;5;124m\"\u001b[39m \u001b[38;5;241m*\u001b[39m column_number \u001b[38;5;241m+\u001b[39m \u001b[38;5;124m\"\u001b[39m\u001b[38;5;124m^\u001b[39m\u001b[38;5;124m\"\u001b[39m\n\u001b[1;32m    106\u001b[0m     \u001b[38;5;66;03m# Raise detailed error\u001b[39;00m\n\u001b[0;32m--> 107\u001b[0m     \u001b[38;5;28;01mraise\u001b[39;00m \u001b[38;5;167;01mValueError\u001b[39;00m(\n\u001b[1;32m    108\u001b[0m         \u001b[38;5;124mf\u001b[39m\u001b[38;5;124m\"\u001b[39m\u001b[38;5;124mTokenization Error:\u001b[39m\u001b[38;5;130;01m\\n\u001b[39;00m\u001b[38;5;124m\"\u001b[39m\n\u001b[1;32m    109\u001b[0m         \u001b[38;5;124mf\u001b[39m\u001b[38;5;124m\"\u001b[39m\u001b[38;5;124mUnexpected token at line \u001b[39m\u001b[38;5;132;01m{\u001b[39;00mline_number\u001b[38;5;250m \u001b[39m\u001b[38;5;241m+\u001b[39m\u001b[38;5;250m \u001b[39m\u001b[38;5;241m1\u001b[39m\u001b[38;5;132;01m}\u001b[39;00m\u001b[38;5;124m, column \u001b[39m\u001b[38;5;132;01m{\u001b[39;00mcolumn_number\u001b[38;5;250m \u001b[39m\u001b[38;5;241m+\u001b[39m\u001b[38;5;250m \u001b[39m\u001b[38;5;241m1\u001b[39m\u001b[38;5;132;01m}\u001b[39;00m\u001b[38;5;124m:\u001b[39m\u001b[38;5;130;01m\\n\u001b[39;00m\u001b[38;5;130;01m\\n\u001b[39;00m\u001b[38;5;124m\"\u001b[39m\n\u001b[1;32m    110\u001b[0m         \u001b[38;5;124mf\u001b[39m\u001b[38;5;124m\"\u001b[39m\u001b[38;5;132;01m{\u001b[39;00mbefore_error\u001b[38;5;132;01m}\u001b[39;00m\u001b[38;5;130;01m\\n\u001b[39;00m\u001b[38;5;124m\"\u001b[39m\n\u001b[1;32m    111\u001b[0m         \u001b[38;5;124mf\u001b[39m\u001b[38;5;124m\"\u001b[39m\u001b[38;5;132;01m{\u001b[39;00merror_line\u001b[38;5;132;01m}\u001b[39;00m\u001b[38;5;130;01m\\n\u001b[39;00m\u001b[38;5;124m\"\u001b[39m\n\u001b[1;32m    112\u001b[0m         \u001b[38;5;124mf\u001b[39m\u001b[38;5;124m\"\u001b[39m\u001b[38;5;132;01m{\u001b[39;00mpointer\u001b[38;5;132;01m}\u001b[39;00m\u001b[38;5;130;01m\\n\u001b[39;00m\u001b[38;5;124m\"\u001b[39m\n\u001b[1;32m    113\u001b[0m         \u001b[38;5;124mf\u001b[39m\u001b[38;5;124m\"\u001b[39m\u001b[38;5;132;01m{\u001b[39;00mafter_error\u001b[38;5;132;01m}\u001b[39;00m\u001b[38;5;130;01m\\n\u001b[39;00m\u001b[38;5;124m\"\u001b[39m\n\u001b[1;32m    114\u001b[0m         \u001b[38;5;124mf\u001b[39m\u001b[38;5;124m\"\u001b[39m\u001b[38;5;124mExpected \u001b[39m\u001b[38;5;132;01m{\u001b[39;00mdescription\u001b[38;5;132;01m}\u001b[39;00m\u001b[38;5;124m.\u001b[39m\u001b[38;5;130;01m\\n\u001b[39;00m\u001b[38;5;124m\"\u001b[39m\n\u001b[1;32m    115\u001b[0m     )\n\u001b[1;32m    117\u001b[0m \u001b[38;5;28;01mif\u001b[39;00m token\u001b[38;5;241m.\u001b[39mkind \u001b[38;5;241m!=\u001b[39m TokenKind\u001b[38;5;241m.\u001b[39mWHITESPACE:  \u001b[38;5;66;03m# Optionally, skip whitespace tokens\u001b[39;00m\n\u001b[1;32m    118\u001b[0m     \u001b[38;5;28;01myield\u001b[39;00m token\n",
      "\u001b[0;31mValueError\u001b[0m: Tokenization Error:\nUnexpected token at line 7, column 25:\n\n    multiline comment\n    */\n    printf(Hello, World!\");\n                        ^\n    return 0;\n}\nExpected one of whitespace, comment, keywords, (one of {, }, (, ), ;, ,, [, ], ., -> @ create_token), (one of +, -, *, /, %, =, ==, !=, <, >, <=, >=, &&, ||, !, &, |, ^, <<, >> @ create_token), number, string literal, identifier.\n"
     ]
    }
   ],
   "source": [
    "tokenize(bad_code)"
   ]
  },
  {
   "cell_type": "code",
   "execution_count": 16,
   "id": "20db9086-5644-45b2-aa20-b5dbac88216d",
   "metadata": {},
   "outputs": [
    {
     "data": {
      "text/plain": [
       "Parser(one of whitespace, comment, keywords, (one of {, }, (, ), ;, ,, [, ], ., -> @ create_token), (one of +, -, *, /, %, =, ==, !=, <, >, <=, >=, &&, ||, !, &, |, ^, <<, >> @ create_token), number, string literal, identifier)"
      ]
     },
     "execution_count": 16,
     "metadata": {},
     "output_type": "execute_result"
    }
   ],
   "source": [
    "tokenizer"
   ]
  },
  {
   "cell_type": "code",
   "execution_count": null,
   "id": "7330a2e2-8f1c-4491-8239-2fd7a2445851",
   "metadata": {},
   "outputs": [],
   "source": []
  }
 ],
 "metadata": {
  "kernelspec": {
   "display_name": "Python 3 (ipykernel)",
   "language": "python",
   "name": "python3"
  },
  "language_info": {
   "codemirror_mode": {
    "name": "ipython",
    "version": 3
   },
   "file_extension": ".py",
   "mimetype": "text/x-python",
   "name": "python",
   "nbconvert_exporter": "python",
   "pygments_lexer": "ipython3",
   "version": "3.13.1"
  }
 },
 "nbformat": 4,
 "nbformat_minor": 5
}
