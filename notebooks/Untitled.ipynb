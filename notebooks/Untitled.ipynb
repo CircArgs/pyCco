{
 "cells": [
  {
   "cell_type": "code",
   "execution_count": 1,
   "id": "2d134e5d-774a-469a-8ac4-b23feae5a96c",
   "metadata": {},
   "outputs": [],
   "source": [
    "from pycco.parsers import *"
   ]
  },
  {
   "cell_type": "code",
   "execution_count": 2,
   "id": "df1422b8-00d8-4e01-b1b9-bbcafd11339c",
   "metadata": {},
   "outputs": [
    {
     "data": {
      "text/plain": [
       "ParserResult(position=Position(index=0), result=[], description=(type + optional '*' + identifier sep_by Token(kind=<TokenKind.SYMBOL: 4>, value=',', start=-1, end=-1)), error=None)"
      ]
     },
     "execution_count": 2,
     "metadata": {},
     "output_type": "execute_result"
    }
   ],
   "source": [
    "params_list([tokenize('int sum(void) { return a; }')[3]])"
   ]
  },
  {
   "cell_type": "code",
   "execution_count": 3,
   "id": "504af5ed-a431-4244-9c01-46048aa3e293",
   "metadata": {},
   "outputs": [
    {
     "data": {
      "text/plain": [
       "Parser(Token(kind=<TokenKind.TYPE: 3>, value='void', start=-1, end=-1))"
      ]
     },
     "execution_count": 3,
     "metadata": {},
     "output_type": "execute_result"
    }
   ],
   "source": [
    "function_args(tokenize('''\n",
    "(void) { return a; }\n",
    "''')).result"
   ]
  },
  {
   "cell_type": "code",
   "execution_count": 3,
   "id": "72c2a5d4-028c-4119-827f-7dbd891d1bbf",
   "metadata": {},
   "outputs": [
    {
     "name": "stdout",
     "output_type": "stream",
     "text": [
      "Automatic pdb calling has been turned ON\n"
     ]
    }
   ],
   "source": [
    "%pdb"
   ]
  },
  {
   "cell_type": "code",
   "execution_count": 4,
   "id": "8348ee3f-4d7e-4abc-91f1-a96e50168320",
   "metadata": {},
   "outputs": [
    {
     "name": "stdout",
     "output_type": "stream",
     "text": [
      "\n",
      "int sum(void)\n",
      "{\n",
      "\n",
      "\treturn a;\n",
      "}\n",
      "\n",
      "\n"
     ]
    }
   ],
   "source": [
    "print(parse_c_code('''\n",
    "//yolo\n",
    "int sum() { return a; }\n",
    "'''))"
   ]
  },
  {
   "cell_type": "code",
   "execution_count": 7,
   "id": "ccf7b750-87da-49bd-9c80-a28ae899506f",
   "metadata": {},
   "outputs": [],
   "source": [
    "    source = \"int sum(int a, int b) { return a; }\"\n",
    "    ast = parse_c_code(source)\n",
    "    assert isinstance(ast, Code)\n",
    "    assert len(ast.statements) == 1\n",
    "\n",
    "    func = ast.statements[0]\n",
    "    assert isinstance(func, Function)\n",
    "    # function var: \"int sum\"\n",
    "    assert isinstance(func.var, VariableDecl)\n",
    "    assert func.var.type.name == \"int\"\n",
    "    assert func.var.type.pointer is False\n",
    "    assert isinstance(func.var.name, Ident)\n",
    "    assert func.var.name.name == \"sum\"\n",
    "\n",
    "    # arguments\n",
    "    assert len(func.args) == 2\n",
    "    arg1, arg2 = func.args\n",
    "    assert isinstance(arg1, Arg)\n",
    "    assert arg1.type.name == \"int\"\n",
    "    assert arg1.type.pointer is False\n",
    "    assert isinstance(arg1.name, Ident)\n",
    "    assert arg1.name.name == \"a\"\n",
    "\n",
    "    assert isinstance(arg2, Arg)\n",
    "    assert arg2.type.name == \"int\"\n",
    "    assert arg2.type.pointer is False\n",
    "    assert isinstance(arg2.name, Ident)\n",
    "    assert arg2.name.name == \"b\"\n",
    "\n",
    "    # Check body\n",
    "    assert len(func.body) == 0  # Contains the return statement\n",
    "    assert isinstance(func.ret, Return)\n",
    "    assert isinstance(func.ret.value, Ident)\n",
    "    assert func.ret.value.name == \"a\""
   ]
  },
  {
   "cell_type": "code",
   "execution_count": 6,
   "id": "06756093-93f5-4b2e-9b2d-bbf865d37771",
   "metadata": {},
   "outputs": [
    {
     "data": {
      "text/plain": [
       "[]"
      ]
     },
     "execution_count": 6,
     "metadata": {},
     "output_type": "execute_result"
    }
   ],
   "source": [
    "func.body"
   ]
  },
  {
   "cell_type": "code",
   "execution_count": 3,
   "id": "a553d7ef-b731-407f-9e4e-d4a730da8bca",
   "metadata": {},
   "outputs": [
    {
     "ename": "ValueError",
     "evalue": "too many values to unpack (expected 2)",
     "output_type": "error",
     "traceback": [
      "\u001b[0;31m---------------------------------------------------------------------------\u001b[0m",
      "\u001b[0;31mValueError\u001b[0m                                Traceback (most recent call last)",
      "Cell \u001b[0;32mIn[3], line 1\u001b[0m\n\u001b[0;32m----> 1\u001b[0m \u001b[43mparse_c_code\u001b[49m\u001b[43m(\u001b[49m\u001b[38;5;124;43m'\u001b[39;49m\u001b[38;5;124;43m(int x)\u001b[39;49m\u001b[38;5;124;43m'\u001b[39;49m\u001b[43m)\u001b[49m\n",
      "File \u001b[0;32m~/Projects/pyCco/pycco/parsers.py:316\u001b[0m, in \u001b[0;36mparse_c_code\u001b[0;34m(source)\u001b[0m\n\u001b[1;32m    313\u001b[0m     msg \u001b[38;5;241m=\u001b[39m create_error_context(source, offset)\n\u001b[1;32m    314\u001b[0m     \u001b[38;5;28;01mraise\u001b[39;00m ParseError(msg)\n\u001b[0;32m--> 316\u001b[0m consumed_index, node_list \u001b[38;5;241m=\u001b[39m result\n\u001b[1;32m    317\u001b[0m \u001b[38;5;28;01mif\u001b[39;00m consumed_index \u001b[38;5;241m<\u001b[39m \u001b[38;5;28mlen\u001b[39m(tokens):\n\u001b[1;32m    318\u001b[0m     \u001b[38;5;66;03m# leftover tokens\u001b[39;00m\n\u001b[1;32m    319\u001b[0m     leftover \u001b[38;5;241m=\u001b[39m tokens[consumed_index]\n",
      "\u001b[0;31mValueError\u001b[0m: too many values to unpack (expected 2)"
     ]
    }
   ],
   "source": [
    "parse_c_code('(int x)')"
   ]
  },
  {
   "cell_type": "code",
   "execution_count": null,
   "id": "d8ce8da1-8b78-4dbd-b946-43eb55fe6982",
   "metadata": {},
   "outputs": [],
   "source": []
  },
  {
   "cell_type": "code",
   "execution_count": 5,
   "id": "b91e0591-5f9f-4107-83fd-f2c511360482",
   "metadata": {},
   "outputs": [
    {
     "data": {
      "text/plain": [
       "[Token(kind=<TokenKind.TYPE: 3>, value='int', start=34, end=36),\n",
       " Token(kind=<TokenKind.IDENTIFIER: 1>, value='x', start=38, end=38),\n",
       " Token(kind=<TokenKind.SYMBOL: 4>, value=';', start=39, end=39),\n",
       " Token(kind=<TokenKind.EOF: 10>, value=None, start=41, end=41)]"
      ]
     },
     "execution_count": 5,
     "metadata": {},
     "output_type": "execute_result"
    }
   ],
   "source": [
    "tokens"
   ]
  },
  {
   "cell_type": "code",
   "execution_count": 5,
   "id": "0bd816bc-7719-43d1-9a23-2d282a7ceac5",
   "metadata": {},
   "outputs": [
    {
     "data": {
      "text/plain": [
       "ParserResult(position=Position(index=0), result=None, description=None, error=ParseError at index 0: expected EOF, found 't')"
      ]
     },
     "execution_count": 5,
     "metadata": {},
     "output_type": "execute_result"
    }
   ],
   "source": [
    "eof_parser('')"
   ]
  },
  {
   "cell_type": "code",
   "execution_count": 11,
   "id": "4be60d2a-6909-45ff-8393-66519b58045b",
   "metadata": {},
   "outputs": [
    {
     "data": {
      "text/plain": [
       "['j', 'k', 'l']"
      ]
     },
     "execution_count": 11,
     "metadata": {},
     "output_type": "execute_result"
    }
   ],
   "source": [
    "[*'jkl']"
   ]
  },
  {
   "cell_type": "code",
   "execution_count": 10,
   "id": "d8fed70f-0298-43c3-86ad-3dad7df6d033",
   "metadata": {},
   "outputs": [
    {
     "data": {
      "text/plain": [
       "[Token(kind=<TokenKind.OPERATOR: 5>, value='*', start=0, end=0),\n",
       " Token(kind=<TokenKind.OPERATOR: 5>, value='*', start=1, end=1),\n",
       " Token(kind=<TokenKind.OPERATOR: 5>, value='*', start=2, end=2),\n",
       " Token(kind=<TokenKind.EOF: 10>, value=None, start=4, end=4)]"
      ]
     },
     "execution_count": 10,
     "metadata": {},
     "output_type": "execute_result"
    }
   ],
   "source": [
    "tokenize('*** ')"
   ]
  },
  {
   "cell_type": "code",
   "execution_count": 7,
   "id": "a6a0c22d-8e92-490e-a6bf-1cac0a786412",
   "metadata": {},
   "outputs": [
    {
     "data": {
      "text/plain": [
       "[Token(kind=<TokenKind.TYPE: 3>, value='float', start=0, end=4),\n",
       " Token(kind=<TokenKind.IDENTIFIER: 1>, value='pi', start=6, end=7),\n",
       " Token(kind=<TokenKind.OPERATOR: 5>, value='=', start=9, end=9),\n",
       " Token(kind=<TokenKind.NUMBER: 7>, value='3.14', start=11, end=14),\n",
       " Token(kind=<TokenKind.SYMBOL: 4>, value=';', start=15, end=15),\n",
       " Token(kind=<TokenKind.OPERATOR: 5>, value='/', start=17, end=17),\n",
       " Token(kind=<TokenKind.OPERATOR: 5>, value='/', start=18, end=18),\n",
       " Token(kind=<TokenKind.IDENTIFIER: 1>, value='Initialize', start=20, end=29),\n",
       " Token(kind=<TokenKind.IDENTIFIER: 1>, value='pi', start=31, end=32),\n",
       " Token(kind=<TokenKind.EOF: 10>, value=None, start=34, end=34)]"
      ]
     },
     "execution_count": 7,
     "metadata": {},
     "output_type": "execute_result"
    }
   ],
   "source": [
    "tokens"
   ]
  },
  {
   "cell_type": "code",
   "execution_count": 6,
   "id": "866fd654-c3eb-4bee-a45c-4c4d7b36ecd9",
   "metadata": {},
   "outputs": [
    {
     "name": "stderr",
     "output_type": "stream",
     "text": [
      "[DEBUG] Calling parser '('a' | 'b')' at Position(index=0)\n",
      "[DEBUG] Parser '('a' | 'b')' failed at Position(index=0) with error: ParseError at index 0: expected 'b', found 'c'\n"
     ]
    }
   ],
   "source": [
    "    parser = match(\"a\") | match(\"b\")\n",
    "    stream = \"c\"\n",
    "    position = Position(0)\n",
    "    result = parser(stream, position)"
   ]
  },
  {
   "cell_type": "code",
   "execution_count": 5,
   "id": "9420b09d-757a-4582-8cee-12b9bbe3a31b",
   "metadata": {},
   "outputs": [
    {
     "data": {
      "text/plain": [
       "\"('a' | 'b')\""
      ]
     },
     "execution_count": 5,
     "metadata": {},
     "output_type": "execute_result"
    }
   ],
   "source": [
    "parser.description"
   ]
  },
  {
   "cell_type": "code",
   "execution_count": 74,
   "id": "2e5ff5b2-dfd0-48dc-962d-c23f462e518d",
   "metadata": {},
   "outputs": [
    {
     "data": {
      "text/plain": [
       "ParserResult(index=1, result=[['5']], description=((\"5\" + \" \"?) sep_by \",\"))"
      ]
     },
     "execution_count": 74,
     "metadata": {},
     "output_type": "execute_result"
    }
   ],
   "source": [
    "(match('5')+match(' ').optional()).sep_by(',')('5, 5')"
   ]
  },
  {
   "cell_type": "code",
   "execution_count": 77,
   "id": "27fa2556-caa6-479b-8d8e-73481f1304e6",
   "metadata": {},
   "outputs": [],
   "source": [
    "args(tokenize('(int x  int y)')).result"
   ]
  },
  {
   "cell_type": "code",
   "execution_count": 70,
   "id": "29ea21d8-1203-4943-893a-fd0366113933",
   "metadata": {},
   "outputs": [
    {
     "data": {
      "text/plain": [
       "ParserResult(index=-1, result=None, description=((\"(\" >> ((((\"TYPE\" + \"*\"?) + \"IDENTIFIER\") sep_by \",\") | fn`<lambda>`)) << \")\"))"
      ]
     },
     "execution_count": 70,
     "metadata": {},
     "output_type": "execute_result"
    }
   ],
   "source": [
    "args(tokenize('(void)'))\n",
    "# ParserResult(index=7, result=[VariableDecl(type=Type(name='void', pointer=False), name=Ident(name='x'), semicolon=False), VariableDecl(type=Type(name='int', pointer=False), name=Ident(name='y'), semicolon=False)], description=((\"(\" >> ((((\"TYPE\" + \"*\"?) + \"IDENTIFIER\") sep_by \",\") | \"void\")) << \")\"))"
   ]
  },
  {
   "cell_type": "code",
   "execution_count": null,
   "id": "4374cafc-010a-426c-97b2-50ba664a8e92",
   "metadata": {},
   "outputs": [],
   "source": []
  },
  {
   "cell_type": "code",
   "execution_count": null,
   "id": "740cc989-4ab5-4697-965d-1ae76778e734",
   "metadata": {},
   "outputs": [],
   "source": []
  },
  {
   "cell_type": "code",
   "execution_count": 44,
   "id": "143bfc3e-0d88-4e42-962e-8dfcb35b4d1b",
   "metadata": {},
   "outputs": [
    {
     "data": {
      "text/plain": [
       "ParserResult(index=1, result=void, description=(\"void\" | (((\"TYPE\" + \"*\"?) + \"IDENTIFIER\") sep_by \",\")))"
      ]
     },
     "execution_count": 44,
     "metadata": {},
     "output_type": "execute_result"
    }
   ],
   "source": [
    "(match(void) | variable.sep_by(Token(TokenKind.SYMBOL, \",\")))(tokenize())"
   ]
  },
  {
   "cell_type": "code",
   "execution_count": 49,
   "id": "f783bc03-836e-4a77-bfad-eece1cec17ae",
   "metadata": {},
   "outputs": [
    {
     "data": {
      "text/plain": [
       "[VariableDecl(type=Type(name='void', pointer=False), name=Ident(name='x'), semicolon=False),\n",
       " Token(kind=<TokenKind.SYMBOL: 4>, value=',', start=7, end=7)]"
      ]
     },
     "execution_count": 49,
     "metadata": {},
     "output_type": "execute_result"
    }
   ],
   "source": [
    "(variable<<Token(TokenKind.SYMBOL, \",\")).until(variable)(tokenize('void x, int y')).result"
   ]
  },
  {
   "cell_type": "code",
   "execution_count": 36,
   "id": "b85ed78b-ff1f-46ea-a3db-47ac11929fe7",
   "metadata": {},
   "outputs": [
    {
     "data": {
      "text/plain": [
       "Token(kind=<TokenKind.TYPE: 3>, value='void', start=4, end=7)"
      ]
     },
     "execution_count": 36,
     "metadata": {},
     "output_type": "execute_result"
    }
   ],
   "source": [
    "match(void)(tokenize('void'))"
   ]
  },
  {
   "cell_type": "code",
   "execution_count": 24,
   "id": "4e19e841-bd3e-4cee-92e5-ccd731408799",
   "metadata": {},
   "outputs": [],
   "source": [
    "code='''\n",
    "int main(void) {\n",
    "    // test case w/ multi-digit constant\n",
    "    return 100;\n",
    "}\n",
    "'''"
   ]
  },
  {
   "cell_type": "code",
   "execution_count": 25,
   "id": "eb59fd8e-8fde-465c-82f7-d60f737861e1",
   "metadata": {},
   "outputs": [
    {
     "data": {
      "text/plain": [
       "[Token(kind=<TokenKind.TYPE: 3>, value='int', start=4, end=6),\n",
       " Token(kind=<TokenKind.IDENTIFIER: 1>, value='main', start=9, end=12),\n",
       " Token(kind=<TokenKind.SYMBOL: 4>, value='(', start=10, end=10),\n",
       " Token(kind=<TokenKind.TYPE: 3>, value='void', start=14, end=17),\n",
       " Token(kind=<TokenKind.SYMBOL: 4>, value=')', start=15, end=15),\n",
       " Token(kind=<TokenKind.SYMBOL: 4>, value='{', start=17, end=17),\n",
       " Token(kind=<TokenKind.KEYWORD: 2>, value='return', start=69, end=74),\n",
       " Token(kind=<TokenKind.NUMBER: 7>, value='100', start=73, end=75),\n",
       " Token(kind=<TokenKind.SYMBOL: 4>, value=';', start=74, end=74),\n",
       " Token(kind=<TokenKind.SYMBOL: 4>, value='}', start=76, end=76),\n",
       " Token(kind=<TokenKind.EOF: 10>, value=None, start=77, end=77)]"
      ]
     },
     "execution_count": 25,
     "metadata": {},
     "output_type": "execute_result"
    }
   ],
   "source": [
    "tokenize(code)"
   ]
  },
  {
   "cell_type": "code",
   "execution_count": 26,
   "id": "176ebbee-730f-4d54-89ab-0e4bc5cb2ac5",
   "metadata": {},
   "outputs": [
    {
     "data": {
      "text/plain": [
       "ParserResult(index=-1, result=None, description=((((\"TYPE\" + \"*\"?) + \"IDENTIFIER\") + ((\"(\" >> ((((\"TYPE\" + \"*\"?) + \"IDENTIFIER\") sep_by \",\") | \"void\")) << \")\")) + ((\"{\" >> (expression* + ((\"return\" >> expression) << \";\")?)) << \"}\")))"
      ]
     },
     "execution_count": 26,
     "metadata": {},
     "output_type": "execute_result"
    }
   ],
   "source": [
    "function(tokenize(code))"
   ]
  },
  {
   "cell_type": "code",
   "execution_count": null,
   "id": "6572f042-172c-47dc-903f-ef9f39b9ef33",
   "metadata": {},
   "outputs": [],
   "source": []
  },
  {
   "cell_type": "code",
   "execution_count": null,
   "id": "ed76f403-311b-4952-b294-185eabdbe07b",
   "metadata": {},
   "outputs": [],
   "source": []
  },
  {
   "cell_type": "code",
   "execution_count": null,
   "id": "36aa6c8a-8e4a-41e5-b9b9-a35e9ed29103",
   "metadata": {},
   "outputs": [],
   "source": []
  },
  {
   "cell_type": "code",
   "execution_count": 10,
   "id": "b34bcb71-dc33-41f3-a5ea-37db9eb7b519",
   "metadata": {},
   "outputs": [],
   "source": [
    "ast = parse_c_code('''\n",
    "int main(void){\n",
    "    int x;\n",
    "    int y;\n",
    "    y = 5;\n",
    "    x=(1+ y);\n",
    "    return 1;\n",
    "}''')"
   ]
  },
  {
   "cell_type": "code",
   "execution_count": 11,
   "id": "aea66af2-2a5d-41d0-bf13-25423d537e76",
   "metadata": {},
   "outputs": [],
   "source": [
    "from pprint import pprint"
   ]
  },
  {
   "cell_type": "code",
   "execution_count": 12,
   "id": "e28221bb-ceec-4fa0-99eb-02ce9db9a7f4",
   "metadata": {},
   "outputs": [
    {
     "name": "stdout",
     "output_type": "stream",
     "text": [
      "Code(statements=[Function(var=VariableDecl(type=Type(name='int', pointer=False),\n",
      "                                           name=Ident(name='main'),\n",
      "                                           semicolon=False),\n",
      "                          args=[],\n",
      "                          body=[VariableDecl(type=Type(name='int',\n",
      "                                                       pointer=False),\n",
      "                                             name=Ident(name='x'),\n",
      "                                             semicolon=True),\n",
      "                                VariableDecl(type=Type(name='int',\n",
      "                                                       pointer=False),\n",
      "                                             name=Ident(name='y'),\n",
      "                                             semicolon=True),\n",
      "                                Assign(var=Ident(name='y'),\n",
      "                                       to=Number(value='5',\n",
      "                                                 type=Type(name='int',\n",
      "                                                           pointer=False))),\n",
      "                                Assign(var=Ident(name='x'),\n",
      "                                       to=Parens(inner=BinaryOp(left=Number(value='1',\n",
      "                                                                            type=Type(name='int',\n",
      "                                                                                      pointer=False)),\n",
      "                                                                operator='+',\n",
      "                                                                right=Ident(name='y'))))],\n",
      "                          ret=Return(value=Number(value='1',\n",
      "                                                  type=Type(name='int',\n",
      "                                                            pointer=False))))],\n",
      "     main=None)\n"
     ]
    }
   ],
   "source": [
    "pprint(ast)"
   ]
  },
  {
   "cell_type": "code",
   "execution_count": 13,
   "id": "d37381f8-fe01-4f0f-98fe-2b5fd0b41326",
   "metadata": {},
   "outputs": [
    {
     "name": "stdout",
     "output_type": "stream",
     "text": [
      ".section .text\n",
      ".global main\n",
      "main:\n",
      "    PUSH {LR}    @ Save link register\n",
      "    @ var decl: x\n",
      "    @ var decl: y\n",
      "@ Assignment\n",
      "    MOV R0, #5    @ load immediate 5\n",
      "    STR R0, [R1]    @ store into y\n",
      "@ Assignment\n",
      "    MOV R0, #1    @ load immediate 1\n",
      "    PUSH {R0}\n",
      "    LDR R0, =y    @ Ident y\n",
      "    POP {R1}\n",
      "    ADD R0, R1, R0    @ R0 = R1 + R0\n",
      "    STR R0, [R1]    @ store into x\n",
      "    MOV R0, #1    @ load immediate 1\n",
      "    MOV PC, LR    @ Return from function\n"
     ]
    }
   ],
   "source": [
    "print(ast.compile('arm'))"
   ]
  },
  {
   "cell_type": "code",
   "execution_count": 37,
   "id": "059d2785-1810-495b-80ae-32f264e0b896",
   "metadata": {},
   "outputs": [
    {
     "data": {
      "text/plain": [
       "[Token(kind=<TokenKind.NUMBER: 7>, value='1', start=1, end=1),\n",
       " Token(kind=<TokenKind.OPERATOR: 5>, value='-', start=2, end=2),\n",
       " Token(kind=<TokenKind.IDENTIFIER: 1>, value='x', start=3, end=3)]"
      ]
     },
     "execution_count": 37,
     "metadata": {},
     "output_type": "execute_result"
    }
   ],
   "source": [
    "(expression).until(TokenKind.EOF)(tokenize('1-x')).result"
   ]
  },
  {
   "cell_type": "code",
   "execution_count": 47,
   "id": "14c1f714-e276-40f1-9963-657872b30add",
   "metadata": {},
   "outputs": [
    {
     "data": {
      "text/plain": [
       "[Ident(name='x'),\n",
       " UnaryOp(operator='+', operand=Number(value='1', type=Type(name='int', pointer=False)))]"
      ]
     },
     "execution_count": 47,
     "metadata": {},
     "output_type": "execute_result"
    }
   ],
   "source": [
    "parse_tokens(tokenize('x+1 ')).result"
   ]
  },
  {
   "cell_type": "code",
   "execution_count": 6,
   "id": "ba755dc3-f542-4d1b-9f61-a692c99f4330",
   "metadata": {},
   "outputs": [],
   "source": [
    "# group parens tokens\n",
    "# recurse\n",
    "# no parens -> precedence of binops\n",
    "    # split on highest precendence binop that occurs first\n",
    "    # continue while some binop token exists\n",
    "    # if no binop token exists -> parse with all expressions not including binop (or temp define binop to be something else)"
   ]
  },
  {
   "cell_type": "code",
   "execution_count": 7,
   "id": "cf61349f-9554-418b-a26f-6e07e49c25d3",
   "metadata": {},
   "outputs": [
    {
     "name": "stdout",
     "output_type": "stream",
     "text": [
      "Automatic pdb calling has been turned OFF\n"
     ]
    }
   ],
   "source": [
    "%pdb"
   ]
  },
  {
   "cell_type": "code",
   "execution_count": 23,
   "id": "e483ef6a-1f52-4e48-8ce2-6b948957d4e1",
   "metadata": {},
   "outputs": [],
   "source": []
  },
  {
   "cell_type": "code",
   "execution_count": 24,
   "id": "fedf8641-cbfd-4971-b162-da4baf2523da",
   "metadata": {},
   "outputs": [
    {
     "data": {
      "text/plain": [
       "Parser(parenthesis)"
      ]
     },
     "execution_count": 24,
     "metadata": {},
     "output_type": "execute_result"
    }
   ],
   "source": [
    "parenthesized.describe('parenthesis')"
   ]
  },
  {
   "cell_type": "code",
   "execution_count": 25,
   "id": "beb014de-8b1c-4177-a5a2-c382279e49e7",
   "metadata": {},
   "outputs": [
    {
     "name": "stdout",
     "output_type": "stream",
     "text": [
      "Automatic pdb calling has been turned OFF\n"
     ]
    }
   ],
   "source": [
    "%pdb"
   ]
  },
  {
   "cell_type": "code",
   "execution_count": 28,
   "id": "799d4f4c-046b-4277-a291-961c53de76fb",
   "metadata": {},
   "outputs": [
    {
     "data": {
      "text/plain": [
       "ParserResult(index=5, result=[Ident(name='x')], description=parenthesis)"
      ]
     },
     "execution_count": 28,
     "metadata": {},
     "output_type": "execute_result"
    }
   ],
   "source": [
    "parenthesized(tokenize('(x+1)'))"
   ]
  },
  {
   "cell_type": "code",
   "execution_count": null,
   "id": "2512757d-4a3d-4eb7-bd7c-775a22876aca",
   "metadata": {},
   "outputs": [],
   "source": []
  },
  {
   "cell_type": "code",
   "execution_count": null,
   "id": "d15747ef-cf47-423d-8b76-3ce16ba124be",
   "metadata": {},
   "outputs": [],
   "source": [
    "@parser\n",
    "def binop(stream, index: int):\n",
    "    left"
   ]
  },
  {
   "cell_type": "code",
   "execution_count": 3,
   "id": "cda7a858-13fa-4f27-89be-371994d65e52",
   "metadata": {},
   "outputs": [],
   "source": [
    "non_binop_expression = number | string | ident | paren_expr"
   ]
  },
  {
   "cell_type": "code",
   "execution_count": 2,
   "id": "5404485b-a1d8-4a07-968a-4bdb1df9e41e",
   "metadata": {},
   "outputs": [
    {
     "data": {
      "text/plain": [
       "Parser((((one of UnaryOperator members + None) @ map_unary_op) | ((base_expr + (one of BinaryOperator members + base_expr)*) @ map_binops)))"
      ]
     },
     "execution_count": 2,
     "metadata": {},
     "output_type": "execute_result"
    }
   ],
   "source": [
    "# 1) Our base expression (numbers, strings, ident)\n",
    "\n",
    "base_expr = (number | string | ident | paren_expr).describe(\"base_expr\")\n",
    "\n",
    "\n",
    "# 2) The binop chain\n",
    "def map_binops(parsed_list: List) -> ast.Expression:\n",
    "    \"\"\"\n",
    "    parsed_list = [left_expr, [ (op, right_expr), (op, right_expr), ... ]]\n",
    "    \"\"\"\n",
    "    left = parsed_list[0]\n",
    "    pairs = parsed_list[1]\n",
    "    for (op, right_expr) in pairs:\n",
    "        left = ast.BinaryOp(left, op.value, right_expr)\n",
    "    return left\n",
    "\n",
    "binop = (\n",
    "    base_expr + \n",
    "    ( any_of_enum(BinaryOperator) + base_expr ).many()\n",
    ") @ map_binops\n",
    "\n",
    "# 3) The unary_op (already defined)\n",
    "def map_unary_op(elements: List[Token | ast.Expression]) -> ast.UnaryOp:\n",
    "    op, operand = elements\n",
    "    return ast.UnaryOp(operator=op.value, operand=operand)\n",
    "\n",
    "unary_op = (\n",
    "    any_of_enum(UnaryOperator) + expression\n",
    ") @ map_unary_op\n",
    "\n",
    "# 4) Final expression definition\n",
    "expression.define(\n",
    "    unary_op | binop\n",
    ")\n",
    "\n",
    "# Now 'expression' references a parser that\n",
    "# - tries unary_op first, or\n",
    "# - tries binop (chain of base_expr with binary operators).\n"
   ]
  },
  {
   "cell_type": "code",
   "execution_count": null,
   "id": "d0cd0fa9-5d2b-41a6-8a67-98c7b883fb51",
   "metadata": {},
   "outputs": [],
   "source": []
  },
  {
   "cell_type": "code",
   "execution_count": 8,
   "id": "d7dc2de9-3222-4809-9ac4-2496c75c4065",
   "metadata": {},
   "outputs": [
    {
     "ename": "RecursionError",
     "evalue": "maximum recursion depth exceeded",
     "output_type": "error",
     "traceback": [
      "\u001b[0;31m---------------------------------------------------------------------------\u001b[0m",
      "\u001b[0;31mRecursionError\u001b[0m                            Traceback (most recent call last)",
      "Cell \u001b[0;32mIn[8], line 1\u001b[0m\n\u001b[0;32m----> 1\u001b[0m \u001b[43mbinop\u001b[49m\u001b[43m(\u001b[49m\u001b[43mtokenize\u001b[49m\u001b[43m(\u001b[49m\u001b[38;5;124;43m'\u001b[39;49m\u001b[38;5;124;43mx>0 \u001b[39;49m\u001b[38;5;124;43m'\u001b[39;49m\u001b[43m)\u001b[49m\u001b[43m)\u001b[49m\u001b[38;5;241m.\u001b[39mresult\n",
      "File \u001b[0;32m~/Projects/pyCco/pycco/parser.py:122\u001b[0m, in \u001b[0;36mParser.__call__\u001b[0;34m(self, stream, index)\u001b[0m\n\u001b[1;32m    106\u001b[0m \u001b[38;5;250m\u001b[39m\u001b[38;5;124;03m\"\"\"\u001b[39;00m\n\u001b[1;32m    107\u001b[0m \u001b[38;5;124;03mInvoke the parser on the given stream starting at the given index.\u001b[39;00m\n\u001b[1;32m    108\u001b[0m \n\u001b[0;32m   (...)\u001b[0m\n\u001b[1;32m    114\u001b[0m \u001b[38;5;124;03m    ParserResult[T]: A tuple of the next index and the parsed result (or None on failure).\u001b[39;00m\n\u001b[1;32m    115\u001b[0m \u001b[38;5;124;03m\"\"\"\u001b[39;00m\n\u001b[1;32m    116\u001b[0m description \u001b[38;5;241m=\u001b[39m (\n\u001b[1;32m    117\u001b[0m     \u001b[38;5;28mself\u001b[39m\u001b[38;5;241m.\u001b[39mdescription\n\u001b[1;32m    118\u001b[0m     \u001b[38;5;28;01mif\u001b[39;00m \u001b[38;5;129;01mnot\u001b[39;00m \u001b[38;5;28misinstance\u001b[39m(\u001b[38;5;28mself\u001b[39m\u001b[38;5;241m.\u001b[39mparse_fn, Parser)\n\u001b[1;32m    119\u001b[0m     \u001b[38;5;28;01melse\u001b[39;00m \u001b[38;5;28mself\u001b[39m\u001b[38;5;241m.\u001b[39mparse_fn\u001b[38;5;241m.\u001b[39mdescription\n\u001b[1;32m    120\u001b[0m )\n\u001b[1;32m    121\u001b[0m index, result \u001b[38;5;241m=\u001b[39m (\n\u001b[0;32m--> 122\u001b[0m     \u001b[38;5;28;43mself\u001b[39;49m\u001b[38;5;241;43m.\u001b[39;49m\u001b[43mparse_fn\u001b[49m\u001b[43m(\u001b[49m\u001b[43mstream\u001b[49m\u001b[43m,\u001b[49m\u001b[43m \u001b[49m\u001b[43mindex\u001b[49m\u001b[43m)\u001b[49m\n\u001b[1;32m    123\u001b[0m     \u001b[38;5;28;01mif\u001b[39;00m \u001b[38;5;129;01mnot\u001b[39;00m \u001b[38;5;28misinstance\u001b[39m(\u001b[38;5;28mself\u001b[39m\u001b[38;5;241m.\u001b[39mparse_fn, Parser)\n\u001b[1;32m    124\u001b[0m     \u001b[38;5;28;01melse\u001b[39;00m \u001b[38;5;28mself\u001b[39m\u001b[38;5;241m.\u001b[39mparse_fn\u001b[38;5;241m.\u001b[39mparse_fn\n\u001b[1;32m    125\u001b[0m )\n\u001b[1;32m    126\u001b[0m \u001b[38;5;28;01mreturn\u001b[39;00m ParserResult(index, result, description)\n",
      "File \u001b[0;32m~/Projects/pyCco/pycco/parser.py:168\u001b[0m, in \u001b[0;36mParser.map.<locals>.parse\u001b[0;34m(stream, index)\u001b[0m\n\u001b[1;32m    167\u001b[0m \u001b[38;5;28;01mdef\u001b[39;00m\u001b[38;5;250m \u001b[39m\u001b[38;5;21mparse\u001b[39m(stream: Stream[S], index: \u001b[38;5;28mint\u001b[39m) \u001b[38;5;241m-\u001b[39m\u001b[38;5;241m>\u001b[39m ParserResult[U]:\n\u001b[0;32m--> 168\u001b[0m     i, res \u001b[38;5;241m=\u001b[39m \u001b[38;5;28;43mself\u001b[39;49m\u001b[43m(\u001b[49m\u001b[43mstream\u001b[49m\u001b[43m,\u001b[49m\u001b[43m \u001b[49m\u001b[43mindex\u001b[49m\u001b[43m)\u001b[49m\n\u001b[1;32m    169\u001b[0m     \u001b[38;5;28;01mif\u001b[39;00m i \u001b[38;5;241m==\u001b[39m \u001b[38;5;241m-\u001b[39m\u001b[38;5;241m1\u001b[39m \u001b[38;5;129;01mor\u001b[39;00m res \u001b[38;5;129;01mis\u001b[39;00m \u001b[38;5;28;01mNone\u001b[39;00m:\n\u001b[1;32m    170\u001b[0m         \u001b[38;5;28;01mreturn\u001b[39;00m ParserResult()\n",
      "File \u001b[0;32m~/Projects/pyCco/pycco/parser.py:122\u001b[0m, in \u001b[0;36mParser.__call__\u001b[0;34m(self, stream, index)\u001b[0m\n\u001b[1;32m    106\u001b[0m \u001b[38;5;250m\u001b[39m\u001b[38;5;124;03m\"\"\"\u001b[39;00m\n\u001b[1;32m    107\u001b[0m \u001b[38;5;124;03mInvoke the parser on the given stream starting at the given index.\u001b[39;00m\n\u001b[1;32m    108\u001b[0m \n\u001b[0;32m   (...)\u001b[0m\n\u001b[1;32m    114\u001b[0m \u001b[38;5;124;03m    ParserResult[T]: A tuple of the next index and the parsed result (or None on failure).\u001b[39;00m\n\u001b[1;32m    115\u001b[0m \u001b[38;5;124;03m\"\"\"\u001b[39;00m\n\u001b[1;32m    116\u001b[0m description \u001b[38;5;241m=\u001b[39m (\n\u001b[1;32m    117\u001b[0m     \u001b[38;5;28mself\u001b[39m\u001b[38;5;241m.\u001b[39mdescription\n\u001b[1;32m    118\u001b[0m     \u001b[38;5;28;01mif\u001b[39;00m \u001b[38;5;129;01mnot\u001b[39;00m \u001b[38;5;28misinstance\u001b[39m(\u001b[38;5;28mself\u001b[39m\u001b[38;5;241m.\u001b[39mparse_fn, Parser)\n\u001b[1;32m    119\u001b[0m     \u001b[38;5;28;01melse\u001b[39;00m \u001b[38;5;28mself\u001b[39m\u001b[38;5;241m.\u001b[39mparse_fn\u001b[38;5;241m.\u001b[39mdescription\n\u001b[1;32m    120\u001b[0m )\n\u001b[1;32m    121\u001b[0m index, result \u001b[38;5;241m=\u001b[39m (\n\u001b[0;32m--> 122\u001b[0m     \u001b[38;5;28;43mself\u001b[39;49m\u001b[38;5;241;43m.\u001b[39;49m\u001b[43mparse_fn\u001b[49m\u001b[43m(\u001b[49m\u001b[43mstream\u001b[49m\u001b[43m,\u001b[49m\u001b[43m \u001b[49m\u001b[43mindex\u001b[49m\u001b[43m)\u001b[49m\n\u001b[1;32m    123\u001b[0m     \u001b[38;5;28;01mif\u001b[39;00m \u001b[38;5;129;01mnot\u001b[39;00m \u001b[38;5;28misinstance\u001b[39m(\u001b[38;5;28mself\u001b[39m\u001b[38;5;241m.\u001b[39mparse_fn, Parser)\n\u001b[1;32m    124\u001b[0m     \u001b[38;5;28;01melse\u001b[39;00m \u001b[38;5;28mself\u001b[39m\u001b[38;5;241m.\u001b[39mparse_fn\u001b[38;5;241m.\u001b[39mparse_fn\n\u001b[1;32m    125\u001b[0m )\n\u001b[1;32m    126\u001b[0m \u001b[38;5;28;01mreturn\u001b[39;00m ParserResult(index, result, description)\n",
      "File \u001b[0;32m~/Projects/pyCco/pycco/parser.py:204\u001b[0m, in \u001b[0;36mParser.__add__.<locals>.parse\u001b[0;34m(stream, index)\u001b[0m\n\u001b[1;32m    203\u001b[0m \u001b[38;5;28;01mdef\u001b[39;00m\u001b[38;5;250m \u001b[39m\u001b[38;5;21mparse\u001b[39m(stream: Stream[S], index: \u001b[38;5;28mint\u001b[39m) \u001b[38;5;241m-\u001b[39m\u001b[38;5;241m>\u001b[39m ParserResult[List[Union[T, U]]]:\n\u001b[0;32m--> 204\u001b[0m     i, res1 \u001b[38;5;241m=\u001b[39m \u001b[38;5;28;43mself\u001b[39;49m\u001b[43m(\u001b[49m\u001b[43mstream\u001b[49m\u001b[43m,\u001b[49m\u001b[43m \u001b[49m\u001b[43mindex\u001b[49m\u001b[43m)\u001b[49m\n\u001b[1;32m    205\u001b[0m     \u001b[38;5;28;01mif\u001b[39;00m i \u001b[38;5;241m==\u001b[39m \u001b[38;5;241m-\u001b[39m\u001b[38;5;241m1\u001b[39m:\n\u001b[1;32m    206\u001b[0m         \u001b[38;5;28;01mreturn\u001b[39;00m ParserResult()  \u001b[38;5;66;03m# First parser failed\u001b[39;00m\n",
      "    \u001b[0;31m[... skipping similar frames: Parser.__call__ at line 122 (1 times)]\u001b[0m\n",
      "File \u001b[0;32m~/Projects/pyCco/pycco/parser.py:204\u001b[0m, in \u001b[0;36mParser.__add__.<locals>.parse\u001b[0;34m(stream, index)\u001b[0m\n\u001b[1;32m    203\u001b[0m \u001b[38;5;28;01mdef\u001b[39;00m\u001b[38;5;250m \u001b[39m\u001b[38;5;21mparse\u001b[39m(stream: Stream[S], index: \u001b[38;5;28mint\u001b[39m) \u001b[38;5;241m-\u001b[39m\u001b[38;5;241m>\u001b[39m ParserResult[List[Union[T, U]]]:\n\u001b[0;32m--> 204\u001b[0m     i, res1 \u001b[38;5;241m=\u001b[39m \u001b[38;5;28;43mself\u001b[39;49m\u001b[43m(\u001b[49m\u001b[43mstream\u001b[49m\u001b[43m,\u001b[49m\u001b[43m \u001b[49m\u001b[43mindex\u001b[49m\u001b[43m)\u001b[49m\n\u001b[1;32m    205\u001b[0m     \u001b[38;5;28;01mif\u001b[39;00m i \u001b[38;5;241m==\u001b[39m \u001b[38;5;241m-\u001b[39m\u001b[38;5;241m1\u001b[39m:\n\u001b[1;32m    206\u001b[0m         \u001b[38;5;28;01mreturn\u001b[39;00m ParserResult()  \u001b[38;5;66;03m# First parser failed\u001b[39;00m\n",
      "    \u001b[0;31m[... skipping similar frames: Parser.__call__ at line 122 (1 times)]\u001b[0m\n",
      "File \u001b[0;32m~/Projects/pyCco/pycco/parser.py:144\u001b[0m, in \u001b[0;36mParser.__or__.<locals>.parse\u001b[0;34m(stream, index)\u001b[0m\n\u001b[1;32m    143\u001b[0m \u001b[38;5;28;01mdef\u001b[39;00m\u001b[38;5;250m \u001b[39m\u001b[38;5;21mparse\u001b[39m(stream: Stream[S], index: \u001b[38;5;28mint\u001b[39m) \u001b[38;5;241m-\u001b[39m\u001b[38;5;241m>\u001b[39m ParserResult[T]:\n\u001b[0;32m--> 144\u001b[0m     result \u001b[38;5;241m=\u001b[39m \u001b[38;5;28;43mself\u001b[39;49m\u001b[43m(\u001b[49m\u001b[43mstream\u001b[49m\u001b[43m,\u001b[49m\u001b[43m \u001b[49m\u001b[43mindex\u001b[49m\u001b[43m)\u001b[49m\n\u001b[1;32m    145\u001b[0m     \u001b[38;5;28;01mif\u001b[39;00m result[\u001b[38;5;241m0\u001b[39m] \u001b[38;5;241m!=\u001b[39m \u001b[38;5;241m-\u001b[39m\u001b[38;5;241m1\u001b[39m:\n\u001b[1;32m    146\u001b[0m         \u001b[38;5;28;01mreturn\u001b[39;00m result\n",
      "    \u001b[0;31m[... skipping similar frames: Parser.__call__ at line 122 (1 times)]\u001b[0m\n",
      "File \u001b[0;32m~/Projects/pyCco/pycco/parser.py:144\u001b[0m, in \u001b[0;36mParser.__or__.<locals>.parse\u001b[0;34m(stream, index)\u001b[0m\n\u001b[1;32m    143\u001b[0m \u001b[38;5;28;01mdef\u001b[39;00m\u001b[38;5;250m \u001b[39m\u001b[38;5;21mparse\u001b[39m(stream: Stream[S], index: \u001b[38;5;28mint\u001b[39m) \u001b[38;5;241m-\u001b[39m\u001b[38;5;241m>\u001b[39m ParserResult[T]:\n\u001b[0;32m--> 144\u001b[0m     result \u001b[38;5;241m=\u001b[39m \u001b[38;5;28;43mself\u001b[39;49m\u001b[43m(\u001b[49m\u001b[43mstream\u001b[49m\u001b[43m,\u001b[49m\u001b[43m \u001b[49m\u001b[43mindex\u001b[49m\u001b[43m)\u001b[49m\n\u001b[1;32m    145\u001b[0m     \u001b[38;5;28;01mif\u001b[39;00m result[\u001b[38;5;241m0\u001b[39m] \u001b[38;5;241m!=\u001b[39m \u001b[38;5;241m-\u001b[39m\u001b[38;5;241m1\u001b[39m:\n\u001b[1;32m    146\u001b[0m         \u001b[38;5;28;01mreturn\u001b[39;00m result\n",
      "    \u001b[0;31m[... skipping similar frames: Parser.__call__ at line 122 (3 times), Parser.__or__.<locals>.parse at line 144 (2 times)]\u001b[0m\n",
      "File \u001b[0;32m~/Projects/pyCco/pycco/parser.py:168\u001b[0m, in \u001b[0;36mParser.map.<locals>.parse\u001b[0;34m(stream, index)\u001b[0m\n\u001b[1;32m    167\u001b[0m \u001b[38;5;28;01mdef\u001b[39;00m\u001b[38;5;250m \u001b[39m\u001b[38;5;21mparse\u001b[39m(stream: Stream[S], index: \u001b[38;5;28mint\u001b[39m) \u001b[38;5;241m-\u001b[39m\u001b[38;5;241m>\u001b[39m ParserResult[U]:\n\u001b[0;32m--> 168\u001b[0m     i, res \u001b[38;5;241m=\u001b[39m \u001b[38;5;28;43mself\u001b[39;49m\u001b[43m(\u001b[49m\u001b[43mstream\u001b[49m\u001b[43m,\u001b[49m\u001b[43m \u001b[49m\u001b[43mindex\u001b[49m\u001b[43m)\u001b[49m\n\u001b[1;32m    169\u001b[0m     \u001b[38;5;28;01mif\u001b[39;00m i \u001b[38;5;241m==\u001b[39m \u001b[38;5;241m-\u001b[39m\u001b[38;5;241m1\u001b[39m \u001b[38;5;129;01mor\u001b[39;00m res \u001b[38;5;129;01mis\u001b[39;00m \u001b[38;5;28;01mNone\u001b[39;00m:\n\u001b[1;32m    170\u001b[0m         \u001b[38;5;28;01mreturn\u001b[39;00m ParserResult()\n",
      "    \u001b[0;31m[... skipping similar frames: Parser.__call__ at line 122 (1477 times), Parser.__or__.<locals>.parse at line 144 (844 times), Parser.__add__.<locals>.parse at line 204 (422 times), Parser.map.<locals>.parse at line 168 (210 times)]\u001b[0m\n",
      "File \u001b[0;32m~/Projects/pyCco/pycco/parser.py:168\u001b[0m, in \u001b[0;36mParser.map.<locals>.parse\u001b[0;34m(stream, index)\u001b[0m\n\u001b[1;32m    167\u001b[0m \u001b[38;5;28;01mdef\u001b[39;00m\u001b[38;5;250m \u001b[39m\u001b[38;5;21mparse\u001b[39m(stream: Stream[S], index: \u001b[38;5;28mint\u001b[39m) \u001b[38;5;241m-\u001b[39m\u001b[38;5;241m>\u001b[39m ParserResult[U]:\n\u001b[0;32m--> 168\u001b[0m     i, res \u001b[38;5;241m=\u001b[39m \u001b[38;5;28;43mself\u001b[39;49m\u001b[43m(\u001b[49m\u001b[43mstream\u001b[49m\u001b[43m,\u001b[49m\u001b[43m \u001b[49m\u001b[43mindex\u001b[49m\u001b[43m)\u001b[49m\n\u001b[1;32m    169\u001b[0m     \u001b[38;5;28;01mif\u001b[39;00m i \u001b[38;5;241m==\u001b[39m \u001b[38;5;241m-\u001b[39m\u001b[38;5;241m1\u001b[39m \u001b[38;5;129;01mor\u001b[39;00m res \u001b[38;5;129;01mis\u001b[39;00m \u001b[38;5;28;01mNone\u001b[39;00m:\n\u001b[1;32m    170\u001b[0m         \u001b[38;5;28;01mreturn\u001b[39;00m ParserResult()\n",
      "    \u001b[0;31m[... skipping similar frames: Parser.__call__ at line 122 (2 times), Parser.__add__.<locals>.parse at line 204 (1 times)]\u001b[0m\n",
      "File \u001b[0;32m~/Projects/pyCco/pycco/parser.py:204\u001b[0m, in \u001b[0;36mParser.__add__.<locals>.parse\u001b[0;34m(stream, index)\u001b[0m\n\u001b[1;32m    203\u001b[0m \u001b[38;5;28;01mdef\u001b[39;00m\u001b[38;5;250m \u001b[39m\u001b[38;5;21mparse\u001b[39m(stream: Stream[S], index: \u001b[38;5;28mint\u001b[39m) \u001b[38;5;241m-\u001b[39m\u001b[38;5;241m>\u001b[39m ParserResult[List[Union[T, U]]]:\n\u001b[0;32m--> 204\u001b[0m     i, res1 \u001b[38;5;241m=\u001b[39m \u001b[38;5;28;43mself\u001b[39;49m\u001b[43m(\u001b[49m\u001b[43mstream\u001b[49m\u001b[43m,\u001b[49m\u001b[43m \u001b[49m\u001b[43mindex\u001b[49m\u001b[43m)\u001b[49m\n\u001b[1;32m    205\u001b[0m     \u001b[38;5;28;01mif\u001b[39;00m i \u001b[38;5;241m==\u001b[39m \u001b[38;5;241m-\u001b[39m\u001b[38;5;241m1\u001b[39m:\n\u001b[1;32m    206\u001b[0m         \u001b[38;5;28;01mreturn\u001b[39;00m ParserResult()  \u001b[38;5;66;03m# First parser failed\u001b[39;00m\n",
      "    \u001b[0;31m[... skipping similar frames: Parser.__call__ at line 122 (1 times)]\u001b[0m\n",
      "File \u001b[0;32m~/Projects/pyCco/pycco/parser.py:144\u001b[0m, in \u001b[0;36mParser.__or__.<locals>.parse\u001b[0;34m(stream, index)\u001b[0m\n\u001b[1;32m    143\u001b[0m \u001b[38;5;28;01mdef\u001b[39;00m\u001b[38;5;250m \u001b[39m\u001b[38;5;21mparse\u001b[39m(stream: Stream[S], index: \u001b[38;5;28mint\u001b[39m) \u001b[38;5;241m-\u001b[39m\u001b[38;5;241m>\u001b[39m ParserResult[T]:\n\u001b[0;32m--> 144\u001b[0m     result \u001b[38;5;241m=\u001b[39m \u001b[38;5;28;43mself\u001b[39;49m\u001b[43m(\u001b[49m\u001b[43mstream\u001b[49m\u001b[43m,\u001b[49m\u001b[43m \u001b[49m\u001b[43mindex\u001b[49m\u001b[43m)\u001b[49m\n\u001b[1;32m    145\u001b[0m     \u001b[38;5;28;01mif\u001b[39;00m result[\u001b[38;5;241m0\u001b[39m] \u001b[38;5;241m!=\u001b[39m \u001b[38;5;241m-\u001b[39m\u001b[38;5;241m1\u001b[39m:\n\u001b[1;32m    146\u001b[0m         \u001b[38;5;28;01mreturn\u001b[39;00m result\n",
      "File \u001b[0;32m~/Projects/pyCco/pycco/parser.py:122\u001b[0m, in \u001b[0;36mParser.__call__\u001b[0;34m(self, stream, index)\u001b[0m\n\u001b[1;32m    106\u001b[0m \u001b[38;5;250m\u001b[39m\u001b[38;5;124;03m\"\"\"\u001b[39;00m\n\u001b[1;32m    107\u001b[0m \u001b[38;5;124;03mInvoke the parser on the given stream starting at the given index.\u001b[39;00m\n\u001b[1;32m    108\u001b[0m \n\u001b[0;32m   (...)\u001b[0m\n\u001b[1;32m    114\u001b[0m \u001b[38;5;124;03m    ParserResult[T]: A tuple of the next index and the parsed result (or None on failure).\u001b[39;00m\n\u001b[1;32m    115\u001b[0m \u001b[38;5;124;03m\"\"\"\u001b[39;00m\n\u001b[1;32m    116\u001b[0m description \u001b[38;5;241m=\u001b[39m (\n\u001b[1;32m    117\u001b[0m     \u001b[38;5;28mself\u001b[39m\u001b[38;5;241m.\u001b[39mdescription\n\u001b[1;32m    118\u001b[0m     \u001b[38;5;28;01mif\u001b[39;00m \u001b[38;5;129;01mnot\u001b[39;00m \u001b[38;5;28misinstance\u001b[39m(\u001b[38;5;28mself\u001b[39m\u001b[38;5;241m.\u001b[39mparse_fn, Parser)\n\u001b[1;32m    119\u001b[0m     \u001b[38;5;28;01melse\u001b[39;00m \u001b[38;5;28mself\u001b[39m\u001b[38;5;241m.\u001b[39mparse_fn\u001b[38;5;241m.\u001b[39mdescription\n\u001b[1;32m    120\u001b[0m )\n\u001b[1;32m    121\u001b[0m index, result \u001b[38;5;241m=\u001b[39m (\n\u001b[0;32m--> 122\u001b[0m     \u001b[38;5;28;43mself\u001b[39;49m\u001b[38;5;241;43m.\u001b[39;49m\u001b[43mparse_fn\u001b[49m\u001b[43m(\u001b[49m\u001b[43mstream\u001b[49m\u001b[43m,\u001b[49m\u001b[43m \u001b[49m\u001b[43mindex\u001b[49m\u001b[43m)\u001b[49m\n\u001b[1;32m    123\u001b[0m     \u001b[38;5;28;01mif\u001b[39;00m \u001b[38;5;129;01mnot\u001b[39;00m \u001b[38;5;28misinstance\u001b[39m(\u001b[38;5;28mself\u001b[39m\u001b[38;5;241m.\u001b[39mparse_fn, Parser)\n\u001b[1;32m    124\u001b[0m     \u001b[38;5;28;01melse\u001b[39;00m \u001b[38;5;28mself\u001b[39m\u001b[38;5;241m.\u001b[39mparse_fn\u001b[38;5;241m.\u001b[39mparse_fn\n\u001b[1;32m    125\u001b[0m )\n\u001b[1;32m    126\u001b[0m \u001b[38;5;28;01mreturn\u001b[39;00m ParserResult(index, result, description)\n",
      "\u001b[0;31mRecursionError\u001b[0m: maximum recursion depth exceeded"
     ]
    }
   ],
   "source": [
    ".result"
   ]
  },
  {
   "cell_type": "code",
   "execution_count": null,
   "id": "e2f3241f-83d0-42cd-a7e9-2095160e0b62",
   "metadata": {},
   "outputs": [],
   "source": []
  },
  {
   "cell_type": "code",
   "execution_count": 13,
   "id": "02d1cc6c-72a6-4a28-8ba8-cbf410fe1c46",
   "metadata": {},
   "outputs": [],
   "source": [
    "# Primary Expressions: Numbers, Strings, Identifiers, and Grouped Expressions\n",
    "@parser\n",
    "def primary_expression(stream: List[Token], index: int) -> ParserResult[ast.Expression]:\n",
    "    return (\n",
    "        number\n",
    "        | string\n",
    "        | ident\n",
    "        | (open_paren >> expression << close_paren)  # Grouped expressions: (x + y)\n",
    "    ).parse_fn(stream, index)\n",
    "\n",
    "# Unary Operations\n",
    "unary_op = (any_of_enum(UnaryOperator) + primary_expression) @ map_unary_op\n",
    "\n",
    "# Binary Operations (Left-Associative with Precedence)\n",
    "def map_binop(elements: List[ast.Node | Token]) -> ast.BinaryOp:\n",
    "    left, op, right = elements\n",
    "    return ast.BinaryOp(left=left, operator=op.value, right=right)\n",
    "\n",
    "binary_operator = any_of_enum(BinaryOperator)\n",
    "\n",
    "@parser\n",
    "def binop(stream: List[Token], index: int) -> ParserResult[ast.Expression]:\n",
    "    # Start by parsing the left operand (unary or primary expression)\n",
    "    import pdb; pdb.set_trace()\n",
    "    left_result = unary_op.parse_fn(stream, index)\n",
    "    current_index = left_result.index  # Correct attribute\n",
    "    left = left_result.result\n",
    "\n",
    "    while True:\n",
    "        try:\n",
    "            # Parse the operator\n",
    "            op_result = binary_operator.parse_fn(stream, current_index)\n",
    "            operator = op_result.result\n",
    "            current_index = op_result.index  # Correct attribute\n",
    "\n",
    "            # Parse the right-hand operand\n",
    "            right_result = unary_op.parse_fn(stream, current_index)\n",
    "            right = right_result.result\n",
    "            current_index = right_result.index  # Correct attribute\n",
    "\n",
    "            # Combine into a BinaryOp\n",
    "            left = ast.BinaryOp(left=left, operator=operator.value, right=right)\n",
    "\n",
    "        except Exception:\n",
    "            # If parsing fails, break the loop\n",
    "            break\n",
    "\n",
    "    return ParserResult(index=current_index, result=left)\n",
    "\n",
    "\n",
    "# Function Calls\n",
    "def map_function_call(elements: List[ast.Node | Token]) -> ast.FunctionCall:\n",
    "    name, args = elements\n",
    "    return ast.FunctionCall(name=name, args=args)\n",
    "\n",
    "function_call = (\n",
    "    ident\n",
    "    + open_paren\n",
    "    >> expression.sep_by(comma)\n",
    "    << close_paren\n",
    ") @ map_function_call\n",
    "\n",
    "# Array Indexing\n",
    "def map_array_index(elements: List[ast.Node]) -> ast.ArrayIndex:\n",
    "    array, index = elements\n",
    "    return ast.ArrayIndex(array=array, index=index)\n",
    "\n",
    "array_index = ident + open_bracket >> expression << close_bracket @ map_array_index\n",
    "\n",
    "# Struct Access\n",
    "def map_struct_access(elements: List[ast.Node | Token]) -> ast.StructAccess:\n",
    "    obj, op, field = elements\n",
    "    return ast.StructAccess(obj=obj, operator=op.value, field=field)\n",
    "\n",
    "struct_access = (\n",
    "    ident\n",
    "    + any_of(Symbol.DOT, Symbol.ARROW)\n",
    "    + ident\n",
    ") @ map_struct_access\n",
    "\n",
    "# Comprehensive Expression Parser\n",
    "@parser\n",
    "def expression(stream: List[Token], index: int) -> ParserResult[ast.Expression]:\n",
    "    return (\n",
    "        struct_access\n",
    "        | array_index\n",
    "        | function_call\n",
    "        | binop\n",
    "        | unary_op\n",
    "        | primary_expression\n",
    "    ).parse_fn(stream, index)\n"
   ]
  },
  {
   "cell_type": "code",
   "execution_count": 14,
   "id": "e9c53326-b9e9-49b8-85f7-ac8dfa7b63ff",
   "metadata": {},
   "outputs": [],
   "source": [
    "# If-Else Parser\n",
    "def map_if_else(elements: List[Token | ast.Node]) -> ast.IfStatement:\n",
    "    condition, then_body, else_body = elements\n",
    "    return ast.IfStatement(condition, then_body, else_body)\n",
    "\n",
    "if_else = (\n",
    "    match(Token(TokenKind.KEYWORD, \"if\"))\n",
    "    >> open_paren\n",
    "    >> expression\n",
    "    << close_paren\n",
    "    + open_bracket\n",
    "    >> statement.many()\n",
    "    << close_bracket\n",
    "    + (match(Token(TokenKind.KEYWORD, \"else\")) >> open_bracket >> statement.many() << close_bracket).optional()\n",
    ") @ map_if_else"
   ]
  },
  {
   "cell_type": "code",
   "execution_count": 37,
   "id": "8b1b6770-2ea2-48e6-b6ea-f03c88b79d2b",
   "metadata": {},
   "outputs": [
    {
     "name": "stdout",
     "output_type": "stream",
     "text": [
      "> \u001b[0;32m/var/folders/vl/0mv20zzj0ld26z8h0ngg3wn00000gn/T/ipykernel_38709/2568700022.py\u001b[0m(19)\u001b[0;36mmap_binop\u001b[0;34m()\u001b[0m\n",
      "\u001b[0;32m     17 \u001b[0;31m\u001b[0;34m\u001b[0m\u001b[0m\n",
      "\u001b[0m\u001b[0;32m     18 \u001b[0;31m\u001b[0;32mdef\u001b[0m \u001b[0mmap_binop\u001b[0m\u001b[0;34m(\u001b[0m\u001b[0melems\u001b[0m\u001b[0;34m)\u001b[0m\u001b[0;34m:\u001b[0m\u001b[0;34m\u001b[0m\u001b[0;34m\u001b[0m\u001b[0m\n",
      "\u001b[0m\u001b[0;32m---> 19 \u001b[0;31m    \u001b[0;32mimport\u001b[0m \u001b[0mpdb\u001b[0m\u001b[0;34m;\u001b[0m \u001b[0mpdb\u001b[0m\u001b[0;34m.\u001b[0m\u001b[0mset_trace\u001b[0m\u001b[0;34m(\u001b[0m\u001b[0;34m)\u001b[0m\u001b[0;34m\u001b[0m\u001b[0;34m\u001b[0m\u001b[0m\n",
      "\u001b[0m\u001b[0;32m     20 \u001b[0;31m    \u001b[0mleft\u001b[0m\u001b[0;34m,\u001b[0m \u001b[0mop\u001b[0m\u001b[0;34m,\u001b[0m \u001b[0mright\u001b[0m \u001b[0;34m=\u001b[0m \u001b[0melems\u001b[0m\u001b[0;34m\u001b[0m\u001b[0;34m\u001b[0m\u001b[0m\n",
      "\u001b[0m\u001b[0;32m     21 \u001b[0;31m    \u001b[0;32mreturn\u001b[0m \u001b[0mast\u001b[0m\u001b[0;34m.\u001b[0m\u001b[0mBinaryOp\u001b[0m\u001b[0;34m(\u001b[0m\u001b[0mleft\u001b[0m\u001b[0;34m=\u001b[0m\u001b[0mleft\u001b[0m\u001b[0;34m,\u001b[0m \u001b[0moperator\u001b[0m\u001b[0;34m=\u001b[0m\u001b[0mop\u001b[0m\u001b[0;34m.\u001b[0m\u001b[0mvalue\u001b[0m\u001b[0;34m,\u001b[0m \u001b[0mright\u001b[0m\u001b[0;34m=\u001b[0m\u001b[0mright\u001b[0m\u001b[0;34m)\u001b[0m\u001b[0;34m\u001b[0m\u001b[0;34m\u001b[0m\u001b[0m\n",
      "\u001b[0m\n"
     ]
    },
    {
     "name": "stdin",
     "output_type": "stream",
     "text": [
      "ipdb>  elems\n"
     ]
    },
    {
     "name": "stdout",
     "output_type": "stream",
     "text": [
      "[Ident(name='x')]\n"
     ]
    },
    {
     "name": "stdin",
     "output_type": "stream",
     "text": [
      "ipdb>  q\n"
     ]
    }
   ],
   "source": [
    "expression(tokenize('x>0 ')).result"
   ]
  },
  {
   "cell_type": "code",
   "execution_count": 19,
   "id": "3e74c1ad-5dbe-41ea-977a-2abf874933dc",
   "metadata": {},
   "outputs": [
    {
     "ename": "RecursionError",
     "evalue": "maximum recursion depth exceeded",
     "output_type": "error",
     "traceback": [
      "\u001b[0;31m---------------------------------------------------------------------------\u001b[0m",
      "\u001b[0;31mRecursionError\u001b[0m                            Traceback (most recent call last)",
      "Cell \u001b[0;32mIn[19], line 1\u001b[0m\n\u001b[0;32m----> 1\u001b[0m \u001b[43m(\u001b[49m\u001b[43mmatch\u001b[49m\u001b[43m(\u001b[49m\u001b[43mToken\u001b[49m\u001b[43m(\u001b[49m\u001b[43mTokenKind\u001b[49m\u001b[38;5;241;43m.\u001b[39;49m\u001b[43mKEYWORD\u001b[49m\u001b[43m,\u001b[49m\u001b[43m \u001b[49m\u001b[38;5;124;43m\"\u001b[39;49m\u001b[38;5;124;43mif\u001b[39;49m\u001b[38;5;124;43m\"\u001b[39;49m\u001b[43m)\u001b[49m\u001b[43m)\u001b[49m\n\u001b[1;32m      2\u001b[0m \u001b[43m    \u001b[49m\u001b[38;5;241;43m>>\u001b[39;49m\u001b[43m \u001b[49m\u001b[43mopen_paren\u001b[49m\n\u001b[1;32m      3\u001b[0m \u001b[38;5;241;43m>>\u001b[39;49m\u001b[43m \u001b[49m\u001b[43mexpression\u001b[49m\u001b[43m)\u001b[49m\u001b[43m(\u001b[49m\u001b[43mtokenize\u001b[49m\u001b[43m(\u001b[49m\u001b[38;5;124;43m'''\u001b[39;49m\n\u001b[1;32m      4\u001b[0m \u001b[38;5;124;43mif (x > 0) \u001b[39;49m\u001b[38;5;124;43m{\u001b[39;49m\n\u001b[1;32m      5\u001b[0m \u001b[38;5;124;43m    y = 1;\u001b[39;49m\n\u001b[1;32m      6\u001b[0m \u001b[38;5;124;43m} else \u001b[39;49m\u001b[38;5;124;43m{\u001b[39;49m\n\u001b[1;32m      7\u001b[0m \u001b[38;5;124;43m    y = -1;\u001b[39;49m\n\u001b[1;32m      8\u001b[0m \u001b[38;5;124;43m}\u001b[39;49m\n\u001b[1;32m      9\u001b[0m \u001b[38;5;124;43m'''\u001b[39;49m\u001b[43m)\u001b[49m\u001b[43m)\u001b[49m\n",
      "File \u001b[0;32m~/Projects/pyCco/pycco/parser.py:122\u001b[0m, in \u001b[0;36mParser.__call__\u001b[0;34m(self, stream, index)\u001b[0m\n\u001b[1;32m    106\u001b[0m \u001b[38;5;250m\u001b[39m\u001b[38;5;124;03m\"\"\"\u001b[39;00m\n\u001b[1;32m    107\u001b[0m \u001b[38;5;124;03mInvoke the parser on the given stream starting at the given index.\u001b[39;00m\n\u001b[1;32m    108\u001b[0m \n\u001b[0;32m   (...)\u001b[0m\n\u001b[1;32m    114\u001b[0m \u001b[38;5;124;03m    ParserResult[T]: A tuple of the next index and the parsed result (or None on failure).\u001b[39;00m\n\u001b[1;32m    115\u001b[0m \u001b[38;5;124;03m\"\"\"\u001b[39;00m\n\u001b[1;32m    116\u001b[0m description \u001b[38;5;241m=\u001b[39m (\n\u001b[1;32m    117\u001b[0m     \u001b[38;5;28mself\u001b[39m\u001b[38;5;241m.\u001b[39mdescription\n\u001b[1;32m    118\u001b[0m     \u001b[38;5;28;01mif\u001b[39;00m \u001b[38;5;129;01mnot\u001b[39;00m \u001b[38;5;28misinstance\u001b[39m(\u001b[38;5;28mself\u001b[39m\u001b[38;5;241m.\u001b[39mparse_fn, Parser)\n\u001b[1;32m    119\u001b[0m     \u001b[38;5;28;01melse\u001b[39;00m \u001b[38;5;28mself\u001b[39m\u001b[38;5;241m.\u001b[39mparse_fn\u001b[38;5;241m.\u001b[39mdescription\n\u001b[1;32m    120\u001b[0m )\n\u001b[1;32m    121\u001b[0m index, result \u001b[38;5;241m=\u001b[39m (\n\u001b[0;32m--> 122\u001b[0m     \u001b[38;5;28;43mself\u001b[39;49m\u001b[38;5;241;43m.\u001b[39;49m\u001b[43mparse_fn\u001b[49m\u001b[43m(\u001b[49m\u001b[43mstream\u001b[49m\u001b[43m,\u001b[49m\u001b[43m \u001b[49m\u001b[43mindex\u001b[49m\u001b[43m)\u001b[49m\n\u001b[1;32m    123\u001b[0m     \u001b[38;5;28;01mif\u001b[39;00m \u001b[38;5;129;01mnot\u001b[39;00m \u001b[38;5;28misinstance\u001b[39m(\u001b[38;5;28mself\u001b[39m\u001b[38;5;241m.\u001b[39mparse_fn, Parser)\n\u001b[1;32m    124\u001b[0m     \u001b[38;5;28;01melse\u001b[39;00m \u001b[38;5;28mself\u001b[39m\u001b[38;5;241m.\u001b[39mparse_fn\u001b[38;5;241m.\u001b[39mparse_fn\n\u001b[1;32m    125\u001b[0m )\n\u001b[1;32m    126\u001b[0m \u001b[38;5;28;01mreturn\u001b[39;00m ParserResult(index, result, description)\n",
      "File \u001b[0;32m~/Projects/pyCco/pycco/parser.py:385\u001b[0m, in \u001b[0;36mParser.__rshift__.<locals>.parse\u001b[0;34m(stream, index)\u001b[0m\n\u001b[1;32m    383\u001b[0m \u001b[38;5;28;01mif\u001b[39;00m i \u001b[38;5;241m==\u001b[39m \u001b[38;5;241m-\u001b[39m\u001b[38;5;241m1\u001b[39m:\n\u001b[1;32m    384\u001b[0m     \u001b[38;5;28;01mreturn\u001b[39;00m ParserResult()\n\u001b[0;32m--> 385\u001b[0m j, res2 \u001b[38;5;241m=\u001b[39m \u001b[43mother\u001b[49m\u001b[43m(\u001b[49m\u001b[43mstream\u001b[49m\u001b[43m,\u001b[49m\u001b[43m \u001b[49m\u001b[43mi\u001b[49m\u001b[43m)\u001b[49m\n\u001b[1;32m    386\u001b[0m \u001b[38;5;28;01mif\u001b[39;00m j \u001b[38;5;241m==\u001b[39m \u001b[38;5;241m-\u001b[39m\u001b[38;5;241m1\u001b[39m:\n\u001b[1;32m    387\u001b[0m     \u001b[38;5;28;01mreturn\u001b[39;00m ParserResult()\n",
      "File \u001b[0;32m~/Projects/pyCco/pycco/parser.py:122\u001b[0m, in \u001b[0;36mParser.__call__\u001b[0;34m(self, stream, index)\u001b[0m\n\u001b[1;32m    106\u001b[0m \u001b[38;5;250m\u001b[39m\u001b[38;5;124;03m\"\"\"\u001b[39;00m\n\u001b[1;32m    107\u001b[0m \u001b[38;5;124;03mInvoke the parser on the given stream starting at the given index.\u001b[39;00m\n\u001b[1;32m    108\u001b[0m \n\u001b[0;32m   (...)\u001b[0m\n\u001b[1;32m    114\u001b[0m \u001b[38;5;124;03m    ParserResult[T]: A tuple of the next index and the parsed result (or None on failure).\u001b[39;00m\n\u001b[1;32m    115\u001b[0m \u001b[38;5;124;03m\"\"\"\u001b[39;00m\n\u001b[1;32m    116\u001b[0m description \u001b[38;5;241m=\u001b[39m (\n\u001b[1;32m    117\u001b[0m     \u001b[38;5;28mself\u001b[39m\u001b[38;5;241m.\u001b[39mdescription\n\u001b[1;32m    118\u001b[0m     \u001b[38;5;28;01mif\u001b[39;00m \u001b[38;5;129;01mnot\u001b[39;00m \u001b[38;5;28misinstance\u001b[39m(\u001b[38;5;28mself\u001b[39m\u001b[38;5;241m.\u001b[39mparse_fn, Parser)\n\u001b[1;32m    119\u001b[0m     \u001b[38;5;28;01melse\u001b[39;00m \u001b[38;5;28mself\u001b[39m\u001b[38;5;241m.\u001b[39mparse_fn\u001b[38;5;241m.\u001b[39mdescription\n\u001b[1;32m    120\u001b[0m )\n\u001b[1;32m    121\u001b[0m index, result \u001b[38;5;241m=\u001b[39m (\n\u001b[0;32m--> 122\u001b[0m     \u001b[38;5;28;43mself\u001b[39;49m\u001b[38;5;241;43m.\u001b[39;49m\u001b[43mparse_fn\u001b[49m\u001b[43m(\u001b[49m\u001b[43mstream\u001b[49m\u001b[43m,\u001b[49m\u001b[43m \u001b[49m\u001b[43mindex\u001b[49m\u001b[43m)\u001b[49m\n\u001b[1;32m    123\u001b[0m     \u001b[38;5;28;01mif\u001b[39;00m \u001b[38;5;129;01mnot\u001b[39;00m \u001b[38;5;28misinstance\u001b[39m(\u001b[38;5;28mself\u001b[39m\u001b[38;5;241m.\u001b[39mparse_fn, Parser)\n\u001b[1;32m    124\u001b[0m     \u001b[38;5;28;01melse\u001b[39;00m \u001b[38;5;28mself\u001b[39m\u001b[38;5;241m.\u001b[39mparse_fn\u001b[38;5;241m.\u001b[39mparse_fn\n\u001b[1;32m    125\u001b[0m )\n\u001b[1;32m    126\u001b[0m \u001b[38;5;28;01mreturn\u001b[39;00m ParserResult(index, result, description)\n",
      "Cell \u001b[0;32mIn[17], line 73\u001b[0m, in \u001b[0;36mexpression\u001b[0;34m(stream, index)\u001b[0m\n\u001b[1;32m     71\u001b[0m \u001b[38;5;129m@parser\u001b[39m\n\u001b[1;32m     72\u001b[0m \u001b[38;5;28;01mdef\u001b[39;00m\u001b[38;5;250m \u001b[39m\u001b[38;5;21mexpression\u001b[39m(stream: List[Token], index: \u001b[38;5;28mint\u001b[39m)\u001b[38;5;241m-\u001b[39m\u001b[38;5;241m>\u001b[39m ParserResult[ast\u001b[38;5;241m.\u001b[39mExpression]:\n\u001b[0;32m---> 73\u001b[0m     \u001b[38;5;28;01mreturn\u001b[39;00m \u001b[43m(\u001b[49m\u001b[43mbinop\u001b[49m\u001b[43m \u001b[49m\u001b[38;5;241;43m|\u001b[39;49m\u001b[43m \u001b[49m\u001b[43mnumber\u001b[49m\u001b[43m \u001b[49m\u001b[38;5;241;43m|\u001b[39;49m\u001b[43m \u001b[49m\u001b[43mstring\u001b[49m\u001b[43m \u001b[49m\u001b[38;5;241;43m|\u001b[39;49m\u001b[43m \u001b[49m\u001b[43mident\u001b[49m\u001b[43m)\u001b[49m\u001b[38;5;241;43m.\u001b[39;49m\u001b[43mparse_fn\u001b[49m\u001b[43m(\u001b[49m\u001b[43mstream\u001b[49m\u001b[43m,\u001b[49m\u001b[43m \u001b[49m\u001b[43mindex\u001b[49m\u001b[43m)\u001b[49m\n",
      "File \u001b[0;32m~/Projects/pyCco/pycco/parser.py:144\u001b[0m, in \u001b[0;36mParser.__or__.<locals>.parse\u001b[0;34m(stream, index)\u001b[0m\n\u001b[1;32m    143\u001b[0m \u001b[38;5;28;01mdef\u001b[39;00m\u001b[38;5;250m \u001b[39m\u001b[38;5;21mparse\u001b[39m(stream: Stream[S], index: \u001b[38;5;28mint\u001b[39m) \u001b[38;5;241m-\u001b[39m\u001b[38;5;241m>\u001b[39m ParserResult[T]:\n\u001b[0;32m--> 144\u001b[0m     result \u001b[38;5;241m=\u001b[39m \u001b[38;5;28;43mself\u001b[39;49m\u001b[43m(\u001b[49m\u001b[43mstream\u001b[49m\u001b[43m,\u001b[49m\u001b[43m \u001b[49m\u001b[43mindex\u001b[49m\u001b[43m)\u001b[49m\n\u001b[1;32m    145\u001b[0m     \u001b[38;5;28;01mif\u001b[39;00m result[\u001b[38;5;241m0\u001b[39m] \u001b[38;5;241m!=\u001b[39m \u001b[38;5;241m-\u001b[39m\u001b[38;5;241m1\u001b[39m:\n\u001b[1;32m    146\u001b[0m         \u001b[38;5;28;01mreturn\u001b[39;00m result\n",
      "File \u001b[0;32m~/Projects/pyCco/pycco/parser.py:122\u001b[0m, in \u001b[0;36mParser.__call__\u001b[0;34m(self, stream, index)\u001b[0m\n\u001b[1;32m    106\u001b[0m \u001b[38;5;250m\u001b[39m\u001b[38;5;124;03m\"\"\"\u001b[39;00m\n\u001b[1;32m    107\u001b[0m \u001b[38;5;124;03mInvoke the parser on the given stream starting at the given index.\u001b[39;00m\n\u001b[1;32m    108\u001b[0m \n\u001b[0;32m   (...)\u001b[0m\n\u001b[1;32m    114\u001b[0m \u001b[38;5;124;03m    ParserResult[T]: A tuple of the next index and the parsed result (or None on failure).\u001b[39;00m\n\u001b[1;32m    115\u001b[0m \u001b[38;5;124;03m\"\"\"\u001b[39;00m\n\u001b[1;32m    116\u001b[0m description \u001b[38;5;241m=\u001b[39m (\n\u001b[1;32m    117\u001b[0m     \u001b[38;5;28mself\u001b[39m\u001b[38;5;241m.\u001b[39mdescription\n\u001b[1;32m    118\u001b[0m     \u001b[38;5;28;01mif\u001b[39;00m \u001b[38;5;129;01mnot\u001b[39;00m \u001b[38;5;28misinstance\u001b[39m(\u001b[38;5;28mself\u001b[39m\u001b[38;5;241m.\u001b[39mparse_fn, Parser)\n\u001b[1;32m    119\u001b[0m     \u001b[38;5;28;01melse\u001b[39;00m \u001b[38;5;28mself\u001b[39m\u001b[38;5;241m.\u001b[39mparse_fn\u001b[38;5;241m.\u001b[39mdescription\n\u001b[1;32m    120\u001b[0m )\n\u001b[1;32m    121\u001b[0m index, result \u001b[38;5;241m=\u001b[39m (\n\u001b[0;32m--> 122\u001b[0m     \u001b[38;5;28;43mself\u001b[39;49m\u001b[38;5;241;43m.\u001b[39;49m\u001b[43mparse_fn\u001b[49m\u001b[43m(\u001b[49m\u001b[43mstream\u001b[49m\u001b[43m,\u001b[49m\u001b[43m \u001b[49m\u001b[43mindex\u001b[49m\u001b[43m)\u001b[49m\n\u001b[1;32m    123\u001b[0m     \u001b[38;5;28;01mif\u001b[39;00m \u001b[38;5;129;01mnot\u001b[39;00m \u001b[38;5;28misinstance\u001b[39m(\u001b[38;5;28mself\u001b[39m\u001b[38;5;241m.\u001b[39mparse_fn, Parser)\n\u001b[1;32m    124\u001b[0m     \u001b[38;5;28;01melse\u001b[39;00m \u001b[38;5;28mself\u001b[39m\u001b[38;5;241m.\u001b[39mparse_fn\u001b[38;5;241m.\u001b[39mparse_fn\n\u001b[1;32m    125\u001b[0m )\n\u001b[1;32m    126\u001b[0m \u001b[38;5;28;01mreturn\u001b[39;00m ParserResult(index, result, description)\n",
      "File \u001b[0;32m~/Projects/pyCco/pycco/parser.py:144\u001b[0m, in \u001b[0;36mParser.__or__.<locals>.parse\u001b[0;34m(stream, index)\u001b[0m\n\u001b[1;32m    143\u001b[0m \u001b[38;5;28;01mdef\u001b[39;00m\u001b[38;5;250m \u001b[39m\u001b[38;5;21mparse\u001b[39m(stream: Stream[S], index: \u001b[38;5;28mint\u001b[39m) \u001b[38;5;241m-\u001b[39m\u001b[38;5;241m>\u001b[39m ParserResult[T]:\n\u001b[0;32m--> 144\u001b[0m     result \u001b[38;5;241m=\u001b[39m \u001b[38;5;28;43mself\u001b[39;49m\u001b[43m(\u001b[49m\u001b[43mstream\u001b[49m\u001b[43m,\u001b[49m\u001b[43m \u001b[49m\u001b[43mindex\u001b[49m\u001b[43m)\u001b[49m\n\u001b[1;32m    145\u001b[0m     \u001b[38;5;28;01mif\u001b[39;00m result[\u001b[38;5;241m0\u001b[39m] \u001b[38;5;241m!=\u001b[39m \u001b[38;5;241m-\u001b[39m\u001b[38;5;241m1\u001b[39m:\n\u001b[1;32m    146\u001b[0m         \u001b[38;5;28;01mreturn\u001b[39;00m result\n",
      "    \u001b[0;31m[... skipping similar frames: Parser.__call__ at line 122 (2 times), Parser.__or__.<locals>.parse at line 144 (1 times)]\u001b[0m\n",
      "File \u001b[0;32m~/Projects/pyCco/pycco/parser.py:168\u001b[0m, in \u001b[0;36mParser.map.<locals>.parse\u001b[0;34m(stream, index)\u001b[0m\n\u001b[1;32m    167\u001b[0m \u001b[38;5;28;01mdef\u001b[39;00m\u001b[38;5;250m \u001b[39m\u001b[38;5;21mparse\u001b[39m(stream: Stream[S], index: \u001b[38;5;28mint\u001b[39m) \u001b[38;5;241m-\u001b[39m\u001b[38;5;241m>\u001b[39m ParserResult[U]:\n\u001b[0;32m--> 168\u001b[0m     i, res \u001b[38;5;241m=\u001b[39m \u001b[38;5;28;43mself\u001b[39;49m\u001b[43m(\u001b[49m\u001b[43mstream\u001b[49m\u001b[43m,\u001b[49m\u001b[43m \u001b[49m\u001b[43mindex\u001b[49m\u001b[43m)\u001b[49m\n\u001b[1;32m    169\u001b[0m     \u001b[38;5;28;01mif\u001b[39;00m i \u001b[38;5;241m==\u001b[39m \u001b[38;5;241m-\u001b[39m\u001b[38;5;241m1\u001b[39m \u001b[38;5;129;01mor\u001b[39;00m res \u001b[38;5;129;01mis\u001b[39;00m \u001b[38;5;28;01mNone\u001b[39;00m:\n\u001b[1;32m    170\u001b[0m         \u001b[38;5;28;01mreturn\u001b[39;00m ParserResult()\n",
      "    \u001b[0;31m[... skipping similar frames: Parser.__call__ at line 122 (1 times)]\u001b[0m\n",
      "File \u001b[0;32m~/Projects/pyCco/pycco/parser.py:204\u001b[0m, in \u001b[0;36mParser.__add__.<locals>.parse\u001b[0;34m(stream, index)\u001b[0m\n\u001b[1;32m    203\u001b[0m \u001b[38;5;28;01mdef\u001b[39;00m\u001b[38;5;250m \u001b[39m\u001b[38;5;21mparse\u001b[39m(stream: Stream[S], index: \u001b[38;5;28mint\u001b[39m) \u001b[38;5;241m-\u001b[39m\u001b[38;5;241m>\u001b[39m ParserResult[List[Union[T, U]]]:\n\u001b[0;32m--> 204\u001b[0m     i, res1 \u001b[38;5;241m=\u001b[39m \u001b[38;5;28;43mself\u001b[39;49m\u001b[43m(\u001b[49m\u001b[43mstream\u001b[49m\u001b[43m,\u001b[49m\u001b[43m \u001b[49m\u001b[43mindex\u001b[49m\u001b[43m)\u001b[49m\n\u001b[1;32m    205\u001b[0m     \u001b[38;5;28;01mif\u001b[39;00m i \u001b[38;5;241m==\u001b[39m \u001b[38;5;241m-\u001b[39m\u001b[38;5;241m1\u001b[39m:\n\u001b[1;32m    206\u001b[0m         \u001b[38;5;28;01mreturn\u001b[39;00m ParserResult()  \u001b[38;5;66;03m# First parser failed\u001b[39;00m\n",
      "    \u001b[0;31m[... skipping similar frames: Parser.__call__ at line 122 (1 times)]\u001b[0m\n",
      "File \u001b[0;32m~/Projects/pyCco/pycco/parser.py:204\u001b[0m, in \u001b[0;36mParser.__add__.<locals>.parse\u001b[0;34m(stream, index)\u001b[0m\n\u001b[1;32m    203\u001b[0m \u001b[38;5;28;01mdef\u001b[39;00m\u001b[38;5;250m \u001b[39m\u001b[38;5;21mparse\u001b[39m(stream: Stream[S], index: \u001b[38;5;28mint\u001b[39m) \u001b[38;5;241m-\u001b[39m\u001b[38;5;241m>\u001b[39m ParserResult[List[Union[T, U]]]:\n\u001b[0;32m--> 204\u001b[0m     i, res1 \u001b[38;5;241m=\u001b[39m \u001b[38;5;28;43mself\u001b[39;49m\u001b[43m(\u001b[49m\u001b[43mstream\u001b[49m\u001b[43m,\u001b[49m\u001b[43m \u001b[49m\u001b[43mindex\u001b[49m\u001b[43m)\u001b[49m\n\u001b[1;32m    205\u001b[0m     \u001b[38;5;28;01mif\u001b[39;00m i \u001b[38;5;241m==\u001b[39m \u001b[38;5;241m-\u001b[39m\u001b[38;5;241m1\u001b[39m:\n\u001b[1;32m    206\u001b[0m         \u001b[38;5;28;01mreturn\u001b[39;00m ParserResult()  \u001b[38;5;66;03m# First parser failed\u001b[39;00m\n",
      "    \u001b[0;31m[... skipping similar frames: Parser.__call__ at line 122 (1 times)]\u001b[0m\n",
      "Cell \u001b[0;32mIn[17], line 73\u001b[0m, in \u001b[0;36mexpression\u001b[0;34m(stream, index)\u001b[0m\n\u001b[1;32m     71\u001b[0m \u001b[38;5;129m@parser\u001b[39m\n\u001b[1;32m     72\u001b[0m \u001b[38;5;28;01mdef\u001b[39;00m\u001b[38;5;250m \u001b[39m\u001b[38;5;21mexpression\u001b[39m(stream: List[Token], index: \u001b[38;5;28mint\u001b[39m)\u001b[38;5;241m-\u001b[39m\u001b[38;5;241m>\u001b[39m ParserResult[ast\u001b[38;5;241m.\u001b[39mExpression]:\n\u001b[0;32m---> 73\u001b[0m     \u001b[38;5;28;01mreturn\u001b[39;00m \u001b[43m(\u001b[49m\u001b[43mbinop\u001b[49m\u001b[43m \u001b[49m\u001b[38;5;241;43m|\u001b[39;49m\u001b[43m \u001b[49m\u001b[43mnumber\u001b[49m\u001b[43m \u001b[49m\u001b[38;5;241;43m|\u001b[39;49m\u001b[43m \u001b[49m\u001b[43mstring\u001b[49m\u001b[43m \u001b[49m\u001b[38;5;241;43m|\u001b[39;49m\u001b[43m \u001b[49m\u001b[43mident\u001b[49m\u001b[43m)\u001b[49m\u001b[38;5;241;43m.\u001b[39;49m\u001b[43mparse_fn\u001b[49m\u001b[43m(\u001b[49m\u001b[43mstream\u001b[49m\u001b[43m,\u001b[49m\u001b[43m \u001b[49m\u001b[43mindex\u001b[49m\u001b[43m)\u001b[49m\n",
      "    \u001b[0;31m[... skipping similar frames: Parser.__call__ at line 122 (3 times), Parser.__or__.<locals>.parse at line 144 (3 times)]\u001b[0m\n",
      "File \u001b[0;32m~/Projects/pyCco/pycco/parser.py:168\u001b[0m, in \u001b[0;36mParser.map.<locals>.parse\u001b[0;34m(stream, index)\u001b[0m\n\u001b[1;32m    167\u001b[0m \u001b[38;5;28;01mdef\u001b[39;00m\u001b[38;5;250m \u001b[39m\u001b[38;5;21mparse\u001b[39m(stream: Stream[S], index: \u001b[38;5;28mint\u001b[39m) \u001b[38;5;241m-\u001b[39m\u001b[38;5;241m>\u001b[39m ParserResult[U]:\n\u001b[0;32m--> 168\u001b[0m     i, res \u001b[38;5;241m=\u001b[39m \u001b[38;5;28;43mself\u001b[39;49m\u001b[43m(\u001b[49m\u001b[43mstream\u001b[49m\u001b[43m,\u001b[49m\u001b[43m \u001b[49m\u001b[43mindex\u001b[49m\u001b[43m)\u001b[49m\n\u001b[1;32m    169\u001b[0m     \u001b[38;5;28;01mif\u001b[39;00m i \u001b[38;5;241m==\u001b[39m \u001b[38;5;241m-\u001b[39m\u001b[38;5;241m1\u001b[39m \u001b[38;5;129;01mor\u001b[39;00m res \u001b[38;5;129;01mis\u001b[39;00m \u001b[38;5;28;01mNone\u001b[39;00m:\n\u001b[1;32m    170\u001b[0m         \u001b[38;5;28;01mreturn\u001b[39;00m ParserResult()\n",
      "    \u001b[0;31m[... skipping similar frames: Parser.__call__ at line 122 (1359 times), Parser.__or__.<locals>.parse at line 144 (678 times), Parser.__add__.<locals>.parse at line 204 (454 times), expression at line 73 (226 times), Parser.map.<locals>.parse at line 168 (226 times)]\u001b[0m\n",
      "Cell \u001b[0;32mIn[17], line 73\u001b[0m, in \u001b[0;36mexpression\u001b[0;34m(stream, index)\u001b[0m\n\u001b[1;32m     71\u001b[0m \u001b[38;5;129m@parser\u001b[39m\n\u001b[1;32m     72\u001b[0m \u001b[38;5;28;01mdef\u001b[39;00m\u001b[38;5;250m \u001b[39m\u001b[38;5;21mexpression\u001b[39m(stream: List[Token], index: \u001b[38;5;28mint\u001b[39m)\u001b[38;5;241m-\u001b[39m\u001b[38;5;241m>\u001b[39m ParserResult[ast\u001b[38;5;241m.\u001b[39mExpression]:\n\u001b[0;32m---> 73\u001b[0m     \u001b[38;5;28;01mreturn\u001b[39;00m \u001b[43m(\u001b[49m\u001b[43mbinop\u001b[49m\u001b[43m \u001b[49m\u001b[38;5;241;43m|\u001b[39;49m\u001b[43m \u001b[49m\u001b[43mnumber\u001b[49m\u001b[43m \u001b[49m\u001b[38;5;241;43m|\u001b[39;49m\u001b[43m \u001b[49m\u001b[43mstring\u001b[49m\u001b[43m \u001b[49m\u001b[38;5;241;43m|\u001b[39;49m\u001b[43m \u001b[49m\u001b[43mident\u001b[49m\u001b[43m)\u001b[49m\u001b[38;5;241;43m.\u001b[39;49m\u001b[43mparse_fn\u001b[49m\u001b[43m(\u001b[49m\u001b[43mstream\u001b[49m\u001b[43m,\u001b[49m\u001b[43m \u001b[49m\u001b[43mindex\u001b[49m\u001b[43m)\u001b[49m\n",
      "    \u001b[0;31m[... skipping similar frames: Parser.__call__ at line 122 (2 times), Parser.__or__.<locals>.parse at line 144 (2 times)]\u001b[0m\n",
      "File \u001b[0;32m~/Projects/pyCco/pycco/parser.py:144\u001b[0m, in \u001b[0;36mParser.__or__.<locals>.parse\u001b[0;34m(stream, index)\u001b[0m\n\u001b[1;32m    143\u001b[0m \u001b[38;5;28;01mdef\u001b[39;00m\u001b[38;5;250m \u001b[39m\u001b[38;5;21mparse\u001b[39m(stream: Stream[S], index: \u001b[38;5;28mint\u001b[39m) \u001b[38;5;241m-\u001b[39m\u001b[38;5;241m>\u001b[39m ParserResult[T]:\n\u001b[0;32m--> 144\u001b[0m     result \u001b[38;5;241m=\u001b[39m \u001b[38;5;28;43mself\u001b[39;49m\u001b[43m(\u001b[49m\u001b[43mstream\u001b[49m\u001b[43m,\u001b[49m\u001b[43m \u001b[49m\u001b[43mindex\u001b[49m\u001b[43m)\u001b[49m\n\u001b[1;32m    145\u001b[0m     \u001b[38;5;28;01mif\u001b[39;00m result[\u001b[38;5;241m0\u001b[39m] \u001b[38;5;241m!=\u001b[39m \u001b[38;5;241m-\u001b[39m\u001b[38;5;241m1\u001b[39m:\n\u001b[1;32m    146\u001b[0m         \u001b[38;5;28;01mreturn\u001b[39;00m result\n",
      "    \u001b[0;31m[... skipping similar frames: Parser.__call__ at line 122 (1 times)]\u001b[0m\n",
      "File \u001b[0;32m~/Projects/pyCco/pycco/parser.py:168\u001b[0m, in \u001b[0;36mParser.map.<locals>.parse\u001b[0;34m(stream, index)\u001b[0m\n\u001b[1;32m    167\u001b[0m \u001b[38;5;28;01mdef\u001b[39;00m\u001b[38;5;250m \u001b[39m\u001b[38;5;21mparse\u001b[39m(stream: Stream[S], index: \u001b[38;5;28mint\u001b[39m) \u001b[38;5;241m-\u001b[39m\u001b[38;5;241m>\u001b[39m ParserResult[U]:\n\u001b[0;32m--> 168\u001b[0m     i, res \u001b[38;5;241m=\u001b[39m \u001b[38;5;28;43mself\u001b[39;49m\u001b[43m(\u001b[49m\u001b[43mstream\u001b[49m\u001b[43m,\u001b[49m\u001b[43m \u001b[49m\u001b[43mindex\u001b[49m\u001b[43m)\u001b[49m\n\u001b[1;32m    169\u001b[0m     \u001b[38;5;28;01mif\u001b[39;00m i \u001b[38;5;241m==\u001b[39m \u001b[38;5;241m-\u001b[39m\u001b[38;5;241m1\u001b[39m \u001b[38;5;129;01mor\u001b[39;00m res \u001b[38;5;129;01mis\u001b[39;00m \u001b[38;5;28;01mNone\u001b[39;00m:\n\u001b[1;32m    170\u001b[0m         \u001b[38;5;28;01mreturn\u001b[39;00m ParserResult()\n",
      "File \u001b[0;32m~/Projects/pyCco/pycco/parser.py:122\u001b[0m, in \u001b[0;36mParser.__call__\u001b[0;34m(self, stream, index)\u001b[0m\n\u001b[1;32m    106\u001b[0m \u001b[38;5;250m\u001b[39m\u001b[38;5;124;03m\"\"\"\u001b[39;00m\n\u001b[1;32m    107\u001b[0m \u001b[38;5;124;03mInvoke the parser on the given stream starting at the given index.\u001b[39;00m\n\u001b[1;32m    108\u001b[0m \n\u001b[0;32m   (...)\u001b[0m\n\u001b[1;32m    114\u001b[0m \u001b[38;5;124;03m    ParserResult[T]: A tuple of the next index and the parsed result (or None on failure).\u001b[39;00m\n\u001b[1;32m    115\u001b[0m \u001b[38;5;124;03m\"\"\"\u001b[39;00m\n\u001b[1;32m    116\u001b[0m description \u001b[38;5;241m=\u001b[39m (\n\u001b[1;32m    117\u001b[0m     \u001b[38;5;28mself\u001b[39m\u001b[38;5;241m.\u001b[39mdescription\n\u001b[1;32m    118\u001b[0m     \u001b[38;5;28;01mif\u001b[39;00m \u001b[38;5;129;01mnot\u001b[39;00m \u001b[38;5;28misinstance\u001b[39m(\u001b[38;5;28mself\u001b[39m\u001b[38;5;241m.\u001b[39mparse_fn, Parser)\n\u001b[1;32m    119\u001b[0m     \u001b[38;5;28;01melse\u001b[39;00m \u001b[38;5;28mself\u001b[39m\u001b[38;5;241m.\u001b[39mparse_fn\u001b[38;5;241m.\u001b[39mdescription\n\u001b[1;32m    120\u001b[0m )\n\u001b[1;32m    121\u001b[0m index, result \u001b[38;5;241m=\u001b[39m (\n\u001b[0;32m--> 122\u001b[0m     \u001b[38;5;28;43mself\u001b[39;49m\u001b[38;5;241;43m.\u001b[39;49m\u001b[43mparse_fn\u001b[49m\u001b[43m(\u001b[49m\u001b[43mstream\u001b[49m\u001b[43m,\u001b[49m\u001b[43m \u001b[49m\u001b[43mindex\u001b[49m\u001b[43m)\u001b[49m\n\u001b[1;32m    123\u001b[0m     \u001b[38;5;28;01mif\u001b[39;00m \u001b[38;5;129;01mnot\u001b[39;00m \u001b[38;5;28misinstance\u001b[39m(\u001b[38;5;28mself\u001b[39m\u001b[38;5;241m.\u001b[39mparse_fn, Parser)\n\u001b[1;32m    124\u001b[0m     \u001b[38;5;28;01melse\u001b[39;00m \u001b[38;5;28mself\u001b[39m\u001b[38;5;241m.\u001b[39mparse_fn\u001b[38;5;241m.\u001b[39mparse_fn\n\u001b[1;32m    125\u001b[0m )\n\u001b[1;32m    126\u001b[0m \u001b[38;5;28;01mreturn\u001b[39;00m ParserResult(index, result, description)\n",
      "File \u001b[0;32m~/Projects/pyCco/pycco/parser.py:204\u001b[0m, in \u001b[0;36mParser.__add__.<locals>.parse\u001b[0;34m(stream, index)\u001b[0m\n\u001b[1;32m    203\u001b[0m \u001b[38;5;28;01mdef\u001b[39;00m\u001b[38;5;250m \u001b[39m\u001b[38;5;21mparse\u001b[39m(stream: Stream[S], index: \u001b[38;5;28mint\u001b[39m) \u001b[38;5;241m-\u001b[39m\u001b[38;5;241m>\u001b[39m ParserResult[List[Union[T, U]]]:\n\u001b[0;32m--> 204\u001b[0m     i, res1 \u001b[38;5;241m=\u001b[39m \u001b[38;5;28;43mself\u001b[39;49m\u001b[43m(\u001b[49m\u001b[43mstream\u001b[49m\u001b[43m,\u001b[49m\u001b[43m \u001b[49m\u001b[43mindex\u001b[49m\u001b[43m)\u001b[49m\n\u001b[1;32m    205\u001b[0m     \u001b[38;5;28;01mif\u001b[39;00m i \u001b[38;5;241m==\u001b[39m \u001b[38;5;241m-\u001b[39m\u001b[38;5;241m1\u001b[39m:\n\u001b[1;32m    206\u001b[0m         \u001b[38;5;28;01mreturn\u001b[39;00m ParserResult()  \u001b[38;5;66;03m# First parser failed\u001b[39;00m\n",
      "\u001b[0;31mRecursionError\u001b[0m: maximum recursion depth exceeded"
     ]
    }
   ],
   "source": [
    "(match(Token(TokenKind.KEYWORD, \"if\"))\n",
    "    >> open_paren\n",
    ">> expression)(tokenize('''\n",
    "if (x > 0) {\n",
    "    y = 1;\n",
    "} else {\n",
    "    y = -1;\n",
    "}\n",
    "'''))"
   ]
  },
  {
   "cell_type": "code",
   "execution_count": null,
   "id": "b44b110b-cef9-415f-b793-578169356b38",
   "metadata": {},
   "outputs": [
    {
     "ename": "AttributeError",
     "evalue": "module 'pycco.ast' has no attribute 'For'",
     "output_type": "error",
     "traceback": [
      "\u001b[0;31m---------------------------------------------------------------------------\u001b[0m",
      "\u001b[0;31mAttributeError\u001b[0m                            Traceback (most recent call last)",
      "Cell \u001b[0;32mIn[65], line 33\u001b[0m\n\u001b[1;32m     22\u001b[0m while_loop \u001b[38;5;241m=\u001b[39m (\n\u001b[1;32m     23\u001b[0m     \u001b[38;5;28;01mmatch\u001b[39;00m(Token(TokenKind\u001b[38;5;241m.\u001b[39mKEYWORD, \u001b[38;5;124m\"\u001b[39m\u001b[38;5;124mwhile\u001b[39m\u001b[38;5;124m\"\u001b[39m))\n\u001b[1;32m     24\u001b[0m     \u001b[38;5;241m>>\u001b[39m open_paren\n\u001b[0;32m   (...)\u001b[0m\n\u001b[1;32m     29\u001b[0m     \u001b[38;5;241m<<\u001b[39m close_bracket\n\u001b[1;32m     30\u001b[0m ) \u001b[38;5;241m@\u001b[39m map_while\n\u001b[1;32m     32\u001b[0m \u001b[38;5;66;03m# For Loop Parser\u001b[39;00m\n\u001b[0;32m---> 33\u001b[0m \u001b[38;5;28;01mdef\u001b[39;00m\u001b[38;5;250m \u001b[39m\u001b[38;5;21mmap_for\u001b[39m(elements: List[Token \u001b[38;5;241m|\u001b[39m ast\u001b[38;5;241m.\u001b[39mNode]) \u001b[38;5;241m-\u001b[39m\u001b[38;5;241m>\u001b[39m \u001b[43mast\u001b[49m\u001b[38;5;241;43m.\u001b[39;49m\u001b[43mFor\u001b[49m:\n\u001b[1;32m     34\u001b[0m     init, condition, increment, body \u001b[38;5;241m=\u001b[39m elements\n\u001b[1;32m     35\u001b[0m     \u001b[38;5;28;01mreturn\u001b[39;00m ast\u001b[38;5;241m.\u001b[39mFor(init, condition, increment, body)\n",
      "\u001b[0;31mAttributeError\u001b[0m: module 'pycco.ast' has no attribute 'For'"
     ]
    }
   ],
   "source": [
    "# While Loop Parser\n",
    "def map_while(elements: List[Token | ast.Node]) -> ast.WhileLoop:\n",
    "    condition, body = elements\n",
    "    return ast.WhileLoop(condition, body)\n",
    "\n",
    "while_loop = (\n",
    "    match(Token(TokenKind.KEYWORD, \"while\"))\n",
    "    >> open_paren\n",
    "    >> expression\n",
    "    << close_paren\n",
    "    + open_bracket\n",
    "    >> statement.many()\n",
    "    << close_bracket\n",
    ") @ map_while\n",
    "\n",
    "# For Loop Parser\n",
    "def map_for(elements: List[Token | ast.Node]) -> ast.For:\n",
    "    init, condition, increment, body = elements\n",
    "    return ast.For(init, condition, increment, body)\n",
    "\n",
    "for_loop = (\n",
    "    match(Token(TokenKind.KEYWORD, \"for\"))\n",
    "    >> open_paren\n",
    "    >> variable_assign\n",
    "    << semicolon\n",
    "    + expression\n",
    "    << semicolon\n",
    "    + variable_assign\n",
    "    << close_paren\n",
    "    + open_bracket\n",
    "    >> statement.many()\n",
    "    << close_bracket\n",
    ") @ map_for\n",
    "\n",
    "# Function Call Parser\n",
    "def map_function_call(elements: List[Token | ast.Node]) -> ast.FunctionCall:\n",
    "    name, args = elements\n",
    "    return ast.FunctionCall(name, args)\n",
    "\n",
    "function_call = (\n",
    "    ident\n",
    "    + open_paren\n",
    "    >> expression.sep_by(comma)\n",
    "    << close_paren\n",
    ") @ map_function_call\n",
    "\n",
    "# Array Index Parser\n",
    "def map_array_index(elements: List[Token | ast.Node]) -> ast.ArrayIndex:\n",
    "    array, index = elements\n",
    "    return ast.ArrayIndex(array=array, index=index)\n",
    "\n",
    "array_index = ident + open_bracket >> expression << close_bracket @ map_array_index\n",
    "\n",
    "# Struct Access Parser\n",
    "def map_struct_access(elements: List[Token | ast.Node]) -> ast.StructAccess:\n",
    "    obj, operator, field = elements\n",
    "    return ast.StructAccess(obj=obj, operator=operator.value, field=field)\n",
    "\n",
    "struct_access = (\n",
    "    ident\n",
    "    + any_of_enum(OtherOperator)\n",
    "    .filter(lambda op: op in {OtherOperator.DOT, OtherOperator.ARROW})\n",
    "    + ident\n",
    ") @ map_struct_access\n",
    "\n",
    "# Update Statement Parser\n",
    "@parser\n",
    "def statement(stream: List[Token], index: int) -> ParserResult[ast.Statement]:\n",
    "    return (\n",
    "        if_else | while_loop | for_loop | variable_decl | variable_assign | return_\n",
    "    ).parse_fn(stream, index)\n",
    "\n",
    "# Update Expression Parser\n",
    "@parser\n",
    "def expression(stream: List[Token], index: int) -> ParserResult[ast.Expression]:\n",
    "    return (\n",
    "        struct_access | array_index | function_call | unary_op | binop | ident | number | string\n",
    "    ).parse_fn(stream, index)"
   ]
  },
  {
   "cell_type": "code",
   "execution_count": 48,
   "id": "03d20d4a-5fb0-4e9f-ae08-c54612bbaf23",
   "metadata": {},
   "outputs": [
    {
     "data": {
      "text/plain": [
       "BinaryOp(left=Number(value='2', type=Type(name='int', pointer=False)), operator='+', right=StringLiteral(value='2'))"
      ]
     },
     "execution_count": 48,
     "metadata": {},
     "output_type": "execute_result"
    }
   ],
   "source": [
    "binop(tokenize('2+\"2\" ')).result"
   ]
  },
  {
   "cell_type": "code",
   "execution_count": 30,
   "id": "82438451-c9b1-4c9c-8f66-b9a5d67ed4a6",
   "metadata": {},
   "outputs": [
    {
     "data": {
      "text/plain": [
       "Parser(\"}\")"
      ]
     },
     "execution_count": 30,
     "metadata": {},
     "output_type": "execute_result"
    }
   ],
   "source": [
    "close_bracket"
   ]
  },
  {
   "cell_type": "code",
   "execution_count": 31,
   "id": "993e988e-157a-4f0c-8b15-8b4891c3fe69",
   "metadata": {},
   "outputs": [],
   "source": [
    "statement.many(1)(tokenize('return 2;')).result"
   ]
  },
  {
   "cell_type": "code",
   "execution_count": 32,
   "id": "dc0ec07a-c0a5-4adf-a986-7f8c2cd757fe",
   "metadata": {},
   "outputs": [
    {
     "data": {
      "text/plain": [
       "Return(value=[Token(kind=<TokenKind.KEYWORD: 2>, value='return', start=6, end=11), Token(kind=<TokenKind.NUMBER: 7>, value='2', start=8, end=8), Token(kind=<TokenKind.SYMBOL: 4>, value=';', start=9, end=9)])"
      ]
     },
     "execution_count": 32,
     "metadata": {},
     "output_type": "execute_result"
    }
   ],
   "source": [
    "(statement.until(close_bracket)@map_return)(tokenize('return 2;}')).result"
   ]
  },
  {
   "cell_type": "code",
   "execution_count": 33,
   "id": "70f1e431-93bd-4ad9-9e18-8bebd02df5f5",
   "metadata": {},
   "outputs": [
    {
     "data": {
      "text/plain": [
       "ParserResult(index=-1, result=None, description=None)"
      ]
     },
     "execution_count": 33,
     "metadata": {},
     "output_type": "execute_result"
    }
   ],
   "source": [
    "statement(tokenize('return 2;'))"
   ]
  },
  {
   "cell_type": "code",
   "execution_count": 34,
   "id": "da3bc27a-cd2c-4fe2-9f8f-700127ce6391",
   "metadata": {},
   "outputs": [],
   "source": [
    "r=function(tokenize('''\n",
    "int main(char* x){\n",
    "int *x=\n",
    "3;\n",
    "    return 2;\n",
    "}''')).result"
   ]
  },
  {
   "cell_type": "code",
   "execution_count": 35,
   "id": "84482df2-0bb7-4ba0-b5d0-8679df452434",
   "metadata": {},
   "outputs": [
    {
     "data": {
      "text/plain": [
       "Return(value=Number(value='2', type=Type(name='int', pointer=False)))"
      ]
     },
     "execution_count": 35,
     "metadata": {},
     "output_type": "execute_result"
    }
   ],
   "source": [
    "r.ret"
   ]
  },
  {
   "cell_type": "code",
   "execution_count": 36,
   "id": "14c4302d-da20-445f-b311-b2d4dbdb20d1",
   "metadata": {},
   "outputs": [
    {
     "name": "stdout",
     "output_type": "stream",
     "text": [
      "\n",
      "int main(char* x)\n",
      "{\n",
      "\tint* x = 3;\n",
      "\treturn 2;\n",
      "}\n",
      "\n",
      "\n"
     ]
    }
   ],
   "source": [
    "print(r)"
   ]
  },
  {
   "cell_type": "code",
   "execution_count": 19,
   "id": "5149a6d7-d238-4ff1-a4cd-77fa71877842",
   "metadata": {},
   "outputs": [],
   "source": [
    "r=(((name@map_ident | variable_@map_variable_decl) << Token(TokenKind.OPERATOR, '='))+expression<<semicolon)(tokenize('int x=3;')).result"
   ]
  },
  {
   "cell_type": "code",
   "execution_count": 20,
   "id": "08e7d771-1688-4d41-9a16-9dced3a0f29e",
   "metadata": {},
   "outputs": [
    {
     "data": {
      "text/plain": [
       "Assign(var=VariableDecl(type=Type(name='int', pointer=False), name=Ident(name='x'), semicolon=False), to=Number(value='3', type=Type(name='int', pointer=False)))"
      ]
     },
     "execution_count": 20,
     "metadata": {},
     "output_type": "execute_result"
    }
   ],
   "source": [
    "map_variable_assign(r)"
   ]
  },
  {
   "cell_type": "code",
   "execution_count": null,
   "id": "2c66e903-6e00-423c-ace0-2ac6881a1cc0",
   "metadata": {},
   "outputs": [],
   "source": [
    "# Binary Expression\n",
    "def map_binary_expression(tokens: List[Token]) -> ast.BinaryExpression:\n",
    "    \"\"\"\n",
    "    Map tokens to a BinaryExpression.\n",
    "    Assumes tokens are in the order: left operator right\n",
    "    \"\"\"\n",
    "    left = tokens[0]\n",
    "    operator = tokens[1].value\n",
    "    right = tokens[2]\n",
    "    return ast.BinaryExpression(\n",
    "        left=ast.Ident(left.value) if left.kind == TokenKind.IDENTIFIER else left,\n",
    "        operator=operator,\n",
    "        right=ast.Ident(right.value) if right.kind == TokenKind.IDENTIFIER else right,\n",
    "    )\n",
    "\n",
    "expression = Parser()  # Forward declaration for expressions\n",
    "binary_expression = (expression + TokenKind.OPERATOR + expression) @ map_binary_expression\n",
    "\n",
    "# If Statement\n",
    "def map_if_statement(tokens: List[Token]) -> ast.IfStatement:\n",
    "    \"\"\"\n",
    "    Map tokens to an IfStatement.\n",
    "    Assumes tokens are in the order: if (condition) { then_branch } [else { else_branch }]\n",
    "    \"\"\"\n",
    "    condition = tokens[0]  # First token after `if` and `(`\n",
    "    then_branch = tokens[1]  # Tokens within the `{}` following the condition\n",
    "    else_branch = tokens[2] if len(tokens) > 2 else None  # Optional `else` branch\n",
    "    return ast.IfStatement(condition=condition, then_branch=then_branch, else_branch=else_branch)\n",
    "\n",
    "if_statement = (\n",
    "    match(Token(TokenKind.KEYWORD, \"if\"))\n",
    "    >> open_paren\n",
    "    >> expression\n",
    "    << close_paren\n",
    "    + open_bracket\n",
    "    >> variable_decl.until(close_bracket)\n",
    "    << close_bracket\n",
    "    + (\n",
    "        match(Token(TokenKind.KEYWORD, \"else\"))\n",
    "        >> open_bracket\n",
    "        >> variable_decl.until(close_bracket)\n",
    "        << close_bracket\n",
    "    ).optional()\n",
    ") @ map_if_statement\n",
    "\n",
    "# While Loop\n",
    "def map_while_loop(tokens: List[Token]) -> ast.WhileLoop:\n",
    "    \"\"\"\n",
    "    Map tokens to a WhileLoop.\n",
    "    Assumes tokens are in the order: while (condition) { body }\n",
    "    \"\"\"\n",
    "    condition = tokens[0]  # First token after `while` and `(`\n",
    "    body = tokens[1]  # Tokens within the `{}` following the condition\n",
    "    return ast.WhileLoop(condition=condition, body=body)\n",
    "\n",
    "while_loop = (\n",
    "    match(Token(TokenKind.KEYWORD, \"while\"))\n",
    "    >> open_paren\n",
    "    >> expression\n",
    "    << close_paren\n",
    "    + open_bracket\n",
    "    >> variable_decl.until(close_bracket)\n",
    "    << close_bracket\n",
    ") @ map_while_loop\n",
    "\n",
    "# Function\n",
    "def map_function(tokens: List[Token]) -> ast.Function:\n",
    "    \"\"\"\n",
    "    Map tokens to a Function.\n",
    "    Assumes tokens are in the order: return_type name(args) { body }\n",
    "    \"\"\"\n",
    "    return_type = ast.Type(tokens[0].value)\n",
    "    name = ast.Ident(tokens[1].value)\n",
    "    args = [map_variable_decl(arg) for arg in tokens[2]]  # Tokens within `()`\n",
    "    body = tokens[3]  # Tokens within `{}`\n",
    "    return ast.Function(\n",
    "        var=ast.VariableDecl(type=return_type, name=name),\n",
    "        args=args,\n",
    "        body=body,\n",
    "    )\n",
    "\n",
    "# Forward declaration for statement\n",
    "statement = Parser()\n",
    "\n",
    "# Function parser\n",
    "def map_function(tokens: List[Token]) -> ast.Function:\n",
    "    \"\"\"\n",
    "    Map tokens to a Function.\n",
    "    Assumes tokens are in the order: return_type name(args) { body }\n",
    "    \"\"\"\n",
    "    return_type = ast.Type(tokens[0].value)\n",
    "    name = ast.Ident(tokens[1].value)\n",
    "    args = [map_variable_decl(arg) for arg in tokens[2]]  # Tokens within `()`\n",
    "    body = tokens[3]  # Tokens within `{}`\n",
    "    return ast.Function(\n",
    "        var=ast.VariableDecl(type=return_type, name=name),\n",
    "        args=args,\n",
    "        body=body,\n",
    "    )\n",
    "\n",
    "function = (\n",
    "    type\n",
    "    + name\n",
    "    + (open_paren >> variable.until(comma.optional() + close_paren))\n",
    "    << close_paren\n",
    "    + open_bracket\n",
    "    >> statement.until(close_bracket)\n",
    "    << close_bracket\n",
    ") @ map_function\n",
    "\n",
    "# Define the statement parser\n",
    "statement.define(variable_decl | if_statement | while_loop | binary_expression)\n",
    "\n",
    "\n",
    "# Update the `_expression` placeholder to include binary_expression\n",
    "expression.define(binary_expression | variable)\n",
    "\n",
    "\n",
    "# Entry Point for Parsing a Program\n",
    "program = function.until(TokenKind.EOF)"
   ]
  },
  {
   "cell_type": "code",
   "execution_count": 59,
   "id": "2b90ee94-47bb-42a8-ade4-a40568bff719",
   "metadata": {},
   "outputs": [],
   "source": [
    "source_code = \"\"\"\n",
    "int* main(args) {\n",
    "    int* x = 42;\n",
    "\n",
    "    return 0;\n",
    "}\n",
    "\"\"\""
   ]
  },
  {
   "cell_type": "code",
   "execution_count": 60,
   "id": "2a4b6bdd-7baf-4489-9d91-fd3c896b2f2e",
   "metadata": {},
   "outputs": [],
   "source": [
    "tokens = tokenize(source_code)"
   ]
  },
  {
   "cell_type": "code",
   "execution_count": 61,
   "id": "2f82848f-161b-4dc5-adb8-405e0ae89622",
   "metadata": {},
   "outputs": [
    {
     "data": {
      "text/plain": [
       "ParserResult(index=-1, result=None, description=((((((\"TYPE\" + \"*\"?) + \"IDENTIFIER\") @ map_variable_decl) + (((\"(\" >> ((((\"TYPE\" + \"*\"?) + \"IDENTIFIER\") @ map_variable_decl) sep_by \",\")) << \")\") @ <lambda>)) + ((\"{\" >> (None* + (((\"return\" >> None) << \";\") @ map_return)?)) << \"}\")) @ map_function))"
      ]
     },
     "execution_count": 61,
     "metadata": {},
     "output_type": "execute_result"
    }
   ],
   "source": [
    "function(tokens)"
   ]
  },
  {
   "cell_type": "code",
   "execution_count": 12,
   "id": "61404ddc-4c62-4b86-8762-620064e38a1f",
   "metadata": {},
   "outputs": [],
   "source": [
    "variable = type + star.optional() + name\n",
    "variable_decl = (variable + semicolon.optional()) @ map_variable_decl"
   ]
  },
  {
   "cell_type": "code",
   "execution_count": 13,
   "id": "17e57e29-49c7-4a63-b526-75eaa073c14f",
   "metadata": {},
   "outputs": [
    {
     "ename": "AttributeError",
     "evalue": "'str' object has no attribute 'value'",
     "output_type": "error",
     "traceback": [
      "\u001b[0;31m---------------------------------------------------------------------------\u001b[0m",
      "\u001b[0;31mAttributeError\u001b[0m                            Traceback (most recent call last)",
      "Cell \u001b[0;32mIn[13], line 1\u001b[0m\n\u001b[0;32m----> 1\u001b[0m \u001b[43mvariable_decl\u001b[49m\u001b[43m(\u001b[49m\u001b[43mtokenize\u001b[49m\u001b[43m(\u001b[49m\u001b[38;5;124;43m'\u001b[39;49m\u001b[38;5;124;43mint main\u001b[39;49m\u001b[38;5;124;43m'\u001b[39;49m\u001b[43m)\u001b[49m\u001b[43m)\u001b[49m\n",
      "File \u001b[0;32m~/Projects/pyCco/pycco/parser.py:111\u001b[0m, in \u001b[0;36mParser.__call__\u001b[0;34m(self, stream, index)\u001b[0m\n\u001b[1;32m     95\u001b[0m \u001b[38;5;250m\u001b[39m\u001b[38;5;124;03m\"\"\"\u001b[39;00m\n\u001b[1;32m     96\u001b[0m \u001b[38;5;124;03mInvoke the parser on the given stream starting at the given index.\u001b[39;00m\n\u001b[1;32m     97\u001b[0m \n\u001b[0;32m   (...)\u001b[0m\n\u001b[1;32m    103\u001b[0m \u001b[38;5;124;03m    ParserResult[T]: A tuple of the next index and the parsed result (or None on failure).\u001b[39;00m\n\u001b[1;32m    104\u001b[0m \u001b[38;5;124;03m\"\"\"\u001b[39;00m\n\u001b[1;32m    105\u001b[0m description \u001b[38;5;241m=\u001b[39m (\n\u001b[1;32m    106\u001b[0m     \u001b[38;5;28mself\u001b[39m\u001b[38;5;241m.\u001b[39mdescription\n\u001b[1;32m    107\u001b[0m     \u001b[38;5;28;01mif\u001b[39;00m \u001b[38;5;129;01mnot\u001b[39;00m \u001b[38;5;28misinstance\u001b[39m(\u001b[38;5;28mself\u001b[39m\u001b[38;5;241m.\u001b[39mparse_fn, Parser)\n\u001b[1;32m    108\u001b[0m     \u001b[38;5;28;01melse\u001b[39;00m \u001b[38;5;28mself\u001b[39m\u001b[38;5;241m.\u001b[39mparse_fn\u001b[38;5;241m.\u001b[39mdescription\n\u001b[1;32m    109\u001b[0m )\n\u001b[1;32m    110\u001b[0m index, result \u001b[38;5;241m=\u001b[39m (\n\u001b[0;32m--> 111\u001b[0m     \u001b[38;5;28;43mself\u001b[39;49m\u001b[38;5;241;43m.\u001b[39;49m\u001b[43mparse_fn\u001b[49m\u001b[43m(\u001b[49m\u001b[43mstream\u001b[49m\u001b[43m,\u001b[49m\u001b[43m \u001b[49m\u001b[43mindex\u001b[49m\u001b[43m)\u001b[49m\n\u001b[1;32m    112\u001b[0m     \u001b[38;5;28;01mif\u001b[39;00m \u001b[38;5;129;01mnot\u001b[39;00m \u001b[38;5;28misinstance\u001b[39m(\u001b[38;5;28mself\u001b[39m\u001b[38;5;241m.\u001b[39mparse_fn, Parser)\n\u001b[1;32m    113\u001b[0m     \u001b[38;5;28;01melse\u001b[39;00m \u001b[38;5;28mself\u001b[39m\u001b[38;5;241m.\u001b[39mparse_fn\u001b[38;5;241m.\u001b[39mparse_fn\n\u001b[1;32m    114\u001b[0m )\n\u001b[1;32m    115\u001b[0m \u001b[38;5;28;01mreturn\u001b[39;00m ParserResult(index, result, description)\n",
      "File \u001b[0;32m~/Projects/pyCco/pycco/parser.py:162\u001b[0m, in \u001b[0;36mParser.map.<locals>.parse\u001b[0;34m(stream, index)\u001b[0m\n\u001b[1;32m    159\u001b[0m     \u001b[38;5;28;01mreturn\u001b[39;00m ParserResult()\n\u001b[1;32m    161\u001b[0m \u001b[38;5;28;01mif\u001b[39;00m \u001b[38;5;28mlen\u001b[39m(signature(mapper)\u001b[38;5;241m.\u001b[39mparameters)\u001b[38;5;241m==\u001b[39m\u001b[38;5;241m1\u001b[39m:\n\u001b[0;32m--> 162\u001b[0m     mapped \u001b[38;5;241m=\u001b[39m \u001b[43mmapper\u001b[49m\u001b[43m(\u001b[49m\u001b[43mres\u001b[49m\u001b[43m)\u001b[49m\n\u001b[1;32m    163\u001b[0m \u001b[38;5;28;01melse\u001b[39;00m:\n\u001b[1;32m    164\u001b[0m     mapped \u001b[38;5;241m=\u001b[39m mapper(res, i)\n",
      "File \u001b[0;32m~/Projects/pyCco/pycco/parsers.py:31\u001b[0m, in \u001b[0;36mmap_variable_decl\u001b[0;34m(tokens)\u001b[0m\n\u001b[1;32m     29\u001b[0m     pointer \u001b[38;5;241m=\u001b[39m tokens[\u001b[38;5;241m1\u001b[39m]\u001b[38;5;241m.\u001b[39mvalue \u001b[38;5;241m==\u001b[39m \u001b[38;5;124m\"\u001b[39m\u001b[38;5;124m*\u001b[39m\u001b[38;5;124m\"\u001b[39m\n\u001b[1;32m     30\u001b[0m     semicolon \u001b[38;5;241m=\u001b[39m tokens[\u001b[38;5;241m-\u001b[39m\u001b[38;5;241m1\u001b[39m]\u001b[38;5;241m.\u001b[39mvalue \u001b[38;5;241m==\u001b[39m \u001b[38;5;124m'\u001b[39m\u001b[38;5;124m;\u001b[39m\u001b[38;5;124m'\u001b[39m\n\u001b[0;32m---> 31\u001b[0m name \u001b[38;5;241m=\u001b[39m \u001b[43m[\u001b[49m\u001b[43mtoken\u001b[49m\u001b[38;5;241;43m.\u001b[39;49m\u001b[43mvalue\u001b[49m\u001b[43m \u001b[49m\u001b[38;5;28;43;01mfor\u001b[39;49;00m\u001b[43m \u001b[49m\u001b[43mtoken\u001b[49m\u001b[43m \u001b[49m\u001b[38;5;129;43;01min\u001b[39;49;00m\u001b[43m \u001b[49m\u001b[43mtokens\u001b[49m\u001b[43m[\u001b[49m\u001b[38;5;241;43m1\u001b[39;49m\u001b[43m:\u001b[49m\u001b[43m]\u001b[49m\u001b[43m \u001b[49m\u001b[38;5;28;43;01mif\u001b[39;49;00m\u001b[43m \u001b[49m\u001b[43mtoken\u001b[49m\u001b[38;5;241;43m.\u001b[39;49m\u001b[43mkind\u001b[49m\u001b[43m \u001b[49m\u001b[38;5;241;43m==\u001b[39;49m\u001b[43m \u001b[49m\u001b[43mTokenKind\u001b[49m\u001b[38;5;241;43m.\u001b[39;49m\u001b[43mIDENTIFIER\u001b[49m\u001b[43m]\u001b[49m\u001b[43m[\u001b[49m\u001b[38;5;241;43m0\u001b[39;49m\u001b[43m]\u001b[49m\u001b[38;5;241;43m.\u001b[39;49m\u001b[43mvalue\u001b[49m\n\u001b[1;32m     32\u001b[0m name \u001b[38;5;241m=\u001b[39m ast\u001b[38;5;241m.\u001b[39mIdent(name)\n\u001b[1;32m     33\u001b[0m \u001b[38;5;28mtype\u001b[39m\u001b[38;5;241m.\u001b[39mpointer \u001b[38;5;241m=\u001b[39m pointer\n",
      "\u001b[0;31mAttributeError\u001b[0m: 'str' object has no attribute 'value'"
     ]
    }
   ],
   "source": [
    "variable_decl(tokenize('int main'))"
   ]
  },
  {
   "cell_type": "code",
   "execution_count": 7,
   "id": "3eae1f7e-ce70-459c-a605-41a66a117c82",
   "metadata": {},
   "outputs": [
    {
     "data": {
      "text/plain": [
       "ParserResult(index=2, result=[Token(kind=<TokenKind.TYPE: 3>, value='int', start=3, end=5), Token(kind=<TokenKind.IDENTIFIER: 1>, value='main', start=8, end=11)], description=(((\"TYPE\" + \"*\"?) + \"IDENTIFIER\") + \";\"?))"
      ]
     },
     "execution_count": 7,
     "metadata": {},
     "output_type": "execute_result"
    }
   ],
   "source": [
    "variable_decl(tokenize('int main'))"
   ]
  },
  {
   "cell_type": "code",
   "execution_count": 9,
   "id": "4dcc8707-b2da-4299-a451-1c777680f093",
   "metadata": {},
   "outputs": [
    {
     "ename": "ParseError",
     "evalue": "Parsing failed due to an unexpected error.\nAt token index 0:\nint main ( args )\n^\nToken causing issue: int (kind: TYPE)",
     "output_type": "error",
     "traceback": [
      "\u001b[0;31m---------------------------------------------------------------------------\u001b[0m",
      "\u001b[0;31mAttributeError\u001b[0m                            Traceback (most recent call last)",
      "File \u001b[0;32m~/Projects/pyCco/pycco/parsers.py:216\u001b[0m, in \u001b[0;36mparse\u001b[0;34m(tokens)\u001b[0m\n\u001b[1;32m    215\u001b[0m \u001b[38;5;66;03m# Check if parsing consumed all tokens\u001b[39;00m\n\u001b[0;32m--> 216\u001b[0m \u001b[38;5;28;01mif\u001b[39;00m \u001b[43mparser_result\u001b[49m\u001b[38;5;241;43m.\u001b[39;49m\u001b[43mnext_index\u001b[49m \u001b[38;5;241m!=\u001b[39m \u001b[38;5;28mlen\u001b[39m(tokens):\n\u001b[1;32m    217\u001b[0m     \u001b[38;5;28;01mraise\u001b[39;00m ParseError(\n\u001b[1;32m    218\u001b[0m         \u001b[38;5;124m\"\u001b[39m\u001b[38;5;124mParsing did not consume all tokens. Remaining tokens detected.\u001b[39m\u001b[38;5;124m\"\u001b[39m,\n\u001b[1;32m    219\u001b[0m         tokens,\n\u001b[1;32m    220\u001b[0m         parser_result\u001b[38;5;241m.\u001b[39mnext_index,\n\u001b[1;32m    221\u001b[0m     )\n",
      "\u001b[0;31mAttributeError\u001b[0m: 'ParserResult' object has no attribute 'next_index'",
      "\nThe above exception was the direct cause of the following exception:\n",
      "\u001b[0;31mParseError\u001b[0m                                Traceback (most recent call last)",
      "Cell \u001b[0;32mIn[9], line 1\u001b[0m\n\u001b[0;32m----> 1\u001b[0m \u001b[43mparse\u001b[49m\u001b[43m(\u001b[49m\u001b[43mtokens\u001b[49m\u001b[43m)\u001b[49m\n",
      "File \u001b[0;32m~/Projects/pyCco/pycco/parsers.py:230\u001b[0m, in \u001b[0;36mparse\u001b[0;34m(tokens)\u001b[0m\n\u001b[1;32m    228\u001b[0m     \u001b[38;5;28;01mraise\u001b[39;00m e  \u001b[38;5;66;03m# Re-raise existing ParseError\u001b[39;00m\n\u001b[1;32m    229\u001b[0m index \u001b[38;5;241m=\u001b[39m \u001b[38;5;28mgetattr\u001b[39m(e, \u001b[38;5;124m\"\u001b[39m\u001b[38;5;124mindex\u001b[39m\u001b[38;5;124m\"\u001b[39m, \u001b[38;5;241m0\u001b[39m)  \u001b[38;5;66;03m# Extract index if available\u001b[39;00m\n\u001b[0;32m--> 230\u001b[0m \u001b[38;5;28;01mraise\u001b[39;00m ParseError(\n\u001b[1;32m    231\u001b[0m     \u001b[38;5;124m\"\u001b[39m\u001b[38;5;124mParsing failed due to an unexpected error.\u001b[39m\u001b[38;5;124m\"\u001b[39m,\n\u001b[1;32m    232\u001b[0m     tokens,\n\u001b[1;32m    233\u001b[0m     index \u001b[38;5;129;01mor\u001b[39;00m \u001b[38;5;241m0\u001b[39m,\n\u001b[1;32m    234\u001b[0m ) \u001b[38;5;28;01mfrom\u001b[39;00m\u001b[38;5;250m \u001b[39m\u001b[38;5;21;01me\u001b[39;00m\n",
      "\u001b[0;31mParseError\u001b[0m: Parsing failed due to an unexpected error.\nAt token index 0:\nint main ( args )\n^\nToken causing issue: int (kind: TYPE)"
     ]
    }
   ],
   "source": [
    "parse(tokens)"
   ]
  },
  {
   "cell_type": "code",
   "execution_count": 3,
   "id": "21ede8cd-0cc6-4847-bbe7-26ed4551b98b",
   "metadata": {},
   "outputs": [
    {
     "ename": "NameError",
     "evalue": "name 'variable_map' is not defined",
     "output_type": "error",
     "traceback": [
      "\u001b[0;31m---------------------------------------------------------------------------\u001b[0m",
      "\u001b[0;31mNameError\u001b[0m                                 Traceback (most recent call last)",
      "Cell \u001b[0;32mIn[3], line 1\u001b[0m\n\u001b[0;32m----> 1\u001b[0m r\u001b[38;5;241m=\u001b[39m(variable\u001b[38;5;129m@variable_map\u001b[39m)(tokenize(\u001b[38;5;124m'\u001b[39m\u001b[38;5;124mint *main\u001b[39m\u001b[38;5;124m'\u001b[39m))\n",
      "\u001b[0;31mNameError\u001b[0m: name 'variable_map' is not defined"
     ]
    }
   ],
   "source": [
    "r=(variable@variable_map)(tokenize('int *main'))"
   ]
  },
  {
   "cell_type": "code",
   "execution_count": 6,
   "id": "40e9e46b-77d5-45ff-8edf-b0a61ec4f973",
   "metadata": {},
   "outputs": [
    {
     "data": {
      "text/plain": [
       "[Token(kind=<TokenKind.TYPE: 3>, value='int', start=3, end=5),\n",
       " Token(kind=<TokenKind.OPERATOR: 5>, value='*', start=5, end=5),\n",
       " Token(kind=<TokenKind.IDENTIFIER: 1>, value='main', start=9, end=12)]"
      ]
     },
     "execution_count": 6,
     "metadata": {},
     "output_type": "execute_result"
    }
   ],
   "source": [
    "r.result.tokens"
   ]
  },
  {
   "cell_type": "code",
   "execution_count": 4,
   "id": "4a0bf5f2-5cd9-47a6-a1bc-ebce376d0f69",
   "metadata": {},
   "outputs": [
    {
     "data": {
      "text/plain": [
       "ParserResult(index=-1, result=None, description=(\"TYPE\" + \"IDENTIFIER\"))"
      ]
     },
     "execution_count": 4,
     "metadata": {},
     "output_type": "execute_result"
    }
   ],
   "source": [
    "(type + name)(tokenizer(('int main')))"
   ]
  },
  {
   "cell_type": "code",
   "execution_count": 6,
   "id": "88668f5a-6940-410c-acc6-0062b20ca566",
   "metadata": {},
   "outputs": [
    {
     "data": {
      "text/plain": [
       "ParserResult(index=-1, result=None, description=((\"TYPE\" + \"IDENTIFIER\") + (\"(\" >> (((\"TYPE\" + \"*\"?) + \"IDENTIFIER\") until (\",\"? + \")\")))))"
      ]
     },
     "execution_count": 6,
     "metadata": {},
     "output_type": "execute_result"
    }
   ],
   "source": [
    "(type + name + (open_paren >> variable.until(comma.optional() + close_paren)))(source_code)"
   ]
  },
  {
   "cell_type": "code",
   "execution_count": 3,
   "id": "8921f400-b83c-4528-a9e7-0991e184a679",
   "metadata": {},
   "outputs": [
    {
     "data": {
      "text/plain": [
       "ParserResult(index=1, result=int, description=\"TYPE\")"
      ]
     },
     "execution_count": 3,
     "metadata": {},
     "output_type": "execute_result"
    }
   ],
   "source": [
    "type(tokenize('int'))"
   ]
  },
  {
   "cell_type": "code",
   "execution_count": 4,
   "id": "d13c4cd9-2c39-4c81-abc4-3f71bdf30028",
   "metadata": {},
   "outputs": [
    {
     "data": {
      "text/plain": [
       "ParserResult(index=4, result=[Token(kind=<TokenKind.TYPE: 3>, value='int', start=3, end=5), Token(kind=<TokenKind.OPERATOR: 5>, value='*', start=4, end=4), Token(kind=<TokenKind.IDENTIFIER: 1>, value='x', start=6, end=6), Token(kind=<TokenKind.SYMBOL: 4>, value=';', start=7, end=7)], description=(((\"TYPE\" + \"*\"?) + \"IDENTIFIER\") + \";\"))"
      ]
     },
     "execution_count": 4,
     "metadata": {},
     "output_type": "execute_result"
    }
   ],
   "source": [
    "variable_decl(tokenize('int* x;'))"
   ]
  },
  {
   "cell_type": "code",
   "execution_count": 9,
   "id": "f4a03581-2d7a-4833-802b-ca0b0a675252",
   "metadata": {},
   "outputs": [
    {
     "data": {
      "text/plain": [
       "ParserResult(index=21, result=[Token(kind=<TokenKind.TYPE: 3>, value='int', start=25, end=27), Token(kind=<TokenKind.OPERATOR: 5>, value='*', start=26, end=26), Token(kind=<TokenKind.IDENTIFIER: 1>, value='x', start=28, end=28), Token(kind=<TokenKind.OPERATOR: 5>, value='=', start=30, end=30), Token(kind=<TokenKind.NUMBER: 7>, value='42', start=33, end=34), Token(kind=<TokenKind.SYMBOL: 4>, value=';', start=34, end=34), Token(kind=<TokenKind.IDENTIFIER: 1>, value='printf', start=85, end=90), Token(kind=<TokenKind.SYMBOL: 4>, value='(', start=86, end=86), Token(kind=<TokenKind.STRING_LITERAL: 6>, value='Hello, World!', start=101, end=113), Token(kind=<TokenKind.SYMBOL: 4>, value=')', start=102, end=102), Token(kind=<TokenKind.SYMBOL: 4>, value=';', start=103, end=103), Token(kind=<TokenKind.KEYWORD: 2>, value='return', start=114, end=119), Token(kind=<TokenKind.NUMBER: 7>, value='0', start=116, end=116), Token(kind=<TokenKind.SYMBOL: 4>, value=';', start=117, end=117)], description=(((((\"TYPE\" + \"IDENTIFIER\") + (\"(\" >> (((\"TYPE\" + \"*\"?) + \"IDENTIFIER\") until (\",\"? + \")\")))) << (\")\" + \"{\")) >> (. until \"}\")) << \"}\"))"
      ]
     },
     "execution_count": 9,
     "metadata": {},
     "output_type": "execute_result"
    }
   ],
   "source": [
    "function(tokenize(source_code))"
   ]
  },
  {
   "cell_type": "code",
   "execution_count": 10,
   "id": "e44275a4-4f75-41b5-9691-8c627d7ef872",
   "metadata": {},
   "outputs": [
    {
     "data": {
      "text/plain": [
       "[Token(kind=<TokenKind.TYPE: 3>, value='int', start=4, end=6),\n",
       " Token(kind=<TokenKind.IDENTIFIER: 1>, value='main', start=9, end=12),\n",
       " Token(kind=<TokenKind.SYMBOL: 4>, value='(', start=10, end=10),\n",
       " Token(kind=<TokenKind.IDENTIFIER: 1>, value='args', start=14, end=17),\n",
       " Token(kind=<TokenKind.SYMBOL: 4>, value=')', start=15, end=15),\n",
       " Token(kind=<TokenKind.SYMBOL: 4>, value='{', start=17, end=17),\n",
       " Token(kind=<TokenKind.TYPE: 3>, value='int', start=25, end=27),\n",
       " Token(kind=<TokenKind.OPERATOR: 5>, value='*', start=26, end=26),\n",
       " Token(kind=<TokenKind.IDENTIFIER: 1>, value='x', start=28, end=28),\n",
       " Token(kind=<TokenKind.OPERATOR: 5>, value='=', start=30, end=30),\n",
       " Token(kind=<TokenKind.NUMBER: 7>, value='42', start=33, end=34),\n",
       " Token(kind=<TokenKind.SYMBOL: 4>, value=';', start=34, end=34),\n",
       " Token(kind=<TokenKind.IDENTIFIER: 1>, value='printf', start=85, end=90),\n",
       " Token(kind=<TokenKind.SYMBOL: 4>, value='(', start=86, end=86),\n",
       " Token(kind=<TokenKind.STRING_LITERAL: 6>, value='Hello, World!', start=101, end=113),\n",
       " Token(kind=<TokenKind.SYMBOL: 4>, value=')', start=102, end=102),\n",
       " Token(kind=<TokenKind.SYMBOL: 4>, value=';', start=103, end=103),\n",
       " Token(kind=<TokenKind.KEYWORD: 2>, value='return', start=114, end=119),\n",
       " Token(kind=<TokenKind.NUMBER: 7>, value='0', start=116, end=116),\n",
       " Token(kind=<TokenKind.SYMBOL: 4>, value=';', start=117, end=117),\n",
       " Token(kind=<TokenKind.SYMBOL: 4>, value='}', start=119, end=119)]"
      ]
     },
     "execution_count": 10,
     "metadata": {},
     "output_type": "execute_result"
    }
   ],
   "source": [
    "tokenize(source_code)"
   ]
  },
  {
   "cell_type": "code",
   "execution_count": 11,
   "id": "1d063a87-ae19-43b2-8554-c95a06cac812",
   "metadata": {},
   "outputs": [],
   "source": [
    "bad_code = \"\"\"\n",
    "int main() {\n",
    "    int x = 42;\n",
    "    /*\n",
    "    multiline comment\n",
    "    */\n",
    "    printf(Hello, World!\");\n",
    "    return 0;\n",
    "}\n",
    "\"\"\""
   ]
  },
  {
   "cell_type": "code",
   "execution_count": 12,
   "id": "9289690d-cc80-4cba-b456-1423b8091781",
   "metadata": {},
   "outputs": [
    {
     "ename": "ValueError",
     "evalue": "Tokenization Error:\nUnexpected token at line 7, column 25:\n\n    multiline comment\n    */\n    printf(Hello, World!\");\n                        ^\n    return 0;\n}\nExpected one of whitespace, comment, keywords, keywords, (one of {, }, (, ), ;, ,, [, ], ., -> @ create_token), (one of +, -, *, /, %, =, ==, !=, <, >, <=, >=, &&, ||, !, &, |, ^, <<, >> @ create_token), number, string literal, identifier.\n",
     "output_type": "error",
     "traceback": [
      "\u001b[0;31m---------------------------------------------------------------------------\u001b[0m",
      "\u001b[0;31mValueError\u001b[0m                                Traceback (most recent call last)",
      "Cell \u001b[0;32mIn[12], line 1\u001b[0m\n\u001b[0;32m----> 1\u001b[0m \u001b[43mtokenize\u001b[49m\u001b[43m(\u001b[49m\u001b[43mbad_code\u001b[49m\u001b[43m)\u001b[49m\n",
      "File \u001b[0;32m~/Projects/pyCco/pycco/tokenizers.py:167\u001b[0m, in \u001b[0;36mtokenize\u001b[0;34m(source)\u001b[0m\n\u001b[1;32m    166\u001b[0m \u001b[38;5;28;01mdef\u001b[39;00m\u001b[38;5;250m \u001b[39m\u001b[38;5;21mtokenize\u001b[39m(source: \u001b[38;5;28mstr\u001b[39m) \u001b[38;5;241m-\u001b[39m\u001b[38;5;241m>\u001b[39m List[Token]:\n\u001b[0;32m--> 167\u001b[0m     \u001b[38;5;28;01mreturn\u001b[39;00m \u001b[38;5;28;43mlist\u001b[39;49m\u001b[43m(\u001b[49m\u001b[43miter_tokenize\u001b[49m\u001b[43m(\u001b[49m\u001b[43msource\u001b[49m\u001b[43m)\u001b[49m\u001b[43m)\u001b[49m\n",
      "File \u001b[0;32m~/Projects/pyCco/pycco/tokenizers.py:150\u001b[0m, in \u001b[0;36miter_tokenize\u001b[0;34m(source)\u001b[0m\n\u001b[1;32m    147\u001b[0m     pointer \u001b[38;5;241m=\u001b[39m \u001b[38;5;124m\"\u001b[39m\u001b[38;5;124m \u001b[39m\u001b[38;5;124m\"\u001b[39m \u001b[38;5;241m*\u001b[39m column_number \u001b[38;5;241m+\u001b[39m \u001b[38;5;124m\"\u001b[39m\u001b[38;5;124m^\u001b[39m\u001b[38;5;124m\"\u001b[39m\n\u001b[1;32m    149\u001b[0m     \u001b[38;5;66;03m# Raise detailed error\u001b[39;00m\n\u001b[0;32m--> 150\u001b[0m     \u001b[38;5;28;01mraise\u001b[39;00m \u001b[38;5;167;01mValueError\u001b[39;00m(\n\u001b[1;32m    151\u001b[0m         \u001b[38;5;124mf\u001b[39m\u001b[38;5;124m\"\u001b[39m\u001b[38;5;124mTokenization Error:\u001b[39m\u001b[38;5;130;01m\\n\u001b[39;00m\u001b[38;5;124m\"\u001b[39m\n\u001b[1;32m    152\u001b[0m         \u001b[38;5;124mf\u001b[39m\u001b[38;5;124m\"\u001b[39m\u001b[38;5;124mUnexpected token at line \u001b[39m\u001b[38;5;132;01m{\u001b[39;00mline_number\u001b[38;5;250m \u001b[39m\u001b[38;5;241m+\u001b[39m\u001b[38;5;250m \u001b[39m\u001b[38;5;241m1\u001b[39m\u001b[38;5;132;01m}\u001b[39;00m\u001b[38;5;124m, column \u001b[39m\u001b[38;5;132;01m{\u001b[39;00mcolumn_number\u001b[38;5;250m \u001b[39m\u001b[38;5;241m+\u001b[39m\u001b[38;5;250m \u001b[39m\u001b[38;5;241m1\u001b[39m\u001b[38;5;132;01m}\u001b[39;00m\u001b[38;5;124m:\u001b[39m\u001b[38;5;130;01m\\n\u001b[39;00m\u001b[38;5;130;01m\\n\u001b[39;00m\u001b[38;5;124m\"\u001b[39m\n\u001b[1;32m    153\u001b[0m         \u001b[38;5;124mf\u001b[39m\u001b[38;5;124m\"\u001b[39m\u001b[38;5;132;01m{\u001b[39;00mbefore_error\u001b[38;5;132;01m}\u001b[39;00m\u001b[38;5;130;01m\\n\u001b[39;00m\u001b[38;5;124m\"\u001b[39m\n\u001b[1;32m    154\u001b[0m         \u001b[38;5;124mf\u001b[39m\u001b[38;5;124m\"\u001b[39m\u001b[38;5;132;01m{\u001b[39;00merror_line\u001b[38;5;132;01m}\u001b[39;00m\u001b[38;5;130;01m\\n\u001b[39;00m\u001b[38;5;124m\"\u001b[39m\n\u001b[1;32m    155\u001b[0m         \u001b[38;5;124mf\u001b[39m\u001b[38;5;124m\"\u001b[39m\u001b[38;5;132;01m{\u001b[39;00mpointer\u001b[38;5;132;01m}\u001b[39;00m\u001b[38;5;130;01m\\n\u001b[39;00m\u001b[38;5;124m\"\u001b[39m\n\u001b[1;32m    156\u001b[0m         \u001b[38;5;124mf\u001b[39m\u001b[38;5;124m\"\u001b[39m\u001b[38;5;132;01m{\u001b[39;00mafter_error\u001b[38;5;132;01m}\u001b[39;00m\u001b[38;5;130;01m\\n\u001b[39;00m\u001b[38;5;124m\"\u001b[39m\n\u001b[1;32m    157\u001b[0m         \u001b[38;5;124mf\u001b[39m\u001b[38;5;124m\"\u001b[39m\u001b[38;5;124mExpected \u001b[39m\u001b[38;5;132;01m{\u001b[39;00mdescription\u001b[38;5;132;01m}\u001b[39;00m\u001b[38;5;124m.\u001b[39m\u001b[38;5;130;01m\\n\u001b[39;00m\u001b[38;5;124m\"\u001b[39m\n\u001b[1;32m    158\u001b[0m     )\n\u001b[1;32m    160\u001b[0m \u001b[38;5;28;01mif\u001b[39;00m token\u001b[38;5;241m.\u001b[39mkind \u001b[38;5;129;01mnot\u001b[39;00m \u001b[38;5;129;01min\u001b[39;00m (TokenKind\u001b[38;5;241m.\u001b[39mWHITESPACE, TokenKind\u001b[38;5;241m.\u001b[39mCOMMENT):\n\u001b[1;32m    161\u001b[0m     \u001b[38;5;28;01myield\u001b[39;00m token\n",
      "\u001b[0;31mValueError\u001b[0m: Tokenization Error:\nUnexpected token at line 7, column 25:\n\n    multiline comment\n    */\n    printf(Hello, World!\");\n                        ^\n    return 0;\n}\nExpected one of whitespace, comment, keywords, keywords, (one of {, }, (, ), ;, ,, [, ], ., -> @ create_token), (one of +, -, *, /, %, =, ==, !=, <, >, <=, >=, &&, ||, !, &, |, ^, <<, >> @ create_token), number, string literal, identifier.\n"
     ]
    }
   ],
   "source": [
    "tokenize(bad_code)"
   ]
  },
  {
   "cell_type": "code",
   "execution_count": 13,
   "id": "20db9086-5644-45b2-aa20-b5dbac88216d",
   "metadata": {},
   "outputs": [
    {
     "data": {
      "text/plain": [
       "Parser(one of whitespace, comment, keywords, keywords, (one of {, }, (, ), ;, ,, [, ], ., -> @ create_token), (one of +, -, *, /, %, =, ==, !=, <, >, <=, >=, &&, ||, !, &, |, ^, <<, >> @ create_token), number, string literal, identifier)"
      ]
     },
     "execution_count": 13,
     "metadata": {},
     "output_type": "execute_result"
    }
   ],
   "source": [
    "tokenizer"
   ]
  },
  {
   "cell_type": "code",
   "execution_count": null,
   "id": "7330a2e2-8f1c-4491-8239-2fd7a2445851",
   "metadata": {},
   "outputs": [],
   "source": []
  }
 ],
 "metadata": {
  "kernelspec": {
   "display_name": "Python 3 (ipykernel)",
   "language": "python",
   "name": "python3"
  },
  "language_info": {
   "codemirror_mode": {
    "name": "ipython",
    "version": 3
   },
   "file_extension": ".py",
   "mimetype": "text/x-python",
   "name": "python",
   "nbconvert_exporter": "python",
   "pygments_lexer": "ipython3",
   "version": "3.13.1"
  }
 },
 "nbformat": 4,
 "nbformat_minor": 5
}
