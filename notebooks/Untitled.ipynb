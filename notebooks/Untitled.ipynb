{
 "cells": [
  {
   "cell_type": "code",
   "execution_count": 1,
   "id": "ad16637e-edde-483e-9317-afc384804472",
   "metadata": {},
   "outputs": [],
   "source": [
    "from pycco.tokenizers import *"
   ]
  },
  {
   "cell_type": "code",
   "execution_count": 2,
   "id": "2b90ee94-47bb-42a8-ade4-a40568bff719",
   "metadata": {},
   "outputs": [],
   "source": [
    "source_code = \"\"\"\n",
    "int main() {\n",
    "    int x = 42;\n",
    "    printf(\"Hello, World!\");\n",
    "    return 0;\n",
    "}\n",
    "\"\"\""
   ]
  },
  {
   "cell_type": "code",
   "execution_count": 4,
   "id": "4b144c09-1a97-4d46-901a-52345d7ea96f",
   "metadata": {},
   "outputs": [],
   "source": [
    "def describe_token(token: Token) -> str:\n",
    "    match token:\n",
    "        case Token(kind=TokenKind.IDENTIFIER, value=value):\n",
    "            return f\"Identifier with value: {value}\"\n",
    "        case Token(kind=TokenKind.KEYWORD, value=value):\n",
    "            return f\"Keyword: {value}\"\n",
    "        case Token(kind=TokenKind.NUMBER, value=value):\n",
    "            return f\"Number: {value}\"\n",
    "        case _:\n",
    "            return f\"Unmatched token of kind {token.kind.name} with value: {token.value}\"\n"
   ]
  },
  {
   "cell_type": "code",
   "execution_count": 6,
   "id": "c3ddc87b-f6bd-4cc1-affd-57aefc4d7aa0",
   "metadata": {},
   "outputs": [
    {
     "data": {
      "text/plain": [
       "'Identifier with value: int'"
      ]
     },
     "execution_count": 6,
     "metadata": {},
     "output_type": "execute_result"
    }
   ],
   "source": [
    "describe_token(tokenize(source_code)[0])"
   ]
  },
  {
   "cell_type": "code",
   "execution_count": 4,
   "id": "1d063a87-ae19-43b2-8554-c95a06cac812",
   "metadata": {},
   "outputs": [],
   "source": [
    "bad_code = \"\"\"\n",
    "int main() {\n",
    "    int x = 42;\n",
    "    printf(Hello, World!\");\n",
    "    return 0;\n",
    "}\n",
    "\"\"\""
   ]
  },
  {
   "cell_type": "code",
   "execution_count": 5,
   "id": "9289690d-cc80-4cba-b456-1423b8091781",
   "metadata": {},
   "outputs": [
    {
     "ename": "ValueError",
     "evalue": "Unexpected token at line 4, column 25:\n\nint main() {\n    int x = 42;\n    printf(Hello, World!\");\n                        ^\n    return 0;\n}\n",
     "output_type": "error",
     "traceback": [
      "\u001b[0;31m---------------------------------------------------------------------------\u001b[0m",
      "\u001b[0;31mValueError\u001b[0m                                Traceback (most recent call last)",
      "Cell \u001b[0;32mIn[5], line 1\u001b[0m\n\u001b[0;32m----> 1\u001b[0m \u001b[43mtokenize\u001b[49m\u001b[43m(\u001b[49m\u001b[43mbad_code\u001b[49m\u001b[43m)\u001b[49m\n",
      "File \u001b[0;32m~/Projects/pyCco/pycco/tokenizers.py:112\u001b[0m, in \u001b[0;36mtokenize\u001b[0;34m(source)\u001b[0m\n\u001b[1;32m    111\u001b[0m \u001b[38;5;28;01mdef\u001b[39;00m\u001b[38;5;250m \u001b[39m\u001b[38;5;21mtokenize\u001b[39m(source: \u001b[38;5;28mstr\u001b[39m)\u001b[38;5;241m-\u001b[39m\u001b[38;5;241m>\u001b[39mList[Token]:\n\u001b[0;32m--> 112\u001b[0m     \u001b[38;5;28;01mreturn\u001b[39;00m \u001b[38;5;28;43mlist\u001b[39;49m\u001b[43m(\u001b[49m\u001b[43miter_tokenize\u001b[49m\u001b[43m(\u001b[49m\u001b[43msource\u001b[49m\u001b[43m)\u001b[49m\u001b[43m)\u001b[49m\n",
      "File \u001b[0;32m~/Projects/pyCco/pycco/tokenizers.py:98\u001b[0m, in \u001b[0;36miter_tokenize\u001b[0;34m(source)\u001b[0m\n\u001b[1;32m     95\u001b[0m     pointer \u001b[38;5;241m=\u001b[39m \u001b[38;5;124m\"\u001b[39m\u001b[38;5;124m \u001b[39m\u001b[38;5;124m\"\u001b[39m \u001b[38;5;241m*\u001b[39m column_number \u001b[38;5;241m+\u001b[39m \u001b[38;5;124m\"\u001b[39m\u001b[38;5;124m^\u001b[39m\u001b[38;5;124m\"\u001b[39m\n\u001b[1;32m     97\u001b[0m     \u001b[38;5;66;03m# Raise detailed error\u001b[39;00m\n\u001b[0;32m---> 98\u001b[0m     \u001b[38;5;28;01mraise\u001b[39;00m \u001b[38;5;167;01mValueError\u001b[39;00m(\n\u001b[1;32m     99\u001b[0m         \u001b[38;5;124mf\u001b[39m\u001b[38;5;124m\"\u001b[39m\u001b[38;5;124mUnexpected token at line \u001b[39m\u001b[38;5;132;01m{\u001b[39;00mline_number\u001b[38;5;250m \u001b[39m\u001b[38;5;241m+\u001b[39m\u001b[38;5;250m \u001b[39m\u001b[38;5;241m1\u001b[39m\u001b[38;5;132;01m}\u001b[39;00m\u001b[38;5;124m, column \u001b[39m\u001b[38;5;132;01m{\u001b[39;00mcolumn_number\u001b[38;5;250m \u001b[39m\u001b[38;5;241m+\u001b[39m\u001b[38;5;250m \u001b[39m\u001b[38;5;241m1\u001b[39m\u001b[38;5;132;01m}\u001b[39;00m\u001b[38;5;124m:\u001b[39m\u001b[38;5;130;01m\\n\u001b[39;00m\u001b[38;5;130;01m\\n\u001b[39;00m\u001b[38;5;124m\"\u001b[39m\n\u001b[1;32m    100\u001b[0m         \u001b[38;5;124mf\u001b[39m\u001b[38;5;124m\"\u001b[39m\u001b[38;5;132;01m{\u001b[39;00mbefore_error\u001b[38;5;132;01m}\u001b[39;00m\u001b[38;5;130;01m\\n\u001b[39;00m\u001b[38;5;124m\"\u001b[39m\n\u001b[1;32m    101\u001b[0m         \u001b[38;5;124mf\u001b[39m\u001b[38;5;124m\"\u001b[39m\u001b[38;5;132;01m{\u001b[39;00merror_line\u001b[38;5;132;01m}\u001b[39;00m\u001b[38;5;130;01m\\n\u001b[39;00m\u001b[38;5;124m\"\u001b[39m\n\u001b[1;32m    102\u001b[0m         \u001b[38;5;124mf\u001b[39m\u001b[38;5;124m\"\u001b[39m\u001b[38;5;132;01m{\u001b[39;00mpointer\u001b[38;5;132;01m}\u001b[39;00m\u001b[38;5;130;01m\\n\u001b[39;00m\u001b[38;5;124m\"\u001b[39m\n\u001b[1;32m    103\u001b[0m         \u001b[38;5;124mf\u001b[39m\u001b[38;5;124m\"\u001b[39m\u001b[38;5;132;01m{\u001b[39;00mafter_error\u001b[38;5;132;01m}\u001b[39;00m\u001b[38;5;130;01m\\n\u001b[39;00m\u001b[38;5;124m\"\u001b[39m\n\u001b[1;32m    104\u001b[0m     )\n\u001b[1;32m    106\u001b[0m \u001b[38;5;28;01mif\u001b[39;00m token\u001b[38;5;241m.\u001b[39mkind \u001b[38;5;241m!=\u001b[39m TokenKind\u001b[38;5;241m.\u001b[39mWHITESPACE:  \u001b[38;5;66;03m# Optionally, skip whitespace tokens\u001b[39;00m\n\u001b[1;32m    107\u001b[0m     \u001b[38;5;28;01myield\u001b[39;00m token\n",
      "\u001b[0;31mValueError\u001b[0m: Unexpected token at line 4, column 25:\n\nint main() {\n    int x = 42;\n    printf(Hello, World!\");\n                        ^\n    return 0;\n}\n"
     ]
    }
   ],
   "source": [
    "tokenize(bad_code)"
   ]
  },
  {
   "cell_type": "code",
   "execution_count": 6,
   "id": "20db9086-5644-45b2-aa20-b5dbac88216d",
   "metadata": {},
   "outputs": [
    {
     "data": {
      "text/plain": [
       "Parser((((((((((((  | \n",
       ") | \t) | \n",
       ")+ @ create_token) | (((// >> (. until \n",
       ")) @ create_token) | ((/* >> (. until */)) @ create_token))) | ((((((((((((((((((((((((((((((((((((((((((((auto | break) | case) | char) | const) | continue) | default) | do) | double) | else) | enum) | extern) | float) | for) | goto) | if) | inline) | int) | long) | register) | restrict) | return) | short) | signed) | sizeof) | static) | struct) | switch) | typedef) | union) | unsigned) | void) | volatile) | while) | _Alignas) | _Alignof) | _Atomic) | _Bool) | _Complex) | _Generic) | _Imaginary) | _Noreturn) | _Static_assert) | _Thread_local) @ create_token)) | (((((((((({ | }) | () | )) | ;) | ,) | [) | ]) | .) | ->) @ create_token)) | ((((((((((((((((((((+ | -) | *) | /) | %) | =) | ==) | !=) | <) | >) | <=) | >=) | &&) | ||) | !) | &) | |) | ^) | <<) | >>) @ create_token)) | (((((((((((0 | 1) | 2) | 3) | 4) | 5) | 6) | 7) | 8) | 9)+ + (. + (((((((((0 | 1) | 2) | 3) | 4) | 5) | 6) | 7) | 8) | 9)+)?) @ create_token)) | (((\" >> (. until \")) << \") @ create_token)) | (((((((((((((((((((((((((((((((((((((((((((((((((((((a | b) | c) | d) | e) | f) | g) | h) | i) | j) | k) | l) | m) | n) | o) | p) | q) | r) | s) | t) | u) | v) | w) | x) | y) | z) | A) | B) | C) | D) | E) | F) | G) | H) | I) | J) | K) | L) | M) | N) | O) | P) | Q) | R) | S) | T) | U) | V) | W) | X) | Y) | Z) + (((((((((((((((((((((((((((((((((((((((((((((((((((((a | b) | c) | d) | e) | f) | g) | h) | i) | j) | k) | l) | m) | n) | o) | p) | q) | r) | s) | t) | u) | v) | w) | x) | y) | z) | A) | B) | C) | D) | E) | F) | G) | H) | I) | J) | K) | L) | M) | N) | O) | P) | Q) | R) | S) | T) | U) | V) | W) | X) | Y) | Z) | (((((((((0 | 1) | 2) | 3) | 4) | 5) | 6) | 7) | 8) | 9)) | _)*) @ create_token)))"
      ]
     },
     "execution_count": 6,
     "metadata": {},
     "output_type": "execute_result"
    }
   ],
   "source": [
    "tokenizer"
   ]
  },
  {
   "cell_type": "code",
   "execution_count": null,
   "id": "7330a2e2-8f1c-4491-8239-2fd7a2445851",
   "metadata": {},
   "outputs": [],
   "source": []
  }
 ],
 "metadata": {
  "kernelspec": {
   "display_name": "Python 3 (ipykernel)",
   "language": "python",
   "name": "python3"
  },
  "language_info": {
   "codemirror_mode": {
    "name": "ipython",
    "version": 3
   },
   "file_extension": ".py",
   "mimetype": "text/x-python",
   "name": "python",
   "nbconvert_exporter": "python",
   "pygments_lexer": "ipython3",
   "version": "3.13.1"
  }
 },
 "nbformat": 4,
 "nbformat_minor": 5
}
