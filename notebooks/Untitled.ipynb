{
 "cells": [
  {
   "cell_type": "code",
   "execution_count": 4,
   "id": "ad16637e-edde-483e-9317-afc384804472",
   "metadata": {},
   "outputs": [],
   "source": [
    "from typing import Callable\n",
    "\n",
    "ParserResult = tuple[int, str | None]\n",
    "Parser = Callable[[str, int], ParserResult]\n",
    "\n",
    "\n",
    "def word_parser(word: str) -> Parser:\n",
    "    def parse(s: str, i: int) -> ParserResult:\n",
    "        if s[i : i + len(word)] == word:\n",
    "            return i + len(word), word\n",
    "        return -1, None\n",
    "\n",
    "    return parse\n",
    "\n",
    "\n",
    "def sequence(*parsers: Parser) -> Parser:\n",
    "    def parse(s: str, i: int) -> ParserResult:\n",
    "        current_index = i\n",
    "        results = []\n",
    "        for parser in parsers:\n",
    "            next_index, result = parser(s, current_index)\n",
    "            if next_index == -1:\n",
    "                return (-1, None)\n",
    "            results.append(result)\n",
    "            current_index = next_index\n",
    "        return current_index, results\n",
    "\n",
    "    return parse\n",
    "\n",
    "\n",
    "def optional(parser: Parser) -> Parser:\n",
    "    def parse(s: str, i: int) -> ParserResult:\n",
    "        index, result = parser(s, i)\n",
    "        if index == -1:\n",
    "            return i, None\n",
    "        return index, result\n",
    "\n",
    "    return parse\n",
    "\n",
    "\n",
    "def many(parser: Parser, times: int | None) -> Parser:\n",
    "    if times is None:\n",
    "        times = float(\"inf\")  # type: ignore\n",
    "\n",
    "    def parse(s: str, i: int) -> ParserResult:\n",
    "        nonlocal times\n",
    "        current_index = i\n",
    "        results = []\n",
    "        while times > 0:\n",
    "            times -= 1\n",
    "            next_index, result = parser(s, current_index)\n",
    "            if next_index == -1:\n",
    "                return (-1, None)\n",
    "            results.append(result)\n",
    "            current_index = next_index\n",
    "        return current_index, results\n",
    "\n",
    "    return parse\n"
   ]
  },
  {
   "cell_type": "code",
   "execution_count": 6,
   "id": "84be7a8d-4777-4045-9604-00f6502c4dbe",
   "metadata": {},
   "outputs": [
    {
     "data": {
      "text/plain": [
       "(18, ['hello ', 'hello ', 'hello '])"
      ]
     },
     "execution_count": 6,
     "metadata": {},
     "output_type": "execute_result"
    }
   ],
   "source": [
    "many(word_parser('hello '), 3)('hello '*13, 0)"
   ]
  },
  {
   "cell_type": "code",
   "execution_count": null,
   "id": "eb2a22b1-60d0-402f-ad22-f21247a03d85",
   "metadata": {},
   "outputs": [],
   "source": []
  }
 ],
 "metadata": {
  "kernelspec": {
   "display_name": "Python 3 (ipykernel)",
   "language": "python",
   "name": "python3"
  },
  "language_info": {
   "codemirror_mode": {
    "name": "ipython",
    "version": 3
   },
   "file_extension": ".py",
   "mimetype": "text/x-python",
   "name": "python",
   "nbconvert_exporter": "python",
   "pygments_lexer": "ipython3",
   "version": "3.13.1"
  }
 },
 "nbformat": 4,
 "nbformat_minor": 5
}
